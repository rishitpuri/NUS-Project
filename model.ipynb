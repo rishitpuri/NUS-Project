{
 "cells": [
  {
   "cell_type": "markdown",
   "source": "## Imports",
   "metadata": {
    "tags": [],
    "cell_id": "00001-07b744a7-f9a9-4a45-87ce-1f9bd002036f",
    "deepnote_cell_type": "markdown"
   }
  },
  {
   "cell_type": "code",
   "metadata": {
    "tags": [],
    "cell_id": "00000-29065e9f-2f72-42df-b570-50a52c04a9ac",
    "deepnote_to_be_reexecuted": false,
    "source_hash": "2eefa4d6",
    "execution_start": 1631790296337,
    "execution_millis": 24280,
    "deepnote_cell_type": "code"
   },
   "source": "!pip install xgboost\n!pip install statsmodels\nimport pandas as pd\nimport matplotlib.pyplot as plt\nimport seaborn as sns\nimport numpy as np\nimport math\n\nfrom sklearn.model_selection import train_test_split\nfrom sklearn.preprocessing import MinMaxScaler\n\nfrom sklearn.model_selection import GridSearchCV\nfrom sklearn.model_selection import RandomizedSearchCV\n\nfrom sklearn.metrics import r2_score, mean_absolute_error\nfrom tensorflow.keras.metrics import mean_absolute_percentage_error\nimport statsmodels.api as sm\n\nfrom sklearn.linear_model import LinearRegression\nfrom sklearn.tree import DecisionTreeRegressor\nfrom sklearn.ensemble import RandomForestRegressor\nfrom sklearn.svm import LinearSVR\nimport xgboost as xgb",
   "outputs": [
    {
     "name": "stdout",
     "text": "Collecting xgboost\n  Downloading xgboost-1.4.2-py3-none-manylinux2010_x86_64.whl (166.7 MB)\n\u001b[K     |████████████████████████████████| 166.7 MB 69.4 MB/s \n\u001b[?25hRequirement already satisfied: numpy in /shared-libs/python3.7/py/lib/python3.7/site-packages (from xgboost) (1.19.5)\nRequirement already satisfied: scipy in /shared-libs/python3.7/py/lib/python3.7/site-packages (from xgboost) (1.7.1)\nInstalling collected packages: xgboost\nSuccessfully installed xgboost-1.4.2\n\u001b[33mWARNING: You are using pip version 21.2.3; however, version 21.2.4 is available.\nYou should consider upgrading via the '/root/venv/bin/python -m pip install --upgrade pip' command.\u001b[0m\nCollecting statsmodels\n  Downloading statsmodels-0.12.2-cp37-cp37m-manylinux1_x86_64.whl (9.5 MB)\n\u001b[K     |████████████████████████████████| 9.5 MB 27.5 MB/s \n\u001b[?25hRequirement already satisfied: numpy>=1.15 in /shared-libs/python3.7/py/lib/python3.7/site-packages (from statsmodels) (1.19.5)\nCollecting patsy>=0.5\n  Downloading patsy-0.5.1-py2.py3-none-any.whl (231 kB)\n\u001b[K     |████████████████████████████████| 231 kB 71.8 MB/s \n\u001b[?25hRequirement already satisfied: pandas>=0.21 in /shared-libs/python3.7/py/lib/python3.7/site-packages (from statsmodels) (1.2.5)\nRequirement already satisfied: scipy>=1.1 in /shared-libs/python3.7/py/lib/python3.7/site-packages (from statsmodels) (1.7.1)\nRequirement already satisfied: python-dateutil>=2.7.3 in /shared-libs/python3.7/py-core/lib/python3.7/site-packages (from pandas>=0.21->statsmodels) (2.8.2)\nRequirement already satisfied: pytz>=2017.3 in /shared-libs/python3.7/py/lib/python3.7/site-packages (from pandas>=0.21->statsmodels) (2021.1)\nRequirement already satisfied: six in /shared-libs/python3.7/py-core/lib/python3.7/site-packages (from patsy>=0.5->statsmodels) (1.16.0)\nInstalling collected packages: patsy, statsmodels\nSuccessfully installed patsy-0.5.1 statsmodels-0.12.2\n\u001b[33mWARNING: You are using pip version 21.2.3; however, version 21.2.4 is available.\nYou should consider upgrading via the '/root/venv/bin/python -m pip install --upgrade pip' command.\u001b[0m\n2021-09-16 11:05:16.270140: W tensorflow/stream_executor/platform/default/dso_loader.cc:60] Could not load dynamic library 'libcudart.so.11.0'; dlerror: libcudart.so.11.0: cannot open shared object file: No such file or directory\n2021-09-16 11:05:16.270182: I tensorflow/stream_executor/cuda/cudart_stub.cc:29] Ignore above cudart dlerror if you do not have a GPU set up on your machine.\n",
     "output_type": "stream"
    }
   ],
   "execution_count": null
  },
  {
   "cell_type": "code",
   "metadata": {
    "tags": [],
    "cell_id": "00000-f3680cea-05ae-4e49-a454-29540ba7a473",
    "deepnote_to_be_reexecuted": false,
    "source_hash": "a94cec88",
    "execution_start": 1631790320621,
    "execution_millis": 15,
    "deepnote_cell_type": "code"
   },
   "source": "df_drop = pd.read_csv('/work/datasets/df_drop.csv')",
   "outputs": [],
   "execution_count": null
  },
  {
   "cell_type": "code",
   "metadata": {
    "tags": [],
    "cell_id": "00003-e333c787-d2a5-4c3c-9b6b-ebf41ffcef17",
    "deepnote_to_be_reexecuted": false,
    "source_hash": "8e3b086c",
    "execution_start": 1631790320644,
    "execution_millis": 2553,
    "deepnote_cell_type": "code"
   },
   "source": "# Moving Average calculation\n\nfor i in range(1, len(df_drop)):\n    df_drop.loc[i, 'awaken_min'] = (df_drop.loc[i-1, 'awaken_min']*i + df_drop.loc[i, 'awaken_min'])/(i+1)\nfor i in range(1, len(df_drop)):\n    df_drop.loc[i, 'awaken_moments'] = (df_drop.loc[i-1, 'awaken_moments']*i + df_drop.loc[i, 'awaken_moments'])/(i+1)\nfor i in range(len(df_drop)-1,0,-1):\n    df_drop.loc[i, 'awaken_min'] = df_drop.loc[i-1, 'awaken_min']\nfor i in range(len(df_drop)-1,0,-1):\n    df_drop.loc[i, 'awaken_moments'] = df_drop.loc[i-1, 'awaken_moments']\n\nfor i in range(1, len(df_drop)):\n    df_drop.loc[i, 'sleep_efficiency'] = (df_drop.loc[i-1, 'sleep_efficiency']*i + df_drop.loc[i, 'sleep_efficiency'])/(i+1)\nfor i in range(len(df_drop)-1,0,-1):\n    df_drop.loc[i, 'sleep_efficiency'] = df_drop.loc[i-1, 'sleep_efficiency']",
   "outputs": [],
   "execution_count": null
  },
  {
   "cell_type": "code",
   "metadata": {
    "tags": [],
    "cell_id": "00004-996f925d-08ce-431c-a7c0-2b991b2abb28",
    "deepnote_to_be_reexecuted": false,
    "source_hash": "43111877",
    "execution_start": 1631790323202,
    "execution_millis": 5,
    "deepnote_cell_type": "code"
   },
   "source": "df_drop = df_drop.iloc[1: ]",
   "outputs": [],
   "execution_count": null
  },
  {
   "cell_type": "code",
   "metadata": {
    "tags": [],
    "cell_id": "00002-36618b0a-bf88-4da7-981c-b42abea9608a",
    "deepnote_to_be_reexecuted": false,
    "source_hash": "ed6cd73b",
    "execution_start": 1631790323213,
    "execution_millis": 97,
    "deepnote_cell_type": "code"
   },
   "source": "df_drop.head(10)",
   "outputs": [
    {
     "output_type": "execute_result",
     "execution_count": 5,
     "data": {
      "application/vnd.deepnote.dataframe.v2+json": {
       "row_count": 10,
       "column_count": 21,
       "columns": [
        {
         "name": "Unnamed: 0",
         "dtype": "int64",
         "stats": {
          "unique_count": 10,
          "nan_count": 0,
          "min": "1",
          "max": "10",
          "histogram": [
           {
            "bin_start": 1,
            "bin_end": 1.9,
            "count": 1
           },
           {
            "bin_start": 1.9,
            "bin_end": 2.8,
            "count": 1
           },
           {
            "bin_start": 2.8,
            "bin_end": 3.7,
            "count": 1
           },
           {
            "bin_start": 3.7,
            "bin_end": 4.6,
            "count": 1
           },
           {
            "bin_start": 4.6,
            "bin_end": 5.5,
            "count": 1
           },
           {
            "bin_start": 5.5,
            "bin_end": 6.4,
            "count": 1
           },
           {
            "bin_start": 6.4,
            "bin_end": 7.3,
            "count": 1
           },
           {
            "bin_start": 7.3,
            "bin_end": 8.2,
            "count": 1
           },
           {
            "bin_start": 8.2,
            "bin_end": 9.1,
            "count": 1
           },
           {
            "bin_start": 9.1,
            "bin_end": 10,
            "count": 1
           }
          ]
         }
        },
        {
         "name": "userId",
         "dtype": "int64",
         "stats": {
          "unique_count": 1,
          "nan_count": 0,
          "min": "1",
          "max": "1",
          "histogram": [
           {
            "bin_start": 0.5,
            "bin_end": 0.6,
            "count": 0
           },
           {
            "bin_start": 0.6,
            "bin_end": 0.7,
            "count": 0
           },
           {
            "bin_start": 0.7,
            "bin_end": 0.8,
            "count": 0
           },
           {
            "bin_start": 0.8,
            "bin_end": 0.9,
            "count": 0
           },
           {
            "bin_start": 0.9,
            "bin_end": 1,
            "count": 0
           },
           {
            "bin_start": 1,
            "bin_end": 1.1,
            "count": 10
           },
           {
            "bin_start": 1.1,
            "bin_end": 1.2000000000000002,
            "count": 0
           },
           {
            "bin_start": 1.2000000000000002,
            "bin_end": 1.3,
            "count": 0
           },
           {
            "bin_start": 1.3,
            "bin_end": 1.4,
            "count": 0
           },
           {
            "bin_start": 1.4,
            "bin_end": 1.5,
            "count": 0
           }
          ]
         }
        },
        {
         "name": "bmi",
         "dtype": "float64",
         "stats": {
          "unique_count": 1,
          "nan_count": 0,
          "min": "16.2",
          "max": "16.2",
          "histogram": [
           {
            "bin_start": 15.7,
            "bin_end": 15.799999999999999,
            "count": 0
           },
           {
            "bin_start": 15.799999999999999,
            "bin_end": 15.899999999999999,
            "count": 0
           },
           {
            "bin_start": 15.899999999999999,
            "bin_end": 16,
            "count": 0
           },
           {
            "bin_start": 16,
            "bin_end": 16.099999999999998,
            "count": 0
           },
           {
            "bin_start": 16.099999999999998,
            "bin_end": 16.2,
            "count": 0
           },
           {
            "bin_start": 16.2,
            "bin_end": 16.3,
            "count": 10
           },
           {
            "bin_start": 16.3,
            "bin_end": 16.4,
            "count": 0
           },
           {
            "bin_start": 16.4,
            "bin_end": 16.5,
            "count": 0
           },
           {
            "bin_start": 16.5,
            "bin_end": 16.599999999999998,
            "count": 0
           },
           {
            "bin_start": 16.599999999999998,
            "bin_end": 16.7,
            "count": 0
           }
          ]
         }
        },
        {
         "name": "isi",
         "dtype": "int64",
         "stats": {
          "unique_count": 1,
          "nan_count": 0,
          "min": "17",
          "max": "17",
          "histogram": [
           {
            "bin_start": 16.5,
            "bin_end": 16.6,
            "count": 0
           },
           {
            "bin_start": 16.6,
            "bin_end": 16.7,
            "count": 0
           },
           {
            "bin_start": 16.7,
            "bin_end": 16.8,
            "count": 0
           },
           {
            "bin_start": 16.8,
            "bin_end": 16.9,
            "count": 0
           },
           {
            "bin_start": 16.9,
            "bin_end": 17,
            "count": 0
           },
           {
            "bin_start": 17,
            "bin_end": 17.1,
            "count": 10
           },
           {
            "bin_start": 17.1,
            "bin_end": 17.2,
            "count": 0
           },
           {
            "bin_start": 17.2,
            "bin_end": 17.3,
            "count": 0
           },
           {
            "bin_start": 17.3,
            "bin_end": 17.4,
            "count": 0
           },
           {
            "bin_start": 17.4,
            "bin_end": 17.5,
            "count": 0
           }
          ]
         }
        },
        {
         "name": "age",
         "dtype": "int64",
         "stats": {
          "unique_count": 1,
          "nan_count": 0,
          "min": "20",
          "max": "20",
          "histogram": [
           {
            "bin_start": 19.5,
            "bin_end": 19.6,
            "count": 0
           },
           {
            "bin_start": 19.6,
            "bin_end": 19.7,
            "count": 0
           },
           {
            "bin_start": 19.7,
            "bin_end": 19.8,
            "count": 0
           },
           {
            "bin_start": 19.8,
            "bin_end": 19.9,
            "count": 0
           },
           {
            "bin_start": 19.9,
            "bin_end": 20,
            "count": 0
           },
           {
            "bin_start": 20,
            "bin_end": 20.1,
            "count": 10
           },
           {
            "bin_start": 20.1,
            "bin_end": 20.2,
            "count": 0
           },
           {
            "bin_start": 20.2,
            "bin_end": 20.3,
            "count": 0
           },
           {
            "bin_start": 20.3,
            "bin_end": 20.4,
            "count": 0
           },
           {
            "bin_start": 20.4,
            "bin_end": 20.5,
            "count": 0
           }
          ]
         }
        },
        {
         "name": "month",
         "dtype": "int64",
         "stats": {
          "unique_count": 2,
          "nan_count": 0,
          "min": "4",
          "max": "5",
          "histogram": [
           {
            "bin_start": 4,
            "bin_end": 4.1,
            "count": 7
           },
           {
            "bin_start": 4.1,
            "bin_end": 4.2,
            "count": 0
           },
           {
            "bin_start": 4.2,
            "bin_end": 4.3,
            "count": 0
           },
           {
            "bin_start": 4.3,
            "bin_end": 4.4,
            "count": 0
           },
           {
            "bin_start": 4.4,
            "bin_end": 4.5,
            "count": 0
           },
           {
            "bin_start": 4.5,
            "bin_end": 4.6,
            "count": 0
           },
           {
            "bin_start": 4.6,
            "bin_end": 4.7,
            "count": 0
           },
           {
            "bin_start": 4.7,
            "bin_end": 4.8,
            "count": 0
           },
           {
            "bin_start": 4.8,
            "bin_end": 4.9,
            "count": 0
           },
           {
            "bin_start": 4.9,
            "bin_end": 5,
            "count": 3
           }
          ]
         }
        },
        {
         "name": "date",
         "dtype": "int64",
         "stats": {
          "unique_count": 10,
          "nan_count": 0,
          "min": "1",
          "max": "30",
          "histogram": [
           {
            "bin_start": 1,
            "bin_end": 3.9,
            "count": 3
           },
           {
            "bin_start": 3.9,
            "bin_end": 6.8,
            "count": 0
           },
           {
            "bin_start": 6.8,
            "bin_end": 9.7,
            "count": 0
           },
           {
            "bin_start": 9.7,
            "bin_end": 12.6,
            "count": 0
           },
           {
            "bin_start": 12.6,
            "bin_end": 15.5,
            "count": 0
           },
           {
            "bin_start": 15.5,
            "bin_end": 18.4,
            "count": 0
           },
           {
            "bin_start": 18.4,
            "bin_end": 21.3,
            "count": 0
           },
           {
            "bin_start": 21.3,
            "bin_end": 24.2,
            "count": 1
           },
           {
            "bin_start": 24.2,
            "bin_end": 27.099999999999998,
            "count": 3
           },
           {
            "bin_start": 27.099999999999998,
            "bin_end": 30,
            "count": 3
           }
          ]
         }
        },
        {
         "name": "sleep_start_time",
         "dtype": "float64",
         "stats": {
          "unique_count": 10,
          "nan_count": 0,
          "min": "1455.0",
          "max": "1833.0",
          "histogram": [
           {
            "bin_start": 1455,
            "bin_end": 1492.8,
            "count": 2
           },
           {
            "bin_start": 1492.8,
            "bin_end": 1530.6,
            "count": 1
           },
           {
            "bin_start": 1530.6,
            "bin_end": 1568.4,
            "count": 2
           },
           {
            "bin_start": 1568.4,
            "bin_end": 1606.2,
            "count": 3
           },
           {
            "bin_start": 1606.2,
            "bin_end": 1644,
            "count": 1
           },
           {
            "bin_start": 1644,
            "bin_end": 1681.8,
            "count": 0
           },
           {
            "bin_start": 1681.8,
            "bin_end": 1719.6,
            "count": 0
           },
           {
            "bin_start": 1719.6,
            "bin_end": 1757.4,
            "count": 0
           },
           {
            "bin_start": 1757.4,
            "bin_end": 1795.2,
            "count": 0
           },
           {
            "bin_start": 1795.2,
            "bin_end": 1833,
            "count": 1
           }
          ]
         }
        },
        {
         "name": "sleep_end_time",
         "dtype": "float64",
         "stats": {
          "unique_count": 10,
          "nan_count": 0,
          "min": "1741.0",
          "max": "2170.0",
          "histogram": [
           {
            "bin_start": 1741,
            "bin_end": 1783.9,
            "count": 1
           },
           {
            "bin_start": 1783.9,
            "bin_end": 1826.8,
            "count": 0
           },
           {
            "bin_start": 1826.8,
            "bin_end": 1869.7,
            "count": 0
           },
           {
            "bin_start": 1869.7,
            "bin_end": 1912.6,
            "count": 2
           },
           {
            "bin_start": 1912.6,
            "bin_end": 1955.5,
            "count": 3
           },
           {
            "bin_start": 1955.5,
            "bin_end": 1998.4,
            "count": 1
           },
           {
            "bin_start": 1998.4,
            "bin_end": 2041.3,
            "count": 1
           },
           {
            "bin_start": 2041.3,
            "bin_end": 2084.2,
            "count": 1
           },
           {
            "bin_start": 2084.2,
            "bin_end": 2127.1,
            "count": 0
           },
           {
            "bin_start": 2127.1,
            "bin_end": 2170,
            "count": 1
           }
          ]
         }
        },
        {
         "name": "sleep_min",
         "dtype": "float64",
         "stats": {
          "unique_count": 10,
          "nan_count": 0,
          "min": "253.0",
          "max": "490.0",
          "histogram": [
           {
            "bin_start": 253,
            "bin_end": 276.7,
            "count": 1
           },
           {
            "bin_start": 276.7,
            "bin_end": 300.4,
            "count": 4
           },
           {
            "bin_start": 300.4,
            "bin_end": 324.1,
            "count": 0
           },
           {
            "bin_start": 324.1,
            "bin_end": 347.8,
            "count": 3
           },
           {
            "bin_start": 347.8,
            "bin_end": 371.5,
            "count": 0
           },
           {
            "bin_start": 371.5,
            "bin_end": 395.2,
            "count": 0
           },
           {
            "bin_start": 395.2,
            "bin_end": 418.9,
            "count": 1
           },
           {
            "bin_start": 418.9,
            "bin_end": 442.6,
            "count": 0
           },
           {
            "bin_start": 442.6,
            "bin_end": 466.29999999999995,
            "count": 0
           },
           {
            "bin_start": 466.29999999999995,
            "bin_end": 490,
            "count": 1
           }
          ]
         }
        },
        {
         "name": "sleep_efficiency",
         "dtype": "float64",
         "stats": {
          "unique_count": 10,
          "nan_count": 0,
          "min": "0.8688600000000001",
          "max": "0.9191",
          "histogram": [
           {
            "bin_start": 0.8688600000000001,
            "bin_end": 0.8738840000000001,
            "count": 2
           },
           {
            "bin_start": 0.8738840000000001,
            "bin_end": 0.878908,
            "count": 5
           },
           {
            "bin_start": 0.878908,
            "bin_end": 0.883932,
            "count": 1
           },
           {
            "bin_start": 0.883932,
            "bin_end": 0.8889560000000001,
            "count": 1
           },
           {
            "bin_start": 0.8889560000000001,
            "bin_end": 0.89398,
            "count": 0
           },
           {
            "bin_start": 0.89398,
            "bin_end": 0.899004,
            "count": 0
           },
           {
            "bin_start": 0.899004,
            "bin_end": 0.904028,
            "count": 0
           },
           {
            "bin_start": 0.904028,
            "bin_end": 0.9090520000000001,
            "count": 0
           },
           {
            "bin_start": 0.9090520000000001,
            "bin_end": 0.914076,
            "count": 0
           },
           {
            "bin_start": 0.914076,
            "bin_end": 0.9191,
            "count": 1
           }
          ]
         }
        },
        {
         "name": "awaken_min",
         "dtype": "float64",
         "stats": {
          "unique_count": 10,
          "nan_count": 0,
          "min": "19.0",
          "max": "48.44444444444444",
          "histogram": [
           {
            "bin_start": 19,
            "bin_end": 21.944444444444443,
            "count": 1
           },
           {
            "bin_start": 21.944444444444443,
            "bin_end": 24.88888888888889,
            "count": 0
           },
           {
            "bin_start": 24.88888888888889,
            "bin_end": 27.833333333333332,
            "count": 0
           },
           {
            "bin_start": 27.833333333333332,
            "bin_end": 30.77777777777778,
            "count": 0
           },
           {
            "bin_start": 30.77777777777778,
            "bin_end": 33.72222222222222,
            "count": 0
           },
           {
            "bin_start": 33.72222222222222,
            "bin_end": 36.666666666666664,
            "count": 1
           },
           {
            "bin_start": 36.666666666666664,
            "bin_end": 39.611111111111114,
            "count": 0
           },
           {
            "bin_start": 39.611111111111114,
            "bin_end": 42.55555555555556,
            "count": 0
           },
           {
            "bin_start": 42.55555555555556,
            "bin_end": 45.5,
            "count": 4
           },
           {
            "bin_start": 45.5,
            "bin_end": 48.44444444444444,
            "count": 4
           }
          ]
         }
        },
        {
         "name": "awaken_moments",
         "dtype": "float64",
         "stats": {
          "unique_count": 10,
          "nan_count": 0,
          "min": "20.5",
          "max": "26.0",
          "histogram": [
           {
            "bin_start": 20.5,
            "bin_end": 21.05,
            "count": 2
           },
           {
            "bin_start": 21.05,
            "bin_end": 21.6,
            "count": 0
           },
           {
            "bin_start": 21.6,
            "bin_end": 22.15,
            "count": 0
           },
           {
            "bin_start": 22.15,
            "bin_end": 22.7,
            "count": 0
           },
           {
            "bin_start": 22.7,
            "bin_end": 23.25,
            "count": 1
           },
           {
            "bin_start": 23.25,
            "bin_end": 23.8,
            "count": 1
           },
           {
            "bin_start": 23.8,
            "bin_end": 24.35,
            "count": 1
           },
           {
            "bin_start": 24.35,
            "bin_end": 24.9,
            "count": 1
           },
           {
            "bin_start": 24.9,
            "bin_end": 25.45,
            "count": 3
           },
           {
            "bin_start": 25.45,
            "bin_end": 26,
            "count": 1
           }
          ]
         }
        },
        {
         "name": "cal_consume",
         "dtype": "int64",
         "stats": {
          "unique_count": 10,
          "nan_count": 0,
          "min": "1479",
          "max": "1997",
          "histogram": [
           {
            "bin_start": 1479,
            "bin_end": 1530.8,
            "count": 1
           },
           {
            "bin_start": 1530.8,
            "bin_end": 1582.6,
            "count": 0
           },
           {
            "bin_start": 1582.6,
            "bin_end": 1634.4,
            "count": 1
           },
           {
            "bin_start": 1634.4,
            "bin_end": 1686.2,
            "count": 3
           },
           {
            "bin_start": 1686.2,
            "bin_end": 1738,
            "count": 0
           },
           {
            "bin_start": 1738,
            "bin_end": 1789.8,
            "count": 1
           },
           {
            "bin_start": 1789.8,
            "bin_end": 1841.6,
            "count": 1
           },
           {
            "bin_start": 1841.6,
            "bin_end": 1893.4,
            "count": 2
           },
           {
            "bin_start": 1893.4,
            "bin_end": 1945.2,
            "count": 0
           },
           {
            "bin_start": 1945.2,
            "bin_end": 1997,
            "count": 1
           }
          ]
         }
        },
        {
         "name": "active_cal",
         "dtype": "int64",
         "stats": {
          "unique_count": 10,
          "nan_count": 0,
          "min": "403",
          "max": "1097",
          "histogram": [
           {
            "bin_start": 403,
            "bin_end": 472.4,
            "count": 1
           },
           {
            "bin_start": 472.4,
            "bin_end": 541.8,
            "count": 0
           },
           {
            "bin_start": 541.8,
            "bin_end": 611.2,
            "count": 1
           },
           {
            "bin_start": 611.2,
            "bin_end": 680.6,
            "count": 3
           },
           {
            "bin_start": 680.6,
            "bin_end": 750,
            "count": 0
           },
           {
            "bin_start": 750,
            "bin_end": 819.4000000000001,
            "count": 2
           },
           {
            "bin_start": 819.4000000000001,
            "bin_end": 888.8000000000001,
            "count": 1
           },
           {
            "bin_start": 888.8000000000001,
            "bin_end": 958.2,
            "count": 1
           },
           {
            "bin_start": 958.2,
            "bin_end": 1027.6,
            "count": 0
           },
           {
            "bin_start": 1027.6,
            "bin_end": 1097,
            "count": 1
           }
          ]
         }
        },
        {
         "name": "walks",
         "dtype": "int64",
         "stats": {
          "unique_count": 10,
          "nan_count": 0,
          "min": "3740",
          "max": "12898",
          "histogram": [
           {
            "bin_start": 3740,
            "bin_end": 4655.8,
            "count": 1
           },
           {
            "bin_start": 4655.8,
            "bin_end": 5571.6,
            "count": 0
           },
           {
            "bin_start": 5571.6,
            "bin_end": 6487.4,
            "count": 0
           },
           {
            "bin_start": 6487.4,
            "bin_end": 7403.2,
            "count": 0
           },
           {
            "bin_start": 7403.2,
            "bin_end": 8319,
            "count": 0
           },
           {
            "bin_start": 8319,
            "bin_end": 9234.8,
            "count": 2
           },
           {
            "bin_start": 9234.8,
            "bin_end": 10150.599999999999,
            "count": 3
           },
           {
            "bin_start": 10150.599999999999,
            "bin_end": 11066.4,
            "count": 0
           },
           {
            "bin_start": 11066.4,
            "bin_end": 11982.199999999999,
            "count": 1
           },
           {
            "bin_start": 11982.199999999999,
            "bin_end": 12898,
            "count": 3
           }
          ]
         }
        },
        {
         "name": "distance",
         "dtype": "float64",
         "stats": {
          "unique_count": 10,
          "nan_count": 0,
          "min": "2.49",
          "max": "8.72",
          "histogram": [
           {
            "bin_start": 2.49,
            "bin_end": 3.1130000000000004,
            "count": 1
           },
           {
            "bin_start": 3.1130000000000004,
            "bin_end": 3.736,
            "count": 0
           },
           {
            "bin_start": 3.736,
            "bin_end": 4.359,
            "count": 0
           },
           {
            "bin_start": 4.359,
            "bin_end": 4.982,
            "count": 0
           },
           {
            "bin_start": 4.982,
            "bin_end": 5.605,
            "count": 0
           },
           {
            "bin_start": 5.605,
            "bin_end": 6.228,
            "count": 2
           },
           {
            "bin_start": 6.228,
            "bin_end": 6.851,
            "count": 3
           },
           {
            "bin_start": 6.851,
            "bin_end": 7.474,
            "count": 0
           },
           {
            "bin_start": 7.474,
            "bin_end": 8.097000000000001,
            "count": 2
           },
           {
            "bin_start": 8.097000000000001,
            "bin_end": 8.72,
            "count": 2
           }
          ]
         }
        },
        {
         "name": "stairs",
         "dtype": "int64",
         "stats": {
          "unique_count": 8,
          "nan_count": 0,
          "min": "6",
          "max": "30",
          "histogram": [
           {
            "bin_start": 6,
            "bin_end": 8.4,
            "count": 2
           },
           {
            "bin_start": 8.4,
            "bin_end": 10.8,
            "count": 0
           },
           {
            "bin_start": 10.8,
            "bin_end": 13.2,
            "count": 2
           },
           {
            "bin_start": 13.2,
            "bin_end": 15.6,
            "count": 2
           },
           {
            "bin_start": 15.6,
            "bin_end": 18,
            "count": 0
           },
           {
            "bin_start": 18,
            "bin_end": 20.4,
            "count": 3
           },
           {
            "bin_start": 20.4,
            "bin_end": 22.8,
            "count": 0
           },
           {
            "bin_start": 22.8,
            "bin_end": 25.2,
            "count": 0
           },
           {
            "bin_start": 25.2,
            "bin_end": 27.599999999999998,
            "count": 0
           },
           {
            "bin_start": 27.599999999999998,
            "bin_end": 30,
            "count": 1
           }
          ]
         }
        },
        {
         "name": "active_ratio",
         "dtype": "float64",
         "stats": {
          "unique_count": 10,
          "nan_count": 0,
          "min": "0.163",
          "max": "0.3648",
          "histogram": [
           {
            "bin_start": 0.163,
            "bin_end": 0.18318,
            "count": 1
           },
           {
            "bin_start": 0.18318,
            "bin_end": 0.20336,
            "count": 1
           },
           {
            "bin_start": 0.20336,
            "bin_end": 0.22354000000000002,
            "count": 2
           },
           {
            "bin_start": 0.22354000000000002,
            "bin_end": 0.24372,
            "count": 2
           },
           {
            "bin_start": 0.24372,
            "bin_end": 0.2639,
            "count": 1
           },
           {
            "bin_start": 0.2639,
            "bin_end": 0.28408,
            "count": 1
           },
           {
            "bin_start": 0.28408,
            "bin_end": 0.30426,
            "count": 1
           },
           {
            "bin_start": 0.30426,
            "bin_end": 0.32444,
            "count": 0
           },
           {
            "bin_start": 0.32444,
            "bin_end": 0.34462000000000004,
            "count": 0
           },
           {
            "bin_start": 0.34462000000000004,
            "bin_end": 0.3648,
            "count": 1
           }
          ]
         }
        },
        {
         "name": "nap_total_freq",
         "dtype": "float64",
         "stats": {
          "unique_count": 2,
          "nan_count": 0,
          "min": "0.0",
          "max": "1.0",
          "histogram": [
           {
            "bin_start": 0,
            "bin_end": 0.1,
            "count": 7
           },
           {
            "bin_start": 0.1,
            "bin_end": 0.2,
            "count": 0
           },
           {
            "bin_start": 0.2,
            "bin_end": 0.30000000000000004,
            "count": 0
           },
           {
            "bin_start": 0.30000000000000004,
            "bin_end": 0.4,
            "count": 0
           },
           {
            "bin_start": 0.4,
            "bin_end": 0.5,
            "count": 0
           },
           {
            "bin_start": 0.5,
            "bin_end": 0.6000000000000001,
            "count": 0
           },
           {
            "bin_start": 0.6000000000000001,
            "bin_end": 0.7000000000000001,
            "count": 0
           },
           {
            "bin_start": 0.7000000000000001,
            "bin_end": 0.8,
            "count": 0
           },
           {
            "bin_start": 0.8,
            "bin_end": 0.9,
            "count": 0
           },
           {
            "bin_start": 0.9,
            "bin_end": 1,
            "count": 3
           }
          ]
         }
        },
        {
         "name": "nap_total_time",
         "dtype": "float64",
         "stats": {
          "unique_count": 4,
          "nan_count": 0,
          "min": "0.0",
          "max": "139.0",
          "histogram": [
           {
            "bin_start": 0,
            "bin_end": 13.9,
            "count": 7
           },
           {
            "bin_start": 13.9,
            "bin_end": 27.8,
            "count": 0
           },
           {
            "bin_start": 27.8,
            "bin_end": 41.7,
            "count": 0
           },
           {
            "bin_start": 41.7,
            "bin_end": 55.6,
            "count": 0
           },
           {
            "bin_start": 55.6,
            "bin_end": 69.5,
            "count": 1
           },
           {
            "bin_start": 69.5,
            "bin_end": 83.4,
            "count": 0
           },
           {
            "bin_start": 83.4,
            "bin_end": 97.3,
            "count": 0
           },
           {
            "bin_start": 97.3,
            "bin_end": 111.2,
            "count": 1
           },
           {
            "bin_start": 111.2,
            "bin_end": 125.10000000000001,
            "count": 0
           },
           {
            "bin_start": 125.10000000000001,
            "bin_end": 139,
            "count": 1
           }
          ]
         }
        },
        {
         "name": "_deepnote_index_column",
         "dtype": "int64"
        }
       ],
       "rows_top": [
        {
         "Unnamed: 0": 1,
         "userId": 1,
         "bmi": 16.2,
         "isi": 17,
         "age": 20,
         "month": 4,
         "date": 24,
         "sleep_start_time": 1833,
         "sleep_end_time": 2170,
         "sleep_min": 287,
         "sleep_efficiency": 0.9191,
         "awaken_min": 19,
         "awaken_moments": 21,
         "cal_consume": 1761,
         "active_cal": 755,
         "walks": 11712,
         "distance": 8.05,
         "stairs": 19,
         "active_ratio": 0.2302,
         "nap_total_freq": 1,
         "nap_total_time": 139,
         "_deepnote_index_column": 1
        },
        {
         "Unnamed: 0": 2,
         "userId": 1,
         "bmi": 16.2,
         "isi": 17,
         "age": 20,
         "month": 4,
         "date": 25,
         "sleep_start_time": 1526,
         "sleep_end_time": 2003,
         "sleep_min": 413,
         "sleep_efficiency": 0.8853500000000001,
         "awaken_min": 34.5,
         "awaken_moments": 20.5,
         "cal_consume": 1850,
         "active_cal": 868,
         "walks": 12898,
         "distance": 8.72,
         "stairs": 8,
         "active_ratio": 0.2473,
         "nap_total_freq": 0,
         "nap_total_time": 0,
         "_deepnote_index_column": 2
        },
        {
         "Unnamed: 0": 3,
         "userId": 1,
         "bmi": 16.2,
         "isi": 17,
         "age": 20,
         "month": 4,
         "date": 26,
         "sleep_start_time": 1593,
         "sleep_end_time": 1941,
         "sleep_min": 293,
         "sleep_efficiency": 0.8788333333333335,
         "awaken_min": 44.333333333333336,
         "awaken_moments": 23,
         "cal_consume": 1795,
         "active_cal": 805,
         "walks": 12306,
         "distance": 8.25,
         "stairs": 20,
         "active_ratio": 0.2749,
         "nap_total_freq": 0,
         "nap_total_time": 0,
         "_deepnote_index_column": 3
        },
        {
         "Unnamed: 0": 4,
         "userId": 1,
         "bmi": 16.2,
         "isi": 17,
         "age": 20,
         "month": 4,
         "date": 27,
         "sleep_start_time": 1532,
         "sleep_end_time": 1912,
         "sleep_min": 329,
         "sleep_efficiency": 0.8696250000000001,
         "awaken_min": 47,
         "awaken_moments": 23.75,
         "cal_consume": 1848,
         "active_cal": 894,
         "walks": 9207,
         "distance": 6.16,
         "stairs": 15,
         "active_ratio": 0.2891,
         "nap_total_freq": 0,
         "nap_total_time": 0,
         "_deepnote_index_column": 4
        },
        {
         "Unnamed: 0": 5,
         "userId": 1,
         "bmi": 16.2,
         "isi": 17,
         "age": 20,
         "month": 4,
         "date": 28,
         "sleep_start_time": 1619,
         "sleep_end_time": 1989,
         "sleep_min": 341,
         "sleep_efficiency": 0.8688600000000001,
         "awaken_min": 47.8,
         "awaken_moments": 24.4,
         "cal_consume": 1997,
         "active_cal": 1097,
         "walks": 12121,
         "distance": 8.06,
         "stairs": 20,
         "active_ratio": 0.3648,
         "nap_total_freq": 0,
         "nap_total_time": 0,
         "_deepnote_index_column": 5
        },
        {
         "Unnamed: 0": 6,
         "userId": 1,
         "bmi": 16.2,
         "isi": 17,
         "age": 20,
         "month": 4,
         "date": 29,
         "sleep_start_time": 1564,
         "sleep_end_time": 1933,
         "sleep_min": 331,
         "sleep_efficiency": 0.87765,
         "awaken_min": 44.666666666666664,
         "awaken_moments": 25.166666666666668,
         "cal_consume": 1479,
         "active_cal": 403,
         "walks": 3740,
         "distance": 2.49,
         "stairs": 6,
         "active_ratio": 0.163,
         "nap_total_freq": 1,
         "nap_total_time": 62,
         "_deepnote_index_column": 6
        },
        {
         "Unnamed: 0": 7,
         "userId": 1,
         "bmi": 16.2,
         "isi": 17,
         "age": 20,
         "month": 4,
         "date": 30,
         "sleep_start_time": 1570,
         "sleep_end_time": 1899,
         "sleep_min": 282,
         "sleep_efficiency": 0.8804142857142858,
         "awaken_min": 43.714285714285715,
         "awaken_moments": 24.142857142857142,
         "cal_consume": 1681,
         "active_cal": 662,
         "walks": 9657,
         "distance": 6.42,
         "stairs": 15,
         "active_ratio": 0.2146,
         "nap_total_freq": 0,
         "nap_total_time": 0,
         "_deepnote_index_column": 7
        },
        {
         "Unnamed: 0": 8,
         "userId": 1,
         "bmi": 16.2,
         "isi": 17,
         "age": 20,
         "month": 5,
         "date": 1,
         "sleep_start_time": 1477,
         "sleep_end_time": 2050,
         "sleep_min": 490,
         "sleep_efficiency": 0.8775000000000001,
         "awaken_min": 44.125,
         "awaken_moments": 25,
         "cal_consume": 1683,
         "active_cal": 656,
         "walks": 9420,
         "distance": 6.26,
         "stairs": 11,
         "active_ratio": 0.2041,
         "nap_total_freq": 0,
         "nap_total_time": 0,
         "_deepnote_index_column": 8
        },
        {
         "Unnamed: 0": 9,
         "userId": 1,
         "bmi": 16.2,
         "isi": 17,
         "age": 20,
         "month": 5,
         "date": 2,
         "sleep_start_time": 1455,
         "sleep_end_time": 1741,
         "sleep_min": 253,
         "sleep_efficiency": 0.8750111111111112,
         "awaken_min": 48.44444444444444,
         "awaken_moments": 26,
         "cal_consume": 1672,
         "active_cal": 635,
         "walks": 9961,
         "distance": 6.72,
         "stairs": 13,
         "active_ratio": 0.2327,
         "nap_total_freq": 0,
         "nap_total_time": 0,
         "_deepnote_index_column": 9
        },
        {
         "Unnamed: 0": 10,
         "userId": 1,
         "bmi": 16.2,
         "isi": 17,
         "age": 20,
         "month": 5,
         "date": 3,
         "sleep_start_time": 1579,
         "sleep_end_time": 1922,
         "sleep_min": 299,
         "sleep_efficiency": 0.87597,
         "awaken_min": 46.9,
         "awaken_moments": 25.1,
         "cal_consume": 1626,
         "active_cal": 593,
         "walks": 8578,
         "distance": 5.8,
         "stairs": 30,
         "active_ratio": 0.1954,
         "nap_total_freq": 1,
         "nap_total_time": 101,
         "_deepnote_index_column": 10
        }
       ],
       "rows_bottom": null
      },
      "text/plain": "    Unnamed: 0  userId   bmi  isi  age  month  date  sleep_start_time  \\\n1            1       1  16.2   17   20      4    24            1833.0   \n2            2       1  16.2   17   20      4    25            1526.0   \n3            3       1  16.2   17   20      4    26            1593.0   \n4            4       1  16.2   17   20      4    27            1532.0   \n5            5       1  16.2   17   20      4    28            1619.0   \n6            6       1  16.2   17   20      4    29            1564.0   \n7            7       1  16.2   17   20      4    30            1570.0   \n8            8       1  16.2   17   20      5     1            1477.0   \n9            9       1  16.2   17   20      5     2            1455.0   \n10          10       1  16.2   17   20      5     3            1579.0   \n\n    sleep_end_time  sleep_min  ...  awaken_min  awaken_moments  cal_consume  \\\n1           2170.0      287.0  ...   19.000000       21.000000         1761   \n2           2003.0      413.0  ...   34.500000       20.500000         1850   \n3           1941.0      293.0  ...   44.333333       23.000000         1795   \n4           1912.0      329.0  ...   47.000000       23.750000         1848   \n5           1989.0      341.0  ...   47.800000       24.400000         1997   \n6           1933.0      331.0  ...   44.666667       25.166667         1479   \n7           1899.0      282.0  ...   43.714286       24.142857         1681   \n8           2050.0      490.0  ...   44.125000       25.000000         1683   \n9           1741.0      253.0  ...   48.444444       26.000000         1672   \n10          1922.0      299.0  ...   46.900000       25.100000         1626   \n\n    active_cal  walks  distance  stairs  active_ratio  nap_total_freq  \\\n1          755  11712      8.05      19        0.2302             1.0   \n2          868  12898      8.72       8        0.2473             0.0   \n3          805  12306      8.25      20        0.2749             0.0   \n4          894   9207      6.16      15        0.2891             0.0   \n5         1097  12121      8.06      20        0.3648             0.0   \n6          403   3740      2.49       6        0.1630             1.0   \n7          662   9657      6.42      15        0.2146             0.0   \n8          656   9420      6.26      11        0.2041             0.0   \n9          635   9961      6.72      13        0.2327             0.0   \n10         593   8578      5.80      30        0.1954             1.0   \n\n    nap_total_time  \n1            139.0  \n2              0.0  \n3              0.0  \n4              0.0  \n5              0.0  \n6             62.0  \n7              0.0  \n8              0.0  \n9              0.0  \n10           101.0  \n\n[10 rows x 21 columns]",
      "text/html": "<div>\n<style scoped>\n    .dataframe tbody tr th:only-of-type {\n        vertical-align: middle;\n    }\n\n    .dataframe tbody tr th {\n        vertical-align: top;\n    }\n\n    .dataframe thead th {\n        text-align: right;\n    }\n</style>\n<table border=\"1\" class=\"dataframe\">\n  <thead>\n    <tr style=\"text-align: right;\">\n      <th></th>\n      <th>Unnamed: 0</th>\n      <th>userId</th>\n      <th>bmi</th>\n      <th>isi</th>\n      <th>age</th>\n      <th>month</th>\n      <th>date</th>\n      <th>sleep_start_time</th>\n      <th>sleep_end_time</th>\n      <th>sleep_min</th>\n      <th>...</th>\n      <th>awaken_min</th>\n      <th>awaken_moments</th>\n      <th>cal_consume</th>\n      <th>active_cal</th>\n      <th>walks</th>\n      <th>distance</th>\n      <th>stairs</th>\n      <th>active_ratio</th>\n      <th>nap_total_freq</th>\n      <th>nap_total_time</th>\n    </tr>\n  </thead>\n  <tbody>\n    <tr>\n      <th>1</th>\n      <td>1</td>\n      <td>1</td>\n      <td>16.2</td>\n      <td>17</td>\n      <td>20</td>\n      <td>4</td>\n      <td>24</td>\n      <td>1833.0</td>\n      <td>2170.0</td>\n      <td>287.0</td>\n      <td>...</td>\n      <td>19.000000</td>\n      <td>21.000000</td>\n      <td>1761</td>\n      <td>755</td>\n      <td>11712</td>\n      <td>8.05</td>\n      <td>19</td>\n      <td>0.2302</td>\n      <td>1.0</td>\n      <td>139.0</td>\n    </tr>\n    <tr>\n      <th>2</th>\n      <td>2</td>\n      <td>1</td>\n      <td>16.2</td>\n      <td>17</td>\n      <td>20</td>\n      <td>4</td>\n      <td>25</td>\n      <td>1526.0</td>\n      <td>2003.0</td>\n      <td>413.0</td>\n      <td>...</td>\n      <td>34.500000</td>\n      <td>20.500000</td>\n      <td>1850</td>\n      <td>868</td>\n      <td>12898</td>\n      <td>8.72</td>\n      <td>8</td>\n      <td>0.2473</td>\n      <td>0.0</td>\n      <td>0.0</td>\n    </tr>\n    <tr>\n      <th>3</th>\n      <td>3</td>\n      <td>1</td>\n      <td>16.2</td>\n      <td>17</td>\n      <td>20</td>\n      <td>4</td>\n      <td>26</td>\n      <td>1593.0</td>\n      <td>1941.0</td>\n      <td>293.0</td>\n      <td>...</td>\n      <td>44.333333</td>\n      <td>23.000000</td>\n      <td>1795</td>\n      <td>805</td>\n      <td>12306</td>\n      <td>8.25</td>\n      <td>20</td>\n      <td>0.2749</td>\n      <td>0.0</td>\n      <td>0.0</td>\n    </tr>\n    <tr>\n      <th>4</th>\n      <td>4</td>\n      <td>1</td>\n      <td>16.2</td>\n      <td>17</td>\n      <td>20</td>\n      <td>4</td>\n      <td>27</td>\n      <td>1532.0</td>\n      <td>1912.0</td>\n      <td>329.0</td>\n      <td>...</td>\n      <td>47.000000</td>\n      <td>23.750000</td>\n      <td>1848</td>\n      <td>894</td>\n      <td>9207</td>\n      <td>6.16</td>\n      <td>15</td>\n      <td>0.2891</td>\n      <td>0.0</td>\n      <td>0.0</td>\n    </tr>\n    <tr>\n      <th>5</th>\n      <td>5</td>\n      <td>1</td>\n      <td>16.2</td>\n      <td>17</td>\n      <td>20</td>\n      <td>4</td>\n      <td>28</td>\n      <td>1619.0</td>\n      <td>1989.0</td>\n      <td>341.0</td>\n      <td>...</td>\n      <td>47.800000</td>\n      <td>24.400000</td>\n      <td>1997</td>\n      <td>1097</td>\n      <td>12121</td>\n      <td>8.06</td>\n      <td>20</td>\n      <td>0.3648</td>\n      <td>0.0</td>\n      <td>0.0</td>\n    </tr>\n    <tr>\n      <th>6</th>\n      <td>6</td>\n      <td>1</td>\n      <td>16.2</td>\n      <td>17</td>\n      <td>20</td>\n      <td>4</td>\n      <td>29</td>\n      <td>1564.0</td>\n      <td>1933.0</td>\n      <td>331.0</td>\n      <td>...</td>\n      <td>44.666667</td>\n      <td>25.166667</td>\n      <td>1479</td>\n      <td>403</td>\n      <td>3740</td>\n      <td>2.49</td>\n      <td>6</td>\n      <td>0.1630</td>\n      <td>1.0</td>\n      <td>62.0</td>\n    </tr>\n    <tr>\n      <th>7</th>\n      <td>7</td>\n      <td>1</td>\n      <td>16.2</td>\n      <td>17</td>\n      <td>20</td>\n      <td>4</td>\n      <td>30</td>\n      <td>1570.0</td>\n      <td>1899.0</td>\n      <td>282.0</td>\n      <td>...</td>\n      <td>43.714286</td>\n      <td>24.142857</td>\n      <td>1681</td>\n      <td>662</td>\n      <td>9657</td>\n      <td>6.42</td>\n      <td>15</td>\n      <td>0.2146</td>\n      <td>0.0</td>\n      <td>0.0</td>\n    </tr>\n    <tr>\n      <th>8</th>\n      <td>8</td>\n      <td>1</td>\n      <td>16.2</td>\n      <td>17</td>\n      <td>20</td>\n      <td>5</td>\n      <td>1</td>\n      <td>1477.0</td>\n      <td>2050.0</td>\n      <td>490.0</td>\n      <td>...</td>\n      <td>44.125000</td>\n      <td>25.000000</td>\n      <td>1683</td>\n      <td>656</td>\n      <td>9420</td>\n      <td>6.26</td>\n      <td>11</td>\n      <td>0.2041</td>\n      <td>0.0</td>\n      <td>0.0</td>\n    </tr>\n    <tr>\n      <th>9</th>\n      <td>9</td>\n      <td>1</td>\n      <td>16.2</td>\n      <td>17</td>\n      <td>20</td>\n      <td>5</td>\n      <td>2</td>\n      <td>1455.0</td>\n      <td>1741.0</td>\n      <td>253.0</td>\n      <td>...</td>\n      <td>48.444444</td>\n      <td>26.000000</td>\n      <td>1672</td>\n      <td>635</td>\n      <td>9961</td>\n      <td>6.72</td>\n      <td>13</td>\n      <td>0.2327</td>\n      <td>0.0</td>\n      <td>0.0</td>\n    </tr>\n    <tr>\n      <th>10</th>\n      <td>10</td>\n      <td>1</td>\n      <td>16.2</td>\n      <td>17</td>\n      <td>20</td>\n      <td>5</td>\n      <td>3</td>\n      <td>1579.0</td>\n      <td>1922.0</td>\n      <td>299.0</td>\n      <td>...</td>\n      <td>46.900000</td>\n      <td>25.100000</td>\n      <td>1626</td>\n      <td>593</td>\n      <td>8578</td>\n      <td>5.80</td>\n      <td>30</td>\n      <td>0.1954</td>\n      <td>1.0</td>\n      <td>101.0</td>\n    </tr>\n  </tbody>\n</table>\n<p>10 rows × 21 columns</p>\n</div>"
     },
     "metadata": {}
    }
   ],
   "execution_count": null
  },
  {
   "cell_type": "code",
   "metadata": {
    "tags": [],
    "cell_id": "00004-6d1f4698-9226-459c-97e2-0a80daecc095",
    "deepnote_to_be_reexecuted": false,
    "source_hash": "d0f7f2ad",
    "execution_start": 1631790323309,
    "execution_millis": 12,
    "deepnote_cell_type": "code"
   },
   "source": "df_drop.corr()['sleep_min'].sort_values(ascending=False)",
   "outputs": [
    {
     "output_type": "execute_result",
     "execution_count": 6,
     "data": {
      "text/plain": "sleep_min           1.000000\nsleep_end_time      0.456558\nwalks               0.066792\ndistance            0.062364\nawaken_moments      0.060781\nactive_ratio        0.053862\nmonth               0.035546\nstairs              0.034034\nage                 0.033403\nawaken_min          0.032929\nactive_cal          0.027967\nisi                 0.013534\ncal_consume        -0.008318\nUnnamed: 0         -0.009828\nuserId             -0.011181\ndate               -0.043192\nsleep_efficiency   -0.058055\nbmi                -0.092203\nnap_total_time     -0.136778\nnap_total_freq     -0.150674\nsleep_start_time   -0.354385\nName: sleep_min, dtype: float64"
     },
     "metadata": {}
    }
   ],
   "execution_count": null
  },
  {
   "cell_type": "code",
   "metadata": {
    "tags": [],
    "cell_id": "00007-f121c4d4-60ca-4d1f-8f18-ae52547eff2c",
    "deepnote_to_be_reexecuted": false,
    "source_hash": "df78461",
    "execution_start": 1631790323324,
    "execution_millis": 7,
    "deepnote_cell_type": "code"
   },
   "source": "X = df_drop.drop(['sleep_min', 'stairs', 'userId', 'date', 'month', 'Unnamed: 0', 'sleep_start_time'], axis=1).values\ny = df_drop['sleep_min'].values\nprint(X.shape, y.shape)",
   "outputs": [
    {
     "name": "stdout",
     "text": "(1675, 14) (1675,)\n",
     "output_type": "stream"
    }
   ],
   "execution_count": null
  },
  {
   "cell_type": "markdown",
   "source": "## Train Validation Test Split",
   "metadata": {
    "tags": [],
    "cell_id": "00006-99fd7871-8375-46c8-a71d-a0b3703364e8",
    "deepnote_cell_type": "markdown"
   }
  },
  {
   "cell_type": "code",
   "metadata": {
    "tags": [],
    "cell_id": "00009-d9d621f5-2a78-47fd-bf25-634cdc32bafb",
    "deepnote_to_be_reexecuted": false,
    "source_hash": "7327043f",
    "execution_start": 1631790323333,
    "execution_millis": 2,
    "deepnote_cell_type": "code"
   },
   "source": "# Train Test Split\n\nx_train, X_test, y_train, y_test = train_test_split(X, y, test_size=0.1, random_state=42, shuffle=False)",
   "outputs": [],
   "execution_count": null
  },
  {
   "cell_type": "code",
   "metadata": {
    "tags": [],
    "cell_id": "00010-0618e7fc-12cb-4880-8658-13ad2b18746f",
    "deepnote_to_be_reexecuted": false,
    "source_hash": "6f7131f0",
    "execution_start": 1631790325188,
    "execution_millis": 3,
    "deepnote_cell_type": "code"
   },
   "source": "# Train Validation Split\n\nX_train, X_val, y_train, y_val = train_test_split(x_train, y_train, test_size=0.2, random_state=42, shuffle=False)",
   "outputs": [],
   "execution_count": null
  },
  {
   "cell_type": "code",
   "metadata": {
    "tags": [],
    "cell_id": "00006-7b379e9a-617c-486a-a265-cb7def48be0d",
    "deepnote_to_be_reexecuted": false,
    "source_hash": "174832a4",
    "execution_start": 1631790326334,
    "execution_millis": 18,
    "deepnote_cell_type": "code"
   },
   "source": "y_train = y_train.reshape(-1, 1)\ny_val = y_val.reshape(-1, 1)\ny_test = y_test.reshape(-1, 1)\n\nprint(y_train.shape)\nprint(y_val.shape)\nprint(y_test.shape)",
   "outputs": [
    {
     "name": "stdout",
     "text": "(1205, 1)\n(302, 1)\n(168, 1)\n",
     "output_type": "stream"
    }
   ],
   "execution_count": null
  },
  {
   "cell_type": "code",
   "metadata": {
    "tags": [],
    "cell_id": "00006-f2fc6c60-02f2-46e2-a250-68f4cbfb478f",
    "deepnote_to_be_reexecuted": false,
    "source_hash": "f7a7b715",
    "execution_start": 1631790326344,
    "execution_millis": 4,
    "deepnote_cell_type": "code"
   },
   "source": "scaler_x = MinMaxScaler(feature_range = (0,1))\nscaler_y = MinMaxScaler(feature_range = (0,1))\n\ninput_scaler = scaler_x.fit(X_train)\noutput_scaler = scaler_y.fit(y_train)\n\nX_train = input_scaler.transform(X_train)\ny_train = output_scaler.transform(y_train)\n\nX_val = input_scaler.transform(X_test)\ny_val = output_scaler.transform(y_test)\n\nX_test = input_scaler.transform(X_test)\ny_test = output_scaler.transform(y_test)",
   "outputs": [],
   "execution_count": null
  },
  {
   "cell_type": "markdown",
   "source": "### OLS Regression",
   "metadata": {
    "tags": [],
    "cell_id": "00011-0a0de281-1100-4808-8e1a-c779956bcc35",
    "deepnote_cell_type": "markdown"
   }
  },
  {
   "cell_type": "code",
   "source": "data = df_drop.drop(['sleep_min', 'stairs', 'userId', 'date', 'month', 'Unnamed: 0', 'sleep_start_time'], axis=1)\ndata.columns",
   "metadata": {
    "tags": [],
    "cell_id": "00014-60aff8c9-221a-48a2-99c2-4f7f5f09ea6a",
    "deepnote_to_be_reexecuted": false,
    "source_hash": "d9f5c44e",
    "execution_start": 1631802873003,
    "execution_millis": 11,
    "deepnote_cell_type": "code"
   },
   "outputs": [
    {
     "output_type": "execute_result",
     "execution_count": 50,
     "data": {
      "text/plain": "Index(['bmi', 'isi', 'age', 'sleep_end_time', 'sleep_efficiency', 'awaken_min',\n       'awaken_moments', 'cal_consume', 'active_cal', 'walks', 'distance',\n       'active_ratio', 'nap_total_freq', 'nap_total_time'],\n      dtype='object')"
     },
     "metadata": {}
    }
   ],
   "execution_count": null
  },
  {
   "cell_type": "code",
   "source": "x = sm.add_constant(X_train)\nols = sm.OLS(y_train, x)\nest = ols.fit()\nprint(est.summary())",
   "metadata": {
    "tags": [],
    "cell_id": "00015-acebab01-e385-47d9-93d8-6e2560047cbb",
    "deepnote_to_be_reexecuted": false,
    "source_hash": "7d6e42b1",
    "execution_start": 1631790328787,
    "execution_millis": 43,
    "deepnote_cell_type": "code"
   },
   "outputs": [
    {
     "name": "stdout",
     "text": "                            OLS Regression Results                            \n==============================================================================\nDep. Variable:                      y   R-squared:                       0.260\nModel:                            OLS   Adj. R-squared:                  0.252\nMethod:                 Least Squares   F-statistic:                     29.90\nDate:                Thu, 16 Sep 2021   Prob (F-statistic):           2.69e-68\nTime:                        11:05:28   Log-Likelihood:                 832.12\nNo. Observations:                1205   AIC:                            -1634.\nDf Residuals:                    1190   BIC:                            -1558.\nDf Model:                          14                                         \nCovariance Type:            nonrobust                                         \n==============================================================================\n                 coef    std err          t      P>|t|      [0.025      0.975]\n------------------------------------------------------------------------------\nconst          0.1981      0.128      1.546      0.122      -0.053       0.449\nx1            -0.0615      0.019     -3.213      0.001      -0.099      -0.024\nx2            -0.0150      0.015     -1.012      0.312      -0.044       0.014\nx3             0.0576      0.016      3.631      0.000       0.026       0.089\nx4             0.7485      0.041     18.393      0.000       0.669       0.828\nx5            -0.1826      0.137     -1.333      0.183      -0.451       0.086\nx6            -0.1570      0.125     -1.254      0.210      -0.403       0.089\nx7             0.0117      0.040      0.296      0.768      -0.066       0.089\nx8             0.1548      0.088      1.752      0.080      -0.019       0.328\nx9            -0.1331      0.104     -1.277      0.202      -0.338       0.071\nx10            0.4506      0.364      1.239      0.216      -0.263       1.164\nx11           -0.4328      0.376     -1.152      0.250      -1.170       0.305\nx12            0.0274      0.058      0.475      0.635      -0.086       0.141\nx13           -0.1167      0.041     -2.875      0.004      -0.196      -0.037\nx14            0.0747      0.060      1.244      0.214      -0.043       0.192\n==============================================================================\nOmnibus:                       22.610   Durbin-Watson:                   1.856\nProb(Omnibus):                  0.000   Jarque-Bera (JB):               42.003\nSkew:                           0.065   Prob(JB):                     7.57e-10\nKurtosis:                       3.905   Cond. No.                         291.\n==============================================================================\n\nNotes:\n[1] Standard Errors assume that the covariance matrix of the errors is correctly specified.\n",
     "output_type": "stream"
    }
   ],
   "execution_count": null
  },
  {
   "cell_type": "markdown",
   "source": "### Linear Regression",
   "metadata": {
    "tags": [],
    "cell_id": "00015-c7c2ecab-da93-4c1f-993e-15d92d43cdea",
    "deepnote_cell_type": "markdown"
   }
  },
  {
   "cell_type": "code",
   "metadata": {
    "tags": [],
    "cell_id": "00006-38659bb8-4255-4dbc-b1bc-1ca9d3f713ec",
    "deepnote_to_be_reexecuted": false,
    "source_hash": "dfd990b3",
    "execution_start": 1631790331213,
    "execution_millis": 16,
    "deepnote_cell_type": "code"
   },
   "source": "lr_regressor = LinearRegression()\nlr_regressor.fit(X_train, y_train)\npred_val_lr = lr_regressor.predict(X_val)\npred_test_lr = lr_regressor.predict(X_test)",
   "outputs": [],
   "execution_count": null
  },
  {
   "cell_type": "markdown",
   "source": "### Decision Tree Regression",
   "metadata": {
    "tags": [],
    "cell_id": "00013-4bcc5e61-551d-4334-a175-331ce0dcd569",
    "deepnote_cell_type": "markdown"
   }
  },
  {
   "cell_type": "code",
   "metadata": {
    "tags": [],
    "cell_id": "00011-6c010e47-c3b2-42a4-a5b4-30491c9a35a6",
    "deepnote_to_be_reexecuted": false,
    "source_hash": "37233ec7",
    "execution_start": 1631310298243,
    "execution_millis": 11459,
    "deepnote_cell_type": "code"
   },
   "source": "# Hyperparameter tuning\n\ndt_regressor = DecisionTreeRegressor()\nparameters={\"splitter\":[\"best\",\"random\"],\n            \"max_depth\" : [10, 15, 20, 25],\n           \"min_samples_leaf\":[1,2,3,4,5,6,7,8,9,10],\n           \"max_features\":[\"auto\",\"log2\",\"sqrt\",None],\n           \"max_leaf_nodes\":[None,10,20,30]}\n\ntuning_model=GridSearchCV(dt_regressor,param_grid=parameters,scoring='neg_mean_squared_error',cv=3,verbose=3)\ntuning_model.fit(X_train,y_train)",
   "execution_count": null,
   "outputs": [
    {
     "name": "stdout",
     "text": "[CV 1/3] END max_depth=20, max_features=None, max_leaf_nodes=30, min_samples_leaf=4, splitter=random;, score=-0.018 total time=   0.0s\n[CV 2/3] END max_depth=20, max_features=None, max_leaf_nodes=30, min_samples_leaf=4, splitter=random;, score=-0.020 total time=   0.0s\n[CV 3/3] END max_depth=20, max_features=None, max_leaf_nodes=30, min_samples_leaf=4, splitter=random;, score=-0.016 total time=   0.0s\n[CV 1/3] END max_depth=20, max_features=None, max_leaf_nodes=30, min_samples_leaf=5, splitter=best;, score=-0.025 total time=   0.0s\n[CV 2/3] END max_depth=20, max_features=None, max_leaf_nodes=30, min_samples_leaf=5, splitter=best;, score=-0.021 total time=   0.0s\n[CV 3/3] END max_depth=20, max_features=None, max_leaf_nodes=30, min_samples_leaf=5, splitter=best;, score=-0.016 total time=   0.0s\n[CV 1/3] END max_depth=20, max_features=None, max_leaf_nodes=30, min_samples_leaf=5, splitter=random;, score=-0.032 total time=   0.0s\n[CV 2/3] END max_depth=20, max_features=None, max_leaf_nodes=30, min_samples_leaf=5, splitter=random;, score=-0.020 total time=   0.0s\n[CV 3/3] END max_depth=20, max_features=None, max_leaf_nodes=30, min_samples_leaf=5, splitter=random;, score=-0.014 total time=   0.0s\n[CV 1/3] END max_depth=20, max_features=None, max_leaf_nodes=30, min_samples_leaf=6, splitter=best;, score=-0.024 total time=   0.0s\n[CV 2/3] END max_depth=20, max_features=None, max_leaf_nodes=30, min_samples_leaf=6, splitter=best;, score=-0.020 total time=   0.0s\n[CV 3/3] END max_depth=20, max_features=None, max_leaf_nodes=30, min_samples_leaf=6, splitter=best;, score=-0.015 total time=   0.0s\n[CV 1/3] END max_depth=20, max_features=None, max_leaf_nodes=30, min_samples_leaf=6, splitter=random;, score=-0.019 total time=   0.0s\n[CV 2/3] END max_depth=20, max_features=None, max_leaf_nodes=30, min_samples_leaf=6, splitter=random;, score=-0.020 total time=   0.0s\n[CV 3/3] END max_depth=20, max_features=None, max_leaf_nodes=30, min_samples_leaf=6, splitter=random;, score=-0.016 total time=   0.0s\n[CV 1/3] END max_depth=20, max_features=None, max_leaf_nodes=30, min_samples_leaf=7, splitter=best;, score=-0.023 total time=   0.0s\n[CV 2/3] END max_depth=20, max_features=None, max_leaf_nodes=30, min_samples_leaf=7, splitter=best;, score=-0.020 total time=   0.0s\n[CV 3/3] END max_depth=20, max_features=None, max_leaf_nodes=30, min_samples_leaf=7, splitter=best;, score=-0.015 total time=   0.0s\n[CV 1/3] END max_depth=20, max_features=None, max_leaf_nodes=30, min_samples_leaf=7, splitter=random;, score=-0.016 total time=   0.0s\n[CV 2/3] END max_depth=20, max_features=None, max_leaf_nodes=30, min_samples_leaf=7, splitter=random;, score=-0.021 total time=   0.0s\n[CV 3/3] END max_depth=20, max_features=None, max_leaf_nodes=30, min_samples_leaf=7, splitter=random;, score=-0.013 total time=   0.0s\n[CV 1/3] END max_depth=20, max_features=None, max_leaf_nodes=30, min_samples_leaf=8, splitter=best;, score=-0.022 total time=   0.0s\n[CV 2/3] END max_depth=20, max_features=None, max_leaf_nodes=30, min_samples_leaf=8, splitter=best;, score=-0.022 total time=   0.0s\n[CV 3/3] END max_depth=20, max_features=None, max_leaf_nodes=30, min_samples_leaf=8, splitter=best;, score=-0.015 total time=   0.0s\n[CV 1/3] END max_depth=20, max_features=None, max_leaf_nodes=30, min_samples_leaf=8, splitter=random;, score=-0.023 total time=   0.0s\n[CV 2/3] END max_depth=20, max_features=None, max_leaf_nodes=30, min_samples_leaf=8, splitter=random;, score=-0.019 total time=   0.0s\n[CV 3/3] END max_depth=20, max_features=None, max_leaf_nodes=30, min_samples_leaf=8, splitter=random;, score=-0.013 total time=   0.0s\n[CV 1/3] END max_depth=20, max_features=None, max_leaf_nodes=30, min_samples_leaf=9, splitter=best;, score=-0.020 total time=   0.0s\n[CV 2/3] END max_depth=20, max_features=None, max_leaf_nodes=30, min_samples_leaf=9, splitter=best;, score=-0.022 total time=   0.0s\n[CV 3/3] END max_depth=20, max_features=None, max_leaf_nodes=30, min_samples_leaf=9, splitter=best;, score=-0.015 total time=   0.0s\n[CV 1/3] END max_depth=20, max_features=None, max_leaf_nodes=30, min_samples_leaf=9, splitter=random;, score=-0.018 total time=   0.0s\n[CV 2/3] END max_depth=20, max_features=None, max_leaf_nodes=30, min_samples_leaf=9, splitter=random;, score=-0.018 total time=   0.0s\n[CV 3/3] END max_depth=20, max_features=None, max_leaf_nodes=30, min_samples_leaf=9, splitter=random;, score=-0.013 total time=   0.0s\n[CV 1/3] END max_depth=20, max_features=None, max_leaf_nodes=30, min_samples_leaf=10, splitter=best;, score=-0.020 total time=   0.0s\n[CV 2/3] END max_depth=20, max_features=None, max_leaf_nodes=30, min_samples_leaf=10, splitter=best;, score=-0.022 total time=   0.0s\n[CV 3/3] END max_depth=20, max_features=None, max_leaf_nodes=30, min_samples_leaf=10, splitter=best;, score=-0.015 total time=   0.0s\n[CV 1/3] END max_depth=20, max_features=None, max_leaf_nodes=30, min_samples_leaf=10, splitter=random;, score=-0.020 total time=   0.0s\n[CV 2/3] END max_depth=20, max_features=None, max_leaf_nodes=30, min_samples_leaf=10, splitter=random;, score=-0.020 total time=   0.0s\n[CV 3/3] END max_depth=20, max_features=None, max_leaf_nodes=30, min_samples_leaf=10, splitter=random;, score=-0.013 total time=   0.0s\n[CV 1/3] END max_depth=25, max_features=auto, max_leaf_nodes=None, min_samples_leaf=1, splitter=best;, score=-0.063 total time=   0.0s\n[CV 2/3] END max_depth=25, max_features=auto, max_leaf_nodes=None, min_samples_leaf=1, splitter=best;, score=-0.026 total time=   0.0s\n[CV 3/3] END max_depth=25, max_features=auto, max_leaf_nodes=None, min_samples_leaf=1, splitter=best;, score=-0.029 total time=   0.0s\n[CV 1/3] END max_depth=25, max_features=auto, max_leaf_nodes=None, min_samples_leaf=1, splitter=random;, score=-0.026 total time=   0.0s\n[CV 2/3] END max_depth=25, max_features=auto, max_leaf_nodes=None, min_samples_leaf=1, splitter=random;, score=-0.033 total time=   0.0s\n[CV 3/3] END max_depth=25, max_features=auto, max_leaf_nodes=None, min_samples_leaf=1, splitter=random;, score=-0.027 total time=   0.0s\n[CV 1/3] END max_depth=25, max_features=auto, max_leaf_nodes=None, min_samples_leaf=2, splitter=best;, score=-0.035 total time=   0.0s\n[CV 2/3] END max_depth=25, max_features=auto, max_leaf_nodes=None, min_samples_leaf=2, splitter=best;, score=-0.026 total time=   0.0s\n[CV 3/3] END max_depth=25, max_features=auto, max_leaf_nodes=None, min_samples_leaf=2, splitter=best;, score=-0.029 total time=   0.0s\n[CV 1/3] END max_depth=25, max_features=auto, max_leaf_nodes=None, min_samples_leaf=2, splitter=random;, score=-0.023 total time=   0.0s\n[CV 2/3] END max_depth=25, max_features=auto, max_leaf_nodes=None, min_samples_leaf=2, splitter=random;, score=-0.031 total time=   0.0s\n[CV 3/3] END max_depth=25, max_features=auto, max_leaf_nodes=None, min_samples_leaf=2, splitter=random;, score=-0.027 total time=   0.0s\n[CV 1/3] END max_depth=25, max_features=auto, max_leaf_nodes=None, min_samples_leaf=3, splitter=best;, score=-0.031 total time=   0.0s\n[CV 2/3] END max_depth=25, max_features=auto, max_leaf_nodes=None, min_samples_leaf=3, splitter=best;, score=-0.023 total time=   0.0s\n[CV 3/3] END max_depth=25, max_features=auto, max_leaf_nodes=None, min_samples_leaf=3, splitter=best;, score=-0.027 total time=   0.0s\n[CV 1/3] END max_depth=25, max_features=auto, max_leaf_nodes=None, min_samples_leaf=3, splitter=random;, score=-0.025 total time=   0.0s\n[CV 2/3] END max_depth=25, max_features=auto, max_leaf_nodes=None, min_samples_leaf=3, splitter=random;, score=-0.023 total time=   0.0s\n[CV 3/3] END max_depth=25, max_features=auto, max_leaf_nodes=None, min_samples_leaf=3, splitter=random;, score=-0.019 total time=   0.0s\n[CV 1/3] END max_depth=25, max_features=auto, max_leaf_nodes=None, min_samples_leaf=4, splitter=best;, score=-0.029 total time=   0.0s\n[CV 2/3] END max_depth=25, max_features=auto, max_leaf_nodes=None, min_samples_leaf=4, splitter=best;, score=-0.024 total time=   0.0s\n[CV 3/3] END max_depth=25, max_features=auto, max_leaf_nodes=None, min_samples_leaf=4, splitter=best;, score=-0.025 total time=   0.0s\n[CV 1/3] END max_depth=25, max_features=auto, max_leaf_nodes=None, min_samples_leaf=4, splitter=random;, score=-0.024 total time=   0.0s\n[CV 2/3] END max_depth=25, max_features=auto, max_leaf_nodes=None, min_samples_leaf=4, splitter=random;, score=-0.020 total time=   0.0s\n[CV 3/3] END max_depth=25, max_features=auto, max_leaf_nodes=None, min_samples_leaf=4, splitter=random;, score=-0.015 total time=   0.0s\n[CV 1/3] END max_depth=25, max_features=auto, max_leaf_nodes=None, min_samples_leaf=5, splitter=best;, score=-0.028 total time=   0.0s\n[CV 2/3] END max_depth=25, max_features=auto, max_leaf_nodes=None, min_samples_leaf=5, splitter=best;, score=-0.024 total time=   0.0s\n[CV 3/3] END max_depth=25, max_features=auto, max_leaf_nodes=None, min_samples_leaf=5, splitter=best;, score=-0.023 total time=   0.0s\n[CV 1/3] END max_depth=25, max_features=auto, max_leaf_nodes=None, min_samples_leaf=5, splitter=random;, score=-0.022 total time=   0.0s\n[CV 2/3] END max_depth=25, max_features=auto, max_leaf_nodes=None, min_samples_leaf=5, splitter=random;, score=-0.020 total time=   0.0s\n[CV 3/3] END max_depth=25, max_features=auto, max_leaf_nodes=None, min_samples_leaf=5, splitter=random;, score=-0.015 total time=   0.0s\n[CV 1/3] END max_depth=25, max_features=auto, max_leaf_nodes=None, min_samples_leaf=6, splitter=best;, score=-0.026 total time=   0.0s\n[CV 2/3] END max_depth=25, max_features=auto, max_leaf_nodes=None, min_samples_leaf=6, splitter=best;, score=-0.023 total time=   0.0s\n[CV 3/3] END max_depth=25, max_features=auto, max_leaf_nodes=None, min_samples_leaf=6, splitter=best;, score=-0.021 total time=   0.0s\n[CV 1/3] END max_depth=25, max_features=auto, max_leaf_nodes=None, min_samples_leaf=6, splitter=random;, score=-0.022 total time=   0.0s\n[CV 2/3] END max_depth=25, max_features=auto, max_leaf_nodes=None, min_samples_leaf=6, splitter=random;, score=-0.019 total time=   0.0s\n[CV 3/3] END max_depth=25, max_features=auto, max_leaf_nodes=None, min_samples_leaf=6, splitter=random;, score=-0.016 total time=   0.0s\n[CV 1/3] END max_depth=25, max_features=auto, max_leaf_nodes=None, min_samples_leaf=7, splitter=best;, score=-0.025 total time=   0.0s\n[CV 2/3] END max_depth=25, max_features=auto, max_leaf_nodes=None, min_samples_leaf=7, splitter=best;, score=-0.023 total time=   0.0s\n[CV 3/3] END max_depth=25, max_features=auto, max_leaf_nodes=None, min_samples_leaf=7, splitter=best;, score=-0.018 total time=   0.0s\n[CV 1/3] END max_depth=25, max_features=auto, max_leaf_nodes=None, min_samples_leaf=7, splitter=random;, score=-0.023 total time=   0.0s\n[CV 2/3] END max_depth=25, max_features=auto, max_leaf_nodes=None, min_samples_leaf=7, splitter=random;, score=-0.020 total time=   0.0s\n[CV 3/3] END max_depth=25, max_features=auto, max_leaf_nodes=None, min_samples_leaf=7, splitter=random;, score=-0.019 total time=   0.0s\n[CV 1/3] END max_depth=25, max_features=auto, max_leaf_nodes=None, min_samples_leaf=8, splitter=best;, score=-0.022 total time=   0.0s\n[CV 2/3] END max_depth=25, max_features=auto, max_leaf_nodes=None, min_samples_leaf=8, splitter=best;, score=-0.025 total time=   0.0s\n[CV 3/3] END max_depth=25, max_features=auto, max_leaf_nodes=None, min_samples_leaf=8, splitter=best;, score=-0.017 total time=   0.0s\n[CV 1/3] END max_depth=25, max_features=auto, max_leaf_nodes=None, min_samples_leaf=8, splitter=random;, score=-0.021 total time=   0.0s\n[CV 2/3] END max_depth=25, max_features=auto, max_leaf_nodes=None, min_samples_leaf=8, splitter=random;, score=-0.019 total time=   0.0s\n[CV 3/3] END max_depth=25, max_features=auto, max_leaf_nodes=None, min_samples_leaf=8, splitter=random;, score=-0.014 total time=   0.0s\n[CV 1/3] END max_depth=25, max_features=auto, max_leaf_nodes=None, min_samples_leaf=9, splitter=best;, score=-0.022 total time=   0.0s\n[CV 2/3] END max_depth=25, max_features=auto, max_leaf_nodes=None, min_samples_leaf=9, splitter=best;, score=-0.022 total time=   0.0s\n[CV 3/3] END max_depth=25, max_features=auto, max_leaf_nodes=None, min_samples_leaf=9, splitter=best;, score=-0.015 total time=   0.0s\n[CV 1/3] END max_depth=25, max_features=auto, max_leaf_nodes=None, min_samples_leaf=9, splitter=random;, score=-0.019 total time=   0.0s\n[CV 2/3] END max_depth=25, max_features=auto, max_leaf_nodes=None, min_samples_leaf=9, splitter=random;, score=-0.020 total time=   0.0s\n[CV 3/3] END max_depth=25, max_features=auto, max_leaf_nodes=None, min_samples_leaf=9, splitter=random;, score=-0.015 total time=   0.0s\n[CV 1/3] END max_depth=25, max_features=auto, max_leaf_nodes=None, min_samples_leaf=10, splitter=best;, score=-0.020 total time=   0.0s\n[CV 2/3] END max_depth=25, max_features=auto, max_leaf_nodes=None, min_samples_leaf=10, splitter=best;, score=-0.023 total time=   0.0s\n[CV 3/3] END max_depth=25, max_features=auto, max_leaf_nodes=None, min_samples_leaf=10, splitter=best;, score=-0.015 total time=   0.0s\n[CV 1/3] END max_depth=25, max_features=auto, max_leaf_nodes=None, min_samples_leaf=10, splitter=random;, score=-0.019 total time=   0.0s\n[CV 2/3] END max_depth=25, max_features=auto, max_leaf_nodes=None, min_samples_leaf=10, splitter=random;, score=-0.021 total time=   0.0s\n[CV 3/3] END max_depth=25, max_features=auto, max_leaf_nodes=None, min_samples_leaf=10, splitter=random;, score=-0.014 total time=   0.0s\n[CV 1/3] END max_depth=25, max_features=auto, max_leaf_nodes=10, min_samples_leaf=1, splitter=best;, score=-0.020 total time=   0.0s\n[CV 2/3] END max_depth=25, max_features=auto, max_leaf_nodes=10, min_samples_leaf=1, splitter=best;, score=-0.019 total time=   0.0s\n[CV 3/3] END max_depth=25, max_features=auto, max_leaf_nodes=10, min_samples_leaf=1, splitter=best;, score=-0.014 total time=   0.0s\n[CV 1/3] END max_depth=25, max_features=auto, max_leaf_nodes=10, min_samples_leaf=1, splitter=random;, score=-0.017 total time=   0.0s\n[CV 2/3] END max_depth=25, max_features=auto, max_leaf_nodes=10, min_samples_leaf=1, splitter=random;, score=-0.021 total time=   0.0s\n[CV 3/3] END max_depth=25, max_features=auto, max_leaf_nodes=10, min_samples_leaf=1, splitter=random;, score=-0.014 total time=   0.0s\n[CV 1/3] END max_depth=25, max_features=auto, max_leaf_nodes=10, min_samples_leaf=2, splitter=best;, score=-0.020 total time=   0.0s\n[CV 2/3] END max_depth=25, max_features=auto, max_leaf_nodes=10, min_samples_leaf=2, splitter=best;, score=-0.019 total time=   0.0s\n[CV 3/3] END max_depth=25, max_features=auto, max_leaf_nodes=10, min_samples_leaf=2, splitter=best;, score=-0.014 total time=   0.0s\n[CV 1/3] END max_depth=25, max_features=auto, max_leaf_nodes=10, min_samples_leaf=2, splitter=random;, score=-0.023 total time=   0.0s\n[CV 2/3] END max_depth=25, max_features=auto, max_leaf_nodes=10, min_samples_leaf=2, splitter=random;, score=-0.019 total time=   0.0s\n[CV 3/3] END max_depth=25, max_features=auto, max_leaf_nodes=10, min_samples_leaf=2, splitter=random;, score=-0.013 total time=   0.0s\n[CV 1/3] END max_depth=25, max_features=auto, max_leaf_nodes=10, min_samples_leaf=3, splitter=best;, score=-0.020 total time=   0.0s\n[CV 2/3] END max_depth=25, max_features=auto, max_leaf_nodes=10, min_samples_leaf=3, splitter=best;, score=-0.019 total time=   0.0s\n[CV 3/3] END max_depth=25, max_features=auto, max_leaf_nodes=10, min_samples_leaf=3, splitter=best;, score=-0.014 total time=   0.0s\n[CV 1/3] END max_depth=25, max_features=auto, max_leaf_nodes=10, min_samples_leaf=3, splitter=random;, score=-0.018 total time=   0.0s\n[CV 2/3] END max_depth=25, max_features=auto, max_leaf_nodes=10, min_samples_leaf=3, splitter=random;, score=-0.020 total time=   0.0s\n[CV 3/3] END max_depth=25, max_features=auto, max_leaf_nodes=10, min_samples_leaf=3, splitter=random;, score=-0.016 total time=   0.0s\n[CV 1/3] END max_depth=25, max_features=auto, max_leaf_nodes=10, min_samples_leaf=4, splitter=best;, score=-0.020 total time=   0.0s\n[CV 2/3] END max_depth=25, max_features=auto, max_leaf_nodes=10, min_samples_leaf=4, splitter=best;, score=-0.019 total time=   0.0s\n[CV 3/3] END max_depth=25, max_features=auto, max_leaf_nodes=10, min_samples_leaf=4, splitter=best;, score=-0.014 total time=   0.0s\n[CV 1/3] END max_depth=25, max_features=auto, max_leaf_nodes=10, min_samples_leaf=4, splitter=random;, score=-0.025 total time=   0.0s\n[CV 2/3] END max_depth=25, max_features=auto, max_leaf_nodes=10, min_samples_leaf=4, splitter=random;, score=-0.020 total time=   0.0s\n[CV 3/3] END max_depth=25, max_features=auto, max_leaf_nodes=10, min_samples_leaf=4, splitter=random;, score=-0.016 total time=   0.0s\n[CV 1/3] END max_depth=25, max_features=auto, max_leaf_nodes=10, min_samples_leaf=5, splitter=best;, score=-0.020 total time=   0.0s\n[CV 2/3] END max_depth=25, max_features=auto, max_leaf_nodes=10, min_samples_leaf=5, splitter=best;, score=-0.019 total time=   0.0s\n[CV 3/3] END max_depth=25, max_features=auto, max_leaf_nodes=10, min_samples_leaf=5, splitter=best;, score=-0.014 total time=   0.0s\n[CV 1/3] END max_depth=25, max_features=auto, max_leaf_nodes=10, min_samples_leaf=5, splitter=random;, score=-0.019 total time=   0.0s\n[CV 2/3] END max_depth=25, max_features=auto, max_leaf_nodes=10, min_samples_leaf=5, splitter=random;, score=-0.018 total time=   0.0s\n[CV 3/3] END max_depth=25, max_features=auto, max_leaf_nodes=10, min_samples_leaf=5, splitter=random;, score=-0.017 total time=   0.0s\n[CV 1/3] END max_depth=25, max_features=auto, max_leaf_nodes=10, min_samples_leaf=6, splitter=best;, score=-0.020 total time=   0.0s\n[CV 2/3] END max_depth=25, max_features=auto, max_leaf_nodes=10, min_samples_leaf=6, splitter=best;, score=-0.019 total time=   0.0s\n[CV 3/3] END max_depth=25, max_features=auto, max_leaf_nodes=10, min_samples_leaf=6, splitter=best;, score=-0.014 total time=   0.0s\n[CV 1/3] END max_depth=25, max_features=auto, max_leaf_nodes=10, min_samples_leaf=6, splitter=random;, score=-0.019 total time=   0.0s\n[CV 2/3] END max_depth=25, max_features=auto, max_leaf_nodes=10, min_samples_leaf=6, splitter=random;, score=-0.018 total time=   0.0s\n[CV 3/3] END max_depth=25, max_features=auto, max_leaf_nodes=10, min_samples_leaf=6, splitter=random;, score=-0.017 total time=   0.0s\n[CV 1/3] END max_depth=25, max_features=auto, max_leaf_nodes=10, min_samples_leaf=7, splitter=best;, score=-0.020 total time=   0.0s\n[CV 2/3] END max_depth=25, max_features=auto, max_leaf_nodes=10, min_samples_leaf=7, splitter=best;, score=-0.019 total time=   0.0s\n[CV 3/3] END max_depth=25, max_features=auto, max_leaf_nodes=10, min_samples_leaf=7, splitter=best;, score=-0.014 total time=   0.0s\n[CV 1/3] END max_depth=25, max_features=auto, max_leaf_nodes=10, min_samples_leaf=7, splitter=random;, score=-0.019 total time=   0.0s\n[CV 2/3] END max_depth=25, max_features=auto, max_leaf_nodes=10, min_samples_leaf=7, splitter=random;, score=-0.019 total time=   0.0s\n[CV 3/3] END max_depth=25, max_features=auto, max_leaf_nodes=10, min_samples_leaf=7, splitter=random;, score=-0.019 total time=   0.0s\n[CV 1/3] END max_depth=25, max_features=auto, max_leaf_nodes=10, min_samples_leaf=8, splitter=best;, score=-0.020 total time=   0.0s\n[CV 2/3] END max_depth=25, max_features=auto, max_leaf_nodes=10, min_samples_leaf=8, splitter=best;, score=-0.019 total time=   0.0s\n[CV 3/3] END max_depth=25, max_features=auto, max_leaf_nodes=10, min_samples_leaf=8, splitter=best;, score=-0.014 total time=   0.0s\n[CV 1/3] END max_depth=25, max_features=auto, max_leaf_nodes=10, min_samples_leaf=8, splitter=random;, score=-0.027 total time=   0.0s\n[CV 2/3] END max_depth=25, max_features=auto, max_leaf_nodes=10, min_samples_leaf=8, splitter=random;, score=-0.019 total time=   0.0s\n[CV 3/3] END max_depth=25, max_features=auto, max_leaf_nodes=10, min_samples_leaf=8, splitter=random;, score=-0.016 total time=   0.0s\n[CV 1/3] END max_depth=25, max_features=auto, max_leaf_nodes=10, min_samples_leaf=9, splitter=best;, score=-0.020 total time=   0.0s\n[CV 2/3] END max_depth=25, max_features=auto, max_leaf_nodes=10, min_samples_leaf=9, splitter=best;, score=-0.019 total time=   0.0s\n[CV 3/3] END max_depth=25, max_features=auto, max_leaf_nodes=10, min_samples_leaf=9, splitter=best;, score=-0.014 total time=   0.0s\n[CV 1/3] END max_depth=25, max_features=auto, max_leaf_nodes=10, min_samples_leaf=9, splitter=random;, score=-0.019 total time=   0.0s\n[CV 2/3] END max_depth=25, max_features=auto, max_leaf_nodes=10, min_samples_leaf=9, splitter=random;, score=-0.019 total time=   0.0s\n[CV 3/3] END max_depth=25, max_features=auto, max_leaf_nodes=10, min_samples_leaf=9, splitter=random;, score=-0.015 total time=   0.0s\n[CV 1/3] END max_depth=25, max_features=auto, max_leaf_nodes=10, min_samples_leaf=10, splitter=best;, score=-0.020 total time=   0.0s\n[CV 2/3] END max_depth=25, max_features=auto, max_leaf_nodes=10, min_samples_leaf=10, splitter=best;, score=-0.020 total time=   0.0s\n[CV 3/3] END max_depth=25, max_features=auto, max_leaf_nodes=10, min_samples_leaf=10, splitter=best;, score=-0.014 total time=   0.0s\n[CV 1/3] END max_depth=25, max_features=auto, max_leaf_nodes=10, min_samples_leaf=10, splitter=random;, score=-0.020 total time=   0.0s\n[CV 2/3] END max_depth=25, max_features=auto, max_leaf_nodes=10, min_samples_leaf=10, splitter=random;, score=-0.018 total time=   0.0s\n[CV 3/3] END max_depth=25, max_features=auto, max_leaf_nodes=10, min_samples_leaf=10, splitter=random;, score=-0.015 total time=   0.0s\n[CV 1/3] END max_depth=25, max_features=auto, max_leaf_nodes=20, min_samples_leaf=1, splitter=best;, score=-0.022 total time=   0.0s\n[CV 2/3] END max_depth=25, max_features=auto, max_leaf_nodes=20, min_samples_leaf=1, splitter=best;, score=-0.019 total time=   0.0s\n[CV 3/3] END max_depth=25, max_features=auto, max_leaf_nodes=20, min_samples_leaf=1, splitter=best;, score=-0.014 total time=   0.0s\n[CV 1/3] END max_depth=25, max_features=auto, max_leaf_nodes=20, min_samples_leaf=1, splitter=random;, score=-0.023 total time=   0.0s\n[CV 2/3] END max_depth=25, max_features=auto, max_leaf_nodes=20, min_samples_leaf=1, splitter=random;, score=-0.020 total time=   0.0s\n[CV 3/3] END max_depth=25, max_features=auto, max_leaf_nodes=20, min_samples_leaf=1, splitter=random;, score=-0.016 total time=   0.0s\n[CV 1/3] END max_depth=25, max_features=auto, max_leaf_nodes=20, min_samples_leaf=2, splitter=best;, score=-0.022 total time=   0.0s\n[CV 2/3] END max_depth=25, max_features=auto, max_leaf_nodes=20, min_samples_leaf=2, splitter=best;, score=-0.019 total time=   0.0s\n[CV 3/3] END max_depth=25, max_features=auto, max_leaf_nodes=20, min_samples_leaf=2, splitter=best;, score=-0.014 total time=   0.0s\n[CV 1/3] END max_depth=25, max_features=auto, max_leaf_nodes=20, min_samples_leaf=2, splitter=random;, score=-0.022 total time=   0.0s\n[CV 2/3] END max_depth=25, max_features=auto, max_leaf_nodes=20, min_samples_leaf=2, splitter=random;, score=-0.018 total time=   0.0s\n[CV 3/3] END max_depth=25, max_features=auto, max_leaf_nodes=20, min_samples_leaf=2, splitter=random;, score=-0.015 total time=   0.0s\n[CV 1/3] END max_depth=25, max_features=auto, max_leaf_nodes=20, min_samples_leaf=3, splitter=best;, score=-0.022 total time=   0.0s\n[CV 2/3] END max_depth=25, max_features=auto, max_leaf_nodes=20, min_samples_leaf=3, splitter=best;, score=-0.019 total time=   0.0s\n[CV 3/3] END max_depth=25, max_features=auto, max_leaf_nodes=20, min_samples_leaf=3, splitter=best;, score=-0.014 total time=   0.0s\n[CV 1/3] END max_depth=25, max_features=auto, max_leaf_nodes=20, min_samples_leaf=3, splitter=random;, score=-0.026 total time=   0.0s\n[CV 2/3] END max_depth=25, max_features=auto, max_leaf_nodes=20, min_samples_leaf=3, splitter=random;, score=-0.023 total time=   0.0s\n[CV 3/3] END max_depth=25, max_features=auto, max_leaf_nodes=20, min_samples_leaf=3, splitter=random;, score=-0.014 total time=   0.0s\n[CV 1/3] END max_depth=25, max_features=auto, max_leaf_nodes=20, min_samples_leaf=4, splitter=best;, score=-0.022 total time=   0.0s\n[CV 2/3] END max_depth=25, max_features=auto, max_leaf_nodes=20, min_samples_leaf=4, splitter=best;, score=-0.019 total time=   0.0s\n[CV 3/3] END max_depth=25, max_features=auto, max_leaf_nodes=20, min_samples_leaf=4, splitter=best;, score=-0.014 total time=   0.0s\n[CV 1/3] END max_depth=25, max_features=auto, max_leaf_nodes=20, min_samples_leaf=4, splitter=random;, score=-0.019 total time=   0.0s\n[CV 2/3] END max_depth=25, max_features=auto, max_leaf_nodes=20, min_samples_leaf=4, splitter=random;, score=-0.022 total time=   0.0s\n[CV 3/3] END max_depth=25, max_features=auto, max_leaf_nodes=20, min_samples_leaf=4, splitter=random;, score=-0.016 total time=   0.0s\n[CV 1/3] END max_depth=25, max_features=auto, max_leaf_nodes=20, min_samples_leaf=5, splitter=best;, score=-0.021 total time=   0.0s\n[CV 2/3] END max_depth=25, max_features=auto, max_leaf_nodes=20, min_samples_leaf=5, splitter=best;, score=-0.019 total time=   0.0s\n[CV 3/3] END max_depth=25, max_features=auto, max_leaf_nodes=20, min_samples_leaf=5, splitter=best;, score=-0.015 total time=   0.0s\n[CV 1/3] END max_depth=25, max_features=auto, max_leaf_nodes=20, min_samples_leaf=5, splitter=random;, score=-0.019 total time=   0.0s\n[CV 2/3] END max_depth=25, max_features=auto, max_leaf_nodes=20, min_samples_leaf=5, splitter=random;, score=-0.019 total time=   0.0s\n[CV 3/3] END max_depth=25, max_features=auto, max_leaf_nodes=20, min_samples_leaf=5, splitter=random;, score=-0.016 total time=   0.0s\n[CV 1/3] END max_depth=25, max_features=auto, max_leaf_nodes=20, min_samples_leaf=6, splitter=best;, score=-0.021 total time=   0.0s\n[CV 2/3] END max_depth=25, max_features=auto, max_leaf_nodes=20, min_samples_leaf=6, splitter=best;, score=-0.019 total time=   0.0s\n[CV 3/3] END max_depth=25, max_features=auto, max_leaf_nodes=20, min_samples_leaf=6, splitter=best;, score=-0.015 total time=   0.0s\n[CV 1/3] END max_depth=25, max_features=auto, max_leaf_nodes=20, min_samples_leaf=6, splitter=random;, score=-0.018 total time=   0.0s\n[CV 2/3] END max_depth=25, max_features=auto, max_leaf_nodes=20, min_samples_leaf=6, splitter=random;, score=-0.019 total time=   0.0s\n[CV 3/3] END max_depth=25, max_features=auto, max_leaf_nodes=20, min_samples_leaf=6, splitter=random;, score=-0.015 total time=   0.0s\n[CV 1/3] END max_depth=25, max_features=auto, max_leaf_nodes=20, min_samples_leaf=7, splitter=best;, score=-0.022 total time=   0.0s\n[CV 2/3] END max_depth=25, max_features=auto, max_leaf_nodes=20, min_samples_leaf=7, splitter=best;, score=-0.019 total time=   0.0s\n[CV 3/3] END max_depth=25, max_features=auto, max_leaf_nodes=20, min_samples_leaf=7, splitter=best;, score=-0.015 total time=   0.0s\n[CV 1/3] END max_depth=25, max_features=auto, max_leaf_nodes=20, min_samples_leaf=7, splitter=random;, score=-0.019 total time=   0.0s\n[CV 2/3] END max_depth=25, max_features=auto, max_leaf_nodes=20, min_samples_leaf=7, splitter=random;, score=-0.018 total time=   0.0s\n[CV 3/3] END max_depth=25, max_features=auto, max_leaf_nodes=20, min_samples_leaf=7, splitter=random;, score=-0.013 total time=   0.0s\n[CV 1/3] END max_depth=25, max_features=auto, max_leaf_nodes=20, min_samples_leaf=8, splitter=best;, score=-0.021 total time=   0.0s\n[CV 2/3] END max_depth=25, max_features=auto, max_leaf_nodes=20, min_samples_leaf=8, splitter=best;, score=-0.021 total time=   0.0s\n[CV 3/3] END max_depth=25, max_features=auto, max_leaf_nodes=20, min_samples_leaf=8, splitter=best;, score=-0.015 total time=   0.0s\n[CV 1/3] END max_depth=25, max_features=auto, max_leaf_nodes=20, min_samples_leaf=8, splitter=random;, score=-0.026 total time=   0.0s\n[CV 2/3] END max_depth=25, max_features=auto, max_leaf_nodes=20, min_samples_leaf=8, splitter=random;, score=-0.019 total time=   0.0s\n[CV 3/3] END max_depth=25, max_features=auto, max_leaf_nodes=20, min_samples_leaf=8, splitter=random;, score=-0.016 total time=   0.0s\n[CV 1/3] END max_depth=25, max_features=auto, max_leaf_nodes=20, min_samples_leaf=9, splitter=best;, score=-0.020 total time=   0.0s\n[CV 2/3] END max_depth=25, max_features=auto, max_leaf_nodes=20, min_samples_leaf=9, splitter=best;, score=-0.021 total time=   0.0s\n[CV 3/3] END max_depth=25, max_features=auto, max_leaf_nodes=20, min_samples_leaf=9, splitter=best;, score=-0.015 total time=   0.0s\n[CV 1/3] END max_depth=25, max_features=auto, max_leaf_nodes=20, min_samples_leaf=9, splitter=random;, score=-0.019 total time=   0.0s\n[CV 2/3] END max_depth=25, max_features=auto, max_leaf_nodes=20, min_samples_leaf=9, splitter=random;, score=-0.019 total time=   0.0s\n[CV 3/3] END max_depth=25, max_features=auto, max_leaf_nodes=20, min_samples_leaf=9, splitter=random;, score=-0.017 total time=   0.0s\n[CV 1/3] END max_depth=25, max_features=auto, max_leaf_nodes=20, min_samples_leaf=10, splitter=best;, score=-0.020 total time=   0.0s\n[CV 2/3] END max_depth=25, max_features=auto, max_leaf_nodes=20, min_samples_leaf=10, splitter=best;, score=-0.021 total time=   0.0s\n[CV 3/3] END max_depth=25, max_features=auto, max_leaf_nodes=20, min_samples_leaf=10, splitter=best;, score=-0.015 total time=   0.0s\n[CV 1/3] END max_depth=25, max_features=auto, max_leaf_nodes=20, min_samples_leaf=10, splitter=random;, score=-0.020 total time=   0.0s\n[CV 2/3] END max_depth=25, max_features=auto, max_leaf_nodes=20, min_samples_leaf=10, splitter=random;, score=-0.019 total time=   0.0s\n[CV 3/3] END max_depth=25, max_features=auto, max_leaf_nodes=20, min_samples_leaf=10, splitter=random;, score=-0.013 total time=   0.0s\n[CV 1/3] END max_depth=25, max_features=auto, max_leaf_nodes=30, min_samples_leaf=1, splitter=best;, score=-0.026 total time=   0.0s\n[CV 2/3] END max_depth=25, max_features=auto, max_leaf_nodes=30, min_samples_leaf=1, splitter=best;, score=-0.020 total time=   0.0s\n[CV 3/3] END max_depth=25, max_features=auto, max_leaf_nodes=30, min_samples_leaf=1, splitter=best;, score=-0.018 total time=   0.0s\n[CV 1/3] END max_depth=25, max_features=auto, max_leaf_nodes=30, min_samples_leaf=1, splitter=random;, score=-0.021 total time=   0.0s\n[CV 2/3] END max_depth=25, max_features=auto, max_leaf_nodes=30, min_samples_leaf=1, splitter=random;, score=-0.021 total time=   0.0s\n[CV 3/3] END max_depth=25, max_features=auto, max_leaf_nodes=30, min_samples_leaf=1, splitter=random;, score=-0.014 total time=   0.0s\n[CV 1/3] END max_depth=25, max_features=auto, max_leaf_nodes=30, min_samples_leaf=2, splitter=best;, score=-0.023 total time=   0.0s\n[CV 2/3] END max_depth=25, max_features=auto, max_leaf_nodes=30, min_samples_leaf=2, splitter=best;, score=-0.019 total time=   0.0s\n[CV 3/3] END max_depth=25, max_features=auto, max_leaf_nodes=30, min_samples_leaf=2, splitter=best;, score=-0.018 total time=   0.0s\n[CV 1/3] END max_depth=25, max_features=auto, max_leaf_nodes=30, min_samples_leaf=2, splitter=random;, score=-0.023 total time=   0.0s\n[CV 2/3] END max_depth=25, max_features=auto, max_leaf_nodes=30, min_samples_leaf=2, splitter=random;, score=-0.020 total time=   0.0s\n[CV 3/3] END max_depth=25, max_features=auto, max_leaf_nodes=30, min_samples_leaf=2, splitter=random;, score=-0.015 total time=   0.0s\n[CV 1/3] END max_depth=25, max_features=auto, max_leaf_nodes=30, min_samples_leaf=3, splitter=best;, score=-0.022 total time=   0.0s\n[CV 2/3] END max_depth=25, max_features=auto, max_leaf_nodes=30, min_samples_leaf=3, splitter=best;, score=-0.019 total time=   0.0s\n[CV 3/3] END max_depth=25, max_features=auto, max_leaf_nodes=30, min_samples_leaf=3, splitter=best;, score=-0.017 total time=   0.0s\n[CV 1/3] END max_depth=25, max_features=auto, max_leaf_nodes=30, min_samples_leaf=3, splitter=random;, score=-0.024 total time=   0.0s\n[CV 2/3] END max_depth=25, max_features=auto, max_leaf_nodes=30, min_samples_leaf=3, splitter=random;, score=-0.019 total time=   0.0s\n[CV 3/3] END max_depth=25, max_features=auto, max_leaf_nodes=30, min_samples_leaf=3, splitter=random;, score=-0.018 total time=   0.0s\n[CV 1/3] END max_depth=25, max_features=auto, max_leaf_nodes=30, min_samples_leaf=4, splitter=best;, score=-0.023 total time=   0.0s\n[CV 2/3] END max_depth=25, max_features=auto, max_leaf_nodes=30, min_samples_leaf=4, splitter=best;, score=-0.021 total time=   0.0s\n[CV 3/3] END max_depth=25, max_features=auto, max_leaf_nodes=30, min_samples_leaf=4, splitter=best;, score=-0.017 total time=   0.0s\n[CV 1/3] END max_depth=25, max_features=auto, max_leaf_nodes=30, min_samples_leaf=4, splitter=random;, score=-0.025 total time=   0.0s\n[CV 2/3] END max_depth=25, max_features=auto, max_leaf_nodes=30, min_samples_leaf=4, splitter=random;, score=-0.020 total time=   0.0s\n[CV 3/3] END max_depth=25, max_features=auto, max_leaf_nodes=30, min_samples_leaf=4, splitter=random;, score=-0.016 total time=   0.0s\n[CV 1/3] END max_depth=25, max_features=auto, max_leaf_nodes=30, min_samples_leaf=5, splitter=best;, score=-0.025 total time=   0.0s\n[CV 2/3] END max_depth=25, max_features=auto, max_leaf_nodes=30, min_samples_leaf=5, splitter=best;, score=-0.021 total time=   0.0s\n[CV 3/3] END max_depth=25, max_features=auto, max_leaf_nodes=30, min_samples_leaf=5, splitter=best;, score=-0.016 total time=   0.0s\n[CV 1/3] END max_depth=25, max_features=auto, max_leaf_nodes=30, min_samples_leaf=5, splitter=random;, score=-0.023 total time=   0.0s\n[CV 2/3] END max_depth=25, max_features=auto, max_leaf_nodes=30, min_samples_leaf=5, splitter=random;, score=-0.021 total time=   0.0s\n[CV 3/3] END max_depth=25, max_features=auto, max_leaf_nodes=30, min_samples_leaf=5, splitter=random;, score=-0.017 total time=   0.0s\n[CV 1/3] END max_depth=25, max_features=auto, max_leaf_nodes=30, min_samples_leaf=6, splitter=best;, score=-0.025 total time=   0.0s\n[CV 2/3] END max_depth=25, max_features=auto, max_leaf_nodes=30, min_samples_leaf=6, splitter=best;, score=-0.020 total time=   0.0s\n[CV 3/3] END max_depth=25, max_features=auto, max_leaf_nodes=30, min_samples_leaf=6, splitter=best;, score=-0.015 total time=   0.0s\n[CV 1/3] END max_depth=25, max_features=auto, max_leaf_nodes=30, min_samples_leaf=6, splitter=random;, score=-0.022 total time=   0.0s\n[CV 2/3] END max_depth=25, max_features=auto, max_leaf_nodes=30, min_samples_leaf=6, splitter=random;, score=-0.020 total time=   0.0s\n[CV 3/3] END max_depth=25, max_features=auto, max_leaf_nodes=30, min_samples_leaf=6, splitter=random;, score=-0.014 total time=   0.0s\n[CV 1/3] END max_depth=25, max_features=auto, max_leaf_nodes=30, min_samples_leaf=7, splitter=best;, score=-0.023 total time=   0.0s\n[CV 2/3] END max_depth=25, max_features=auto, max_leaf_nodes=30, min_samples_leaf=7, splitter=best;, score=-0.020 total time=   0.0s\n[CV 3/3] END max_depth=25, max_features=auto, max_leaf_nodes=30, min_samples_leaf=7, splitter=best;, score=-0.015 total time=   0.0s\n[CV 1/3] END max_depth=25, max_features=auto, max_leaf_nodes=30, min_samples_leaf=7, splitter=random;, score=-0.017 total time=   0.0s\n[CV 2/3] END max_depth=25, max_features=auto, max_leaf_nodes=30, min_samples_leaf=7, splitter=random;, score=-0.020 total time=   0.0s\n[CV 3/3] END max_depth=25, max_features=auto, max_leaf_nodes=30, min_samples_leaf=7, splitter=random;, score=-0.016 total time=   0.0s\n[CV 1/3] END max_depth=25, max_features=auto, max_leaf_nodes=30, min_samples_leaf=8, splitter=best;, score=-0.022 total time=   0.0s\n[CV 2/3] END max_depth=25, max_features=auto, max_leaf_nodes=30, min_samples_leaf=8, splitter=best;, score=-0.022 total time=   0.0s\n[CV 3/3] END max_depth=25, max_features=auto, max_leaf_nodes=30, min_samples_leaf=8, splitter=best;, score=-0.015 total time=   0.0s\n[CV 1/3] END max_depth=25, max_features=auto, max_leaf_nodes=30, min_samples_leaf=8, splitter=random;, score=-0.019 total time=   0.0s\n[CV 2/3] END max_depth=25, max_features=auto, max_leaf_nodes=30, min_samples_leaf=8, splitter=random;, score=-0.020 total time=   0.0s\n[CV 3/3] END max_depth=25, max_features=auto, max_leaf_nodes=30, min_samples_leaf=8, splitter=random;, score=-0.014 total time=   0.0s\n[CV 1/3] END max_depth=25, max_features=auto, max_leaf_nodes=30, min_samples_leaf=9, splitter=best;, score=-0.020 total time=   0.0s\n[CV 2/3] END max_depth=25, max_features=auto, max_leaf_nodes=30, min_samples_leaf=9, splitter=best;, score=-0.022 total time=   0.0s\n[CV 3/3] END max_depth=25, max_features=auto, max_leaf_nodes=30, min_samples_leaf=9, splitter=best;, score=-0.015 total time=   0.0s\n[CV 1/3] END max_depth=25, max_features=auto, max_leaf_nodes=30, min_samples_leaf=9, splitter=random;, score=-0.021 total time=   0.0s\n[CV 2/3] END max_depth=25, max_features=auto, max_leaf_nodes=30, min_samples_leaf=9, splitter=random;, score=-0.022 total time=   0.0s\n[CV 3/3] END max_depth=25, max_features=auto, max_leaf_nodes=30, min_samples_leaf=9, splitter=random;, score=-0.013 total time=   0.0s\n[CV 1/3] END max_depth=25, max_features=auto, max_leaf_nodes=30, min_samples_leaf=10, splitter=best;, score=-0.020 total time=   0.0s\n[CV 2/3] END max_depth=25, max_features=auto, max_leaf_nodes=30, min_samples_leaf=10, splitter=best;, score=-0.022 total time=   0.0s\n[CV 3/3] END max_depth=25, max_features=auto, max_leaf_nodes=30, min_samples_leaf=10, splitter=best;, score=-0.015 total time=   0.0s\n[CV 1/3] END max_depth=25, max_features=auto, max_leaf_nodes=30, min_samples_leaf=10, splitter=random;, score=-0.020 total time=   0.0s\n[CV 2/3] END max_depth=25, max_features=auto, max_leaf_nodes=30, min_samples_leaf=10, splitter=random;, score=-0.018 total time=   0.0s\n[CV 3/3] END max_depth=25, max_features=auto, max_leaf_nodes=30, min_samples_leaf=10, splitter=random;, score=-0.016 total time=   0.0s\n[CV 1/3] END max_depth=25, max_features=log2, max_leaf_nodes=None, min_samples_leaf=1, splitter=best;, score=-0.035 total time=   0.0s\n[CV 2/3] END max_depth=25, max_features=log2, max_leaf_nodes=None, min_samples_leaf=1, splitter=best;, score=-0.028 total time=   0.0s\n[CV 3/3] END max_depth=25, max_features=log2, max_leaf_nodes=None, min_samples_leaf=1, splitter=best;, score=-0.034 total time=   0.0s\n[CV 1/3] END max_depth=25, max_features=log2, max_leaf_nodes=None, min_samples_leaf=1, splitter=random;, score=-0.034 total time=   0.0s\n[CV 2/3] END max_depth=25, max_features=log2, max_leaf_nodes=None, min_samples_leaf=1, splitter=random;, score=-0.033 total time=   0.0s\n[CV 3/3] END max_depth=25, max_features=log2, max_leaf_nodes=None, min_samples_leaf=1, splitter=random;, score=-0.036 total time=   0.0s\n[CV 1/3] END max_depth=25, max_features=log2, max_leaf_nodes=None, min_samples_leaf=2, splitter=best;, score=-0.035 total time=   0.0s\n[CV 2/3] END max_depth=25, max_features=log2, max_leaf_nodes=None, min_samples_leaf=2, splitter=best;, score=-0.028 total time=   0.0s\n[CV 3/3] END max_depth=25, max_features=log2, max_leaf_nodes=None, min_samples_leaf=2, splitter=best;, score=-0.025 total time=   0.0s\n[CV 1/3] END max_depth=25, max_features=log2, max_leaf_nodes=None, min_samples_leaf=2, splitter=random;, score=-0.027 total time=   0.0s\n[CV 2/3] END max_depth=25, max_features=log2, max_leaf_nodes=None, min_samples_leaf=2, splitter=random;, score=-0.023 total time=   0.0s\n[CV 3/3] END max_depth=25, max_features=log2, max_leaf_nodes=None, min_samples_leaf=2, splitter=random;, score=-0.024 total time=   0.0s\n[CV 1/3] END max_depth=25, max_features=log2, max_leaf_nodes=None, min_samples_leaf=3, splitter=best;, score=-0.029 total time=   0.0s\n[CV 2/3] END max_depth=25, max_features=log2, max_leaf_nodes=None, min_samples_leaf=3, splitter=best;, score=-0.026 total time=   0.0s\n[CV 3/3] END max_depth=25, max_features=log2, max_leaf_nodes=None, min_samples_leaf=3, splitter=best;, score=-0.026 total time=   0.0s\n[CV 1/3] END max_depth=25, max_features=log2, max_leaf_nodes=None, min_samples_leaf=3, splitter=random;, score=-0.031 total time=   0.0s\n[CV 2/3] END max_depth=25, max_features=log2, max_leaf_nodes=None, min_samples_leaf=3, splitter=random;, score=-0.020 total time=   0.0s\n[CV 3/3] END max_depth=25, max_features=log2, max_leaf_nodes=None, min_samples_leaf=3, splitter=random;, score=-0.019 total time=   0.0s\n[CV 1/3] END max_depth=25, max_features=log2, max_leaf_nodes=None, min_samples_leaf=4, splitter=best;, score=-0.024 total time=   0.0s\n[CV 2/3] END max_depth=25, max_features=log2, max_leaf_nodes=None, min_samples_leaf=4, splitter=best;, score=-0.025 total time=   0.0s\n[CV 3/3] END max_depth=25, max_features=log2, max_leaf_nodes=None, min_samples_leaf=4, splitter=best;, score=-0.021 total time=   0.0s\n[CV 1/3] END max_depth=25, max_features=log2, max_leaf_nodes=None, min_samples_leaf=4, splitter=random;, score=-0.024 total time=   0.0s\n[CV 2/3] END max_depth=25, max_features=log2, max_leaf_nodes=None, min_samples_leaf=4, splitter=random;, score=-0.022 total time=   0.0s\n[CV 3/3] END max_depth=25, max_features=log2, max_leaf_nodes=None, min_samples_leaf=4, splitter=random;, score=-0.018 total time=   0.0s\n[CV 1/3] END max_depth=25, max_features=log2, max_leaf_nodes=None, min_samples_leaf=5, splitter=best;, score=-0.023 total time=   0.0s\n[CV 2/3] END max_depth=25, max_features=log2, max_leaf_nodes=None, min_samples_leaf=5, splitter=best;, score=-0.025 total time=   0.0s\n[CV 3/3] END max_depth=25, max_features=log2, max_leaf_nodes=None, min_samples_leaf=5, splitter=best;, score=-0.018 total time=   0.0s\n[CV 1/3] END max_depth=25, max_features=log2, max_leaf_nodes=None, min_samples_leaf=5, splitter=random;, score=-0.025 total time=   0.0s\n[CV 2/3] END max_depth=25, max_features=log2, max_leaf_nodes=None, min_samples_leaf=5, splitter=random;, score=-0.020 total time=   0.0s\n[CV 3/3] END max_depth=25, max_features=log2, max_leaf_nodes=None, min_samples_leaf=5, splitter=random;, score=-0.016 total time=   0.0s\n[CV 1/3] END max_depth=25, max_features=log2, max_leaf_nodes=None, min_samples_leaf=6, splitter=best;, score=-0.025 total time=   0.0s\n[CV 2/3] END max_depth=25, max_features=log2, max_leaf_nodes=None, min_samples_leaf=6, splitter=best;, score=-0.022 total time=   0.0s\n[CV 3/3] END max_depth=25, max_features=log2, max_leaf_nodes=None, min_samples_leaf=6, splitter=best;, score=-0.024 total time=   0.0s\n[CV 1/3] END max_depth=25, max_features=log2, max_leaf_nodes=None, min_samples_leaf=6, splitter=random;, score=-0.025 total time=   0.0s\n[CV 2/3] END max_depth=25, max_features=log2, max_leaf_nodes=None, min_samples_leaf=6, splitter=random;, score=-0.022 total time=   0.0s\n[CV 3/3] END max_depth=25, max_features=log2, max_leaf_nodes=None, min_samples_leaf=6, splitter=random;, score=-0.017 total time=   0.0s\n[CV 1/3] END max_depth=25, max_features=log2, max_leaf_nodes=None, min_samples_leaf=7, splitter=best;, score=-0.023 total time=   0.0s\n[CV 2/3] END max_depth=25, max_features=log2, max_leaf_nodes=None, min_samples_leaf=7, splitter=best;, score=-0.029 total time=   0.0s\n[CV 3/3] END max_depth=25, max_features=log2, max_leaf_nodes=None, min_samples_leaf=7, splitter=best;, score=-0.018 total time=   0.0s\n[CV 1/3] END max_depth=25, max_features=log2, max_leaf_nodes=None, min_samples_leaf=7, splitter=random;, score=-0.023 total time=   0.0s\n[CV 2/3] END max_depth=25, max_features=log2, max_leaf_nodes=None, min_samples_leaf=7, splitter=random;, score=-0.018 total time=   0.0s\n[CV 3/3] END max_depth=25, max_features=log2, max_leaf_nodes=None, min_samples_leaf=7, splitter=random;, score=-0.016 total time=   0.0s\n[CV 1/3] END max_depth=25, max_features=log2, max_leaf_nodes=None, min_samples_leaf=8, splitter=best;, score=-0.026 total time=   0.0s\n[CV 2/3] END max_depth=25, max_features=log2, max_leaf_nodes=None, min_samples_leaf=8, splitter=best;, score=-0.021 total time=   0.0s\n[CV 3/3] END max_depth=25, max_features=log2, max_leaf_nodes=None, min_samples_leaf=8, splitter=best;, score=-0.020 total time=   0.0s\n[CV 1/3] END max_depth=25, max_features=log2, max_leaf_nodes=None, min_samples_leaf=8, splitter=random;, score=-0.022 total time=   0.0s\n[CV 2/3] END max_depth=25, max_features=log2, max_leaf_nodes=None, min_samples_leaf=8, splitter=random;, score=-0.022 total time=   0.0s\n[CV 3/3] END max_depth=25, max_features=log2, max_leaf_nodes=None, min_samples_leaf=8, splitter=random;, score=-0.019 total time=   0.0s\n[CV 1/3] END max_depth=25, max_features=log2, max_leaf_nodes=None, min_samples_leaf=9, splitter=best;, score=-0.022 total time=   0.0s\n[CV 2/3] END max_depth=25, max_features=log2, max_leaf_nodes=None, min_samples_leaf=9, splitter=best;, score=-0.024 total time=   0.0s\n[CV 3/3] END max_depth=25, max_features=log2, max_leaf_nodes=None, min_samples_leaf=9, splitter=best;, score=-0.019 total time=   0.0s\n[CV 1/3] END max_depth=25, max_features=log2, max_leaf_nodes=None, min_samples_leaf=9, splitter=random;, score=-0.031 total time=   0.0s\n[CV 2/3] END max_depth=25, max_features=log2, max_leaf_nodes=None, min_samples_leaf=9, splitter=random;, score=-0.019 total time=   0.0s\n[CV 3/3] END max_depth=25, max_features=log2, max_leaf_nodes=None, min_samples_leaf=9, splitter=random;, score=-0.019 total time=   0.0s\n[CV 1/3] END max_depth=25, max_features=log2, max_leaf_nodes=None, min_samples_leaf=10, splitter=best;, score=-0.022 total time=   0.0s\n[CV 2/3] END max_depth=25, max_features=log2, max_leaf_nodes=None, min_samples_leaf=10, splitter=best;, score=-0.024 total time=   0.0s\n[CV 3/3] END max_depth=25, max_features=log2, max_leaf_nodes=None, min_samples_leaf=10, splitter=best;, score=-0.017 total time=   0.0s\n[CV 1/3] END max_depth=25, max_features=log2, max_leaf_nodes=None, min_samples_leaf=10, splitter=random;, score=-0.026 total time=   0.0s\n[CV 2/3] END max_depth=25, max_features=log2, max_leaf_nodes=None, min_samples_leaf=10, splitter=random;, score=-0.020 total time=   0.0s\n[CV 3/3] END max_depth=25, max_features=log2, max_leaf_nodes=None, min_samples_leaf=10, splitter=random;, score=-0.017 total time=   0.0s\n[CV 1/3] END max_depth=25, max_features=log2, max_leaf_nodes=10, min_samples_leaf=1, splitter=best;, score=-0.021 total time=   0.0s\n[CV 2/3] END max_depth=25, max_features=log2, max_leaf_nodes=10, min_samples_leaf=1, splitter=best;, score=-0.020 total time=   0.0s\n[CV 3/3] END max_depth=25, max_features=log2, max_leaf_nodes=10, min_samples_leaf=1, splitter=best;, score=-0.019 total time=   0.0s\n[CV 1/3] END max_depth=25, max_features=log2, max_leaf_nodes=10, min_samples_leaf=1, splitter=random;, score=-0.022 total time=   0.0s\n[CV 2/3] END max_depth=25, max_features=log2, max_leaf_nodes=10, min_samples_leaf=1, splitter=random;, score=-0.021 total time=   0.0s\n[CV 3/3] END max_depth=25, max_features=log2, max_leaf_nodes=10, min_samples_leaf=1, splitter=random;, score=-0.017 total time=   0.0s\n[CV 1/3] END max_depth=25, max_features=log2, max_leaf_nodes=10, min_samples_leaf=2, splitter=best;, score=-0.023 total time=   0.0s\n[CV 2/3] END max_depth=25, max_features=log2, max_leaf_nodes=10, min_samples_leaf=2, splitter=best;, score=-0.020 total time=   0.0s\n[CV 3/3] END max_depth=25, max_features=log2, max_leaf_nodes=10, min_samples_leaf=2, splitter=best;, score=-0.015 total time=   0.0s\n[CV 1/3] END max_depth=25, max_features=log2, max_leaf_nodes=10, min_samples_leaf=2, splitter=random;, score=-0.022 total time=   0.0s\n[CV 2/3] END max_depth=25, max_features=log2, max_leaf_nodes=10, min_samples_leaf=2, splitter=random;, score=-0.020 total time=   0.0s\n[CV 3/3] END max_depth=25, max_features=log2, max_leaf_nodes=10, min_samples_leaf=2, splitter=random;, score=-0.018 total time=   0.0s\n[CV 1/3] END max_depth=25, max_features=log2, max_leaf_nodes=10, min_samples_leaf=3, splitter=best;, score=-0.020 total time=   0.0s\n[CV 2/3] END max_depth=25, max_features=log2, max_leaf_nodes=10, min_samples_leaf=3, splitter=best;, score=-0.020 total time=   0.0s\n[CV 3/3] END max_depth=25, max_features=log2, max_leaf_nodes=10, min_samples_leaf=3, splitter=best;, score=-0.014 total time=   0.0s\n[CV 1/3] END max_depth=25, max_features=log2, max_leaf_nodes=10, min_samples_leaf=3, splitter=random;, score=-0.025 total time=   0.0s\n[CV 2/3] END max_depth=25, max_features=log2, max_leaf_nodes=10, min_samples_leaf=3, splitter=random;, score=-0.022 total time=   0.0s\n[CV 3/3] END max_depth=25, max_features=log2, max_leaf_nodes=10, min_samples_leaf=3, splitter=random;, score=-0.019 total time=   0.0s\n[CV 1/3] END max_depth=25, max_features=log2, max_leaf_nodes=10, min_samples_leaf=4, splitter=best;, score=-0.020 total time=   0.0s\n[CV 2/3] END max_depth=25, max_features=log2, max_leaf_nodes=10, min_samples_leaf=4, splitter=best;, score=-0.020 total time=   0.0s\n[CV 3/3] END max_depth=25, max_features=log2, max_leaf_nodes=10, min_samples_leaf=4, splitter=best;, score=-0.015 total time=   0.0s\n[CV 1/3] END max_depth=25, max_features=log2, max_leaf_nodes=10, min_samples_leaf=4, splitter=random;, score=-0.021 total time=   0.0s\n[CV 2/3] END max_depth=25, max_features=log2, max_leaf_nodes=10, min_samples_leaf=4, splitter=random;, score=-0.021 total time=   0.0s\n[CV 3/3] END max_depth=25, max_features=log2, max_leaf_nodes=10, min_samples_leaf=4, splitter=random;, score=-0.017 total time=   0.0s\n[CV 1/3] END max_depth=25, max_features=log2, max_leaf_nodes=10, min_samples_leaf=5, splitter=best;, score=-0.022 total time=   0.0s\n[CV 2/3] END max_depth=25, max_features=log2, max_leaf_nodes=10, min_samples_leaf=5, splitter=best;, score=-0.019 total time=   0.0s\n[CV 3/3] END max_depth=25, max_features=log2, max_leaf_nodes=10, min_samples_leaf=5, splitter=best;, score=-0.013 total time=   0.0s\n[CV 1/3] END max_depth=25, max_features=log2, max_leaf_nodes=10, min_samples_leaf=5, splitter=random;, score=-0.026 total time=   0.0s\n[CV 2/3] END max_depth=25, max_features=log2, max_leaf_nodes=10, min_samples_leaf=5, splitter=random;, score=-0.021 total time=   0.0s\n[CV 3/3] END max_depth=25, max_features=log2, max_leaf_nodes=10, min_samples_leaf=5, splitter=random;, score=-0.017 total time=   0.0s\n[CV 1/3] END max_depth=25, max_features=log2, max_leaf_nodes=10, min_samples_leaf=6, splitter=best;, score=-0.021 total time=   0.0s\n[CV 2/3] END max_depth=25, max_features=log2, max_leaf_nodes=10, min_samples_leaf=6, splitter=best;, score=-0.020 total time=   0.0s\n[CV 3/3] END max_depth=25, max_features=log2, max_leaf_nodes=10, min_samples_leaf=6, splitter=best;, score=-0.018 total time=   0.0s\n[CV 1/3] END max_depth=25, max_features=log2, max_leaf_nodes=10, min_samples_leaf=6, splitter=random;, score=-0.023 total time=   0.0s\n[CV 2/3] END max_depth=25, max_features=log2, max_leaf_nodes=10, min_samples_leaf=6, splitter=random;, score=-0.019 total time=   0.0s\n[CV 3/3] END max_depth=25, max_features=log2, max_leaf_nodes=10, min_samples_leaf=6, splitter=random;, score=-0.016 total time=   0.0s\n[CV 1/3] END max_depth=25, max_features=log2, max_leaf_nodes=10, min_samples_leaf=7, splitter=best;, score=-0.020 total time=   0.0s\n[CV 2/3] END max_depth=25, max_features=log2, max_leaf_nodes=10, min_samples_leaf=7, splitter=best;, score=-0.021 total time=   0.0s\n[CV 3/3] END max_depth=25, max_features=log2, max_leaf_nodes=10, min_samples_leaf=7, splitter=best;, score=-0.018 total time=   0.0s\n[CV 1/3] END max_depth=25, max_features=log2, max_leaf_nodes=10, min_samples_leaf=7, splitter=random;, score=-0.023 total time=   0.0s\n[CV 2/3] END max_depth=25, max_features=log2, max_leaf_nodes=10, min_samples_leaf=7, splitter=random;, score=-0.020 total time=   0.0s\n[CV 3/3] END max_depth=25, max_features=log2, max_leaf_nodes=10, min_samples_leaf=7, splitter=random;, score=-0.018 total time=   0.0s\n[CV 1/3] END max_depth=25, max_features=log2, max_leaf_nodes=10, min_samples_leaf=8, splitter=best;, score=-0.020 total time=   0.0s\n[CV 2/3] END max_depth=25, max_features=log2, max_leaf_nodes=10, min_samples_leaf=8, splitter=best;, score=-0.019 total time=   0.0s\n[CV 3/3] END max_depth=25, max_features=log2, max_leaf_nodes=10, min_samples_leaf=8, splitter=best;, score=-0.013 total time=   0.0s\n[CV 1/3] END max_depth=25, max_features=log2, max_leaf_nodes=10, min_samples_leaf=8, splitter=random;, score=-0.023 total time=   0.0s\n[CV 2/3] END max_depth=25, max_features=log2, max_leaf_nodes=10, min_samples_leaf=8, splitter=random;, score=-0.020 total time=   0.0s\n[CV 3/3] END max_depth=25, max_features=log2, max_leaf_nodes=10, min_samples_leaf=8, splitter=random;, score=-0.018 total time=   0.0s\n[CV 1/3] END max_depth=25, max_features=log2, max_leaf_nodes=10, min_samples_leaf=9, splitter=best;, score=-0.023 total time=   0.0s\n[CV 2/3] END max_depth=25, max_features=log2, max_leaf_nodes=10, min_samples_leaf=9, splitter=best;, score=-0.020 total time=   0.0s\n[CV 3/3] END max_depth=25, max_features=log2, max_leaf_nodes=10, min_samples_leaf=9, splitter=best;, score=-0.017 total time=   0.0s\n[CV 1/3] END max_depth=25, max_features=log2, max_leaf_nodes=10, min_samples_leaf=9, splitter=random;, score=-0.023 total time=   0.0s\n[CV 2/3] END max_depth=25, max_features=log2, max_leaf_nodes=10, min_samples_leaf=9, splitter=random;, score=-0.021 total time=   0.0s\n[CV 3/3] END max_depth=25, max_features=log2, max_leaf_nodes=10, min_samples_leaf=9, splitter=random;, score=-0.022 total time=   0.0s\n[CV 1/3] END max_depth=25, max_features=log2, max_leaf_nodes=10, min_samples_leaf=10, splitter=best;, score=-0.021 total time=   0.0s\n[CV 2/3] END max_depth=25, max_features=log2, max_leaf_nodes=10, min_samples_leaf=10, splitter=best;, score=-0.020 total time=   0.0s\n[CV 3/3] END max_depth=25, max_features=log2, max_leaf_nodes=10, min_samples_leaf=10, splitter=best;, score=-0.014 total time=   0.0s\n[CV 1/3] END max_depth=25, max_features=log2, max_leaf_nodes=10, min_samples_leaf=10, splitter=random;, score=-0.023 total time=   0.0s\n[CV 2/3] END max_depth=25, max_features=log2, max_leaf_nodes=10, min_samples_leaf=10, splitter=random;, score=-0.021 total time=   0.0s\n[CV 3/3] END max_depth=25, max_features=log2, max_leaf_nodes=10, min_samples_leaf=10, splitter=random;, score=-0.015 total time=   0.0s\n[CV 1/3] END max_depth=25, max_features=log2, max_leaf_nodes=20, min_samples_leaf=1, splitter=best;, score=-0.023 total time=   0.0s\n[CV 2/3] END max_depth=25, max_features=log2, max_leaf_nodes=20, min_samples_leaf=1, splitter=best;, score=-0.021 total time=   0.0s\n[CV 3/3] END max_depth=25, max_features=log2, max_leaf_nodes=20, min_samples_leaf=1, splitter=best;, score=-0.020 total time=   0.0s\n[CV 1/3] END max_depth=25, max_features=log2, max_leaf_nodes=20, min_samples_leaf=1, splitter=random;, score=-0.033 total time=   0.0s\n[CV 2/3] END max_depth=25, max_features=log2, max_leaf_nodes=20, min_samples_leaf=1, splitter=random;, score=-0.022 total time=   0.0s\n[CV 3/3] END max_depth=25, max_features=log2, max_leaf_nodes=20, min_samples_leaf=1, splitter=random;, score=-0.020 total time=   0.0s\n[CV 1/3] END max_depth=25, max_features=log2, max_leaf_nodes=20, min_samples_leaf=2, splitter=best;, score=-0.024 total time=   0.0s\n[CV 2/3] END max_depth=25, max_features=log2, max_leaf_nodes=20, min_samples_leaf=2, splitter=best;, score=-0.022 total time=   0.0s\n[CV 3/3] END max_depth=25, max_features=log2, max_leaf_nodes=20, min_samples_leaf=2, splitter=best;, score=-0.018 total time=   0.0s\n[CV 1/3] END max_depth=25, max_features=log2, max_leaf_nodes=20, min_samples_leaf=2, splitter=random;, score=-0.022 total time=   0.0s\n[CV 2/3] END max_depth=25, max_features=log2, max_leaf_nodes=20, min_samples_leaf=2, splitter=random;, score=-0.020 total time=   0.0s\n[CV 3/3] END max_depth=25, max_features=log2, max_leaf_nodes=20, min_samples_leaf=2, splitter=random;, score=-0.018 total time=   0.0s\n[CV 1/3] END max_depth=25, max_features=log2, max_leaf_nodes=20, min_samples_leaf=3, splitter=best;, score=-0.026 total time=   0.0s\n[CV 2/3] END max_depth=25, max_features=log2, max_leaf_nodes=20, min_samples_leaf=3, splitter=best;, score=-0.021 total time=   0.0s\n[CV 3/3] END max_depth=25, max_features=log2, max_leaf_nodes=20, min_samples_leaf=3, splitter=best;, score=-0.015 total time=   0.0s\n[CV 1/3] END max_depth=25, max_features=log2, max_leaf_nodes=20, min_samples_leaf=3, splitter=random;, score=-0.019 total time=   0.0s\n[CV 2/3] END max_depth=25, max_features=log2, max_leaf_nodes=20, min_samples_leaf=3, splitter=random;, score=-0.022 total time=   0.0s\n[CV 3/3] END max_depth=25, max_features=log2, max_leaf_nodes=20, min_samples_leaf=3, splitter=random;, score=-0.020 total time=   0.0s\n[CV 1/3] END max_depth=25, max_features=log2, max_leaf_nodes=20, min_samples_leaf=4, splitter=best;, score=-0.023 total time=   0.0s\n[CV 2/3] END max_depth=25, max_features=log2, max_leaf_nodes=20, min_samples_leaf=4, splitter=best;, score=-0.024 total time=   0.0s\n[CV 3/3] END max_depth=25, max_features=log2, max_leaf_nodes=20, min_samples_leaf=4, splitter=best;, score=-0.014 total time=   0.0s\n[CV 1/3] END max_depth=25, max_features=log2, max_leaf_nodes=20, min_samples_leaf=4, splitter=random;, score=-0.023 total time=   0.0s\n[CV 2/3] END max_depth=25, max_features=log2, max_leaf_nodes=20, min_samples_leaf=4, splitter=random;, score=-0.021 total time=   0.0s\n[CV 3/3] END max_depth=25, max_features=log2, max_leaf_nodes=20, min_samples_leaf=4, splitter=random;, score=-0.018 total time=   0.0s\n[CV 1/3] END max_depth=25, max_features=log2, max_leaf_nodes=20, min_samples_leaf=5, splitter=best;, score=-0.020 total time=   0.0s\n[CV 2/3] END max_depth=25, max_features=log2, max_leaf_nodes=20, min_samples_leaf=5, splitter=best;, score=-0.020 total time=   0.0s\n[CV 3/3] END max_depth=25, max_features=log2, max_leaf_nodes=20, min_samples_leaf=5, splitter=best;, score=-0.015 total time=   0.0s\n[CV 1/3] END max_depth=25, max_features=log2, max_leaf_nodes=20, min_samples_leaf=5, splitter=random;, score=-0.024 total time=   0.0s\n[CV 2/3] END max_depth=25, max_features=log2, max_leaf_nodes=20, min_samples_leaf=5, splitter=random;, score=-0.021 total time=   0.0s\n[CV 3/3] END max_depth=25, max_features=log2, max_leaf_nodes=20, min_samples_leaf=5, splitter=random;, score=-0.018 total time=   0.0s\n[CV 1/3] END max_depth=25, max_features=log2, max_leaf_nodes=20, min_samples_leaf=6, splitter=best;, score=-0.023 total time=   0.0s\n[CV 2/3] END max_depth=25, max_features=log2, max_leaf_nodes=20, min_samples_leaf=6, splitter=best;, score=-0.022 total time=   0.0s\n[CV 3/3] END max_depth=25, max_features=log2, max_leaf_nodes=20, min_samples_leaf=6, splitter=best;, score=-0.018 total time=   0.0s\n[CV 1/3] END max_depth=25, max_features=log2, max_leaf_nodes=20, min_samples_leaf=6, splitter=random;, score=-0.019 total time=   0.0s\n[CV 2/3] END max_depth=25, max_features=log2, max_leaf_nodes=20, min_samples_leaf=6, splitter=random;, score=-0.020 total time=   0.0s\n[CV 3/3] END max_depth=25, max_features=log2, max_leaf_nodes=20, min_samples_leaf=6, splitter=random;, score=-0.023 total time=   0.0s\n[CV 1/3] END max_depth=25, max_features=log2, max_leaf_nodes=20, min_samples_leaf=7, splitter=best;, score=-0.021 total time=   0.0s\n[CV 2/3] END max_depth=25, max_features=log2, max_leaf_nodes=20, min_samples_leaf=7, splitter=best;, score=-0.019 total time=   0.0s\n[CV 3/3] END max_depth=25, max_features=log2, max_leaf_nodes=20, min_samples_leaf=7, splitter=best;, score=-0.018 total time=   0.0s\n[CV 1/3] END max_depth=25, max_features=log2, max_leaf_nodes=20, min_samples_leaf=7, splitter=random;, score=-0.024 total time=   0.0s\n[CV 2/3] END max_depth=25, max_features=log2, max_leaf_nodes=20, min_samples_leaf=7, splitter=random;, score=-0.022 total time=   0.0s\n[CV 3/3] END max_depth=25, max_features=log2, max_leaf_nodes=20, min_samples_leaf=7, splitter=random;, score=-0.018 total time=   0.0s\n[CV 1/3] END max_depth=25, max_features=log2, max_leaf_nodes=20, min_samples_leaf=8, splitter=best;, score=-0.026 total time=   0.0s\n[CV 2/3] END max_depth=25, max_features=log2, max_leaf_nodes=20, min_samples_leaf=8, splitter=best;, score=-0.020 total time=   0.0s\n[CV 3/3] END max_depth=25, max_features=log2, max_leaf_nodes=20, min_samples_leaf=8, splitter=best;, score=-0.014 total time=   0.0s\n[CV 1/3] END max_depth=25, max_features=log2, max_leaf_nodes=20, min_samples_leaf=8, splitter=random;, score=-0.026 total time=   0.0s\n[CV 2/3] END max_depth=25, max_features=log2, max_leaf_nodes=20, min_samples_leaf=8, splitter=random;, score=-0.022 total time=   0.0s\n[CV 3/3] END max_depth=25, max_features=log2, max_leaf_nodes=20, min_samples_leaf=8, splitter=random;, score=-0.018 total time=   0.0s\n[CV 1/3] END max_depth=25, max_features=log2, max_leaf_nodes=20, min_samples_leaf=9, splitter=best;, score=-0.026 total time=   0.0s\n[CV 2/3] END max_depth=25, max_features=log2, max_leaf_nodes=20, min_samples_leaf=9, splitter=best;, score=-0.021 total time=   0.0s\n[CV 3/3] END max_depth=25, max_features=log2, max_leaf_nodes=20, min_samples_leaf=9, splitter=best;, score=-0.014 total time=   0.0s\n[CV 1/3] END max_depth=25, max_features=log2, max_leaf_nodes=20, min_samples_leaf=9, splitter=random;, score=-0.026 total time=   0.0s\n[CV 2/3] END max_depth=25, max_features=log2, max_leaf_nodes=20, min_samples_leaf=9, splitter=random;, score=-0.022 total time=   0.0s\n[CV 3/3] END max_depth=25, max_features=log2, max_leaf_nodes=20, min_samples_leaf=9, splitter=random;, score=-0.015 total time=   0.0s\n[CV 1/3] END max_depth=25, max_features=log2, max_leaf_nodes=20, min_samples_leaf=10, splitter=best;, score=-0.019 total time=   0.0s\n[CV 2/3] END max_depth=25, max_features=log2, max_leaf_nodes=20, min_samples_leaf=10, splitter=best;, score=-0.020 total time=   0.0s\n[CV 3/3] END max_depth=25, max_features=log2, max_leaf_nodes=20, min_samples_leaf=10, splitter=best;, score=-0.014 total time=   0.0s\n[CV 1/3] END max_depth=25, max_features=log2, max_leaf_nodes=20, min_samples_leaf=10, splitter=random;, score=-0.023 total time=   0.0s\n[CV 2/3] END max_depth=25, max_features=log2, max_leaf_nodes=20, min_samples_leaf=10, splitter=random;, score=-0.021 total time=   0.0s\n[CV 3/3] END max_depth=25, max_features=log2, max_leaf_nodes=20, min_samples_leaf=10, splitter=random;, score=-0.019 total time=   0.0s\n[CV 1/3] END max_depth=25, max_features=log2, max_leaf_nodes=30, min_samples_leaf=1, splitter=best;, score=-0.029 total time=   0.0s\n[CV 2/3] END max_depth=25, max_features=log2, max_leaf_nodes=30, min_samples_leaf=1, splitter=best;, score=-0.021 total time=   0.0s\n[CV 3/3] END max_depth=25, max_features=log2, max_leaf_nodes=30, min_samples_leaf=1, splitter=best;, score=-0.016 total time=   0.0s\n[CV 1/3] END max_depth=25, max_features=log2, max_leaf_nodes=30, min_samples_leaf=1, splitter=random;, score=-0.026 total time=   0.0s\n[CV 2/3] END max_depth=25, max_features=log2, max_leaf_nodes=30, min_samples_leaf=1, splitter=random;, score=-0.019 total time=   0.0s\n[CV 3/3] END max_depth=25, max_features=log2, max_leaf_nodes=30, min_samples_leaf=1, splitter=random;, score=-0.021 total time=   0.0s\n[CV 1/3] END max_depth=25, max_features=log2, max_leaf_nodes=30, min_samples_leaf=2, splitter=best;, score=-0.022 total time=   0.0s\n[CV 2/3] END max_depth=25, max_features=log2, max_leaf_nodes=30, min_samples_leaf=2, splitter=best;, score=-0.020 total time=   0.0s\n[CV 3/3] END max_depth=25, max_features=log2, max_leaf_nodes=30, min_samples_leaf=2, splitter=best;, score=-0.015 total time=   0.0s\n[CV 1/3] END max_depth=25, max_features=log2, max_leaf_nodes=30, min_samples_leaf=2, splitter=random;, score=-0.026 total time=   0.0s\n[CV 2/3] END max_depth=25, max_features=log2, max_leaf_nodes=30, min_samples_leaf=2, splitter=random;, score=-0.019 total time=   0.0s\n[CV 3/3] END max_depth=25, max_features=log2, max_leaf_nodes=30, min_samples_leaf=2, splitter=random;, score=-0.019 total time=   0.0s\n[CV 1/3] END max_depth=25, max_features=log2, max_leaf_nodes=30, min_samples_leaf=3, splitter=best;, score=-0.019 total time=   0.0s\n[CV 2/3] END max_depth=25, max_features=log2, max_leaf_nodes=30, min_samples_leaf=3, splitter=best;, score=-0.024 total time=   0.0s\n[CV 3/3] END max_depth=25, max_features=log2, max_leaf_nodes=30, min_samples_leaf=3, splitter=best;, score=-0.019 total time=   0.0s\n[CV 1/3] END max_depth=25, max_features=log2, max_leaf_nodes=30, min_samples_leaf=3, splitter=random;, score=-0.023 total time=   0.0s\n[CV 2/3] END max_depth=25, max_features=log2, max_leaf_nodes=30, min_samples_leaf=3, splitter=random;, score=-0.021 total time=   0.0s\n[CV 3/3] END max_depth=25, max_features=log2, max_leaf_nodes=30, min_samples_leaf=3, splitter=random;, score=-0.018 total time=   0.0s\n[CV 1/3] END max_depth=25, max_features=log2, max_leaf_nodes=30, min_samples_leaf=4, splitter=best;, score=-0.020 total time=   0.0s\n[CV 2/3] END max_depth=25, max_features=log2, max_leaf_nodes=30, min_samples_leaf=4, splitter=best;, score=-0.021 total time=   0.0s\n[CV 3/3] END max_depth=25, max_features=log2, max_leaf_nodes=30, min_samples_leaf=4, splitter=best;, score=-0.016 total time=   0.0s\n[CV 1/3] END max_depth=25, max_features=log2, max_leaf_nodes=30, min_samples_leaf=4, splitter=random;, score=-0.024 total time=   0.0s\n[CV 2/3] END max_depth=25, max_features=log2, max_leaf_nodes=30, min_samples_leaf=4, splitter=random;, score=-0.020 total time=   0.0s\n[CV 3/3] END max_depth=25, max_features=log2, max_leaf_nodes=30, min_samples_leaf=4, splitter=random;, score=-0.017 total time=   0.0s\n[CV 1/3] END max_depth=25, max_features=log2, max_leaf_nodes=30, min_samples_leaf=5, splitter=best;, score=-0.028 total time=   0.0s\n[CV 2/3] END max_depth=25, max_features=log2, max_leaf_nodes=30, min_samples_leaf=5, splitter=best;, score=-0.022 total time=   0.0s\n[CV 3/3] END max_depth=25, max_features=log2, max_leaf_nodes=30, min_samples_leaf=5, splitter=best;, score=-0.015 total time=   0.0s\n[CV 1/3] END max_depth=25, max_features=log2, max_leaf_nodes=30, min_samples_leaf=5, splitter=random;, score=-0.024 total time=   0.0s\n[CV 2/3] END max_depth=25, max_features=log2, max_leaf_nodes=30, min_samples_leaf=5, splitter=random;, score=-0.028 total time=   0.0s\n[CV 3/3] END max_depth=25, max_features=log2, max_leaf_nodes=30, min_samples_leaf=5, splitter=random;, score=-0.021 total time=   0.0s\n[CV 1/3] END max_depth=25, max_features=log2, max_leaf_nodes=30, min_samples_leaf=6, splitter=best;, score=-0.023 total time=   0.0s\n[CV 2/3] END max_depth=25, max_features=log2, max_leaf_nodes=30, min_samples_leaf=6, splitter=best;, score=-0.030 total time=   0.0s\n[CV 3/3] END max_depth=25, max_features=log2, max_leaf_nodes=30, min_samples_leaf=6, splitter=best;, score=-0.024 total time=   0.0s\n[CV 1/3] END max_depth=25, max_features=log2, max_leaf_nodes=30, min_samples_leaf=6, splitter=random;, score=-0.022 total time=   0.0s\n[CV 2/3] END max_depth=25, max_features=log2, max_leaf_nodes=30, min_samples_leaf=6, splitter=random;, score=-0.022 total time=   0.0s\n[CV 3/3] END max_depth=25, max_features=log2, max_leaf_nodes=30, min_samples_leaf=6, splitter=random;, score=-0.018 total time=   0.0s\n[CV 1/3] END max_depth=25, max_features=log2, max_leaf_nodes=30, min_samples_leaf=7, splitter=best;, score=-0.019 total time=   0.0s\n[CV 2/3] END max_depth=25, max_features=log2, max_leaf_nodes=30, min_samples_leaf=7, splitter=best;, score=-0.020 total time=   0.0s\n[CV 3/3] END max_depth=25, max_features=log2, max_leaf_nodes=30, min_samples_leaf=7, splitter=best;, score=-0.015 total time=   0.0s\n[CV 1/3] END max_depth=25, max_features=log2, max_leaf_nodes=30, min_samples_leaf=7, splitter=random;, score=-0.022 total time=   0.0s\n[CV 2/3] END max_depth=25, max_features=log2, max_leaf_nodes=30, min_samples_leaf=7, splitter=random;, score=-0.026 total time=   0.0s\n[CV 3/3] END max_depth=25, max_features=log2, max_leaf_nodes=30, min_samples_leaf=7, splitter=random;, score=-0.020 total time=   0.0s\n[CV 1/3] END max_depth=25, max_features=log2, max_leaf_nodes=30, min_samples_leaf=8, splitter=best;, score=-0.018 total time=   0.0s\n[CV 2/3] END max_depth=25, max_features=log2, max_leaf_nodes=30, min_samples_leaf=8, splitter=best;, score=-0.020 total time=   0.0s\n[CV 3/3] END max_depth=25, max_features=log2, max_leaf_nodes=30, min_samples_leaf=8, splitter=best;, score=-0.014 total time=   0.0s\n[CV 1/3] END max_depth=25, max_features=log2, max_leaf_nodes=30, min_samples_leaf=8, splitter=random;, score=-0.026 total time=   0.0s\n[CV 2/3] END max_depth=25, max_features=log2, max_leaf_nodes=30, min_samples_leaf=8, splitter=random;, score=-0.020 total time=   0.0s\n[CV 3/3] END max_depth=25, max_features=log2, max_leaf_nodes=30, min_samples_leaf=8, splitter=random;, score=-0.018 total time=   0.0s\n[CV 1/3] END max_depth=25, max_features=log2, max_leaf_nodes=30, min_samples_leaf=9, splitter=best;, score=-0.023 total time=   0.0s\n[CV 2/3] END max_depth=25, max_features=log2, max_leaf_nodes=30, min_samples_leaf=9, splitter=best;, score=-0.022 total time=   0.0s\n[CV 3/3] END max_depth=25, max_features=log2, max_leaf_nodes=30, min_samples_leaf=9, splitter=best;, score=-0.015 total time=   0.0s\n[CV 1/3] END max_depth=25, max_features=log2, max_leaf_nodes=30, min_samples_leaf=9, splitter=random;, score=-0.023 total time=   0.0s\n[CV 2/3] END max_depth=25, max_features=log2, max_leaf_nodes=30, min_samples_leaf=9, splitter=random;, score=-0.023 total time=   0.0s\n[CV 3/3] END max_depth=25, max_features=log2, max_leaf_nodes=30, min_samples_leaf=9, splitter=random;, score=-0.017 total time=   0.0s\n[CV 1/3] END max_depth=25, max_features=log2, max_leaf_nodes=30, min_samples_leaf=10, splitter=best;, score=-0.019 total time=   0.0s\n[CV 2/3] END max_depth=25, max_features=log2, max_leaf_nodes=30, min_samples_leaf=10, splitter=best;, score=-0.021 total time=   0.0s\n[CV 3/3] END max_depth=25, max_features=log2, max_leaf_nodes=30, min_samples_leaf=10, splitter=best;, score=-0.019 total time=   0.0s\n[CV 1/3] END max_depth=25, max_features=log2, max_leaf_nodes=30, min_samples_leaf=10, splitter=random;, score=-0.028 total time=   0.0s\n[CV 2/3] END max_depth=25, max_features=log2, max_leaf_nodes=30, min_samples_leaf=10, splitter=random;, score=-0.020 total time=   0.0s\n[CV 3/3] END max_depth=25, max_features=log2, max_leaf_nodes=30, min_samples_leaf=10, splitter=random;, score=-0.016 total time=   0.0s\n[CV 1/3] END max_depth=25, max_features=sqrt, max_leaf_nodes=None, min_samples_leaf=1, splitter=best;, score=-0.044 total time=   0.0s\n[CV 2/3] END max_depth=25, max_features=sqrt, max_leaf_nodes=None, min_samples_leaf=1, splitter=best;, score=-0.036 total time=   0.0s\n[CV 3/3] END max_depth=25, max_features=sqrt, max_leaf_nodes=None, min_samples_leaf=1, splitter=best;, score=-0.025 total time=   0.0s\n[CV 1/3] END max_depth=25, max_features=sqrt, max_leaf_nodes=None, min_samples_leaf=1, splitter=random;, score=-0.035 total time=   0.0s\n[CV 2/3] END max_depth=25, max_features=sqrt, max_leaf_nodes=None, min_samples_leaf=1, splitter=random;, score=-0.033 total time=   0.0s\n[CV 3/3] END max_depth=25, max_features=sqrt, max_leaf_nodes=None, min_samples_leaf=1, splitter=random;, score=-0.036 total time=   0.0s\n[CV 1/3] END max_depth=25, max_features=sqrt, max_leaf_nodes=None, min_samples_leaf=2, splitter=best;, score=-0.032 total time=   0.0s\n[CV 2/3] END max_depth=25, max_features=sqrt, max_leaf_nodes=None, min_samples_leaf=2, splitter=best;, score=-0.031 total time=   0.0s\n[CV 3/3] END max_depth=25, max_features=sqrt, max_leaf_nodes=None, min_samples_leaf=2, splitter=best;, score=-0.018 total time=   0.0s\n[CV 1/3] END max_depth=25, max_features=sqrt, max_leaf_nodes=None, min_samples_leaf=2, splitter=random;, score=-0.029 total time=   0.0s\n[CV 2/3] END max_depth=25, max_features=sqrt, max_leaf_nodes=None, min_samples_leaf=2, splitter=random;, score=-0.024 total time=   0.0s\n[CV 3/3] END max_depth=25, max_features=sqrt, max_leaf_nodes=None, min_samples_leaf=2, splitter=random;, score=-0.020 total time=   0.0s\n[CV 1/3] END max_depth=25, max_features=sqrt, max_leaf_nodes=None, min_samples_leaf=3, splitter=best;, score=-0.027 total time=   0.0s\n[CV 2/3] END max_depth=25, max_features=sqrt, max_leaf_nodes=None, min_samples_leaf=3, splitter=best;, score=-0.024 total time=   0.0s\n[CV 3/3] END max_depth=25, max_features=sqrt, max_leaf_nodes=None, min_samples_leaf=3, splitter=best;, score=-0.020 total time=   0.0s\n[CV 1/3] END max_depth=25, max_features=sqrt, max_leaf_nodes=None, min_samples_leaf=3, splitter=random;, score=-0.026 total time=   0.0s\n[CV 2/3] END max_depth=25, max_features=sqrt, max_leaf_nodes=None, min_samples_leaf=3, splitter=random;, score=-0.024 total time=   0.0s\n[CV 3/3] END max_depth=25, max_features=sqrt, max_leaf_nodes=None, min_samples_leaf=3, splitter=random;, score=-0.018 total time=   0.0s\n[CV 1/3] END max_depth=25, max_features=sqrt, max_leaf_nodes=None, min_samples_leaf=4, splitter=best;, score=-0.028 total time=   0.0s\n[CV 2/3] END max_depth=25, max_features=sqrt, max_leaf_nodes=None, min_samples_leaf=4, splitter=best;, score=-0.026 total time=   0.0s\n[CV 3/3] END max_depth=25, max_features=sqrt, max_leaf_nodes=None, min_samples_leaf=4, splitter=best;, score=-0.022 total time=   0.0s\n[CV 1/3] END max_depth=25, max_features=sqrt, max_leaf_nodes=None, min_samples_leaf=4, splitter=random;, score=-0.027 total time=   0.0s\n[CV 2/3] END max_depth=25, max_features=sqrt, max_leaf_nodes=None, min_samples_leaf=4, splitter=random;, score=-0.023 total time=   0.0s\n[CV 3/3] END max_depth=25, max_features=sqrt, max_leaf_nodes=None, min_samples_leaf=4, splitter=random;, score=-0.024 total time=   0.0s\n[CV 1/3] END max_depth=25, max_features=sqrt, max_leaf_nodes=None, min_samples_leaf=5, splitter=best;, score=-0.029 total time=   0.0s\n[CV 2/3] END max_depth=25, max_features=sqrt, max_leaf_nodes=None, min_samples_leaf=5, splitter=best;, score=-0.026 total time=   0.0s\n[CV 3/3] END max_depth=25, max_features=sqrt, max_leaf_nodes=None, min_samples_leaf=5, splitter=best;, score=-0.016 total time=   0.0s\n[CV 1/3] END max_depth=25, max_features=sqrt, max_leaf_nodes=None, min_samples_leaf=5, splitter=random;, score=-0.023 total time=   0.0s\n[CV 2/3] END max_depth=25, max_features=sqrt, max_leaf_nodes=None, min_samples_leaf=5, splitter=random;, score=-0.021 total time=   0.0s\n[CV 3/3] END max_depth=25, max_features=sqrt, max_leaf_nodes=None, min_samples_leaf=5, splitter=random;, score=-0.018 total time=   0.0s\n[CV 1/3] END max_depth=25, max_features=sqrt, max_leaf_nodes=None, min_samples_leaf=6, splitter=best;, score=-0.020 total time=   0.0s\n[CV 2/3] END max_depth=25, max_features=sqrt, max_leaf_nodes=None, min_samples_leaf=6, splitter=best;, score=-0.023 total time=   0.0s\n[CV 3/3] END max_depth=25, max_features=sqrt, max_leaf_nodes=None, min_samples_leaf=6, splitter=best;, score=-0.018 total time=   0.0s\n[CV 1/3] END max_depth=25, max_features=sqrt, max_leaf_nodes=None, min_samples_leaf=6, splitter=random;, score=-0.017 total time=   0.0s\n[CV 2/3] END max_depth=25, max_features=sqrt, max_leaf_nodes=None, min_samples_leaf=6, splitter=random;, score=-0.021 total time=   0.0s\n[CV 3/3] END max_depth=25, max_features=sqrt, max_leaf_nodes=None, min_samples_leaf=6, splitter=random;, score=-0.017 total time=   0.0s\n[CV 1/3] END max_depth=25, max_features=sqrt, max_leaf_nodes=None, min_samples_leaf=7, splitter=best;, score=-0.019 total time=   0.0s\n[CV 2/3] END max_depth=25, max_features=sqrt, max_leaf_nodes=None, min_samples_leaf=7, splitter=best;, score=-0.023 total time=   0.0s\n[CV 3/3] END max_depth=25, max_features=sqrt, max_leaf_nodes=None, min_samples_leaf=7, splitter=best;, score=-0.017 total time=   0.0s\n[CV 1/3] END max_depth=25, max_features=sqrt, max_leaf_nodes=None, min_samples_leaf=7, splitter=random;, score=-0.024 total time=   0.0s\n[CV 2/3] END max_depth=25, max_features=sqrt, max_leaf_nodes=None, min_samples_leaf=7, splitter=random;, score=-0.020 total time=   0.0s\n[CV 3/3] END max_depth=25, max_features=sqrt, max_leaf_nodes=None, min_samples_leaf=7, splitter=random;, score=-0.020 total time=   0.0s\n[CV 1/3] END max_depth=25, max_features=sqrt, max_leaf_nodes=None, min_samples_leaf=8, splitter=best;, score=-0.026 total time=   0.0s\n[CV 2/3] END max_depth=25, max_features=sqrt, max_leaf_nodes=None, min_samples_leaf=8, splitter=best;, score=-0.024 total time=   0.0s\n[CV 3/3] END max_depth=25, max_features=sqrt, max_leaf_nodes=None, min_samples_leaf=8, splitter=best;, score=-0.016 total time=   0.0s\n[CV 1/3] END max_depth=25, max_features=sqrt, max_leaf_nodes=None, min_samples_leaf=8, splitter=random;, score=-0.020 total time=   0.0s\n[CV 2/3] END max_depth=25, max_features=sqrt, max_leaf_nodes=None, min_samples_leaf=8, splitter=random;, score=-0.021 total time=   0.0s\n[CV 3/3] END max_depth=25, max_features=sqrt, max_leaf_nodes=None, min_samples_leaf=8, splitter=random;, score=-0.019 total time=   0.0s\n[CV 1/3] END max_depth=25, max_features=sqrt, max_leaf_nodes=None, min_samples_leaf=9, splitter=best;, score=-0.023 total time=   0.0s\n[CV 2/3] END max_depth=25, max_features=sqrt, max_leaf_nodes=None, min_samples_leaf=9, splitter=best;, score=-0.025 total time=   0.0s\n[CV 3/3] END max_depth=25, max_features=sqrt, max_leaf_nodes=None, min_samples_leaf=9, splitter=best;, score=-0.015 total time=   0.0s\n[CV 1/3] END max_depth=25, max_features=sqrt, max_leaf_nodes=None, min_samples_leaf=9, splitter=random;, score=-0.021 total time=   0.0s\n[CV 2/3] END max_depth=25, max_features=sqrt, max_leaf_nodes=None, min_samples_leaf=9, splitter=random;, score=-0.022 total time=   0.0s\n[CV 3/3] END max_depth=25, max_features=sqrt, max_leaf_nodes=None, min_samples_leaf=9, splitter=random;, score=-0.015 total time=   0.0s\n[CV 1/3] END max_depth=25, max_features=sqrt, max_leaf_nodes=None, min_samples_leaf=10, splitter=best;, score=-0.021 total time=   0.0s\n[CV 2/3] END max_depth=25, max_features=sqrt, max_leaf_nodes=None, min_samples_leaf=10, splitter=best;, score=-0.024 total time=   0.0s\n[CV 3/3] END max_depth=25, max_features=sqrt, max_leaf_nodes=None, min_samples_leaf=10, splitter=best;, score=-0.016 total time=   0.0s\n[CV 1/3] END max_depth=25, max_features=sqrt, max_leaf_nodes=None, min_samples_leaf=10, splitter=random;, score=-0.021 total time=   0.0s\n[CV 2/3] END max_depth=25, max_features=sqrt, max_leaf_nodes=None, min_samples_leaf=10, splitter=random;, score=-0.020 total time=   0.0s\n[CV 3/3] END max_depth=25, max_features=sqrt, max_leaf_nodes=None, min_samples_leaf=10, splitter=random;, score=-0.017 total time=   0.0s\n[CV 1/3] END max_depth=25, max_features=sqrt, max_leaf_nodes=10, min_samples_leaf=1, splitter=best;, score=-0.023 total time=   0.0s\n[CV 2/3] END max_depth=25, max_features=sqrt, max_leaf_nodes=10, min_samples_leaf=1, splitter=best;, score=-0.021 total time=   0.0s\n[CV 3/3] END max_depth=25, max_features=sqrt, max_leaf_nodes=10, min_samples_leaf=1, splitter=best;, score=-0.017 total time=   0.0s\n[CV 1/3] END max_depth=25, max_features=sqrt, max_leaf_nodes=10, min_samples_leaf=1, splitter=random;, score=-0.021 total time=   0.0s\n[CV 2/3] END max_depth=25, max_features=sqrt, max_leaf_nodes=10, min_samples_leaf=1, splitter=random;, score=-0.019 total time=   0.0s\n[CV 3/3] END max_depth=25, max_features=sqrt, max_leaf_nodes=10, min_samples_leaf=1, splitter=random;, score=-0.017 total time=   0.0s\n[CV 1/3] END max_depth=25, max_features=sqrt, max_leaf_nodes=10, min_samples_leaf=2, splitter=best;, score=-0.022 total time=   0.0s\n[CV 2/3] END max_depth=25, max_features=sqrt, max_leaf_nodes=10, min_samples_leaf=2, splitter=best;, score=-0.020 total time=   0.0s\n[CV 3/3] END max_depth=25, max_features=sqrt, max_leaf_nodes=10, min_samples_leaf=2, splitter=best;, score=-0.015 total time=   0.0s\n[CV 1/3] END max_depth=25, max_features=sqrt, max_leaf_nodes=10, min_samples_leaf=2, splitter=random;, score=-0.019 total time=   0.0s\n[CV 2/3] END max_depth=25, max_features=sqrt, max_leaf_nodes=10, min_samples_leaf=2, splitter=random;, score=-0.023 total time=   0.0s\n[CV 3/3] END max_depth=25, max_features=sqrt, max_leaf_nodes=10, min_samples_leaf=2, splitter=random;, score=-0.017 total time=   0.0s\n[CV 1/3] END max_depth=25, max_features=sqrt, max_leaf_nodes=10, min_samples_leaf=3, splitter=best;, score=-0.022 total time=   0.0s\n[CV 2/3] END max_depth=25, max_features=sqrt, max_leaf_nodes=10, min_samples_leaf=3, splitter=best;, score=-0.021 total time=   0.0s\n[CV 3/3] END max_depth=25, max_features=sqrt, max_leaf_nodes=10, min_samples_leaf=3, splitter=best;, score=-0.015 total time=   0.0s\n[CV 1/3] END max_depth=25, max_features=sqrt, max_leaf_nodes=10, min_samples_leaf=3, splitter=random;, score=-0.026 total time=   0.0s\n[CV 2/3] END max_depth=25, max_features=sqrt, max_leaf_nodes=10, min_samples_leaf=3, splitter=random;, score=-0.021 total time=   0.0s\n[CV 3/3] END max_depth=25, max_features=sqrt, max_leaf_nodes=10, min_samples_leaf=3, splitter=random;, score=-0.017 total time=   0.0s\n[CV 1/3] END max_depth=25, max_features=sqrt, max_leaf_nodes=10, min_samples_leaf=4, splitter=best;, score=-0.019 total time=   0.0s\n[CV 2/3] END max_depth=25, max_features=sqrt, max_leaf_nodes=10, min_samples_leaf=4, splitter=best;, score=-0.021 total time=   0.0s\n[CV 3/3] END max_depth=25, max_features=sqrt, max_leaf_nodes=10, min_samples_leaf=4, splitter=best;, score=-0.016 total time=   0.0s\n[CV 1/3] END max_depth=25, max_features=sqrt, max_leaf_nodes=10, min_samples_leaf=4, splitter=random;, score=-0.021 total time=   0.0s\n[CV 2/3] END max_depth=25, max_features=sqrt, max_leaf_nodes=10, min_samples_leaf=4, splitter=random;, score=-0.020 total time=   0.0s\n[CV 3/3] END max_depth=25, max_features=sqrt, max_leaf_nodes=10, min_samples_leaf=4, splitter=random;, score=-0.015 total time=   0.0s\n[CV 1/3] END max_depth=25, max_features=sqrt, max_leaf_nodes=10, min_samples_leaf=5, splitter=best;, score=-0.020 total time=   0.0s\n[CV 2/3] END max_depth=25, max_features=sqrt, max_leaf_nodes=10, min_samples_leaf=5, splitter=best;, score=-0.019 total time=   0.0s\n[CV 3/3] END max_depth=25, max_features=sqrt, max_leaf_nodes=10, min_samples_leaf=5, splitter=best;, score=-0.017 total time=   0.0s\n[CV 1/3] END max_depth=25, max_features=sqrt, max_leaf_nodes=10, min_samples_leaf=5, splitter=random;, score=-0.023 total time=   0.0s\n[CV 2/3] END max_depth=25, max_features=sqrt, max_leaf_nodes=10, min_samples_leaf=5, splitter=random;, score=-0.021 total time=   0.0s\n[CV 3/3] END max_depth=25, max_features=sqrt, max_leaf_nodes=10, min_samples_leaf=5, splitter=random;, score=-0.017 total time=   0.0s\n[CV 1/3] END max_depth=25, max_features=sqrt, max_leaf_nodes=10, min_samples_leaf=6, splitter=best;, score=-0.020 total time=   0.0s\n[CV 2/3] END max_depth=25, max_features=sqrt, max_leaf_nodes=10, min_samples_leaf=6, splitter=best;, score=-0.021 total time=   0.0s\n[CV 3/3] END max_depth=25, max_features=sqrt, max_leaf_nodes=10, min_samples_leaf=6, splitter=best;, score=-0.014 total time=   0.0s\n[CV 1/3] END max_depth=25, max_features=sqrt, max_leaf_nodes=10, min_samples_leaf=6, splitter=random;, score=-0.021 total time=   0.0s\n[CV 2/3] END max_depth=25, max_features=sqrt, max_leaf_nodes=10, min_samples_leaf=6, splitter=random;, score=-0.020 total time=   0.0s\n[CV 3/3] END max_depth=25, max_features=sqrt, max_leaf_nodes=10, min_samples_leaf=6, splitter=random;, score=-0.015 total time=   0.0s\n[CV 1/3] END max_depth=25, max_features=sqrt, max_leaf_nodes=10, min_samples_leaf=7, splitter=best;, score=-0.020 total time=   0.0s\n[CV 2/3] END max_depth=25, max_features=sqrt, max_leaf_nodes=10, min_samples_leaf=7, splitter=best;, score=-0.020 total time=   0.0s\n[CV 3/3] END max_depth=25, max_features=sqrt, max_leaf_nodes=10, min_samples_leaf=7, splitter=best;, score=-0.018 total time=   0.0s\n[CV 1/3] END max_depth=25, max_features=sqrt, max_leaf_nodes=10, min_samples_leaf=7, splitter=random;, score=-0.021 total time=   0.0s\n[CV 2/3] END max_depth=25, max_features=sqrt, max_leaf_nodes=10, min_samples_leaf=7, splitter=random;, score=-0.023 total time=   0.0s\n[CV 3/3] END max_depth=25, max_features=sqrt, max_leaf_nodes=10, min_samples_leaf=7, splitter=random;, score=-0.018 total time=   0.0s\n[CV 1/3] END max_depth=25, max_features=sqrt, max_leaf_nodes=10, min_samples_leaf=8, splitter=best;, score=-0.025 total time=   0.0s\n[CV 2/3] END max_depth=25, max_features=sqrt, max_leaf_nodes=10, min_samples_leaf=8, splitter=best;, score=-0.022 total time=   0.0s\n[CV 3/3] END max_depth=25, max_features=sqrt, max_leaf_nodes=10, min_samples_leaf=8, splitter=best;, score=-0.015 total time=   0.0s\n[CV 1/3] END max_depth=25, max_features=sqrt, max_leaf_nodes=10, min_samples_leaf=8, splitter=random;, score=-0.023 total time=   0.0s\n[CV 2/3] END max_depth=25, max_features=sqrt, max_leaf_nodes=10, min_samples_leaf=8, splitter=random;, score=-0.020 total time=   0.0s\n[CV 3/3] END max_depth=25, max_features=sqrt, max_leaf_nodes=10, min_samples_leaf=8, splitter=random;, score=-0.015 total time=   0.0s\n[CV 1/3] END max_depth=25, max_features=sqrt, max_leaf_nodes=10, min_samples_leaf=9, splitter=best;, score=-0.019 total time=   0.0s\n[CV 2/3] END max_depth=25, max_features=sqrt, max_leaf_nodes=10, min_samples_leaf=9, splitter=best;, score=-0.019 total time=   0.0s\n[CV 3/3] END max_depth=25, max_features=sqrt, max_leaf_nodes=10, min_samples_leaf=9, splitter=best;, score=-0.014 total time=   0.0s\n[CV 1/3] END max_depth=25, max_features=sqrt, max_leaf_nodes=10, min_samples_leaf=9, splitter=random;, score=-0.021 total time=   0.0s\n[CV 2/3] END max_depth=25, max_features=sqrt, max_leaf_nodes=10, min_samples_leaf=9, splitter=random;, score=-0.020 total time=   0.0s\n[CV 3/3] END max_depth=25, max_features=sqrt, max_leaf_nodes=10, min_samples_leaf=9, splitter=random;, score=-0.018 total time=   0.0s\n[CV 1/3] END max_depth=25, max_features=sqrt, max_leaf_nodes=10, min_samples_leaf=10, splitter=best;, score=-0.021 total time=   0.0s\n[CV 2/3] END max_depth=25, max_features=sqrt, max_leaf_nodes=10, min_samples_leaf=10, splitter=best;, score=-0.019 total time=   0.0s\n[CV 3/3] END max_depth=25, max_features=sqrt, max_leaf_nodes=10, min_samples_leaf=10, splitter=best;, score=-0.015 total time=   0.0s\n[CV 1/3] END max_depth=25, max_features=sqrt, max_leaf_nodes=10, min_samples_leaf=10, splitter=random;, score=-0.023 total time=   0.0s\n[CV 2/3] END max_depth=25, max_features=sqrt, max_leaf_nodes=10, min_samples_leaf=10, splitter=random;, score=-0.021 total time=   0.0s\n[CV 3/3] END max_depth=25, max_features=sqrt, max_leaf_nodes=10, min_samples_leaf=10, splitter=random;, score=-0.018 total time=   0.0s\n[CV 1/3] END max_depth=25, max_features=sqrt, max_leaf_nodes=20, min_samples_leaf=1, splitter=best;, score=-0.020 total time=   0.0s\n[CV 2/3] END max_depth=25, max_features=sqrt, max_leaf_nodes=20, min_samples_leaf=1, splitter=best;, score=-0.026 total time=   0.0s\n[CV 3/3] END max_depth=25, max_features=sqrt, max_leaf_nodes=20, min_samples_leaf=1, splitter=best;, score=-0.021 total time=   0.0s\n[CV 1/3] END max_depth=25, max_features=sqrt, max_leaf_nodes=20, min_samples_leaf=1, splitter=random;, score=-0.022 total time=   0.0s\n[CV 2/3] END max_depth=25, max_features=sqrt, max_leaf_nodes=20, min_samples_leaf=1, splitter=random;, score=-0.021 total time=   0.0s\n[CV 3/3] END max_depth=25, max_features=sqrt, max_leaf_nodes=20, min_samples_leaf=1, splitter=random;, score=-0.019 total time=   0.0s\n[CV 1/3] END max_depth=25, max_features=sqrt, max_leaf_nodes=20, min_samples_leaf=2, splitter=best;, score=-0.031 total time=   0.0s\n[CV 2/3] END max_depth=25, max_features=sqrt, max_leaf_nodes=20, min_samples_leaf=2, splitter=best;, score=-0.022 total time=   0.0s\n[CV 3/3] END max_depth=25, max_features=sqrt, max_leaf_nodes=20, min_samples_leaf=2, splitter=best;, score=-0.015 total time=   0.0s\n[CV 1/3] END max_depth=25, max_features=sqrt, max_leaf_nodes=20, min_samples_leaf=2, splitter=random;, score=-0.022 total time=   0.0s\n[CV 2/3] END max_depth=25, max_features=sqrt, max_leaf_nodes=20, min_samples_leaf=2, splitter=random;, score=-0.021 total time=   0.0s\n[CV 3/3] END max_depth=25, max_features=sqrt, max_leaf_nodes=20, min_samples_leaf=2, splitter=random;, score=-0.016 total time=   0.0s\n[CV 1/3] END max_depth=25, max_features=sqrt, max_leaf_nodes=20, min_samples_leaf=3, splitter=best;, score=-0.019 total time=   0.0s\n[CV 2/3] END max_depth=25, max_features=sqrt, max_leaf_nodes=20, min_samples_leaf=3, splitter=best;, score=-0.020 total time=   0.0s\n[CV 3/3] END max_depth=25, max_features=sqrt, max_leaf_nodes=20, min_samples_leaf=3, splitter=best;, score=-0.016 total time=   0.0s\n[CV 1/3] END max_depth=25, max_features=sqrt, max_leaf_nodes=20, min_samples_leaf=3, splitter=random;, score=-0.020 total time=   0.0s\n[CV 2/3] END max_depth=25, max_features=sqrt, max_leaf_nodes=20, min_samples_leaf=3, splitter=random;, score=-0.020 total time=   0.0s\n[CV 3/3] END max_depth=25, max_features=sqrt, max_leaf_nodes=20, min_samples_leaf=3, splitter=random;, score=-0.018 total time=   0.0s\n[CV 1/3] END max_depth=25, max_features=sqrt, max_leaf_nodes=20, min_samples_leaf=4, splitter=best;, score=-0.023 total time=   0.0s\n[CV 2/3] END max_depth=25, max_features=sqrt, max_leaf_nodes=20, min_samples_leaf=4, splitter=best;, score=-0.020 total time=   0.0s\n[CV 3/3] END max_depth=25, max_features=sqrt, max_leaf_nodes=20, min_samples_leaf=4, splitter=best;, score=-0.016 total time=   0.0s\n[CV 1/3] END max_depth=25, max_features=sqrt, max_leaf_nodes=20, min_samples_leaf=4, splitter=random;, score=-0.024 total time=   0.0s\n[CV 2/3] END max_depth=25, max_features=sqrt, max_leaf_nodes=20, min_samples_leaf=4, splitter=random;, score=-0.022 total time=   0.0s\n[CV 3/3] END max_depth=25, max_features=sqrt, max_leaf_nodes=20, min_samples_leaf=4, splitter=random;, score=-0.018 total time=   0.0s\n[CV 1/3] END max_depth=25, max_features=sqrt, max_leaf_nodes=20, min_samples_leaf=5, splitter=best;, score=-0.029 total time=   0.0s\n[CV 2/3] END max_depth=25, max_features=sqrt, max_leaf_nodes=20, min_samples_leaf=5, splitter=best;, score=-0.028 total time=   0.0s\n[CV 3/3] END max_depth=25, max_features=sqrt, max_leaf_nodes=20, min_samples_leaf=5, splitter=best;, score=-0.019 total time=   0.0s\n[CV 1/3] END max_depth=25, max_features=sqrt, max_leaf_nodes=20, min_samples_leaf=5, splitter=random;, score=-0.024 total time=   0.0s\n[CV 2/3] END max_depth=25, max_features=sqrt, max_leaf_nodes=20, min_samples_leaf=5, splitter=random;, score=-0.021 total time=   0.0s\n[CV 3/3] END max_depth=25, max_features=sqrt, max_leaf_nodes=20, min_samples_leaf=5, splitter=random;, score=-0.018 total time=   0.0s\n[CV 1/3] END max_depth=25, max_features=sqrt, max_leaf_nodes=20, min_samples_leaf=6, splitter=best;, score=-0.025 total time=   0.0s\n[CV 2/3] END max_depth=25, max_features=sqrt, max_leaf_nodes=20, min_samples_leaf=6, splitter=best;, score=-0.023 total time=   0.0s\n[CV 3/3] END max_depth=25, max_features=sqrt, max_leaf_nodes=20, min_samples_leaf=6, splitter=best;, score=-0.015 total time=   0.0s\n[CV 1/3] END max_depth=25, max_features=sqrt, max_leaf_nodes=20, min_samples_leaf=6, splitter=random;, score=-0.021 total time=   0.0s\n[CV 2/3] END max_depth=25, max_features=sqrt, max_leaf_nodes=20, min_samples_leaf=6, splitter=random;, score=-0.021 total time=   0.0s\n[CV 3/3] END max_depth=25, max_features=sqrt, max_leaf_nodes=20, min_samples_leaf=6, splitter=random;, score=-0.019 total time=   0.0s\n[CV 1/3] END max_depth=25, max_features=sqrt, max_leaf_nodes=20, min_samples_leaf=7, splitter=best;, score=-0.026 total time=   0.0s\n[CV 2/3] END max_depth=25, max_features=sqrt, max_leaf_nodes=20, min_samples_leaf=7, splitter=best;, score=-0.021 total time=   0.0s\n[CV 3/3] END max_depth=25, max_features=sqrt, max_leaf_nodes=20, min_samples_leaf=7, splitter=best;, score=-0.015 total time=   0.0s\n[CV 1/3] END max_depth=25, max_features=sqrt, max_leaf_nodes=20, min_samples_leaf=7, splitter=random;, score=-0.023 total time=   0.0s\n[CV 2/3] END max_depth=25, max_features=sqrt, max_leaf_nodes=20, min_samples_leaf=7, splitter=random;, score=-0.019 total time=   0.0s\n[CV 3/3] END max_depth=25, max_features=sqrt, max_leaf_nodes=20, min_samples_leaf=7, splitter=random;, score=-0.016 total time=   0.0s\n[CV 1/3] END max_depth=25, max_features=sqrt, max_leaf_nodes=20, min_samples_leaf=8, splitter=best;, score=-0.020 total time=   0.0s\n[CV 2/3] END max_depth=25, max_features=sqrt, max_leaf_nodes=20, min_samples_leaf=8, splitter=best;, score=-0.021 total time=   0.0s\n[CV 3/3] END max_depth=25, max_features=sqrt, max_leaf_nodes=20, min_samples_leaf=8, splitter=best;, score=-0.016 total time=   0.0s\n[CV 1/3] END max_depth=25, max_features=sqrt, max_leaf_nodes=20, min_samples_leaf=8, splitter=random;, score=-0.023 total time=   0.0s\n[CV 2/3] END max_depth=25, max_features=sqrt, max_leaf_nodes=20, min_samples_leaf=8, splitter=random;, score=-0.021 total time=   0.0s\n[CV 3/3] END max_depth=25, max_features=sqrt, max_leaf_nodes=20, min_samples_leaf=8, splitter=random;, score=-0.018 total time=   0.0s\n[CV 1/3] END max_depth=25, max_features=sqrt, max_leaf_nodes=20, min_samples_leaf=9, splitter=best;, score=-0.021 total time=   0.0s\n[CV 2/3] END max_depth=25, max_features=sqrt, max_leaf_nodes=20, min_samples_leaf=9, splitter=best;, score=-0.020 total time=   0.0s\n[CV 3/3] END max_depth=25, max_features=sqrt, max_leaf_nodes=20, min_samples_leaf=9, splitter=best;, score=-0.014 total time=   0.0s\n[CV 1/3] END max_depth=25, max_features=sqrt, max_leaf_nodes=20, min_samples_leaf=9, splitter=random;, score=-0.023 total time=   0.0s\n[CV 2/3] END max_depth=25, max_features=sqrt, max_leaf_nodes=20, min_samples_leaf=9, splitter=random;, score=-0.022 total time=   0.0s\n[CV 3/3] END max_depth=25, max_features=sqrt, max_leaf_nodes=20, min_samples_leaf=9, splitter=random;, score=-0.019 total time=   0.0s\n[CV 1/3] END max_depth=25, max_features=sqrt, max_leaf_nodes=20, min_samples_leaf=10, splitter=best;, score=-0.021 total time=   0.0s\n[CV 2/3] END max_depth=25, max_features=sqrt, max_leaf_nodes=20, min_samples_leaf=10, splitter=best;, score=-0.022 total time=   0.0s\n[CV 3/3] END max_depth=25, max_features=sqrt, max_leaf_nodes=20, min_samples_leaf=10, splitter=best;, score=-0.020 total time=   0.0s\n[CV 1/3] END max_depth=25, max_features=sqrt, max_leaf_nodes=20, min_samples_leaf=10, splitter=random;, score=-0.024 total time=   0.0s\n[CV 2/3] END max_depth=25, max_features=sqrt, max_leaf_nodes=20, min_samples_leaf=10, splitter=random;, score=-0.021 total time=   0.0s\n[CV 3/3] END max_depth=25, max_features=sqrt, max_leaf_nodes=20, min_samples_leaf=10, splitter=random;, score=-0.018 total time=   0.0s\n[CV 1/3] END max_depth=25, max_features=sqrt, max_leaf_nodes=30, min_samples_leaf=1, splitter=best;, score=-0.028 total time=   0.0s\n[CV 2/3] END max_depth=25, max_features=sqrt, max_leaf_nodes=30, min_samples_leaf=1, splitter=best;, score=-0.023 total time=   0.0s\n[CV 3/3] END max_depth=25, max_features=sqrt, max_leaf_nodes=30, min_samples_leaf=1, splitter=best;, score=-0.025 total time=   0.0s\n[CV 1/3] END max_depth=25, max_features=sqrt, max_leaf_nodes=30, min_samples_leaf=1, splitter=random;, score=-0.033 total time=   0.0s\n[CV 2/3] END max_depth=25, max_features=sqrt, max_leaf_nodes=30, min_samples_leaf=1, splitter=random;, score=-0.021 total time=   0.0s\n[CV 3/3] END max_depth=25, max_features=sqrt, max_leaf_nodes=30, min_samples_leaf=1, splitter=random;, score=-0.019 total time=   0.0s\n[CV 1/3] END max_depth=25, max_features=sqrt, max_leaf_nodes=30, min_samples_leaf=2, splitter=best;, score=-0.033 total time=   0.0s\n[CV 2/3] END max_depth=25, max_features=sqrt, max_leaf_nodes=30, min_samples_leaf=2, splitter=best;, score=-0.022 total time=   0.0s\n[CV 3/3] END max_depth=25, max_features=sqrt, max_leaf_nodes=30, min_samples_leaf=2, splitter=best;, score=-0.027 total time=   0.0s\n[CV 1/3] END max_depth=25, max_features=sqrt, max_leaf_nodes=30, min_samples_leaf=2, splitter=random;, score=-0.022 total time=   0.0s\n[CV 2/3] END max_depth=25, max_features=sqrt, max_leaf_nodes=30, min_samples_leaf=2, splitter=random;, score=-0.025 total time=   0.0s\n[CV 3/3] END max_depth=25, max_features=sqrt, max_leaf_nodes=30, min_samples_leaf=2, splitter=random;, score=-0.017 total time=   0.0s\n[CV 1/3] END max_depth=25, max_features=sqrt, max_leaf_nodes=30, min_samples_leaf=3, splitter=best;, score=-0.020 total time=   0.0s\n[CV 2/3] END max_depth=25, max_features=sqrt, max_leaf_nodes=30, min_samples_leaf=3, splitter=best;, score=-0.023 total time=   0.0s\n[CV 3/3] END max_depth=25, max_features=sqrt, max_leaf_nodes=30, min_samples_leaf=3, splitter=best;, score=-0.018 total time=   0.0s\n[CV 1/3] END max_depth=25, max_features=sqrt, max_leaf_nodes=30, min_samples_leaf=3, splitter=random;, score=-0.027 total time=   0.0s\n[CV 2/3] END max_depth=25, max_features=sqrt, max_leaf_nodes=30, min_samples_leaf=3, splitter=random;, score=-0.023 total time=   0.0s\n[CV 3/3] END max_depth=25, max_features=sqrt, max_leaf_nodes=30, min_samples_leaf=3, splitter=random;, score=-0.019 total time=   0.0s\n[CV 1/3] END max_depth=25, max_features=sqrt, max_leaf_nodes=30, min_samples_leaf=4, splitter=best;, score=-0.030 total time=   0.0s\n[CV 2/3] END max_depth=25, max_features=sqrt, max_leaf_nodes=30, min_samples_leaf=4, splitter=best;, score=-0.024 total time=   0.0s\n[CV 3/3] END max_depth=25, max_features=sqrt, max_leaf_nodes=30, min_samples_leaf=4, splitter=best;, score=-0.015 total time=   0.0s\n[CV 1/3] END max_depth=25, max_features=sqrt, max_leaf_nodes=30, min_samples_leaf=4, splitter=random;, score=-0.030 total time=   0.0s\n[CV 2/3] END max_depth=25, max_features=sqrt, max_leaf_nodes=30, min_samples_leaf=4, splitter=random;, score=-0.020 total time=   0.0s\n[CV 3/3] END max_depth=25, max_features=sqrt, max_leaf_nodes=30, min_samples_leaf=4, splitter=random;, score=-0.020 total time=   0.0s\n[CV 1/3] END max_depth=25, max_features=sqrt, max_leaf_nodes=30, min_samples_leaf=5, splitter=best;, score=-0.024 total time=   0.0s\n[CV 2/3] END max_depth=25, max_features=sqrt, max_leaf_nodes=30, min_samples_leaf=5, splitter=best;, score=-0.025 total time=   0.0s\n[CV 3/3] END max_depth=25, max_features=sqrt, max_leaf_nodes=30, min_samples_leaf=5, splitter=best;, score=-0.015 total time=   0.0s\n[CV 1/3] END max_depth=25, max_features=sqrt, max_leaf_nodes=30, min_samples_leaf=5, splitter=random;, score=-0.025 total time=   0.0s\n[CV 2/3] END max_depth=25, max_features=sqrt, max_leaf_nodes=30, min_samples_leaf=5, splitter=random;, score=-0.018 total time=   0.0s\n[CV 3/3] END max_depth=25, max_features=sqrt, max_leaf_nodes=30, min_samples_leaf=5, splitter=random;, score=-0.018 total time=   0.0s\n[CV 1/3] END max_depth=25, max_features=sqrt, max_leaf_nodes=30, min_samples_leaf=6, splitter=best;, score=-0.022 total time=   0.0s\n[CV 2/3] END max_depth=25, max_features=sqrt, max_leaf_nodes=30, min_samples_leaf=6, splitter=best;, score=-0.023 total time=   0.0s\n[CV 3/3] END max_depth=25, max_features=sqrt, max_leaf_nodes=30, min_samples_leaf=6, splitter=best;, score=-0.016 total time=   0.0s\n[CV 1/3] END max_depth=25, max_features=sqrt, max_leaf_nodes=30, min_samples_leaf=6, splitter=random;, score=-0.026 total time=   0.0s\n[CV 2/3] END max_depth=25, max_features=sqrt, max_leaf_nodes=30, min_samples_leaf=6, splitter=random;, score=-0.020 total time=   0.0s\n[CV 3/3] END max_depth=25, max_features=sqrt, max_leaf_nodes=30, min_samples_leaf=6, splitter=random;, score=-0.020 total time=   0.0s\n[CV 1/3] END max_depth=25, max_features=sqrt, max_leaf_nodes=30, min_samples_leaf=7, splitter=best;, score=-0.020 total time=   0.0s\n[CV 2/3] END max_depth=25, max_features=sqrt, max_leaf_nodes=30, min_samples_leaf=7, splitter=best;, score=-0.020 total time=   0.0s\n[CV 3/3] END max_depth=25, max_features=sqrt, max_leaf_nodes=30, min_samples_leaf=7, splitter=best;, score=-0.014 total time=   0.0s\n[CV 1/3] END max_depth=25, max_features=sqrt, max_leaf_nodes=30, min_samples_leaf=7, splitter=random;, score=-0.020 total time=   0.0s\n[CV 2/3] END max_depth=25, max_features=sqrt, max_leaf_nodes=30, min_samples_leaf=7, splitter=random;, score=-0.019 total time=   0.0s\n[CV 3/3] END max_depth=25, max_features=sqrt, max_leaf_nodes=30, min_samples_leaf=7, splitter=random;, score=-0.017 total time=   0.0s\n[CV 1/3] END max_depth=25, max_features=sqrt, max_leaf_nodes=30, min_samples_leaf=8, splitter=best;, score=-0.022 total time=   0.0s\n[CV 2/3] END max_depth=25, max_features=sqrt, max_leaf_nodes=30, min_samples_leaf=8, splitter=best;, score=-0.024 total time=   0.0s\n[CV 3/3] END max_depth=25, max_features=sqrt, max_leaf_nodes=30, min_samples_leaf=8, splitter=best;, score=-0.016 total time=   0.0s\n[CV 1/3] END max_depth=25, max_features=sqrt, max_leaf_nodes=30, min_samples_leaf=8, splitter=random;, score=-0.024 total time=   0.0s\n[CV 2/3] END max_depth=25, max_features=sqrt, max_leaf_nodes=30, min_samples_leaf=8, splitter=random;, score=-0.021 total time=   0.0s\n[CV 3/3] END max_depth=25, max_features=sqrt, max_leaf_nodes=30, min_samples_leaf=8, splitter=random;, score=-0.018 total time=   0.0s\n[CV 1/3] END max_depth=25, max_features=sqrt, max_leaf_nodes=30, min_samples_leaf=9, splitter=best;, score=-0.020 total time=   0.0s\n[CV 2/3] END max_depth=25, max_features=sqrt, max_leaf_nodes=30, min_samples_leaf=9, splitter=best;, score=-0.027 total time=   0.0s\n[CV 3/3] END max_depth=25, max_features=sqrt, max_leaf_nodes=30, min_samples_leaf=9, splitter=best;, score=-0.012 total time=   0.0s\n[CV 1/3] END max_depth=25, max_features=sqrt, max_leaf_nodes=30, min_samples_leaf=9, splitter=random;, score=-0.023 total time=   0.0s\n[CV 2/3] END max_depth=25, max_features=sqrt, max_leaf_nodes=30, min_samples_leaf=9, splitter=random;, score=-0.023 total time=   0.0s\n[CV 3/3] END max_depth=25, max_features=sqrt, max_leaf_nodes=30, min_samples_leaf=9, splitter=random;, score=-0.019 total time=   0.0s\n[CV 1/3] END max_depth=25, max_features=sqrt, max_leaf_nodes=30, min_samples_leaf=10, splitter=best;, score=-0.026 total time=   0.0s\n[CV 2/3] END max_depth=25, max_features=sqrt, max_leaf_nodes=30, min_samples_leaf=10, splitter=best;, score=-0.022 total time=   0.0s\n[CV 3/3] END max_depth=25, max_features=sqrt, max_leaf_nodes=30, min_samples_leaf=10, splitter=best;, score=-0.016 total time=   0.0s\n[CV 1/3] END max_depth=25, max_features=sqrt, max_leaf_nodes=30, min_samples_leaf=10, splitter=random;, score=-0.019 total time=   0.0s\n[CV 2/3] END max_depth=25, max_features=sqrt, max_leaf_nodes=30, min_samples_leaf=10, splitter=random;, score=-0.020 total time=   0.0s\n[CV 3/3] END max_depth=25, max_features=sqrt, max_leaf_nodes=30, min_samples_leaf=10, splitter=random;, score=-0.018 total time=   0.0s\n[CV 1/3] END max_depth=25, max_features=None, max_leaf_nodes=None, min_samples_leaf=1, splitter=best;, score=-0.037 total time=   0.0s\n[CV 2/3] END max_depth=25, max_features=None, max_leaf_nodes=None, min_samples_leaf=1, splitter=best;, score=-0.032 total time=   0.0s\n[CV 3/3] END max_depth=25, max_features=None, max_leaf_nodes=None, min_samples_leaf=1, splitter=best;, score=-0.029 total time=   0.0s\n[CV 1/3] END max_depth=25, max_features=None, max_leaf_nodes=None, min_samples_leaf=1, splitter=random;, score=-0.038 total time=   0.0s\n[CV 2/3] END max_depth=25, max_features=None, max_leaf_nodes=None, min_samples_leaf=1, splitter=random;, score=-0.032 total time=   0.0s\n[CV 3/3] END max_depth=25, max_features=None, max_leaf_nodes=None, min_samples_leaf=1, splitter=random;, score=-0.030 total time=   0.0s\n[CV 1/3] END max_depth=25, max_features=None, max_leaf_nodes=None, min_samples_leaf=2, splitter=best;, score=-0.035 total time=   0.0s\n[CV 2/3] END max_depth=25, max_features=None, max_leaf_nodes=None, min_samples_leaf=2, splitter=best;, score=-0.026 total time=   0.0s\n[CV 3/3] END max_depth=25, max_features=None, max_leaf_nodes=None, min_samples_leaf=2, splitter=best;, score=-0.027 total time=   0.0s\n[CV 1/3] END max_depth=25, max_features=None, max_leaf_nodes=None, min_samples_leaf=2, splitter=random;, score=-0.029 total time=   0.0s\n[CV 2/3] END max_depth=25, max_features=None, max_leaf_nodes=None, min_samples_leaf=2, splitter=random;, score=-0.027 total time=   0.0s\n[CV 3/3] END max_depth=25, max_features=None, max_leaf_nodes=None, min_samples_leaf=2, splitter=random;, score=-0.025 total time=   0.0s\n[CV 1/3] END max_depth=25, max_features=None, max_leaf_nodes=None, min_samples_leaf=3, splitter=best;, score=-0.030 total time=   0.0s\n[CV 2/3] END max_depth=25, max_features=None, max_leaf_nodes=None, min_samples_leaf=3, splitter=best;, score=-0.023 total time=   0.0s\n[CV 3/3] END max_depth=25, max_features=None, max_leaf_nodes=None, min_samples_leaf=3, splitter=best;, score=-0.027 total time=   0.0s\n[CV 1/3] END max_depth=25, max_features=None, max_leaf_nodes=None, min_samples_leaf=3, splitter=random;, score=-0.021 total time=   0.0s\n[CV 2/3] END max_depth=25, max_features=None, max_leaf_nodes=None, min_samples_leaf=3, splitter=random;, score=-0.024 total time=   0.0s\n[CV 3/3] END max_depth=25, max_features=None, max_leaf_nodes=None, min_samples_leaf=3, splitter=random;, score=-0.021 total time=   0.0s\n[CV 1/3] END max_depth=25, max_features=None, max_leaf_nodes=None, min_samples_leaf=4, splitter=best;, score=-0.028 total time=   0.0s\n[CV 2/3] END max_depth=25, max_features=None, max_leaf_nodes=None, min_samples_leaf=4, splitter=best;, score=-0.024 total time=   0.0s\n[CV 3/3] END max_depth=25, max_features=None, max_leaf_nodes=None, min_samples_leaf=4, splitter=best;, score=-0.026 total time=   0.0s\n[CV 1/3] END max_depth=25, max_features=None, max_leaf_nodes=None, min_samples_leaf=4, splitter=random;, score=-0.021 total time=   0.0s\n[CV 2/3] END max_depth=25, max_features=None, max_leaf_nodes=None, min_samples_leaf=4, splitter=random;, score=-0.022 total time=   0.0s\n[CV 3/3] END max_depth=25, max_features=None, max_leaf_nodes=None, min_samples_leaf=4, splitter=random;, score=-0.017 total time=   0.0s\n[CV 1/3] END max_depth=25, max_features=None, max_leaf_nodes=None, min_samples_leaf=5, splitter=best;, score=-0.028 total time=   0.0s\n[CV 2/3] END max_depth=25, max_features=None, max_leaf_nodes=None, min_samples_leaf=5, splitter=best;, score=-0.024 total time=   0.0s\n[CV 3/3] END max_depth=25, max_features=None, max_leaf_nodes=None, min_samples_leaf=5, splitter=best;, score=-0.023 total time=   0.0s\n[CV 1/3] END max_depth=25, max_features=None, max_leaf_nodes=None, min_samples_leaf=5, splitter=random;, score=-0.029 total time=   0.0s\n[CV 2/3] END max_depth=25, max_features=None, max_leaf_nodes=None, min_samples_leaf=5, splitter=random;, score=-0.022 total time=   0.0s\n[CV 3/3] END max_depth=25, max_features=None, max_leaf_nodes=None, min_samples_leaf=5, splitter=random;, score=-0.018 total time=   0.0s\n[CV 1/3] END max_depth=25, max_features=None, max_leaf_nodes=None, min_samples_leaf=6, splitter=best;, score=-0.026 total time=   0.0s\n[CV 2/3] END max_depth=25, max_features=None, max_leaf_nodes=None, min_samples_leaf=6, splitter=best;, score=-0.023 total time=   0.0s\n[CV 3/3] END max_depth=25, max_features=None, max_leaf_nodes=None, min_samples_leaf=6, splitter=best;, score=-0.020 total time=   0.0s\n[CV 1/3] END max_depth=25, max_features=None, max_leaf_nodes=None, min_samples_leaf=6, splitter=random;, score=-0.021 total time=   0.0s\n[CV 2/3] END max_depth=25, max_features=None, max_leaf_nodes=None, min_samples_leaf=6, splitter=random;, score=-0.024 total time=   0.0s\n[CV 3/3] END max_depth=25, max_features=None, max_leaf_nodes=None, min_samples_leaf=6, splitter=random;, score=-0.017 total time=   0.0s\n[CV 1/3] END max_depth=25, max_features=None, max_leaf_nodes=None, min_samples_leaf=7, splitter=best;, score=-0.026 total time=   0.0s\n[CV 2/3] END max_depth=25, max_features=None, max_leaf_nodes=None, min_samples_leaf=7, splitter=best;, score=-0.023 total time=   0.0s\n[CV 3/3] END max_depth=25, max_features=None, max_leaf_nodes=None, min_samples_leaf=7, splitter=best;, score=-0.018 total time=   0.0s\n[CV 1/3] END max_depth=25, max_features=None, max_leaf_nodes=None, min_samples_leaf=7, splitter=random;, score=-0.019 total time=   0.0s\n[CV 2/3] END max_depth=25, max_features=None, max_leaf_nodes=None, min_samples_leaf=7, splitter=random;, score=-0.020 total time=   0.0s\n[CV 3/3] END max_depth=25, max_features=None, max_leaf_nodes=None, min_samples_leaf=7, splitter=random;, score=-0.016 total time=   0.0s\n[CV 1/3] END max_depth=25, max_features=None, max_leaf_nodes=None, min_samples_leaf=8, splitter=best;, score=-0.022 total time=   0.0s\n[CV 2/3] END max_depth=25, max_features=None, max_leaf_nodes=None, min_samples_leaf=8, splitter=best;, score=-0.025 total time=   0.0s\n[CV 3/3] END max_depth=25, max_features=None, max_leaf_nodes=None, min_samples_leaf=8, splitter=best;, score=-0.017 total time=   0.0s\n[CV 1/3] END max_depth=25, max_features=None, max_leaf_nodes=None, min_samples_leaf=8, splitter=random;, score=-0.025 total time=   0.0s\n[CV 2/3] END max_depth=25, max_features=None, max_leaf_nodes=None, min_samples_leaf=8, splitter=random;, score=-0.020 total time=   0.0s\n[CV 3/3] END max_depth=25, max_features=None, max_leaf_nodes=None, min_samples_leaf=8, splitter=random;, score=-0.015 total time=   0.0s\n[CV 1/3] END max_depth=25, max_features=None, max_leaf_nodes=None, min_samples_leaf=9, splitter=best;, score=-0.022 total time=   0.0s\n[CV 2/3] END max_depth=25, max_features=None, max_leaf_nodes=None, min_samples_leaf=9, splitter=best;, score=-0.022 total time=   0.0s\n[CV 3/3] END max_depth=25, max_features=None, max_leaf_nodes=None, min_samples_leaf=9, splitter=best;, score=-0.015 total time=   0.0s\n[CV 1/3] END max_depth=25, max_features=None, max_leaf_nodes=None, min_samples_leaf=9, splitter=random;, score=-0.023 total time=   0.0s\n[CV 2/3] END max_depth=25, max_features=None, max_leaf_nodes=None, min_samples_leaf=9, splitter=random;, score=-0.020 total time=   0.0s\n[CV 3/3] END max_depth=25, max_features=None, max_leaf_nodes=None, min_samples_leaf=9, splitter=random;, score=-0.014 total time=   0.0s\n[CV 1/3] END max_depth=25, max_features=None, max_leaf_nodes=None, min_samples_leaf=10, splitter=best;, score=-0.020 total time=   0.0s\n[CV 2/3] END max_depth=25, max_features=None, max_leaf_nodes=None, min_samples_leaf=10, splitter=best;, score=-0.023 total time=   0.0s\n[CV 3/3] END max_depth=25, max_features=None, max_leaf_nodes=None, min_samples_leaf=10, splitter=best;, score=-0.015 total time=   0.0s\n[CV 1/3] END max_depth=25, max_features=None, max_leaf_nodes=None, min_samples_leaf=10, splitter=random;, score=-0.023 total time=   0.0s\n[CV 2/3] END max_depth=25, max_features=None, max_leaf_nodes=None, min_samples_leaf=10, splitter=random;, score=-0.019 total time=   0.0s\n[CV 3/3] END max_depth=25, max_features=None, max_leaf_nodes=None, min_samples_leaf=10, splitter=random;, score=-0.013 total time=   0.0s\n[CV 1/3] END max_depth=25, max_features=None, max_leaf_nodes=10, min_samples_leaf=1, splitter=best;, score=-0.020 total time=   0.0s\n[CV 2/3] END max_depth=25, max_features=None, max_leaf_nodes=10, min_samples_leaf=1, splitter=best;, score=-0.019 total time=   0.0s\n[CV 3/3] END max_depth=25, max_features=None, max_leaf_nodes=10, min_samples_leaf=1, splitter=best;, score=-0.014 total time=   0.0s\n[CV 1/3] END max_depth=25, max_features=None, max_leaf_nodes=10, min_samples_leaf=1, splitter=random;, score=-0.020 total time=   0.0s\n[CV 2/3] END max_depth=25, max_features=None, max_leaf_nodes=10, min_samples_leaf=1, splitter=random;, score=-0.019 total time=   0.0s\n[CV 3/3] END max_depth=25, max_features=None, max_leaf_nodes=10, min_samples_leaf=1, splitter=random;, score=-0.015 total time=   0.0s\n[CV 1/3] END max_depth=25, max_features=None, max_leaf_nodes=10, min_samples_leaf=2, splitter=best;, score=-0.020 total time=   0.0s\n[CV 2/3] END max_depth=25, max_features=None, max_leaf_nodes=10, min_samples_leaf=2, splitter=best;, score=-0.019 total time=   0.0s\n[CV 3/3] END max_depth=25, max_features=None, max_leaf_nodes=10, min_samples_leaf=2, splitter=best;, score=-0.014 total time=   0.0s\n[CV 1/3] END max_depth=25, max_features=None, max_leaf_nodes=10, min_samples_leaf=2, splitter=random;, score=-0.020 total time=   0.0s\n[CV 2/3] END max_depth=25, max_features=None, max_leaf_nodes=10, min_samples_leaf=2, splitter=random;, score=-0.020 total time=   0.0s\n[CV 3/3] END max_depth=25, max_features=None, max_leaf_nodes=10, min_samples_leaf=2, splitter=random;, score=-0.018 total time=   0.0s\n[CV 1/3] END max_depth=25, max_features=None, max_leaf_nodes=10, min_samples_leaf=3, splitter=best;, score=-0.020 total time=   0.0s\n[CV 2/3] END max_depth=25, max_features=None, max_leaf_nodes=10, min_samples_leaf=3, splitter=best;, score=-0.019 total time=   0.0s\n[CV 3/3] END max_depth=25, max_features=None, max_leaf_nodes=10, min_samples_leaf=3, splitter=best;, score=-0.014 total time=   0.0s\n[CV 1/3] END max_depth=25, max_features=None, max_leaf_nodes=10, min_samples_leaf=3, splitter=random;, score=-0.029 total time=   0.0s\n[CV 2/3] END max_depth=25, max_features=None, max_leaf_nodes=10, min_samples_leaf=3, splitter=random;, score=-0.017 total time=   0.0s\n[CV 3/3] END max_depth=25, max_features=None, max_leaf_nodes=10, min_samples_leaf=3, splitter=random;, score=-0.017 total time=   0.0s\n[CV 1/3] END max_depth=25, max_features=None, max_leaf_nodes=10, min_samples_leaf=4, splitter=best;, score=-0.020 total time=   0.0s\n[CV 2/3] END max_depth=25, max_features=None, max_leaf_nodes=10, min_samples_leaf=4, splitter=best;, score=-0.019 total time=   0.0s\n[CV 3/3] END max_depth=25, max_features=None, max_leaf_nodes=10, min_samples_leaf=4, splitter=best;, score=-0.014 total time=   0.0s\n[CV 1/3] END max_depth=25, max_features=None, max_leaf_nodes=10, min_samples_leaf=4, splitter=random;, score=-0.023 total time=   0.0s\n[CV 2/3] END max_depth=25, max_features=None, max_leaf_nodes=10, min_samples_leaf=4, splitter=random;, score=-0.019 total time=   0.0s\n[CV 3/3] END max_depth=25, max_features=None, max_leaf_nodes=10, min_samples_leaf=4, splitter=random;, score=-0.013 total time=   0.0s\n[CV 1/3] END max_depth=25, max_features=None, max_leaf_nodes=10, min_samples_leaf=5, splitter=best;, score=-0.020 total time=   0.0s\n[CV 2/3] END max_depth=25, max_features=None, max_leaf_nodes=10, min_samples_leaf=5, splitter=best;, score=-0.019 total time=   0.0s\n[CV 3/3] END max_depth=25, max_features=None, max_leaf_nodes=10, min_samples_leaf=5, splitter=best;, score=-0.014 total time=   0.0s\n[CV 1/3] END max_depth=25, max_features=None, max_leaf_nodes=10, min_samples_leaf=5, splitter=random;, score=-0.021 total time=   0.0s\n[CV 2/3] END max_depth=25, max_features=None, max_leaf_nodes=10, min_samples_leaf=5, splitter=random;, score=-0.018 total time=   0.0s\n[CV 3/3] END max_depth=25, max_features=None, max_leaf_nodes=10, min_samples_leaf=5, splitter=random;, score=-0.014 total time=   0.0s\n[CV 1/3] END max_depth=25, max_features=None, max_leaf_nodes=10, min_samples_leaf=6, splitter=best;, score=-0.020 total time=   0.0s\n[CV 2/3] END max_depth=25, max_features=None, max_leaf_nodes=10, min_samples_leaf=6, splitter=best;, score=-0.019 total time=   0.0s\n[CV 3/3] END max_depth=25, max_features=None, max_leaf_nodes=10, min_samples_leaf=6, splitter=best;, score=-0.014 total time=   0.0s\n[CV 1/3] END max_depth=25, max_features=None, max_leaf_nodes=10, min_samples_leaf=6, splitter=random;, score=-0.018 total time=   0.0s\n[CV 2/3] END max_depth=25, max_features=None, max_leaf_nodes=10, min_samples_leaf=6, splitter=random;, score=-0.019 total time=   0.0s\n[CV 3/3] END max_depth=25, max_features=None, max_leaf_nodes=10, min_samples_leaf=6, splitter=random;, score=-0.014 total time=   0.0s\n[CV 1/3] END max_depth=25, max_features=None, max_leaf_nodes=10, min_samples_leaf=7, splitter=best;, score=-0.020 total time=   0.0s\n[CV 2/3] END max_depth=25, max_features=None, max_leaf_nodes=10, min_samples_leaf=7, splitter=best;, score=-0.019 total time=   0.0s\n[CV 3/3] END max_depth=25, max_features=None, max_leaf_nodes=10, min_samples_leaf=7, splitter=best;, score=-0.014 total time=   0.0s\n[CV 1/3] END max_depth=25, max_features=None, max_leaf_nodes=10, min_samples_leaf=7, splitter=random;, score=-0.020 total time=   0.0s\n[CV 2/3] END max_depth=25, max_features=None, max_leaf_nodes=10, min_samples_leaf=7, splitter=random;, score=-0.018 total time=   0.0s\n[CV 3/3] END max_depth=25, max_features=None, max_leaf_nodes=10, min_samples_leaf=7, splitter=random;, score=-0.016 total time=   0.0s\n[CV 1/3] END max_depth=25, max_features=None, max_leaf_nodes=10, min_samples_leaf=8, splitter=best;, score=-0.020 total time=   0.0s\n[CV 2/3] END max_depth=25, max_features=None, max_leaf_nodes=10, min_samples_leaf=8, splitter=best;, score=-0.019 total time=   0.0s\n[CV 3/3] END max_depth=25, max_features=None, max_leaf_nodes=10, min_samples_leaf=8, splitter=best;, score=-0.014 total time=   0.0s\n[CV 1/3] END max_depth=25, max_features=None, max_leaf_nodes=10, min_samples_leaf=8, splitter=random;, score=-0.021 total time=   0.0s\n[CV 2/3] END max_depth=25, max_features=None, max_leaf_nodes=10, min_samples_leaf=8, splitter=random;, score=-0.018 total time=   0.0s\n[CV 3/3] END max_depth=25, max_features=None, max_leaf_nodes=10, min_samples_leaf=8, splitter=random;, score=-0.013 total time=   0.0s\n[CV 1/3] END max_depth=25, max_features=None, max_leaf_nodes=10, min_samples_leaf=9, splitter=best;, score=-0.020 total time=   0.0s\n[CV 2/3] END max_depth=25, max_features=None, max_leaf_nodes=10, min_samples_leaf=9, splitter=best;, score=-0.019 total time=   0.0s\n[CV 3/3] END max_depth=25, max_features=None, max_leaf_nodes=10, min_samples_leaf=9, splitter=best;, score=-0.014 total time=   0.0s\n[CV 1/3] END max_depth=25, max_features=None, max_leaf_nodes=10, min_samples_leaf=9, splitter=random;, score=-0.018 total time=   0.0s\n[CV 2/3] END max_depth=25, max_features=None, max_leaf_nodes=10, min_samples_leaf=9, splitter=random;, score=-0.022 total time=   0.0s\n[CV 3/3] END max_depth=25, max_features=None, max_leaf_nodes=10, min_samples_leaf=9, splitter=random;, score=-0.015 total time=   0.0s\n[CV 1/3] END max_depth=25, max_features=None, max_leaf_nodes=10, min_samples_leaf=10, splitter=best;, score=-0.020 total time=   0.0s\n[CV 2/3] END max_depth=25, max_features=None, max_leaf_nodes=10, min_samples_leaf=10, splitter=best;, score=-0.020 total time=   0.0s\n[CV 3/3] END max_depth=25, max_features=None, max_leaf_nodes=10, min_samples_leaf=10, splitter=best;, score=-0.014 total time=   0.0s\n[CV 1/3] END max_depth=25, max_features=None, max_leaf_nodes=10, min_samples_leaf=10, splitter=random;, score=-0.020 total time=   0.0s\n[CV 2/3] END max_depth=25, max_features=None, max_leaf_nodes=10, min_samples_leaf=10, splitter=random;, score=-0.021 total time=   0.0s\n[CV 3/3] END max_depth=25, max_features=None, max_leaf_nodes=10, min_samples_leaf=10, splitter=random;, score=-0.015 total time=   0.0s\n[CV 1/3] END max_depth=25, max_features=None, max_leaf_nodes=20, min_samples_leaf=1, splitter=best;, score=-0.022 total time=   0.0s\n[CV 2/3] END max_depth=25, max_features=None, max_leaf_nodes=20, min_samples_leaf=1, splitter=best;, score=-0.019 total time=   0.0s\n[CV 3/3] END max_depth=25, max_features=None, max_leaf_nodes=20, min_samples_leaf=1, splitter=best;, score=-0.014 total time=   0.0s\n[CV 1/3] END max_depth=25, max_features=None, max_leaf_nodes=20, min_samples_leaf=1, splitter=random;, score=-0.026 total time=   0.0s\n[CV 2/3] END max_depth=25, max_features=None, max_leaf_nodes=20, min_samples_leaf=1, splitter=random;, score=-0.020 total time=   0.0s\n[CV 3/3] END max_depth=25, max_features=None, max_leaf_nodes=20, min_samples_leaf=1, splitter=random;, score=-0.013 total time=   0.0s\n[CV 1/3] END max_depth=25, max_features=None, max_leaf_nodes=20, min_samples_leaf=2, splitter=best;, score=-0.022 total time=   0.0s\n[CV 2/3] END max_depth=25, max_features=None, max_leaf_nodes=20, min_samples_leaf=2, splitter=best;, score=-0.019 total time=   0.0s\n[CV 3/3] END max_depth=25, max_features=None, max_leaf_nodes=20, min_samples_leaf=2, splitter=best;, score=-0.014 total time=   0.0s\n[CV 1/3] END max_depth=25, max_features=None, max_leaf_nodes=20, min_samples_leaf=2, splitter=random;, score=-0.018 total time=   0.0s\n[CV 2/3] END max_depth=25, max_features=None, max_leaf_nodes=20, min_samples_leaf=2, splitter=random;, score=-0.021 total time=   0.0s\n[CV 3/3] END max_depth=25, max_features=None, max_leaf_nodes=20, min_samples_leaf=2, splitter=random;, score=-0.014 total time=   0.0s\n[CV 1/3] END max_depth=25, max_features=None, max_leaf_nodes=20, min_samples_leaf=3, splitter=best;, score=-0.022 total time=   0.0s\n[CV 2/3] END max_depth=25, max_features=None, max_leaf_nodes=20, min_samples_leaf=3, splitter=best;, score=-0.019 total time=   0.0s\n[CV 3/3] END max_depth=25, max_features=None, max_leaf_nodes=20, min_samples_leaf=3, splitter=best;, score=-0.014 total time=   0.0s\n[CV 1/3] END max_depth=25, max_features=None, max_leaf_nodes=20, min_samples_leaf=3, splitter=random;, score=-0.023 total time=   0.0s\n[CV 2/3] END max_depth=25, max_features=None, max_leaf_nodes=20, min_samples_leaf=3, splitter=random;, score=-0.018 total time=   0.0s\n[CV 3/3] END max_depth=25, max_features=None, max_leaf_nodes=20, min_samples_leaf=3, splitter=random;, score=-0.013 total time=   0.0s\n[CV 1/3] END max_depth=25, max_features=None, max_leaf_nodes=20, min_samples_leaf=4, splitter=best;, score=-0.022 total time=   0.0s\n[CV 2/3] END max_depth=25, max_features=None, max_leaf_nodes=20, min_samples_leaf=4, splitter=best;, score=-0.019 total time=   0.0s\n[CV 3/3] END max_depth=25, max_features=None, max_leaf_nodes=20, min_samples_leaf=4, splitter=best;, score=-0.014 total time=   0.0s\n[CV 1/3] END max_depth=25, max_features=None, max_leaf_nodes=20, min_samples_leaf=4, splitter=random;, score=-0.019 total time=   0.0s\n[CV 2/3] END max_depth=25, max_features=None, max_leaf_nodes=20, min_samples_leaf=4, splitter=random;, score=-0.021 total time=   0.0s\n[CV 3/3] END max_depth=25, max_features=None, max_leaf_nodes=20, min_samples_leaf=4, splitter=random;, score=-0.016 total time=   0.0s\n[CV 1/3] END max_depth=25, max_features=None, max_leaf_nodes=20, min_samples_leaf=5, splitter=best;, score=-0.021 total time=   0.0s\n[CV 2/3] END max_depth=25, max_features=None, max_leaf_nodes=20, min_samples_leaf=5, splitter=best;, score=-0.019 total time=   0.0s\n[CV 3/3] END max_depth=25, max_features=None, max_leaf_nodes=20, min_samples_leaf=5, splitter=best;, score=-0.015 total time=   0.0s\n[CV 1/3] END max_depth=25, max_features=None, max_leaf_nodes=20, min_samples_leaf=5, splitter=random;, score=-0.025 total time=   0.0s\n[CV 2/3] END max_depth=25, max_features=None, max_leaf_nodes=20, min_samples_leaf=5, splitter=random;, score=-0.019 total time=   0.0s\n[CV 3/3] END max_depth=25, max_features=None, max_leaf_nodes=20, min_samples_leaf=5, splitter=random;, score=-0.015 total time=   0.0s\n[CV 1/3] END max_depth=25, max_features=None, max_leaf_nodes=20, min_samples_leaf=6, splitter=best;, score=-0.021 total time=   0.0s\n[CV 2/3] END max_depth=25, max_features=None, max_leaf_nodes=20, min_samples_leaf=6, splitter=best;, score=-0.019 total time=   0.0s\n[CV 3/3] END max_depth=25, max_features=None, max_leaf_nodes=20, min_samples_leaf=6, splitter=best;, score=-0.015 total time=   0.0s\n[CV 1/3] END max_depth=25, max_features=None, max_leaf_nodes=20, min_samples_leaf=6, splitter=random;, score=-0.019 total time=   0.0s\n[CV 2/3] END max_depth=25, max_features=None, max_leaf_nodes=20, min_samples_leaf=6, splitter=random;, score=-0.019 total time=   0.0s\n[CV 3/3] END max_depth=25, max_features=None, max_leaf_nodes=20, min_samples_leaf=6, splitter=random;, score=-0.015 total time=   0.0s\n[CV 1/3] END max_depth=25, max_features=None, max_leaf_nodes=20, min_samples_leaf=7, splitter=best;, score=-0.022 total time=   0.0s\n[CV 2/3] END max_depth=25, max_features=None, max_leaf_nodes=20, min_samples_leaf=7, splitter=best;, score=-0.019 total time=   0.0s\n[CV 3/3] END max_depth=25, max_features=None, max_leaf_nodes=20, min_samples_leaf=7, splitter=best;, score=-0.015 total time=   0.0s\n[CV 1/3] END max_depth=25, max_features=None, max_leaf_nodes=20, min_samples_leaf=7, splitter=random;, score=-0.019 total time=   0.0s\n[CV 2/3] END max_depth=25, max_features=None, max_leaf_nodes=20, min_samples_leaf=7, splitter=random;, score=-0.022 total time=   0.0s\n[CV 3/3] END max_depth=25, max_features=None, max_leaf_nodes=20, min_samples_leaf=7, splitter=random;, score=-0.018 total time=   0.0s\n[CV 1/3] END max_depth=25, max_features=None, max_leaf_nodes=20, min_samples_leaf=8, splitter=best;, score=-0.021 total time=   0.0s\n[CV 2/3] END max_depth=25, max_features=None, max_leaf_nodes=20, min_samples_leaf=8, splitter=best;, score=-0.021 total time=   0.0s\n[CV 3/3] END max_depth=25, max_features=None, max_leaf_nodes=20, min_samples_leaf=8, splitter=best;, score=-0.015 total time=   0.0s\n[CV 1/3] END max_depth=25, max_features=None, max_leaf_nodes=20, min_samples_leaf=8, splitter=random;, score=-0.020 total time=   0.0s\n[CV 2/3] END max_depth=25, max_features=None, max_leaf_nodes=20, min_samples_leaf=8, splitter=random;, score=-0.019 total time=   0.0s\n[CV 3/3] END max_depth=25, max_features=None, max_leaf_nodes=20, min_samples_leaf=8, splitter=random;, score=-0.016 total time=   0.0s\n[CV 1/3] END max_depth=25, max_features=None, max_leaf_nodes=20, min_samples_leaf=9, splitter=best;, score=-0.020 total time=   0.0s\n[CV 2/3] END max_depth=25, max_features=None, max_leaf_nodes=20, min_samples_leaf=9, splitter=best;, score=-0.021 total time=   0.0s\n[CV 3/3] END max_depth=25, max_features=None, max_leaf_nodes=20, min_samples_leaf=9, splitter=best;, score=-0.015 total time=   0.0s\n[CV 1/3] END max_depth=25, max_features=None, max_leaf_nodes=20, min_samples_leaf=9, splitter=random;, score=-0.023 total time=   0.0s\n[CV 2/3] END max_depth=25, max_features=None, max_leaf_nodes=20, min_samples_leaf=9, splitter=random;, score=-0.019 total time=   0.0s\n[CV 3/3] END max_depth=25, max_features=None, max_leaf_nodes=20, min_samples_leaf=9, splitter=random;, score=-0.012 total time=   0.0s\n[CV 1/3] END max_depth=25, max_features=None, max_leaf_nodes=20, min_samples_leaf=10, splitter=best;, score=-0.020 total time=   0.0s\n[CV 2/3] END max_depth=25, max_features=None, max_leaf_nodes=20, min_samples_leaf=10, splitter=best;, score=-0.021 total time=   0.0s\n[CV 3/3] END max_depth=25, max_features=None, max_leaf_nodes=20, min_samples_leaf=10, splitter=best;, score=-0.015 total time=   0.0s\n[CV 1/3] END max_depth=25, max_features=None, max_leaf_nodes=20, min_samples_leaf=10, splitter=random;, score=-0.020 total time=   0.0s\n[CV 2/3] END max_depth=25, max_features=None, max_leaf_nodes=20, min_samples_leaf=10, splitter=random;, score=-0.019 total time=   0.0s\n[CV 3/3] END max_depth=25, max_features=None, max_leaf_nodes=20, min_samples_leaf=10, splitter=random;, score=-0.018 total time=   0.0s\n[CV 1/3] END max_depth=25, max_features=None, max_leaf_nodes=30, min_samples_leaf=1, splitter=best;, score=-0.026 total time=   0.0s\n[CV 2/3] END max_depth=25, max_features=None, max_leaf_nodes=30, min_samples_leaf=1, splitter=best;, score=-0.020 total time=   0.0s\n[CV 3/3] END max_depth=25, max_features=None, max_leaf_nodes=30, min_samples_leaf=1, splitter=best;, score=-0.017 total time=   0.0s\n[CV 1/3] END max_depth=25, max_features=None, max_leaf_nodes=30, min_samples_leaf=1, splitter=random;, score=-0.020 total time=   0.0s\n[CV 2/3] END max_depth=25, max_features=None, max_leaf_nodes=30, min_samples_leaf=1, splitter=random;, score=-0.021 total time=   0.0s\n[CV 3/3] END max_depth=25, max_features=None, max_leaf_nodes=30, min_samples_leaf=1, splitter=random;, score=-0.015 total time=   0.0s\n[CV 1/3] END max_depth=25, max_features=None, max_leaf_nodes=30, min_samples_leaf=2, splitter=best;, score=-0.023 total time=   0.0s\n[CV 2/3] END max_depth=25, max_features=None, max_leaf_nodes=30, min_samples_leaf=2, splitter=best;, score=-0.019 total time=   0.0s\n[CV 3/3] END max_depth=25, max_features=None, max_leaf_nodes=30, min_samples_leaf=2, splitter=best;, score=-0.019 total time=   0.0s\n[CV 1/3] END max_depth=25, max_features=None, max_leaf_nodes=30, min_samples_leaf=2, splitter=random;, score=-0.026 total time=   0.0s\n[CV 2/3] END max_depth=25, max_features=None, max_leaf_nodes=30, min_samples_leaf=2, splitter=random;, score=-0.018 total time=   0.0s\n[CV 3/3] END max_depth=25, max_features=None, max_leaf_nodes=30, min_samples_leaf=2, splitter=random;, score=-0.019 total time=   0.0s\n[CV 1/3] END max_depth=25, max_features=None, max_leaf_nodes=30, min_samples_leaf=3, splitter=best;, score=-0.022 total time=   0.0s\n[CV 2/3] END max_depth=25, max_features=None, max_leaf_nodes=30, min_samples_leaf=3, splitter=best;, score=-0.019 total time=   0.0s\n[CV 3/3] END max_depth=25, max_features=None, max_leaf_nodes=30, min_samples_leaf=3, splitter=best;, score=-0.017 total time=   0.0s\n[CV 1/3] END max_depth=25, max_features=None, max_leaf_nodes=30, min_samples_leaf=3, splitter=random;, score=-0.025 total time=   0.0s\n[CV 2/3] END max_depth=25, max_features=None, max_leaf_nodes=30, min_samples_leaf=3, splitter=random;, score=-0.021 total time=   0.0s\n[CV 3/3] END max_depth=25, max_features=None, max_leaf_nodes=30, min_samples_leaf=3, splitter=random;, score=-0.024 total time=   0.0s\n[CV 1/3] END max_depth=25, max_features=None, max_leaf_nodes=30, min_samples_leaf=4, splitter=best;, score=-0.023 total time=   0.0s\n[CV 2/3] END max_depth=25, max_features=None, max_leaf_nodes=30, min_samples_leaf=4, splitter=best;, score=-0.021 total time=   0.0s\n[CV 3/3] END max_depth=25, max_features=None, max_leaf_nodes=30, min_samples_leaf=4, splitter=best;, score=-0.017 total time=   0.0s\n[CV 1/3] END max_depth=25, max_features=None, max_leaf_nodes=30, min_samples_leaf=4, splitter=random;, score=-0.021 total time=   0.0s\n[CV 2/3] END max_depth=25, max_features=None, max_leaf_nodes=30, min_samples_leaf=4, splitter=random;, score=-0.023 total time=   0.0s\n[CV 3/3] END max_depth=25, max_features=None, max_leaf_nodes=30, min_samples_leaf=4, splitter=random;, score=-0.017 total time=   0.0s\n[CV 1/3] END max_depth=25, max_features=None, max_leaf_nodes=30, min_samples_leaf=5, splitter=best;, score=-0.025 total time=   0.0s\n[CV 2/3] END max_depth=25, max_features=None, max_leaf_nodes=30, min_samples_leaf=5, splitter=best;, score=-0.021 total time=   0.0s\n[CV 3/3] END max_depth=25, max_features=None, max_leaf_nodes=30, min_samples_leaf=5, splitter=best;, score=-0.016 total time=   0.0s\n[CV 1/3] END max_depth=25, max_features=None, max_leaf_nodes=30, min_samples_leaf=5, splitter=random;, score=-0.022 total time=   0.0s\n[CV 2/3] END max_depth=25, max_features=None, max_leaf_nodes=30, min_samples_leaf=5, splitter=random;, score=-0.019 total time=   0.0s\n[CV 3/3] END max_depth=25, max_features=None, max_leaf_nodes=30, min_samples_leaf=5, splitter=random;, score=-0.016 total time=   0.0s\n[CV 1/3] END max_depth=25, max_features=None, max_leaf_nodes=30, min_samples_leaf=6, splitter=best;, score=-0.025 total time=   0.0s\n[CV 2/3] END max_depth=25, max_features=None, max_leaf_nodes=30, min_samples_leaf=6, splitter=best;, score=-0.020 total time=   0.0s\n[CV 3/3] END max_depth=25, max_features=None, max_leaf_nodes=30, min_samples_leaf=6, splitter=best;, score=-0.015 total time=   0.0s\n[CV 1/3] END max_depth=25, max_features=None, max_leaf_nodes=30, min_samples_leaf=6, splitter=random;, score=-0.022 total time=   0.0s\n[CV 2/3] END max_depth=25, max_features=None, max_leaf_nodes=30, min_samples_leaf=6, splitter=random;, score=-0.021 total time=   0.0s\n[CV 3/3] END max_depth=25, max_features=None, max_leaf_nodes=30, min_samples_leaf=6, splitter=random;, score=-0.014 total time=   0.0s\n[CV 1/3] END max_depth=25, max_features=None, max_leaf_nodes=30, min_samples_leaf=7, splitter=best;, score=-0.023 total time=   0.0s\n[CV 2/3] END max_depth=25, max_features=None, max_leaf_nodes=30, min_samples_leaf=7, splitter=best;, score=-0.020 total time=   0.0s\n[CV 3/3] END max_depth=25, max_features=None, max_leaf_nodes=30, min_samples_leaf=7, splitter=best;, score=-0.015 total time=   0.0s\n[CV 1/3] END max_depth=25, max_features=None, max_leaf_nodes=30, min_samples_leaf=7, splitter=random;, score=-0.018 total time=   0.0s\n[CV 2/3] END max_depth=25, max_features=None, max_leaf_nodes=30, min_samples_leaf=7, splitter=random;, score=-0.019 total time=   0.0s\n[CV 3/3] END max_depth=25, max_features=None, max_leaf_nodes=30, min_samples_leaf=7, splitter=random;, score=-0.015 total time=   0.0s\n[CV 1/3] END max_depth=25, max_features=None, max_leaf_nodes=30, min_samples_leaf=8, splitter=best;, score=-0.022 total time=   0.0s\n[CV 2/3] END max_depth=25, max_features=None, max_leaf_nodes=30, min_samples_leaf=8, splitter=best;, score=-0.022 total time=   0.0s\n[CV 3/3] END max_depth=25, max_features=None, max_leaf_nodes=30, min_samples_leaf=8, splitter=best;, score=-0.015 total time=   0.0s\n[CV 1/3] END max_depth=25, max_features=None, max_leaf_nodes=30, min_samples_leaf=8, splitter=random;, score=-0.017 total time=   0.0s\n[CV 2/3] END max_depth=25, max_features=None, max_leaf_nodes=30, min_samples_leaf=8, splitter=random;, score=-0.021 total time=   0.0s\n[CV 3/3] END max_depth=25, max_features=None, max_leaf_nodes=30, min_samples_leaf=8, splitter=random;, score=-0.013 total time=   0.0s\n[CV 1/3] END max_depth=25, max_features=None, max_leaf_nodes=30, min_samples_leaf=9, splitter=best;, score=-0.020 total time=   0.0s\n[CV 2/3] END max_depth=25, max_features=None, max_leaf_nodes=30, min_samples_leaf=9, splitter=best;, score=-0.022 total time=   0.0s\n[CV 3/3] END max_depth=25, max_features=None, max_leaf_nodes=30, min_samples_leaf=9, splitter=best;, score=-0.015 total time=   0.0s\n[CV 1/3] END max_depth=25, max_features=None, max_leaf_nodes=30, min_samples_leaf=9, splitter=random;, score=-0.020 total time=   0.0s\n[CV 2/3] END max_depth=25, max_features=None, max_leaf_nodes=30, min_samples_leaf=9, splitter=random;, score=-0.021 total time=   0.0s\n[CV 3/3] END max_depth=25, max_features=None, max_leaf_nodes=30, min_samples_leaf=9, splitter=random;, score=-0.013 total time=   0.0s\n[CV 1/3] END max_depth=25, max_features=None, max_leaf_nodes=30, min_samples_leaf=10, splitter=best;, score=-0.020 total time=   0.0s\n[CV 2/3] END max_depth=25, max_features=None, max_leaf_nodes=30, min_samples_leaf=10, splitter=best;, score=-0.022 total time=   0.0s\n[CV 3/3] END max_depth=25, max_features=None, max_leaf_nodes=30, min_samples_leaf=10, splitter=best;, score=-0.015 total time=   0.0s\n[CV 1/3] END max_depth=25, max_features=None, max_leaf_nodes=30, min_samples_leaf=10, splitter=random;, score=-0.017 total time=   0.0s\n[CV 2/3] END max_depth=25, max_features=None, max_leaf_nodes=30, min_samples_leaf=10, splitter=random;, score=-0.019 total time=   0.0s\n[CV 3/3] END max_depth=25, max_features=None, max_leaf_nodes=30, min_samples_leaf=10, splitter=random;, score=-0.013 total time=   0.0s\n",
     "output_type": "stream"
    },
    {
     "output_type": "execute_result",
     "execution_count": 135,
     "data": {
      "text/plain": "GridSearchCV(cv=3, estimator=DecisionTreeRegressor(),\n             param_grid={'max_depth': [10, 15, 20, 25],\n                         'max_features': ['auto', 'log2', 'sqrt', None],\n                         'max_leaf_nodes': [None, 10, 20, 30],\n                         'min_samples_leaf': [1, 2, 3, 4, 5, 6, 7, 8, 9, 10],\n                         'splitter': ['best', 'random']},\n             scoring='neg_mean_squared_error', verbose=3)"
     },
     "metadata": {}
    }
   ]
  },
  {
   "cell_type": "code",
   "metadata": {
    "tags": [],
    "cell_id": "00013-f19d3af0-66fc-4f5c-b1bc-e720553122fc",
    "deepnote_to_be_reexecuted": false,
    "source_hash": "5ae5a551",
    "execution_start": 1631310309747,
    "execution_millis": 7,
    "deepnote_cell_type": "code"
   },
   "source": "tuning_model.best_params_",
   "execution_count": null,
   "outputs": [
    {
     "output_type": "execute_result",
     "execution_count": 136,
     "data": {
      "text/plain": "{'max_depth': 15,\n 'max_features': None,\n 'max_leaf_nodes': 10,\n 'min_samples_leaf': 3,\n 'splitter': 'random'}"
     },
     "metadata": {}
    }
   ]
  },
  {
   "cell_type": "code",
   "metadata": {
    "tags": [],
    "cell_id": "00014-e4258b9b-ba68-4fa5-a48e-a0671ba53d3e",
    "deepnote_to_be_reexecuted": false,
    "source_hash": "d970eb62",
    "execution_start": 1631790336714,
    "execution_millis": 2,
    "deepnote_cell_type": "code"
   },
   "source": "dt_regressor = DecisionTreeRegressor(max_depth = 15, criterion = 'mse', max_features= None, max_leaf_nodes= 10, min_samples_leaf= 3, splitter='random', random_state = 1)\ndt_regressor.fit(X_train, y_train)\npred_val_dt = dt_regressor.predict(X_val)\npred_test_dt = dt_regressor.predict(X_test)",
   "outputs": [],
   "execution_count": null
  },
  {
   "cell_type": "markdown",
   "source": "### Random Forest Regression",
   "metadata": {
    "tags": [],
    "cell_id": "00017-8d928ef4-7e86-46dc-9ea5-7b01e241d1aa",
    "deepnote_cell_type": "markdown"
   }
  },
  {
   "cell_type": "code",
   "metadata": {
    "tags": [],
    "cell_id": "00013-47e478d1-0f0a-4c0c-868b-9c6b7303789b",
    "deepnote_to_be_reexecuted": false,
    "source_hash": "129cf13f",
    "execution_start": 1631310329843,
    "execution_millis": 669216,
    "deepnote_cell_type": "code"
   },
   "source": "# Hyperparameter Tuning\n\nrf = RandomForestRegressor(random_state = 35)\n\nrandom_grid = {'n_estimators': [100, 200, 300, 400, 500], \n               'max_features': ['auto', 'sqrt'], \n               \"max_depth\" : [10, 15, 20, 25],\n               \"min_samples_leaf\":[1,2,3,4,5,6,7,8,9,10],\n               'bootstrap': [True, False]}\n\n\nrf_random = RandomizedSearchCV(estimator = rf,param_distributions = random_grid,\n               n_iter = 100, cv = 5, verbose=2, random_state=35, n_jobs = -1)\nrf_random.fit(X_train,y_train)",
   "execution_count": null,
   "outputs": [
    {
     "name": "stdout",
     "text": "[CV] END bootstrap=False, max_depth=10, max_features=auto, min_samples_leaf=4, n_estimators=200; total time=   2.6s\n[CV] END bootstrap=False, max_depth=20, max_features=sqrt, min_samples_leaf=3, n_estimators=400; total time=   2.1s\n[CV] END bootstrap=False, max_depth=20, max_features=sqrt, min_samples_leaf=3, n_estimators=400; total time=   2.1s\n[CV] END bootstrap=False, max_depth=20, max_features=sqrt, min_samples_leaf=3, n_estimators=400; total time=   2.0s\n[CV] END bootstrap=False, max_depth=20, max_features=sqrt, min_samples_leaf=2, n_estimators=100; total time=   0.6s\n[CV] END bootstrap=False, max_depth=20, max_features=sqrt, min_samples_leaf=2, n_estimators=100; total time=   0.5s\n[CV] END bootstrap=False, max_depth=15, max_features=sqrt, min_samples_leaf=5, n_estimators=500; total time=   2.4s\n[CV] END bootstrap=False, max_depth=15, max_features=sqrt, min_samples_leaf=5, n_estimators=500; total time=   2.3s\n[CV] END bootstrap=False, max_depth=15, max_features=sqrt, min_samples_leaf=5, n_estimators=500; total time=   2.3s\n[CV] END bootstrap=True, max_depth=20, max_features=auto, min_samples_leaf=4, n_estimators=100; total time=   1.0s\n[CV] END bootstrap=True, max_depth=25, max_features=sqrt, min_samples_leaf=7, n_estimators=300; total time=   1.2s\n[CV] END bootstrap=True, max_depth=25, max_features=sqrt, min_samples_leaf=7, n_estimators=300; total time=   1.2s\n[CV] END bootstrap=True, max_depth=25, max_features=sqrt, min_samples_leaf=7, n_estimators=300; total time=   1.3s\n[CV] END bootstrap=False, max_depth=20, max_features=sqrt, min_samples_leaf=3, n_estimators=100; total time=   0.5s\n[CV] END bootstrap=False, max_depth=20, max_features=sqrt, min_samples_leaf=3, n_estimators=100; total time=   0.5s\n[CV] END bootstrap=False, max_depth=25, max_features=sqrt, min_samples_leaf=1, n_estimators=100; total time=   0.7s\n[CV] END bootstrap=False, max_depth=25, max_features=sqrt, min_samples_leaf=1, n_estimators=100; total time=   0.7s\n[CV] END bootstrap=False, max_depth=20, max_features=auto, min_samples_leaf=7, n_estimators=500; total time=   6.0s\n[CV] END bootstrap=False, max_depth=20, max_features=auto, min_samples_leaf=7, n_estimators=500; total time=   6.0s\n[CV] END bootstrap=False, max_depth=20, max_features=auto, min_samples_leaf=7, n_estimators=500; total time=   5.9s\n[CV] END bootstrap=False, max_depth=15, max_features=sqrt, min_samples_leaf=5, n_estimators=400; total time=   1.9s\n[CV] END bootstrap=False, max_depth=20, max_features=sqrt, min_samples_leaf=10, n_estimators=100; total time=   0.4s\n[CV] END bootstrap=False, max_depth=20, max_features=sqrt, min_samples_leaf=10, n_estimators=100; total time=   0.5s\n[CV] END bootstrap=False, max_depth=20, max_features=sqrt, min_samples_leaf=10, n_estimators=100; total time=   0.4s\n[CV] END bootstrap=True, max_depth=25, max_features=auto, min_samples_leaf=7, n_estimators=400; total time=   3.3s\n[CV] END bootstrap=True, max_depth=25, max_features=auto, min_samples_leaf=7, n_estimators=400; total time=   3.4s\n[CV] END bootstrap=True, max_depth=25, max_features=auto, min_samples_leaf=7, n_estimators=400; total time=   3.2s\n[CV] END bootstrap=False, max_depth=10, max_features=sqrt, min_samples_leaf=5, n_estimators=500; total time=   2.2s\n[CV] END bootstrap=False, max_depth=10, max_features=sqrt, min_samples_leaf=5, n_estimators=500; total time=   2.2s\n[CV] END bootstrap=True, max_depth=25, max_features=auto, min_samples_leaf=7, n_estimators=200; total time=   1.7s\n[CV] END bootstrap=True, max_depth=25, max_features=auto, min_samples_leaf=7, n_estimators=200; total time=   1.7s\n[CV] END bootstrap=False, max_depth=20, max_features=auto, min_samples_leaf=4, n_estimators=100; total time=   1.4s\n[CV] END bootstrap=False, max_depth=20, max_features=auto, min_samples_leaf=4, n_estimators=100; total time=   1.4s\n[CV] END bootstrap=False, max_depth=20, max_features=auto, min_samples_leaf=4, n_estimators=100; total time=   1.4s\n[CV] END bootstrap=False, max_depth=25, max_features=sqrt, min_samples_leaf=3, n_estimators=300; total time=   1.6s\n[CV] END bootstrap=False, max_depth=25, max_features=sqrt, min_samples_leaf=3, n_estimators=300; total time=   1.6s\n[CV] END bootstrap=False, max_depth=20, max_features=auto, min_samples_leaf=6, n_estimators=500; total time=   6.2s\n[CV] END bootstrap=False, max_depth=20, max_features=auto, min_samples_leaf=6, n_estimators=500; total time=   6.3s\n[CV] END bootstrap=False, max_depth=20, max_features=auto, min_samples_leaf=6, n_estimators=500; total time=   6.2s\n[CV] END bootstrap=False, max_depth=10, max_features=auto, min_samples_leaf=4, n_estimators=300; total time=   3.8s\n[CV] END bootstrap=False, max_depth=10, max_features=auto, min_samples_leaf=4, n_estimators=300; total time=   3.8s\n[CV] END bootstrap=False, max_depth=20, max_features=auto, min_samples_leaf=2, n_estimators=500; total time=   8.6s/shared-libs/python3.7/py/lib/python3.7/site-packages/sklearn/model_selection/_validation.py:598: DataConversionWarning: A column-vector y was passed when a 1d array was expected. Please change the shape of y to (n_samples,), for example using ravel().\n  estimator.fit(X_train, y_train, **fit_params)\n/shared-libs/python3.7/py/lib/python3.7/site-packages/sklearn/model_selection/_validation.py:598: DataConversionWarning: A column-vector y was passed when a 1d array was expected. Please change the shape of y to (n_samples,), for example using ravel().\n  estimator.fit(X_train, y_train, **fit_params)\n/shared-libs/python3.7/py/lib/python3.7/site-packages/sklearn/model_selection/_validation.py:598: DataConversionWarning: A column-vector y was passed when a 1d array was expected. Please change the shape of y to (n_samples,), for example using ravel().\n  estimator.fit(X_train, y_train, **fit_params)\n/shared-libs/python3.7/py/lib/python3.7/site-packages/sklearn/model_selection/_validation.py:598: DataConversionWarning: A column-vector y was passed when a 1d array was expected. Please change the shape of y to (n_samples,), for example using ravel().\n  estimator.fit(X_train, y_train, **fit_params)\n/shared-libs/python3.7/py/lib/python3.7/site-packages/sklearn/model_selection/_validation.py:598: DataConversionWarning: A column-vector y was passed when a 1d array was expected. Please change the shape of y to (n_samples,), for example using ravel().\n  estimator.fit(X_train, y_train, **fit_params)\n/shared-libs/python3.7/py/lib/python3.7/site-packages/sklearn/model_selection/_validation.py:598: DataConversionWarning: A column-vector y was passed when a 1d array was expected. Please change the shape of y to (n_samples,), for example using ravel().\n  estimator.fit(X_train, y_train, **fit_params)\n/shared-libs/python3.7/py/lib/python3.7/site-packages/sklearn/model_selection/_validation.py:598: DataConversionWarning: A column-vector y was passed when a 1d array was expected. Please change the shape of y to (n_samples,), for example using ravel().\n  estimator.fit(X_train, y_train, **fit_params)\n/shared-libs/python3.7/py/lib/python3.7/site-packages/sklearn/model_selection/_validation.py:598: DataConversionWarning: A column-vector y was passed when a 1d array was expected. Please change the shape of y to (n_samples,), for example using ravel().\n  estimator.fit(X_train, y_train, **fit_params)\n/shared-libs/python3.7/py/lib/python3.7/site-packages/sklearn/model_selection/_validation.py:598: DataConversionWarning: A column-vector y was passed when a 1d array was expected. Please change the shape of y to (n_samples,), for example using ravel().\n  estimator.fit(X_train, y_train, **fit_params)\n/shared-libs/python3.7/py/lib/python3.7/site-packages/sklearn/model_selection/_validation.py:598: DataConversionWarning: A column-vector y was passed when a 1d array was expected. Please change the shape of y to (n_samples,), for example using ravel().\n  estimator.fit(X_train, y_train, **fit_params)\n/shared-libs/python3.7/py/lib/python3.7/site-packages/sklearn/model_selection/_validation.py:598: DataConversionWarning: A column-vector y was passed when a 1d array was expected. Please change the shape of y to (n_samples,), for example using ravel().\n  estimator.fit(X_train, y_train, **fit_params)\n/shared-libs/python3.7/py/lib/python3.7/site-packages/sklearn/model_selection/_validation.py:598: DataConversionWarning: A column-vector y was passed when a 1d array was expected. Please change the shape of y to (n_samples,), for example using ravel().\n  estimator.fit(X_train, y_train, **fit_params)\n/shared-libs/python3.7/py/lib/python3.7/site-packages/sklearn/model_selection/_validation.py:598: DataConversionWarning: A column-vector y was passed when a 1d array was expected. Please change the shape of y to (n_samples,), for example using ravel().\n  estimator.fit(X_train, y_train, **fit_params)\n/shared-libs/python3.7/py/lib/python3.7/site-packages/sklearn/model_selection/_validation.py:598: DataConversionWarning: A column-vector y was passed when a 1d array was expected. Please change the shape of y to (n_samples,), for example using ravel().\n  estimator.fit(X_train, y_train, **fit_params)\n/shared-libs/python3.7/py/lib/python3.7/site-packages/sklearn/model_selection/_validation.py:598: DataConversionWarning: A column-vector y was passed when a 1d array was expected. Please change the shape of y to (n_samples,), for example using ravel().\n  estimator.fit(X_train, y_train, **fit_params)\n/shared-libs/python3.7/py/lib/python3.7/site-packages/sklearn/model_selection/_validation.py:598: DataConversionWarning: A column-vector y was passed when a 1d array was expected. Please change the shape of y to (n_samples,), for example using ravel().\n  estimator.fit(X_train, y_train, **fit_params)\n/shared-libs/python3.7/py/lib/python3.7/site-packages/sklearn/model_selection/_validation.py:598: DataConversionWarning: A column-vector y was passed when a 1d array was expected. Please change the shape of y to (n_samples,), for example using ravel().\n  estimator.fit(X_train, y_train, **fit_params)\n/shared-libs/python3.7/py/lib/python3.7/site-packages/sklearn/model_selection/_validation.py:598: DataConversionWarning: A column-vector y was passed when a 1d array was expected. Please change the shape of y to (n_samples,), for example using ravel().\n  estimator.fit(X_train, y_train, **fit_params)\n/shared-libs/python3.7/py/lib/python3.7/site-packages/sklearn/model_selection/_validation.py:598: DataConversionWarning: A column-vector y was passed when a 1d array was expected. Please change the shape of y to (n_samples,), for example using ravel().\n  estimator.fit(X_train, y_train, **fit_params)\n/shared-libs/python3.7/py/lib/python3.7/site-packages/sklearn/model_selection/_validation.py:598: DataConversionWarning: A column-vector y was passed when a 1d array was expected. Please change the shape of y to (n_samples,), for example using ravel().\n  estimator.fit(X_train, y_train, **fit_params)\n/shared-libs/python3.7/py/lib/python3.7/site-packages/sklearn/model_selection/_validation.py:598: DataConversionWarning: A column-vector y was passed when a 1d array was expected. Please change the shape of y to (n_samples,), for example using ravel().\n  estimator.fit(X_train, y_train, **fit_params)\n/shared-libs/python3.7/py/lib/python3.7/site-packages/sklearn/model_selection/_validation.py:598: DataConversionWarning: A column-vector y was passed when a 1d array was expected. Please change the shape of y to (n_samples,), for example using ravel().\n  estimator.fit(X_train, y_train, **fit_params)\n/shared-libs/python3.7/py/lib/python3.7/site-packages/sklearn/model_selection/_validation.py:598: DataConversionWarning: A column-vector y was passed when a 1d array was expected. Please change the shape of y to (n_samples,), for example using ravel().\n  estimator.fit(X_train, y_train, **fit_params)\n/shared-libs/python3.7/py/lib/python3.7/site-packages/sklearn/model_selection/_validation.py:598: DataConversionWarning: A column-vector y was passed when a 1d array was expected. Please change the shape of y to (n_samples,), for example using ravel().\n  estimator.fit(X_train, y_train, **fit_params)\n/shared-libs/python3.7/py/lib/python3.7/site-packages/sklearn/model_selection/_validation.py:598: DataConversionWarning: A column-vector y was passed when a 1d array was expected. Please change the shape of y to (n_samples,), for example using ravel().\n  estimator.fit(X_train, y_train, **fit_params)\n/shared-libs/python3.7/py/lib/python3.7/site-packages/sklearn/model_selection/_validation.py:598: DataConversionWarning: A column-vector y was passed when a 1d array was expected. Please change the shape of y to (n_samples,), for example using ravel().\n  estimator.fit(X_train, y_train, **fit_params)\n/shared-libs/python3.7/py/lib/python3.7/site-packages/sklearn/model_selection/_validation.py:598: DataConversionWarning: A column-vector y was passed when a 1d array was expected. Please change the shape of y to (n_samples,), for example using ravel().\n  estimator.fit(X_train, y_train, **fit_params)\n/shared-libs/python3.7/py/lib/python3.7/site-packages/sklearn/model_selection/_validation.py:598: DataConversionWarning: A column-vector y was passed when a 1d array was expected. Please change the shape of y to (n_samples,), for example using ravel().\n  estimator.fit(X_train, y_train, **fit_params)\n/shared-libs/python3.7/py/lib/python3.7/site-packages/sklearn/model_selection/_validation.py:598: DataConversionWarning: A column-vector y was passed when a 1d array was expected. Please change the shape of y to (n_samples,), for example using ravel().\n  estimator.fit(X_train, y_train, **fit_params)\n/shared-libs/python3.7/py/lib/python3.7/site-packages/sklearn/model_selection/_validation.py:598: DataConversionWarning: A column-vector y was passed when a 1d array was expected. Please change the shape of y to (n_samples,), for example using ravel().\n  estimator.fit(X_train, y_train, **fit_params)\n/shared-libs/python3.7/py/lib/python3.7/site-packages/sklearn/model_selection/_validation.py:598: DataConversionWarning: A column-vector y was passed when a 1d array was expected. Please change the shape of y to (n_samples,), for example using ravel().\n  estimator.fit(X_train, y_train, **fit_params)\n/shared-libs/python3.7/py/lib/python3.7/site-packages/sklearn/model_selection/_validation.py:598: DataConversionWarning: A column-vector y was passed when a 1d array was expected. Please change the shape of y to (n_samples,), for example using ravel().\n  estimator.fit(X_train, y_train, **fit_params)\n/shared-libs/python3.7/py/lib/python3.7/site-packages/sklearn/model_selection/_validation.py:598: DataConversionWarning: A column-vector y was passed when a 1d array was expected. Please change the shape of y to (n_samples,), for example using ravel().\n  estimator.fit(X_train, y_train, **fit_params)\n/shared-libs/python3.7/py/lib/python3.7/site-packages/sklearn/model_selection/_validation.py:598: DataConversionWarning: A column-vector y was passed when a 1d array was expected. Please change the shape of y to (n_samples,), for example using ravel().\n  estimator.fit(X_train, y_train, **fit_params)\n/shared-libs/python3.7/py/lib/python3.7/site-packages/sklearn/model_selection/_validation.py:598: DataConversionWarning: A column-vector y was passed when a 1d array was expected. Please change the shape of y to (n_samples,), for example using ravel().\n  estimator.fit(X_train, y_train, **fit_params)\n/shared-libs/python3.7/py/lib/python3.7/site-packages/sklearn/model_selection/_validation.py:598: DataConversionWarning: A column-vector y was passed when a 1d array was expected. Please change the shape of y to (n_samples,), for example using ravel().\n  estimator.fit(X_train, y_train, **fit_params)\n/shared-libs/python3.7/py/lib/python3.7/site-packages/sklearn/model_selection/_validation.py:598: DataConversionWarning: A column-vector y was passed when a 1d array was expected. Please change the shape of y to (n_samples,), for example using ravel().\n  estimator.fit(X_train, y_train, **fit_params)\n/shared-libs/python3.7/py/lib/python3.7/site-packages/sklearn/model_selection/_validation.py:598: DataConversionWarning: A column-vector y was passed when a 1d array was expected. Please change the shape of y to (n_samples,), for example using ravel().\n  estimator.fit(X_train, y_train, **fit_params)\n/shared-libs/python3.7/py/lib/python3.7/site-packages/sklearn/model_selection/_validation.py:598: DataConversionWarning: A column-vector y was passed when a 1d array was expected. Please change the shape of y to (n_samples,), for example using ravel().\n  estimator.fit(X_train, y_train, **fit_params)\n/shared-libs/python3.7/py/lib/python3.7/site-packages/sklearn/model_selection/_validation.py:598: DataConversionWarning: A column-vector y was passed when a 1d array was expected. Please change the shape of y to (n_samples,), for example using ravel().\n  estimator.fit(X_train, y_train, **fit_params)\n/shared-libs/python3.7/py/lib/python3.7/site-packages/sklearn/model_selection/_validation.py:598: DataConversionWarning: A column-vector y was passed when a 1d array was expected. Please change the shape of y to (n_samples,), for example using ravel().\n  estimator.fit(X_train, y_train, **fit_params)\n/shared-libs/python3.7/py/lib/python3.7/site-packages/sklearn/model_selection/_validation.py:598: DataConversionWarning: A column-vector y was passed when a 1d array was expected. Please change the shape of y to (n_samples,), for example using ravel().\n  estimator.fit(X_train, y_train, **fit_params)\n/shared-libs/python3.7/py/lib/python3.7/site-packages/sklearn/model_selection/_validation.py:598: DataConversionWarning: A column-vector y was passed when a 1d array was expected. Please change the shape of y to (n_samples,), for example using ravel().\n  estimator.fit(X_train, y_train, **fit_params)\n/shared-libs/python3.7/py/lib/python3.7/site-packages/sklearn/model_selection/_validation.py:598: DataConversionWarning: A column-vector y was passed when a 1d array was expected. Please change the shape of y to (n_samples,), for example using ravel().\n  estimator.fit(X_train, y_train, **fit_params)\n/shared-libs/python3.7/py/lib/python3.7/site-packages/sklearn/model_selection/_validation.py:598: DataConversionWarning: A column-vector y was passed when a 1d array was expected. Please change the shape of y to (n_samples,), for example using ravel().\n  estimator.fit(X_train, y_train, **fit_params)\n/shared-libs/python3.7/py/lib/python3.7/site-packages/sklearn/model_selection/_validation.py:598: DataConversionWarning: A column-vector y was passed when a 1d array was expected. Please change the shape of y to (n_samples,), for example using ravel().\n  estimator.fit(X_train, y_train, **fit_params)\n/shared-libs/python3.7/py/lib/python3.7/site-packages/sklearn/model_selection/_validation.py:598: DataConversionWarning: A column-vector y was passed when a 1d array was expected. Please change the shape of y to (n_samples,), for example using ravel().\n  estimator.fit(X_train, y_train, **fit_params)\n/shared-libs/python3.7/py/lib/python3.7/site-packages/sklearn/model_selection/_validation.py:598: DataConversionWarning: A column-vector y was passed when a 1d array was expected. Please change the shape of y to (n_samples,), for example using ravel().\n  estimator.fit(X_train, y_train, **fit_params)\n/shared-libs/python3.7/py/lib/python3.7/site-packages/sklearn/model_selection/_validation.py:598: DataConversionWarning: A column-vector y was passed when a 1d array was expected. Please change the shape of y to (n_samples,), for example using ravel().\n  estimator.fit(X_train, y_train, **fit_params)\n/shared-libs/python3.7/py/lib/python3.7/site-packages/sklearn/model_selection/_validation.py:598: DataConversionWarning: A column-vector y was passed when a 1d array was expected. Please change the shape of y to (n_samples,), for example using ravel().\n  estimator.fit(X_train, y_train, **fit_params)\n/shared-libs/python3.7/py/lib/python3.7/site-packages/sklearn/model_selection/_validation.py:598: DataConversionWarning: A column-vector y was passed when a 1d array was expected. Please change the shape of y to (n_samples,), for example using ravel().\n  estimator.fit(X_train, y_train, **fit_params)\n/shared-libs/python3.7/py/lib/python3.7/site-packages/sklearn/model_selection/_validation.py:598: DataConversionWarning: A column-vector y was passed when a 1d array was expected. Please change the shape of y to (n_samples,), for example using ravel().\n  estimator.fit(X_train, y_train, **fit_params)\n/shared-libs/python3.7/py/lib/python3.7/site-packages/sklearn/model_selection/_validation.py:598: DataConversionWarning: A column-vector y was passed when a 1d array was expected. Please change the shape of y to (n_samples,), for example using ravel().\n  estimator.fit(X_train, y_train, **fit_params)\n/shared-libs/python3.7/py/lib/python3.7/site-packages/sklearn/model_selection/_validation.py:598: DataConversionWarning: A column-vector y was passed when a 1d array was expected. Please change the shape of y to (n_samples,), for example using ravel().\n  estimator.fit(X_train, y_train, **fit_params)\n/shared-libs/python3.7/py/lib/python3.7/site-packages/sklearn/model_selection/_validation.py:598: DataConversionWarning: A column-vector y was passed when a 1d array was expected. Please change the shape of y to (n_samples,), for example using ravel().\n  estimator.fit(X_train, y_train, **fit_params)\n/shared-libs/python3.7/py/lib/python3.7/site-packages/sklearn/model_selection/_validation.py:598: DataConversionWarning: A column-vector y was passed when a 1d array was expected. Please change the shape of y to (n_samples,), for example using ravel().\n  estimator.fit(X_train, y_train, **fit_params)\n/shared-libs/python3.7/py/lib/python3.7/site-packages/sklearn/model_selection/_validation.py:598: DataConversionWarning: A column-vector y was passed when a 1d array was expected. Please change the shape of y to (n_samples,), for example using ravel().\n  estimator.fit(X_train, y_train, **fit_params)\n/shared-libs/python3.7/py/lib/python3.7/site-packages/sklearn/model_selection/_validation.py:598: DataConversionWarning: A column-vector y was passed when a 1d array was expected. Please change the shape of y to (n_samples,), for example using ravel().\n  estimator.fit(X_train, y_train, **fit_params)\n/shared-libs/python3.7/py/lib/python3.7/site-packages/sklearn/model_selection/_validation.py:598: DataConversionWarning: A column-vector y was passed when a 1d array was expected. Please change the shape of y to (n_samples,), for example using ravel().\n  estimator.fit(X_train, y_train, **fit_params)\n/shared-libs/python3.7/py/lib/python3.7/site-packages/sklearn/model_selection/_validation.py:598: DataConversionWarning: A column-vector y was passed when a 1d array was expected. Please change the shape of y to (n_samples,), for example using ravel().\n  estimator.fit(X_train, y_train, **fit_params)\n/shared-libs/python3.7/py/lib/python3.7/site-packages/sklearn/model_selection/_validation.py:598: DataConversionWarning: A column-vector y was passed when a 1d array was expected. Please change the shape of y to (n_samples,), for example using ravel().\n  estimator.fit(X_train, y_train, **fit_params)\n/shared-libs/python3.7/py/lib/python3.7/site-packages/sklearn/model_selection/_validation.py:598: DataConversionWarning: A column-vector y was passed when a 1d array was expected. Please change the shape of y to (n_samples,), for example using ravel().\n  estimator.fit(X_train, y_train, **fit_params)\n/shared-libs/python3.7/py/lib/python3.7/site-packages/sklearn/model_selection/_validation.py:598: DataConversionWarning: A column-vector y was passed when a 1d array was expected. Please change the shape of y to (n_samples,), for example using ravel().\n  estimator.fit(X_train, y_train, **fit_params)\n/shared-libs/python3.7/py/lib/python3.7/site-packages/sklearn/model_selection/_validation.py:598: DataConversionWarning: A column-vector y was passed when a 1d array was expected. Please change the shape of y to (n_samples,), for example using ravel().\n  estimator.fit(X_train, y_train, **fit_params)\n/shared-libs/python3.7/py/lib/python3.7/site-packages/sklearn/model_selection/_validation.py:598: DataConversionWarning: A column-vector y was passed when a 1d array was expected. Please change the shape of y to (n_samples,), for example using ravel().\n  estimator.fit(X_train, y_train, **fit_params)\n/shared-libs/python3.7/py/lib/python3.7/site-packages/sklearn/model_selection/_validation.py:598: DataConversionWarning: A column-vector y was passed when a 1d array was expected. Please change the shape of y to (n_samples,), for example using ravel().\n  estimator.fit(X_train, y_train, **fit_params)\n/shared-libs/python3.7/py/lib/python3.7/site-packages/sklearn/model_selection/_validation.py:598: DataConversionWarning: A column-vector y was passed when a 1d array was expected. Please change the shape of y to (n_samples,), for example using ravel().\n  estimator.fit(X_train, y_train, **fit_params)\n/shared-libs/python3.7/py/lib/python3.7/site-packages/sklearn/model_selection/_validation.py:598: DataConversionWarning: A column-vector y was passed when a 1d array was expected. Please change the shape of y to (n_samples,), for example using ravel().\n  estimator.fit(X_train, y_train, **fit_params)\n/shared-libs/python3.7/py/lib/python3.7/site-packages/sklearn/model_selection/_validation.py:598: DataConversionWarning: A column-vector y was passed when a 1d array was expected. Please change the shape of y to (n_samples,), for example using ravel().\n  estimator.fit(X_train, y_train, **fit_params)\n/shared-libs/python3.7/py/lib/python3.7/site-packages/sklearn/model_selection/_validation.py:598: DataConversionWarning: A column-vector y was passed when a 1d array was expected. Please change the shape of y to (n_samples,), for example using ravel().\n  estimator.fit(X_train, y_train, **fit_params)\n/shared-libs/python3.7/py/lib/python3.7/site-packages/sklearn/model_selection/_validation.py:598: DataConversionWarning: A column-vector y was passed when a 1d array was expected. Please change the shape of y to (n_samples,), for example using ravel().\n  estimator.fit(X_train, y_train, **fit_params)\n/shared-libs/python3.7/py/lib/python3.7/site-packages/sklearn/model_selection/_validation.py:598: DataConversionWarning: A column-vector y was passed when a 1d array was expected. Please change the shape of y to (n_samples,), for example using ravel().\n  estimator.fit(X_train, y_train, **fit_params)\n/shared-libs/python3.7/py/lib/python3.7/site-packages/sklearn/model_selection/_validation.py:598: DataConversionWarning: A column-vector y was passed when a 1d array was expected. Please change the shape of y to (n_samples,), for example using ravel().\n  estimator.fit(X_train, y_train, **fit_params)\n/shared-libs/python3.7/py/lib/python3.7/site-packages/sklearn/model_selection/_validation.py:598: DataConversionWarning: A column-vector y was passed when a 1d array was expected. Please change the shape of y to (n_samples,), for example using ravel().\n  estimator.fit(X_train, y_train, **fit_params)\n/shared-libs/python3.7/py/lib/python3.7/site-packages/sklearn/model_selection/_validation.py:598: DataConversionWarning: A column-vector y was passed when a 1d array was expected. Please change the shape of y to (n_samples,), for example using ravel().\n  estimator.fit(X_train, y_train, **fit_params)\n/shared-libs/python3.7/py/lib/python3.7/site-packages/sklearn/model_selection/_validation.py:598: DataConversionWarning: A column-vector y was passed when a 1d array was expected. Please change the shape of y to (n_samples,), for example using ravel().\n  estimator.fit(X_train, y_train, **fit_params)\n/shared-libs/python3.7/py/lib/python3.7/site-packages/sklearn/model_selection/_validation.py:598: DataConversionWarning: A column-vector y was passed when a 1d array was expected. Please change the shape of y to (n_samples,), for example using ravel().\n  estimator.fit(X_train, y_train, **fit_params)\n/shared-libs/python3.7/py/lib/python3.7/site-packages/sklearn/model_selection/_validation.py:598: DataConversionWarning: A column-vector y was passed when a 1d array was expected. Please change the shape of y to (n_samples,), for example using ravel().\n  estimator.fit(X_train, y_train, **fit_params)\n/shared-libs/python3.7/py/lib/python3.7/site-packages/sklearn/model_selection/_validation.py:598: DataConversionWarning: A column-vector y was passed when a 1d array was expected. Please change the shape of y to (n_samples,), for example using ravel().\n  estimator.fit(X_train, y_train, **fit_params)\n/shared-libs/python3.7/py/lib/python3.7/site-packages/sklearn/model_selection/_validation.py:598: DataConversionWarning: A column-vector y was passed when a 1d array was expected. Please change the shape of y to (n_samples,), for example using ravel().\n  estimator.fit(X_train, y_train, **fit_params)\n/shared-libs/python3.7/py/lib/python3.7/site-packages/sklearn/model_selection/_validation.py:598: DataConversionWarning: A column-vector y was passed when a 1d array was expected. Please change the shape of y to (n_samples,), for example using ravel().\n  estimator.fit(X_train, y_train, **fit_params)\n/shared-libs/python3.7/py/lib/python3.7/site-packages/sklearn/model_selection/_validation.py:598: DataConversionWarning: A column-vector y was passed when a 1d array was expected. Please change the shape of y to (n_samples,), for example using ravel().\n  estimator.fit(X_train, y_train, **fit_params)\n/shared-libs/python3.7/py/lib/python3.7/site-packages/sklearn/model_selection/_validation.py:598: DataConversionWarning: A column-vector y was passed when a 1d array was expected. Please change the shape of y to (n_samples,), for example using ravel().\n  estimator.fit(X_train, y_train, **fit_params)\n/shared-libs/python3.7/py/lib/python3.7/site-packages/sklearn/model_selection/_validation.py:598: DataConversionWarning: A column-vector y was passed when a 1d array was expected. Please change the shape of y to (n_samples,), for example using ravel().\n  estimator.fit(X_train, y_train, **fit_params)\n/shared-libs/python3.7/py/lib/python3.7/site-packages/sklearn/model_selection/_validation.py:598: DataConversionWarning: A column-vector y was passed when a 1d array was expected. Please change the shape of y to (n_samples,), for example using ravel().\n  estimator.fit(X_train, y_train, **fit_params)\n/shared-libs/python3.7/py/lib/python3.7/site-packages/sklearn/model_selection/_validation.py:598: DataConversionWarning: A column-vector y was passed when a 1d array was expected. Please change the shape of y to (n_samples,), for example using ravel().\n  estimator.fit(X_train, y_train, **fit_params)\n/shared-libs/python3.7/py/lib/python3.7/site-packages/sklearn/model_selection/_validation.py:598: DataConversionWarning: A column-vector y was passed when a 1d array was expected. Please change the shape of y to (n_samples,), for example using ravel().\n  estimator.fit(X_train, y_train, **fit_params)\n/shared-libs/python3.7/py/lib/python3.7/site-packages/sklearn/model_selection/_validation.py:598: DataConversionWarning: A column-vector y was passed when a 1d array was expected. Please change the shape of y to (n_samples,), for example using ravel().\n  estimator.fit(X_train, y_train, **fit_params)\n/shared-libs/python3.7/py/lib/python3.7/site-packages/sklearn/model_selection/_validation.py:598: DataConversionWarning: A column-vector y was passed when a 1d array was expected. Please change the shape of y to (n_samples,), for example using ravel().\n  estimator.fit(X_train, y_train, **fit_params)\n/shared-libs/python3.7/py/lib/python3.7/site-packages/sklearn/model_selection/_validation.py:598: DataConversionWarning: A column-vector y was passed when a 1d array was expected. Please change the shape of y to (n_samples,), for example using ravel().\n  estimator.fit(X_train, y_train, **fit_params)\n/shared-libs/python3.7/py/lib/python3.7/site-packages/sklearn/model_selection/_validation.py:598: DataConversionWarning: A column-vector y was passed when a 1d array was expected. Please change the shape of y to (n_samples,), for example using ravel().\n  estimator.fit(X_train, y_train, **fit_params)\n/shared-libs/python3.7/py/lib/python3.7/site-packages/sklearn/model_selection/_validation.py:598: DataConversionWarning: A column-vector y was passed when a 1d array was expected. Please change the shape of y to (n_samples,), for example using ravel().\n  estimator.fit(X_train, y_train, **fit_params)\n/shared-libs/python3.7/py/lib/python3.7/site-packages/sklearn/model_selection/_validation.py:598: DataConversionWarning: A column-vector y was passed when a 1d array was expected. Please change the shape of y to (n_samples,), for example using ravel().\n  estimator.fit(X_train, y_train, **fit_params)\n/shared-libs/python3.7/py/lib/python3.7/site-packages/sklearn/model_selection/_validation.py:598: DataConversionWarning: A column-vector y was passed when a 1d array was expected. Please change the shape of y to (n_samples,), for example using ravel().\n  estimator.fit(X_train, y_train, **fit_params)\n/shared-libs/python3.7/py/lib/python3.7/site-packages/sklearn/model_selection/_validation.py:598: DataConversionWarning: A column-vector y was passed when a 1d array was expected. Please change the shape of y to (n_samples,), for example using ravel().\n  estimator.fit(X_train, y_train, **fit_params)\n/shared-libs/python3.7/py/lib/python3.7/site-packages/sklearn/model_selection/_validation.py:598: DataConversionWarning: A column-vector y was passed when a 1d array was expected. Please change the shape of y to (n_samples,), for example using ravel().\n  estimator.fit(X_train, y_train, **fit_params)\n/shared-libs/python3.7/py/lib/python3.7/site-packages/sklearn/model_selection/_validation.py:598: DataConversionWarning: A column-vector y was passed when a 1d array was expected. Please change the shape of y to (n_samples,), for example using ravel().\n  estimator.fit(X_train, y_train, **fit_params)\n/shared-libs/python3.7/py/lib/python3.7/site-packages/sklearn/model_selection/_validation.py:598: DataConversionWarning: A column-vector y was passed when a 1d array was expected. Please change the shape of y to (n_samples,), for example using ravel().\n  estimator.fit(X_train, y_train, **fit_params)\n/shared-libs/python3.7/py/lib/python3.7/site-packages/sklearn/model_selection/_validation.py:598: DataConversionWarning: A column-vector y was passed when a 1d array was expected. Please change the shape of y to (n_samples,), for example using ravel().\n  estimator.fit(X_train, y_train, **fit_params)\n/shared-libs/python3.7/py/lib/python3.7/site-packages/sklearn/model_selection/_validation.py:598: DataConversionWarning: A column-vector y was passed when a 1d array was expected. Please change the shape of y to (n_samples,), for example using ravel().\n  estimator.fit(X_train, y_train, **fit_params)\n/shared-libs/python3.7/py/lib/python3.7/site-packages/sklearn/model_selection/_validation.py:598: DataConversionWarning: A column-vector y was passed when a 1d array was expected. Please change the shape of y to (n_samples,), for example using ravel().\n  estimator.fit(X_train, y_train, **fit_params)\n/shared-libs/python3.7/py/lib/python3.7/site-packages/sklearn/model_selection/_validation.py:598: DataConversionWarning: A column-vector y was passed when a 1d array was expected. Please change the shape of y to (n_samples,), for example using ravel().\n  estimator.fit(X_train, y_train, **fit_params)\n/shared-libs/python3.7/py/lib/python3.7/site-packages/sklearn/model_selection/_validation.py:598: DataConversionWarning: A column-vector y was passed when a 1d array was expected. Please change the shape of y to (n_samples,), for example using ravel().\n  estimator.fit(X_train, y_train, **fit_params)\n/shared-libs/python3.7/py/lib/python3.7/site-packages/sklearn/model_selection/_validation.py:598: DataConversionWarning: A column-vector y was passed when a 1d array was expected. Please change the shape of y to (n_samples,), for example using ravel().\n  estimator.fit(X_train, y_train, **fit_params)\n/shared-libs/python3.7/py/lib/python3.7/site-packages/sklearn/model_selection/_validation.py:598: DataConversionWarning: A column-vector y was passed when a 1d array was expected. Please change the shape of y to (n_samples,), for example using ravel().\n  estimator.fit(X_train, y_train, **fit_params)\n/shared-libs/python3.7/py/lib/python3.7/site-packages/sklearn/model_selection/_validation.py:598: DataConversionWarning: A column-vector y was passed when a 1d array was expected. Please change the shape of y to (n_samples,), for example using ravel().\n  estimator.fit(X_train, y_train, **fit_params)\n/shared-libs/python3.7/py/lib/python3.7/site-packages/sklearn/model_selection/_validation.py:598: DataConversionWarning: A column-vector y was passed when a 1d array was expected. Please change the shape of y to (n_samples,), for example using ravel().\n  estimator.fit(X_train, y_train, **fit_params)\n/shared-libs/python3.7/py/lib/python3.7/site-packages/sklearn/model_selection/_validation.py:598: DataConversionWarning: A column-vector y was passed when a 1d array was expected. Please change the shape of y to (n_samples,), for example using ravel().\n  estimator.fit(X_train, y_train, **fit_params)\n/shared-libs/python3.7/py/lib/python3.7/site-packages/sklearn/model_selection/_validation.py:598: DataConversionWarning: A column-vector y was passed when a 1d array was expected. Please change the shape of y to (n_samples,), for example using ravel().\n  estimator.fit(X_train, y_train, **fit_params)\n/shared-libs/python3.7/py/lib/python3.7/site-packages/sklearn/model_selection/_validation.py:598: DataConversionWarning: A column-vector y was passed when a 1d array was expected. Please change the shape of y to (n_samples,), for example using ravel().\n  estimator.fit(X_train, y_train, **fit_params)\n/shared-libs/python3.7/py/lib/python3.7/site-packages/sklearn/model_selection/_validation.py:598: DataConversionWarning: A column-vector y was passed when a 1d array was expected. Please change the shape of y to (n_samples,), for example using ravel().\n  estimator.fit(X_train, y_train, **fit_params)\n/shared-libs/python3.7/py/lib/python3.7/site-packages/sklearn/model_selection/_validation.py:598: DataConversionWarning: A column-vector y was passed when a 1d array was expected. Please change the shape of y to (n_samples,), for example using ravel().\n  estimator.fit(X_train, y_train, **fit_params)\n/shared-libs/python3.7/py/lib/python3.7/site-packages/sklearn/model_selection/_validation.py:598: DataConversionWarning: A column-vector y was passed when a 1d array was expected. Please change the shape of y to (n_samples,), for example using ravel().\n  estimator.fit(X_train, y_train, **fit_params)\n/shared-libs/python3.7/py/lib/python3.7/site-packages/sklearn/model_selection/_validation.py:598: DataConversionWarning: A column-vector y was passed when a 1d array was expected. Please change the shape of y to (n_samples,), for example using ravel().\n  estimator.fit(X_train, y_train, **fit_params)\n/shared-libs/python3.7/py/lib/python3.7/site-packages/sklearn/model_selection/_validation.py:598: DataConversionWarning: A column-vector y was passed when a 1d array was expected. Please change the shape of y to (n_samples,), for example using ravel().\n  estimator.fit(X_train, y_train, **fit_params)\n/shared-libs/python3.7/py/lib/python3.7/site-packages/sklearn/model_selection/_validation.py:598: DataConversionWarning: A column-vector y was passed when a 1d array was expected. Please change the shape of y to (n_samples,), for example using ravel().\n  estimator.fit(X_train, y_train, **fit_params)\n/shared-libs/python3.7/py/lib/python3.7/site-packages/sklearn/model_selection/_validation.py:598: DataConversionWarning: A column-vector y was passed when a 1d array was expected. Please change the shape of y to (n_samples,), for example using ravel().\n  estimator.fit(X_train, y_train, **fit_params)\n/shared-libs/python3.7/py/lib/python3.7/site-packages/sklearn/model_selection/_validation.py:598: DataConversionWarning: A column-vector y was passed when a 1d array was expected. Please change the shape of y to (n_samples,), for example using ravel().\n  estimator.fit(X_train, y_train, **fit_params)\n/shared-libs/python3.7/py/lib/python3.7/site-packages/sklearn/model_selection/_validation.py:598: DataConversionWarning: A column-vector y was passed when a 1d array was expected. Please change the shape of y to (n_samples,), for example using ravel().\n  estimator.fit(X_train, y_train, **fit_params)\n/shared-libs/python3.7/py/lib/python3.7/site-packages/sklearn/model_selection/_validation.py:598: DataConversionWarning: A column-vector y was passed when a 1d array was expected. Please change the shape of y to (n_samples,), for example using ravel().\n  estimator.fit(X_train, y_train, **fit_params)\n/shared-libs/python3.7/py/lib/python3.7/site-packages/sklearn/model_selection/_validation.py:598: DataConversionWarning: A column-vector y was passed when a 1d array was expected. Please change the shape of y to (n_samples,), for example using ravel().\n  estimator.fit(X_train, y_train, **fit_params)\n/shared-libs/python3.7/py/lib/python3.7/site-packages/sklearn/model_selection/_validation.py:598: DataConversionWarning: A column-vector y was passed when a 1d array was expected. Please change the shape of y to (n_samples,), for example using ravel().\n  estimator.fit(X_train, y_train, **fit_params)\n/shared-libs/python3.7/py/lib/python3.7/site-packages/sklearn/model_selection/_validation.py:598: DataConversionWarning: A column-vector y was passed when a 1d array was expected. Please change the shape of y to (n_samples,), for example using ravel().\n  estimator.fit(X_train, y_train, **fit_params)\n/shared-libs/python3.7/py/lib/python3.7/site-packages/sklearn/model_selection/_validation.py:598: DataConversionWarning: A column-vector y was passed when a 1d array was expected. Please change the shape of y to (n_samples,), for example using ravel().\n  estimator.fit(X_train, y_train, **fit_params)\n/shared-libs/python3.7/py/lib/python3.7/site-packages/sklearn/model_selection/_validation.py:598: DataConversionWarning: A column-vector y was passed when a 1d array was expected. Please change the shape of y to (n_samples,), for example using ravel().\n  estimator.fit(X_train, y_train, **fit_params)\n/shared-libs/python3.7/py/lib/python3.7/site-packages/sklearn/model_selection/_validation.py:598: DataConversionWarning: A column-vector y was passed when a 1d array was expected. Please change the shape of y to (n_samples,), for example using ravel().\n  estimator.fit(X_train, y_train, **fit_params)\n/shared-libs/python3.7/py/lib/python3.7/site-packages/sklearn/model_selection/_validation.py:598: DataConversionWarning: A column-vector y was passed when a 1d array was expected. Please change the shape of y to (n_samples,), for example using ravel().\n  estimator.fit(X_train, y_train, **fit_params)\n/shared-libs/python3.7/py/lib/python3.7/site-packages/sklearn/model_selection/_validation.py:598: DataConversionWarning: A column-vector y was passed when a 1d array was expected. Please change the shape of y to (n_samples,), for example using ravel().\n  estimator.fit(X_train, y_train, **fit_params)\n/shared-libs/python3.7/py/lib/python3.7/site-packages/sklearn/model_selection/_validation.py:598: DataConversionWarning: A column-vector y was passed when a 1d array was expected. Please change the shape of y to (n_samples,), for example using ravel().\n  estimator.fit(X_train, y_train, **fit_params)\n/shared-libs/python3.7/py/lib/python3.7/site-packages/sklearn/model_selection/_validation.py:598: DataConversionWarning: A column-vector y was passed when a 1d array was expected. Please change the shape of y to (n_samples,), for example using ravel().\n  estimator.fit(X_train, y_train, **fit_params)\n/shared-libs/python3.7/py/lib/python3.7/site-packages/sklearn/model_selection/_validation.py:598: DataConversionWarning: A column-vector y was passed when a 1d array was expected. Please change the shape of y to (n_samples,), for example using ravel().\n  estimator.fit(X_train, y_train, **fit_params)\n/shared-libs/python3.7/py/lib/python3.7/site-packages/sklearn/model_selection/_validation.py:598: DataConversionWarning: A column-vector y was passed when a 1d array was expected. Please change the shape of y to (n_samples,), for example using ravel().\n  estimator.fit(X_train, y_train, **fit_params)\n/shared-libs/python3.7/py/lib/python3.7/site-packages/sklearn/model_selection/_validation.py:598: DataConversionWarning: A column-vector y was passed when a 1d array was expected. Please change the shape of y to (n_samples,), for example using ravel().\n  estimator.fit(X_train, y_train, **fit_params)\n/shared-libs/python3.7/py/lib/python3.7/site-packages/sklearn/model_selection/_validation.py:598: DataConversionWarning: A column-vector y was passed when a 1d array was expected. Please change the shape of y to (n_samples,), for example using ravel().\n  estimator.fit(X_train, y_train, **fit_params)\n/shared-libs/python3.7/py/lib/python3.7/site-packages/sklearn/model_selection/_validation.py:598: DataConversionWarning: A column-vector y was passed when a 1d array was expected. Please change the shape of y to (n_samples,), for example using ravel().\n  estimator.fit(X_train, y_train, **fit_params)\n/shared-libs/python3.7/py/lib/python3.7/site-packages/sklearn/model_selection/_validation.py:598: DataConversionWarning: A column-vector y was passed when a 1d array was expected. Please change the shape of y to (n_samples,), for example using ravel().\n  estimator.fit(X_train, y_train, **fit_params)\n/shared-libs/python3.7/py/lib/python3.7/site-packages/sklearn/model_selection/_validation.py:598: DataConversionWarning: A column-vector y was passed when a 1d array was expected. Please change the shape of y to (n_samples,), for example using ravel().\n  estimator.fit(X_train, y_train, **fit_params)\n/shared-libs/python3.7/py/lib/python3.7/site-packages/sklearn/model_selection/_validation.py:598: DataConversionWarning: A column-vector y was passed when a 1d array was expected. Please change the shape of y to (n_samples,), for example using ravel().\n  estimator.fit(X_train, y_train, **fit_params)\n/shared-libs/python3.7/py/lib/python3.7/site-packages/sklearn/model_selection/_validation.py:598: DataConversionWarning: A column-vector y was passed when a 1d array was expected. Please change the shape of y to (n_samples,), for example using ravel().\n  estimator.fit(X_train, y_train, **fit_params)\n/shared-libs/python3.7/py/lib/python3.7/site-packages/sklearn/model_selection/_validation.py:598: DataConversionWarning: A column-vector y was passed when a 1d array was expected. Please change the shape of y to (n_samples,), for example using ravel().\n  estimator.fit(X_train, y_train, **fit_params)\n\n[CV] END bootstrap=False, max_depth=20, max_features=auto, min_samples_leaf=2, n_estimators=500; total time=   8.1s\n[CV] END bootstrap=True, max_depth=10, max_features=sqrt, min_samples_leaf=6, n_estimators=300; total time=   1.2s\n[CV] END bootstrap=True, max_depth=10, max_features=sqrt, min_samples_leaf=6, n_estimators=300; total time=   1.2s\n[CV] END bootstrap=True, max_depth=10, max_features=sqrt, min_samples_leaf=6, n_estimators=300; total time=   1.2s\n[CV] END bootstrap=True, max_depth=10, max_features=sqrt, min_samples_leaf=6, n_estimators=300; total time=   1.1s\n[CV] END bootstrap=True, max_depth=10, max_features=sqrt, min_samples_leaf=6, n_estimators=300; total time=   1.3s\n[CV] END bootstrap=True, max_depth=20, max_features=auto, min_samples_leaf=3, n_estimators=500; total time=   5.0s\n[CV] END bootstrap=True, max_depth=20, max_features=auto, min_samples_leaf=3, n_estimators=500; total time=   4.9s\n[CV] END bootstrap=True, max_depth=20, max_features=auto, min_samples_leaf=3, n_estimators=500; total time=   4.9s\n[CV] END bootstrap=False, max_depth=25, max_features=auto, min_samples_leaf=9, n_estimators=400; total time=   4.8s\n[CV] END bootstrap=False, max_depth=25, max_features=auto, min_samples_leaf=9, n_estimators=400; total time=   4.4s\n[CV] END bootstrap=False, max_depth=15, max_features=auto, min_samples_leaf=3, n_estimators=500; total time=   7.3s\n[CV] END bootstrap=False, max_depth=15, max_features=auto, min_samples_leaf=3, n_estimators=500; total time=   7.3s\n[CV] END bootstrap=False, max_depth=15, max_features=auto, min_samples_leaf=3, n_estimators=500; total time=   7.4s\n[CV] END bootstrap=True, max_depth=15, max_features=sqrt, min_samples_leaf=3, n_estimators=500; total time=   2.2s\n[CV] END bootstrap=True, max_depth=10, max_features=auto, min_samples_leaf=8, n_estimators=200; total time=   1.6s\n[CV] END bootstrap=True, max_depth=10, max_features=auto, min_samples_leaf=8, n_estimators=200; total time=   1.5s\n[CV] END bootstrap=True, max_depth=20, max_features=sqrt, min_samples_leaf=7, n_estimators=300; total time=   1.2s\n[CV] END bootstrap=True, max_depth=20, max_features=sqrt, min_samples_leaf=7, n_estimators=300; total time=   1.2s\n[CV] END bootstrap=True, max_depth=20, max_features=sqrt, min_samples_leaf=7, n_estimators=300; total time=   1.2s\n[CV] END bootstrap=True, max_depth=10, max_features=auto, min_samples_leaf=4, n_estimators=300; total time=   2.7s\n[CV] END bootstrap=True, max_depth=10, max_features=auto, min_samples_leaf=4, n_estimators=300; total time=   2.7s\n[CV] END bootstrap=True, max_depth=10, max_features=auto, min_samples_leaf=4, n_estimators=300; total time=   2.7s\n[CV] END bootstrap=False, max_depth=15, max_features=auto, min_samples_leaf=6, n_estimators=500; total time=   6.5s\n[CV] END bootstrap=False, max_depth=15, max_features=auto, min_samples_leaf=6, n_estimators=500; total time=   6.3s\n[CV] END bootstrap=True, max_depth=15, max_features=sqrt, min_samples_leaf=4, n_estimators=500; total time=   2.1s\n[CV] END bootstrap=True, max_depth=15, max_features=sqrt, min_samples_leaf=4, n_estimators=500; total time=   2.1s\n[CV] END bootstrap=True, max_depth=15, max_features=sqrt, min_samples_leaf=4, n_estimators=500; total time=   2.1s\n[CV] END bootstrap=False, max_depth=15, max_features=sqrt, min_samples_leaf=10, n_estimators=100; total time=   0.4s\n[CV] END bootstrap=False, max_depth=15, max_features=sqrt, min_samples_leaf=10, n_estimators=100; total time=   0.4s\n[CV] END bootstrap=False, max_depth=15, max_features=sqrt, min_samples_leaf=10, n_estimators=100; total time=   0.4s\n[CV] END bootstrap=False, max_depth=15, max_features=sqrt, min_samples_leaf=10, n_estimators=100; total time=   0.4s\n[CV] END bootstrap=True, max_depth=20, max_features=auto, min_samples_leaf=2, n_estimators=100; total time=   1.1s\n[CV] END bootstrap=True, max_depth=20, max_features=auto, min_samples_leaf=2, n_estimators=100; total time=   1.1s\n[CV] END bootstrap=True, max_depth=20, max_features=auto, min_samples_leaf=2, n_estimators=100; total time=   1.1s\n[CV] END bootstrap=True, max_depth=10, max_features=sqrt, min_samples_leaf=7, n_estimators=100; total time=   0.4s\n[CV] END bootstrap=True, max_depth=10, max_features=sqrt, min_samples_leaf=7, n_estimators=100; total time=   0.4s\n[CV] END bootstrap=False, max_depth=25, max_features=auto, min_samples_leaf=6, n_estimators=100; total time=   1.3s\n[CV] END bootstrap=False, max_depth=25, max_features=auto, min_samples_leaf=6, n_estimators=100; total time=   1.2s\n[CV] END bootstrap=True, max_depth=20, max_features=auto, min_samples_leaf=9, n_estimators=200; total time=   1.5s\n[CV] END bootstrap=True, max_depth=20, max_features=auto, min_samples_leaf=9, n_estimators=200; total time=   1.5s\n[CV] END bootstrap=True, max_depth=20, max_features=auto, min_samples_leaf=9, n_estimators=200; total time=   1.6s\n[CV] END bootstrap=True, max_depth=15, max_features=auto, min_samples_leaf=6, n_estimators=500; total time=   4.3s\n[CV] END bootstrap=True, max_depth=15, max_features=auto, min_samples_leaf=6, n_estimators=500; total time=   4.2s\n[CV] END bootstrap=True, max_depth=25, max_features=sqrt, min_samples_leaf=10, n_estimators=200; total time=   0.7s\n[CV] END bootstrap=True, max_depth=25, max_features=sqrt, min_samples_leaf=10, n_estimators=200; total time=   0.8s\n[CV] END bootstrap=True, max_depth=25, max_features=sqrt, min_samples_leaf=10, n_estimators=200; total time=   0.7s\n[CV] END bootstrap=True, max_depth=25, max_features=sqrt, min_samples_leaf=10, n_estimators=200; total time=   0.8s\n[CV] END bootstrap=True, max_depth=25, max_features=sqrt, min_samples_leaf=10, n_estimators=200; total time=   0.8s\n[CV] END bootstrap=True, max_depth=15, max_features=auto, min_samples_leaf=7, n_estimators=500; total time=   4.2s\n[CV] END bootstrap=True, max_depth=15, max_features=auto, min_samples_leaf=7, n_estimators=500; total time=   4.1s\n[CV] END bootstrap=True, max_depth=25, max_features=auto, min_samples_leaf=9, n_estimators=300; total time=   2.2s\n[CV] END bootstrap=True, max_depth=25, max_features=auto, min_samples_leaf=9, n_estimators=300; total time=   2.5s\n[CV] END bootstrap=True, max_depth=25, max_features=auto, min_samples_leaf=9, n_estimators=300; total time=   2.3s\n[CV] END bootstrap=True, max_depth=10, max_features=sqrt, min_samples_leaf=6, n_estimators=400; total time=   1.5s\n[CV] END bootstrap=True, max_depth=10, max_features=sqrt, min_samples_leaf=6, n_estimators=400; total time=   2.3s\n[CV] END bootstrap=True, max_depth=10, max_features=sqrt, min_samples_leaf=6, n_estimators=400; total time=   1.6s\n[CV] END bootstrap=False, max_depth=10, max_features=auto, min_samples_leaf=2, n_estimators=100; total time=   1.5s\n[CV] END bootstrap=False, max_depth=10, max_features=auto, min_samples_leaf=2, n_estimators=100; total time=   1.3s\n[CV] END bootstrap=False, max_depth=10, max_features=auto, min_samples_leaf=2, n_estimators=100; total time=   1.4s\n[CV] END bootstrap=True, max_depth=10, max_features=auto, min_samples_leaf=2, n_estimators=200; total time=   1.9s\n[CV] END bootstrap=True, max_depth=10, max_features=auto, min_samples_leaf=2, n_estimators=200; total time=   2.0s\n[CV] END bootstrap=True, max_depth=15, max_features=auto, min_samples_leaf=8, n_estimators=500; total time=   4.0s\n[CV] END bootstrap=True, max_depth=15, max_features=auto, min_samples_leaf=8, n_estimators=500; total time=   4.0s\n[CV] END bootstrap=True, max_depth=15, max_features=auto, min_samples_leaf=8, n_estimators=500; total time=   4.1s\n[CV] END bootstrap=True, max_depth=15, max_features=auto, min_samples_leaf=6, n_estimators=400; total time=   3.6s\n[CV] END bootstrap=True, max_depth=15, max_features=auto, min_samples_leaf=6, n_estimators=400; total time=   3.4s\n[CV] END bootstrap=True, max_depth=20, max_features=auto, min_samples_leaf=4, n_estimators=300; total time=   2.9s\n[CV] END bootstrap=True, max_depth=20, max_features=auto, min_samples_leaf=4, n_estimators=300; total time=   2.8s\n[CV] END bootstrap=True, max_depth=20, max_features=auto, min_samples_leaf=4, n_estimators=300; total time=   2.8s\n[CV] END bootstrap=False, max_depth=20, max_features=sqrt, min_samples_leaf=7, n_estimators=500; total time=   2.2s\n/shared-libs/python3.7/py/lib/python3.7/site-packages/sklearn/model_selection/_validation.py:598: DataConversionWarning: A column-vector y was passed when a 1d array was expected. Please change the shape of y to (n_samples,), for example using ravel().\n  estimator.fit(X_train, y_train, **fit_params)\n/shared-libs/python3.7/py/lib/python3.7/site-packages/sklearn/model_selection/_validation.py:598: DataConversionWarning: A column-vector y was passed when a 1d array was expected. Please change the shape of y to (n_samples,), for example using ravel().\n  estimator.fit(X_train, y_train, **fit_params)\n/shared-libs/python3.7/py/lib/python3.7/site-packages/sklearn/model_selection/_validation.py:598: DataConversionWarning: A column-vector y was passed when a 1d array was expected. Please change the shape of y to (n_samples,), for example using ravel().\n  estimator.fit(X_train, y_train, **fit_params)\n/shared-libs/python3.7/py/lib/python3.7/site-packages/sklearn/model_selection/_validation.py:598: DataConversionWarning: A column-vector y was passed when a 1d array was expected. Please change the shape of y to (n_samples,), for example using ravel().\n  estimator.fit(X_train, y_train, **fit_params)\n/shared-libs/python3.7/py/lib/python3.7/site-packages/sklearn/model_selection/_validation.py:598: DataConversionWarning: A column-vector y was passed when a 1d array was expected. Please change the shape of y to (n_samples,), for example using ravel().\n  estimator.fit(X_train, y_train, **fit_params)\n/shared-libs/python3.7/py/lib/python3.7/site-packages/sklearn/model_selection/_validation.py:598: DataConversionWarning: A column-vector y was passed when a 1d array was expected. Please change the shape of y to (n_samples,), for example using ravel().\n  estimator.fit(X_train, y_train, **fit_params)\n/shared-libs/python3.7/py/lib/python3.7/site-packages/sklearn/model_selection/_validation.py:598: DataConversionWarning: A column-vector y was passed when a 1d array was expected. Please change the shape of y to (n_samples,), for example using ravel().\n  estimator.fit(X_train, y_train, **fit_params)\n/shared-libs/python3.7/py/lib/python3.7/site-packages/sklearn/model_selection/_validation.py:598: DataConversionWarning: A column-vector y was passed when a 1d array was expected. Please change the shape of y to (n_samples,), for example using ravel().\n  estimator.fit(X_train, y_train, **fit_params)\n/shared-libs/python3.7/py/lib/python3.7/site-packages/sklearn/model_selection/_validation.py:598: DataConversionWarning: A column-vector y was passed when a 1d array was expected. Please change the shape of y to (n_samples,), for example using ravel().\n  estimator.fit(X_train, y_train, **fit_params)\n/shared-libs/python3.7/py/lib/python3.7/site-packages/sklearn/model_selection/_validation.py:598: DataConversionWarning: A column-vector y was passed when a 1d array was expected. Please change the shape of y to (n_samples,), for example using ravel().\n  estimator.fit(X_train, y_train, **fit_params)\n/shared-libs/python3.7/py/lib/python3.7/site-packages/sklearn/model_selection/_validation.py:598: DataConversionWarning: A column-vector y was passed when a 1d array was expected. Please change the shape of y to (n_samples,), for example using ravel().\n  estimator.fit(X_train, y_train, **fit_params)\n/shared-libs/python3.7/py/lib/python3.7/site-packages/sklearn/model_selection/_validation.py:598: DataConversionWarning: A column-vector y was passed when a 1d array was expected. Please change the shape of y to (n_samples,), for example using ravel().\n  estimator.fit(X_train, y_train, **fit_params)\n/shared-libs/python3.7/py/lib/python3.7/site-packages/sklearn/model_selection/_validation.py:598: DataConversionWarning: A column-vector y was passed when a 1d array was expected. Please change the shape of y to (n_samples,), for example using ravel().\n  estimator.fit(X_train, y_train, **fit_params)\n/shared-libs/python3.7/py/lib/python3.7/site-packages/sklearn/model_selection/_validation.py:598: DataConversionWarning: A column-vector y was passed when a 1d array was expected. Please change the shape of y to (n_samples,), for example using ravel().\n  estimator.fit(X_train, y_train, **fit_params)\n/shared-libs/python3.7/py/lib/python3.7/site-packages/sklearn/model_selection/_validation.py:598: DataConversionWarning: A column-vector y was passed when a 1d array was expected. Please change the shape of y to (n_samples,), for example using ravel().\n  estimator.fit(X_train, y_train, **fit_params)\n/shared-libs/python3.7/py/lib/python3.7/site-packages/sklearn/model_selection/_validation.py:598: DataConversionWarning: A column-vector y was passed when a 1d array was expected. Please change the shape of y to (n_samples,), for example using ravel().\n  estimator.fit(X_train, y_train, **fit_params)\n/shared-libs/python3.7/py/lib/python3.7/site-packages/sklearn/model_selection/_validation.py:598: DataConversionWarning: A column-vector y was passed when a 1d array was expected. Please change the shape of y to (n_samples,), for example using ravel().\n  estimator.fit(X_train, y_train, **fit_params)\n/shared-libs/python3.7/py/lib/python3.7/site-packages/sklearn/model_selection/_validation.py:598: DataConversionWarning: A column-vector y was passed when a 1d array was expected. Please change the shape of y to (n_samples,), for example using ravel().\n  estimator.fit(X_train, y_train, **fit_params)\n/shared-libs/python3.7/py/lib/python3.7/site-packages/sklearn/model_selection/_validation.py:598: DataConversionWarning: A column-vector y was passed when a 1d array was expected. Please change the shape of y to (n_samples,), for example using ravel().\n  estimator.fit(X_train, y_train, **fit_params)\n/shared-libs/python3.7/py/lib/python3.7/site-packages/sklearn/model_selection/_validation.py:598: DataConversionWarning: A column-vector y was passed when a 1d array was expected. Please change the shape of y to (n_samples,), for example using ravel().\n  estimator.fit(X_train, y_train, **fit_params)\n/shared-libs/python3.7/py/lib/python3.7/site-packages/sklearn/model_selection/_validation.py:598: DataConversionWarning: A column-vector y was passed when a 1d array was expected. Please change the shape of y to (n_samples,), for example using ravel().\n  estimator.fit(X_train, y_train, **fit_params)\n/shared-libs/python3.7/py/lib/python3.7/site-packages/sklearn/model_selection/_validation.py:598: DataConversionWarning: A column-vector y was passed when a 1d array was expected. Please change the shape of y to (n_samples,), for example using ravel().\n  estimator.fit(X_train, y_train, **fit_params)\n/shared-libs/python3.7/py/lib/python3.7/site-packages/sklearn/model_selection/_validation.py:598: DataConversionWarning: A column-vector y was passed when a 1d array was expected. Please change the shape of y to (n_samples,), for example using ravel().\n  estimator.fit(X_train, y_train, **fit_params)\n/shared-libs/python3.7/py/lib/python3.7/site-packages/sklearn/model_selection/_validation.py:598: DataConversionWarning: A column-vector y was passed when a 1d array was expected. Please change the shape of y to (n_samples,), for example using ravel().\n  estimator.fit(X_train, y_train, **fit_params)\n/shared-libs/python3.7/py/lib/python3.7/site-packages/sklearn/model_selection/_validation.py:598: DataConversionWarning: A column-vector y was passed when a 1d array was expected. Please change the shape of y to (n_samples,), for example using ravel().\n  estimator.fit(X_train, y_train, **fit_params)\n/shared-libs/python3.7/py/lib/python3.7/site-packages/sklearn/model_selection/_validation.py:598: DataConversionWarning: A column-vector y was passed when a 1d array was expected. Please change the shape of y to (n_samples,), for example using ravel().\n  estimator.fit(X_train, y_train, **fit_params)\n/shared-libs/python3.7/py/lib/python3.7/site-packages/sklearn/model_selection/_validation.py:598: DataConversionWarning: A column-vector y was passed when a 1d array was expected. Please change the shape of y to (n_samples,), for example using ravel().\n  estimator.fit(X_train, y_train, **fit_params)\n/shared-libs/python3.7/py/lib/python3.7/site-packages/sklearn/model_selection/_validation.py:598: DataConversionWarning: A column-vector y was passed when a 1d array was expected. Please change the shape of y to (n_samples,), for example using ravel().\n  estimator.fit(X_train, y_train, **fit_params)\n\n[CV] END bootstrap=False, max_depth=20, max_features=auto, min_samples_leaf=6, n_estimators=500; total time=   6.2s\n[CV] END bootstrap=False, max_depth=10, max_features=auto, min_samples_leaf=4, n_estimators=300; total time=   3.9s\n[CV] END bootstrap=False, max_depth=10, max_features=auto, min_samples_leaf=4, n_estimators=300; total time=   4.0s\n[CV] END bootstrap=False, max_depth=10, max_features=auto, min_samples_leaf=4, n_estimators=300; total time=   3.8s\n[CV] END bootstrap=False, max_depth=20, max_features=auto, min_samples_leaf=2, n_estimators=500; total time=   8.1s\n[CV] END bootstrap=False, max_depth=20, max_features=auto, min_samples_leaf=2, n_estimators=500; total time=   8.1s\n[CV] END bootstrap=False, max_depth=20, max_features=auto, min_samples_leaf=2, n_estimators=500; total time=   8.1s\n[CV] END bootstrap=True, max_depth=20, max_features=auto, min_samples_leaf=3, n_estimators=500; total time=   5.0s\n[CV] END bootstrap=True, max_depth=20, max_features=auto, min_samples_leaf=3, n_estimators=500; total time=   4.9s\n[CV] END bootstrap=False, max_depth=25, max_features=auto, min_samples_leaf=9, n_estimators=400; total time=   4.6s\n[CV] END bootstrap=False, max_depth=25, max_features=auto, min_samples_leaf=9, n_estimators=400; total time=   4.4s\n[CV] END bootstrap=False, max_depth=25, max_features=auto, min_samples_leaf=9, n_estimators=400; total time=   4.6s\n[CV] END bootstrap=False, max_depth=15, max_features=auto, min_samples_leaf=3, n_estimators=500; total time=   7.6s\n[CV] END bootstrap=False, max_depth=15, max_features=auto, min_samples_leaf=3, n_estimators=500; total time=   7.3s\n[CV] END bootstrap=True, max_depth=15, max_features=sqrt, min_samples_leaf=3, n_estimators=500; total time=   2.2s\n[CV] END bootstrap=True, max_depth=15, max_features=sqrt, min_samples_leaf=3, n_estimators=500; total time=   2.1s\n[CV] END bootstrap=True, max_depth=15, max_features=sqrt, min_samples_leaf=3, n_estimators=500; total time=   2.2s\n[CV] END bootstrap=True, max_depth=15, max_features=sqrt, min_samples_leaf=3, n_estimators=500; total time=   2.2s\n[CV] END bootstrap=True, max_depth=10, max_features=auto, min_samples_leaf=8, n_estimators=200; total time=   1.6s\n[CV] END bootstrap=True, max_depth=10, max_features=auto, min_samples_leaf=8, n_estimators=200; total time=   1.6s\n[CV] END bootstrap=True, max_depth=10, max_features=auto, min_samples_leaf=8, n_estimators=200; total time=   1.6s\n[CV] END bootstrap=True, max_depth=20, max_features=sqrt, min_samples_leaf=7, n_estimators=300; total time=   1.3s\n[CV] END bootstrap=True, max_depth=20, max_features=sqrt, min_samples_leaf=7, n_estimators=300; total time=   1.2s\n[CV] END bootstrap=True, max_depth=10, max_features=auto, min_samples_leaf=4, n_estimators=300; total time=   2.7s\n[CV] END bootstrap=True, max_depth=10, max_features=auto, min_samples_leaf=4, n_estimators=300; total time=   2.7s\n[CV] END bootstrap=False, max_depth=15, max_features=auto, min_samples_leaf=6, n_estimators=500; total time=   6.3s\n[CV] END bootstrap=False, max_depth=15, max_features=auto, min_samples_leaf=6, n_estimators=500; total time=   6.3s\n[CV] END bootstrap=False, max_depth=15, max_features=auto, min_samples_leaf=6, n_estimators=500; total time=   6.2s\n[CV] END bootstrap=True, max_depth=15, max_features=sqrt, min_samples_leaf=4, n_estimators=500; total time=   2.2s\n[CV] END bootstrap=True, max_depth=15, max_features=sqrt, min_samples_leaf=4, n_estimators=500; total time=   2.1s\n[CV] END bootstrap=False, max_depth=15, max_features=sqrt, min_samples_leaf=10, n_estimators=100; total time=   0.4s\n[CV] END bootstrap=True, max_depth=20, max_features=auto, min_samples_leaf=2, n_estimators=100; total time=   1.1s\n[CV] END bootstrap=True, max_depth=20, max_features=auto, min_samples_leaf=2, n_estimators=100; total time=   1.1s\n[CV] END bootstrap=True, max_depth=10, max_features=sqrt, min_samples_leaf=7, n_estimators=100; total time=   0.4s\n[CV] END bootstrap=True, max_depth=10, max_features=sqrt, min_samples_leaf=7, n_estimators=100; total time=   0.4s\n[CV] END bootstrap=True, max_depth=10, max_features=sqrt, min_samples_leaf=7, n_estimators=100; total time=   0.4s\n[CV] END bootstrap=False, max_depth=25, max_features=auto, min_samples_leaf=6, n_estimators=100; total time=   1.3s\n[CV] END bootstrap=False, max_depth=25, max_features=auto, min_samples_leaf=6, n_estimators=100; total time=   1.3s\n[CV] END bootstrap=False, max_depth=25, max_features=auto, min_samples_leaf=6, n_estimators=100; total time=   1.3s\n[CV] END bootstrap=True, max_depth=20, max_features=auto, min_samples_leaf=9, n_estimators=200; total time=   1.6s\n[CV] END bootstrap=True, max_depth=20, max_features=auto, min_samples_leaf=9, n_estimators=200; total time=   1.5s\n[CV] END bootstrap=True, max_depth=15, max_features=auto, min_samples_leaf=6, n_estimators=500; total time=   4.3s\n[CV] END bootstrap=True, max_depth=15, max_features=auto, min_samples_leaf=6, n_estimators=500; total time=   4.2s\n[CV] END bootstrap=True, max_depth=15, max_features=auto, min_samples_leaf=6, n_estimators=500; total time=   4.2s\n[CV] END bootstrap=True, max_depth=15, max_features=auto, min_samples_leaf=7, n_estimators=500; total time=   4.2s\n[CV] END bootstrap=True, max_depth=15, max_features=auto, min_samples_leaf=7, n_estimators=500; total time=   4.2s\n[CV] END bootstrap=True, max_depth=15, max_features=auto, min_samples_leaf=7, n_estimators=500; total time=   4.1s\n[CV] END bootstrap=True, max_depth=25, max_features=auto, min_samples_leaf=9, n_estimators=300; total time=   2.5s\n[CV] END bootstrap=True, max_depth=25, max_features=auto, min_samples_leaf=9, n_estimators=300; total time=   2.4s\n[CV] END bootstrap=True, max_depth=10, max_features=sqrt, min_samples_leaf=6, n_estimators=400; total time=   2.4s\n[CV] END bootstrap=True, max_depth=10, max_features=sqrt, min_samples_leaf=6, n_estimators=400; total time=   1.6s\n[CV] END bootstrap=False, max_depth=10, max_features=auto, min_samples_leaf=2, n_estimators=100; total time=   1.4s\n[CV] END bootstrap=False, max_depth=10, max_features=auto, min_samples_leaf=2, n_estimators=100; total time=   1.4s\n[CV] END bootstrap=True, max_depth=10, max_features=auto, min_samples_leaf=2, n_estimators=200; total time=   1.9s\n[CV] END bootstrap=True, max_depth=10, max_features=auto, min_samples_leaf=2, n_estimators=200; total time=   2.0s\n[CV] END bootstrap=True, max_depth=10, max_features=auto, min_samples_leaf=2, n_estimators=200; total time=   2.0s\n[CV] END bootstrap=True, max_depth=15, max_features=auto, min_samples_leaf=8, n_estimators=500; total time=   4.2s\n[CV] END bootstrap=True, max_depth=15, max_features=auto, min_samples_leaf=8, n_estimators=500; total time=   4.2s\n[CV] END bootstrap=True, max_depth=15, max_features=auto, min_samples_leaf=6, n_estimators=400; total time=   3.5s\n[CV] END bootstrap=True, max_depth=15, max_features=auto, min_samples_leaf=6, n_estimators=400; total time=   3.3s\n[CV] END bootstrap=True, max_depth=15, max_features=auto, min_samples_leaf=6, n_estimators=400; total time=   3.5s\n[CV] END bootstrap=True, max_depth=20, max_features=auto, min_samples_leaf=4, n_estimators=300; total time=   2.8s\n[CV] END bootstrap=True, max_depth=20, max_features=auto, min_samples_leaf=4, n_estimators=300; total time=   2.8s\n[CV] END bootstrap=False, max_depth=20, max_features=sqrt, min_samples_leaf=7, n_estimators=500; total time=   2.3s\n[CV] END bootstrap=False, max_depth=20, max_features=sqrt, min_samples_leaf=7, n_estimators=500; total time=   2.3s\n[CV] END bootstrap=False, max_depth=20, max_features=sqrt, min_samples_leaf=7, n_estimators=500; total time=   2.2s\n[CV] END bootstrap=False, max_depth=10, max_features=sqrt, min_samples_leaf=2, n_estimators=100; total time=   0.5s\n[CV] END bootstrap=False, max_depth=10, max_features=sqrt, min_samples_leaf=2, n_estimators=100; total time=   0.6s\n[CV] END bootstrap=False, max_depth=10, max_features=sqrt, min_samples_leaf=2, n_estimators=100; total time=   0.5s\n[CV] END bootstrap=True, max_depth=25, max_features=auto, min_samples_leaf=2, n_estimators=300; total time=   3.3s\n[CV] END bootstrap=True, max_depth=25, max_features=auto, min_samples_leaf=2, n_estimators=300; total time=   3.3s/shared-libs/python3.7/py/lib/python3.7/site-packages/sklearn/model_selection/_validation.py:598: DataConversionWarning: A column-vector y was passed when a 1d array was expected. Please change the shape of y to (n_samples,), for example using ravel().\n  estimator.fit(X_train, y_train, **fit_params)\n/shared-libs/python3.7/py/lib/python3.7/site-packages/sklearn/model_selection/_validation.py:598: DataConversionWarning: A column-vector y was passed when a 1d array was expected. Please change the shape of y to (n_samples,), for example using ravel().\n  estimator.fit(X_train, y_train, **fit_params)\n/shared-libs/python3.7/py/lib/python3.7/site-packages/sklearn/model_selection/_validation.py:598: DataConversionWarning: A column-vector y was passed when a 1d array was expected. Please change the shape of y to (n_samples,), for example using ravel().\n  estimator.fit(X_train, y_train, **fit_params)\n/shared-libs/python3.7/py/lib/python3.7/site-packages/sklearn/model_selection/_validation.py:598: DataConversionWarning: A column-vector y was passed when a 1d array was expected. Please change the shape of y to (n_samples,), for example using ravel().\n  estimator.fit(X_train, y_train, **fit_params)\n/shared-libs/python3.7/py/lib/python3.7/site-packages/sklearn/model_selection/_validation.py:598: DataConversionWarning: A column-vector y was passed when a 1d array was expected. Please change the shape of y to (n_samples,), for example using ravel().\n  estimator.fit(X_train, y_train, **fit_params)\n/shared-libs/python3.7/py/lib/python3.7/site-packages/sklearn/model_selection/_validation.py:598: DataConversionWarning: A column-vector y was passed when a 1d array was expected. Please change the shape of y to (n_samples,), for example using ravel().\n  estimator.fit(X_train, y_train, **fit_params)\n/shared-libs/python3.7/py/lib/python3.7/site-packages/sklearn/model_selection/_validation.py:598: DataConversionWarning: A column-vector y was passed when a 1d array was expected. Please change the shape of y to (n_samples,), for example using ravel().\n  estimator.fit(X_train, y_train, **fit_params)\n/shared-libs/python3.7/py/lib/python3.7/site-packages/sklearn/model_selection/_validation.py:598: DataConversionWarning: A column-vector y was passed when a 1d array was expected. Please change the shape of y to (n_samples,), for example using ravel().\n  estimator.fit(X_train, y_train, **fit_params)\n/shared-libs/python3.7/py/lib/python3.7/site-packages/sklearn/model_selection/_validation.py:598: DataConversionWarning: A column-vector y was passed when a 1d array was expected. Please change the shape of y to (n_samples,), for example using ravel().\n  estimator.fit(X_train, y_train, **fit_params)\n/shared-libs/python3.7/py/lib/python3.7/site-packages/sklearn/model_selection/_validation.py:598: DataConversionWarning: A column-vector y was passed when a 1d array was expected. Please change the shape of y to (n_samples,), for example using ravel().\n  estimator.fit(X_train, y_train, **fit_params)\n/shared-libs/python3.7/py/lib/python3.7/site-packages/sklearn/model_selection/_validation.py:598: DataConversionWarning: A column-vector y was passed when a 1d array was expected. Please change the shape of y to (n_samples,), for example using ravel().\n  estimator.fit(X_train, y_train, **fit_params)\n/shared-libs/python3.7/py/lib/python3.7/site-packages/sklearn/model_selection/_validation.py:598: DataConversionWarning: A column-vector y was passed when a 1d array was expected. Please change the shape of y to (n_samples,), for example using ravel().\n  estimator.fit(X_train, y_train, **fit_params)\n/shared-libs/python3.7/py/lib/python3.7/site-packages/sklearn/model_selection/_validation.py:598: DataConversionWarning: A column-vector y was passed when a 1d array was expected. Please change the shape of y to (n_samples,), for example using ravel().\n  estimator.fit(X_train, y_train, **fit_params)\n/shared-libs/python3.7/py/lib/python3.7/site-packages/sklearn/model_selection/_validation.py:598: DataConversionWarning: A column-vector y was passed when a 1d array was expected. Please change the shape of y to (n_samples,), for example using ravel().\n  estimator.fit(X_train, y_train, **fit_params)\n/shared-libs/python3.7/py/lib/python3.7/site-packages/sklearn/model_selection/_validation.py:598: DataConversionWarning: A column-vector y was passed when a 1d array was expected. Please change the shape of y to (n_samples,), for example using ravel().\n  estimator.fit(X_train, y_train, **fit_params)\n/shared-libs/python3.7/py/lib/python3.7/site-packages/sklearn/model_selection/_validation.py:598: DataConversionWarning: A column-vector y was passed when a 1d array was expected. Please change the shape of y to (n_samples,), for example using ravel().\n  estimator.fit(X_train, y_train, **fit_params)\n/shared-libs/python3.7/py/lib/python3.7/site-packages/sklearn/model_selection/_validation.py:598: DataConversionWarning: A column-vector y was passed when a 1d array was expected. Please change the shape of y to (n_samples,), for example using ravel().\n  estimator.fit(X_train, y_train, **fit_params)\n/shared-libs/python3.7/py/lib/python3.7/site-packages/sklearn/model_selection/_validation.py:598: DataConversionWarning: A column-vector y was passed when a 1d array was expected. Please change the shape of y to (n_samples,), for example using ravel().\n  estimator.fit(X_train, y_train, **fit_params)\n/shared-libs/python3.7/py/lib/python3.7/site-packages/sklearn/model_selection/_validation.py:598: DataConversionWarning: A column-vector y was passed when a 1d array was expected. Please change the shape of y to (n_samples,), for example using ravel().\n  estimator.fit(X_train, y_train, **fit_params)\n/shared-libs/python3.7/py/lib/python3.7/site-packages/sklearn/model_selection/_validation.py:598: DataConversionWarning: A column-vector y was passed when a 1d array was expected. Please change the shape of y to (n_samples,), for example using ravel().\n  estimator.fit(X_train, y_train, **fit_params)\n/shared-libs/python3.7/py/lib/python3.7/site-packages/sklearn/model_selection/_validation.py:598: DataConversionWarning: A column-vector y was passed when a 1d array was expected. Please change the shape of y to (n_samples,), for example using ravel().\n  estimator.fit(X_train, y_train, **fit_params)\n/shared-libs/python3.7/py/lib/python3.7/site-packages/sklearn/model_selection/_validation.py:598: DataConversionWarning: A column-vector y was passed when a 1d array was expected. Please change the shape of y to (n_samples,), for example using ravel().\n  estimator.fit(X_train, y_train, **fit_params)\n/shared-libs/python3.7/py/lib/python3.7/site-packages/sklearn/model_selection/_validation.py:598: DataConversionWarning: A column-vector y was passed when a 1d array was expected. Please change the shape of y to (n_samples,), for example using ravel().\n  estimator.fit(X_train, y_train, **fit_params)\n/shared-libs/python3.7/py/lib/python3.7/site-packages/sklearn/model_selection/_validation.py:598: DataConversionWarning: A column-vector y was passed when a 1d array was expected. Please change the shape of y to (n_samples,), for example using ravel().\n  estimator.fit(X_train, y_train, **fit_params)\n/shared-libs/python3.7/py/lib/python3.7/site-packages/sklearn/model_selection/_validation.py:598: DataConversionWarning: A column-vector y was passed when a 1d array was expected. Please change the shape of y to (n_samples,), for example using ravel().\n  estimator.fit(X_train, y_train, **fit_params)\n/shared-libs/python3.7/py/lib/python3.7/site-packages/sklearn/model_selection/_validation.py:598: DataConversionWarning: A column-vector y was passed when a 1d array was expected. Please change the shape of y to (n_samples,), for example using ravel().\n  estimator.fit(X_train, y_train, **fit_params)\n/shared-libs/python3.7/py/lib/python3.7/site-packages/sklearn/model_selection/_validation.py:598: DataConversionWarning: A column-vector y was passed when a 1d array was expected. Please change the shape of y to (n_samples,), for example using ravel().\n  estimator.fit(X_train, y_train, **fit_params)\n/shared-libs/python3.7/py/lib/python3.7/site-packages/sklearn/model_selection/_validation.py:598: DataConversionWarning: A column-vector y was passed when a 1d array was expected. Please change the shape of y to (n_samples,), for example using ravel().\n  estimator.fit(X_train, y_train, **fit_params)\n/shared-libs/python3.7/py/lib/python3.7/site-packages/sklearn/model_selection/_validation.py:598: DataConversionWarning: A column-vector y was passed when a 1d array was expected. Please change the shape of y to (n_samples,), for example using ravel().\n  estimator.fit(X_train, y_train, **fit_params)\n/shared-libs/python3.7/py/lib/python3.7/site-packages/sklearn/model_selection/_validation.py:598: DataConversionWarning: A column-vector y was passed when a 1d array was expected. Please change the shape of y to (n_samples,), for example using ravel().\n  estimator.fit(X_train, y_train, **fit_params)\n/shared-libs/python3.7/py/lib/python3.7/site-packages/sklearn/model_selection/_validation.py:598: DataConversionWarning: A column-vector y was passed when a 1d array was expected. Please change the shape of y to (n_samples,), for example using ravel().\n  estimator.fit(X_train, y_train, **fit_params)\n/shared-libs/python3.7/py/lib/python3.7/site-packages/sklearn/model_selection/_validation.py:598: DataConversionWarning: A column-vector y was passed when a 1d array was expected. Please change the shape of y to (n_samples,), for example using ravel().\n  estimator.fit(X_train, y_train, **fit_params)\n/shared-libs/python3.7/py/lib/python3.7/site-packages/sklearn/model_selection/_validation.py:598: DataConversionWarning: A column-vector y was passed when a 1d array was expected. Please change the shape of y to (n_samples,), for example using ravel().\n  estimator.fit(X_train, y_train, **fit_params)\n/shared-libs/python3.7/py/lib/python3.7/site-packages/sklearn/model_selection/_validation.py:598: DataConversionWarning: A column-vector y was passed when a 1d array was expected. Please change the shape of y to (n_samples,), for example using ravel().\n  estimator.fit(X_train, y_train, **fit_params)\n/shared-libs/python3.7/py/lib/python3.7/site-packages/sklearn/model_selection/_validation.py:598: DataConversionWarning: A column-vector y was passed when a 1d array was expected. Please change the shape of y to (n_samples,), for example using ravel().\n  estimator.fit(X_train, y_train, **fit_params)\n/shared-libs/python3.7/py/lib/python3.7/site-packages/sklearn/model_selection/_validation.py:598: DataConversionWarning: A column-vector y was passed when a 1d array was expected. Please change the shape of y to (n_samples,), for example using ravel().\n  estimator.fit(X_train, y_train, **fit_params)\n/shared-libs/python3.7/py/lib/python3.7/site-packages/sklearn/model_selection/_validation.py:598: DataConversionWarning: A column-vector y was passed when a 1d array was expected. Please change the shape of y to (n_samples,), for example using ravel().\n  estimator.fit(X_train, y_train, **fit_params)\n/shared-libs/python3.7/py/lib/python3.7/site-packages/sklearn/model_selection/_validation.py:598: DataConversionWarning: A column-vector y was passed when a 1d array was expected. Please change the shape of y to (n_samples,), for example using ravel().\n  estimator.fit(X_train, y_train, **fit_params)\n/shared-libs/python3.7/py/lib/python3.7/site-packages/sklearn/model_selection/_validation.py:598: DataConversionWarning: A column-vector y was passed when a 1d array was expected. Please change the shape of y to (n_samples,), for example using ravel().\n  estimator.fit(X_train, y_train, **fit_params)\n/shared-libs/python3.7/py/lib/python3.7/site-packages/sklearn/model_selection/_validation.py:598: DataConversionWarning: A column-vector y was passed when a 1d array was expected. Please change the shape of y to (n_samples,), for example using ravel().\n  estimator.fit(X_train, y_train, **fit_params)\n/shared-libs/python3.7/py/lib/python3.7/site-packages/sklearn/model_selection/_validation.py:598: DataConversionWarning: A column-vector y was passed when a 1d array was expected. Please change the shape of y to (n_samples,), for example using ravel().\n  estimator.fit(X_train, y_train, **fit_params)\n/shared-libs/python3.7/py/lib/python3.7/site-packages/sklearn/model_selection/_validation.py:598: DataConversionWarning: A column-vector y was passed when a 1d array was expected. Please change the shape of y to (n_samples,), for example using ravel().\n  estimator.fit(X_train, y_train, **fit_params)\n/shared-libs/python3.7/py/lib/python3.7/site-packages/sklearn/model_selection/_validation.py:598: DataConversionWarning: A column-vector y was passed when a 1d array was expected. Please change the shape of y to (n_samples,), for example using ravel().\n  estimator.fit(X_train, y_train, **fit_params)\n/shared-libs/python3.7/py/lib/python3.7/site-packages/sklearn/model_selection/_validation.py:598: DataConversionWarning: A column-vector y was passed when a 1d array was expected. Please change the shape of y to (n_samples,), for example using ravel().\n  estimator.fit(X_train, y_train, **fit_params)\n/shared-libs/python3.7/py/lib/python3.7/site-packages/sklearn/model_selection/_validation.py:598: DataConversionWarning: A column-vector y was passed when a 1d array was expected. Please change the shape of y to (n_samples,), for example using ravel().\n  estimator.fit(X_train, y_train, **fit_params)\n/shared-libs/python3.7/py/lib/python3.7/site-packages/sklearn/model_selection/_validation.py:598: DataConversionWarning: A column-vector y was passed when a 1d array was expected. Please change the shape of y to (n_samples,), for example using ravel().\n  estimator.fit(X_train, y_train, **fit_params)\n/shared-libs/python3.7/py/lib/python3.7/site-packages/sklearn/model_selection/_validation.py:598: DataConversionWarning: A column-vector y was passed when a 1d array was expected. Please change the shape of y to (n_samples,), for example using ravel().\n  estimator.fit(X_train, y_train, **fit_params)\n/shared-libs/python3.7/py/lib/python3.7/site-packages/sklearn/model_selection/_validation.py:598: DataConversionWarning: A column-vector y was passed when a 1d array was expected. Please change the shape of y to (n_samples,), for example using ravel().\n  estimator.fit(X_train, y_train, **fit_params)\n/shared-libs/python3.7/py/lib/python3.7/site-packages/sklearn/model_selection/_validation.py:598: DataConversionWarning: A column-vector y was passed when a 1d array was expected. Please change the shape of y to (n_samples,), for example using ravel().\n  estimator.fit(X_train, y_train, **fit_params)\n/shared-libs/python3.7/py/lib/python3.7/site-packages/sklearn/model_selection/_validation.py:598: DataConversionWarning: A column-vector y was passed when a 1d array was expected. Please change the shape of y to (n_samples,), for example using ravel().\n  estimator.fit(X_train, y_train, **fit_params)\n/shared-libs/python3.7/py/lib/python3.7/site-packages/sklearn/model_selection/_validation.py:598: DataConversionWarning: A column-vector y was passed when a 1d array was expected. Please change the shape of y to (n_samples,), for example using ravel().\n  estimator.fit(X_train, y_train, **fit_params)\n/shared-libs/python3.7/py/lib/python3.7/site-packages/sklearn/model_selection/_validation.py:598: DataConversionWarning: A column-vector y was passed when a 1d array was expected. Please change the shape of y to (n_samples,), for example using ravel().\n  estimator.fit(X_train, y_train, **fit_params)\n/shared-libs/python3.7/py/lib/python3.7/site-packages/sklearn/model_selection/_validation.py:598: DataConversionWarning: A column-vector y was passed when a 1d array was expected. Please change the shape of y to (n_samples,), for example using ravel().\n  estimator.fit(X_train, y_train, **fit_params)\n/shared-libs/python3.7/py/lib/python3.7/site-packages/sklearn/model_selection/_validation.py:598: DataConversionWarning: A column-vector y was passed when a 1d array was expected. Please change the shape of y to (n_samples,), for example using ravel().\n  estimator.fit(X_train, y_train, **fit_params)\n/shared-libs/python3.7/py/lib/python3.7/site-packages/sklearn/model_selection/_validation.py:598: DataConversionWarning: A column-vector y was passed when a 1d array was expected. Please change the shape of y to (n_samples,), for example using ravel().\n  estimator.fit(X_train, y_train, **fit_params)\n/shared-libs/python3.7/py/lib/python3.7/site-packages/sklearn/model_selection/_validation.py:598: DataConversionWarning: A column-vector y was passed when a 1d array was expected. Please change the shape of y to (n_samples,), for example using ravel().\n  estimator.fit(X_train, y_train, **fit_params)\n/shared-libs/python3.7/py/lib/python3.7/site-packages/sklearn/model_selection/_validation.py:598: DataConversionWarning: A column-vector y was passed when a 1d array was expected. Please change the shape of y to (n_samples,), for example using ravel().\n  estimator.fit(X_train, y_train, **fit_params)\n/shared-libs/python3.7/py/lib/python3.7/site-packages/sklearn/model_selection/_validation.py:598: DataConversionWarning: A column-vector y was passed when a 1d array was expected. Please change the shape of y to (n_samples,), for example using ravel().\n  estimator.fit(X_train, y_train, **fit_params)\n/shared-libs/python3.7/py/lib/python3.7/site-packages/sklearn/model_selection/_validation.py:598: DataConversionWarning: A column-vector y was passed when a 1d array was expected. Please change the shape of y to (n_samples,), for example using ravel().\n  estimator.fit(X_train, y_train, **fit_params)\n/shared-libs/python3.7/py/lib/python3.7/site-packages/sklearn/model_selection/_validation.py:598: DataConversionWarning: A column-vector y was passed when a 1d array was expected. Please change the shape of y to (n_samples,), for example using ravel().\n  estimator.fit(X_train, y_train, **fit_params)\n/shared-libs/python3.7/py/lib/python3.7/site-packages/sklearn/model_selection/_validation.py:598: DataConversionWarning: A column-vector y was passed when a 1d array was expected. Please change the shape of y to (n_samples,), for example using ravel().\n  estimator.fit(X_train, y_train, **fit_params)\n/shared-libs/python3.7/py/lib/python3.7/site-packages/sklearn/model_selection/_validation.py:598: DataConversionWarning: A column-vector y was passed when a 1d array was expected. Please change the shape of y to (n_samples,), for example using ravel().\n  estimator.fit(X_train, y_train, **fit_params)\n/shared-libs/python3.7/py/lib/python3.7/site-packages/sklearn/model_selection/_validation.py:598: DataConversionWarning: A column-vector y was passed when a 1d array was expected. Please change the shape of y to (n_samples,), for example using ravel().\n  estimator.fit(X_train, y_train, **fit_params)\n/shared-libs/python3.7/py/lib/python3.7/site-packages/sklearn/model_selection/_validation.py:598: DataConversionWarning: A column-vector y was passed when a 1d array was expected. Please change the shape of y to (n_samples,), for example using ravel().\n  estimator.fit(X_train, y_train, **fit_params)\n/shared-libs/python3.7/py/lib/python3.7/site-packages/sklearn/model_selection/_validation.py:598: DataConversionWarning: A column-vector y was passed when a 1d array was expected. Please change the shape of y to (n_samples,), for example using ravel().\n  estimator.fit(X_train, y_train, **fit_params)\n/shared-libs/python3.7/py/lib/python3.7/site-packages/sklearn/model_selection/_validation.py:598: DataConversionWarning: A column-vector y was passed when a 1d array was expected. Please change the shape of y to (n_samples,), for example using ravel().\n  estimator.fit(X_train, y_train, **fit_params)\n/shared-libs/python3.7/py/lib/python3.7/site-packages/sklearn/model_selection/_validation.py:598: DataConversionWarning: A column-vector y was passed when a 1d array was expected. Please change the shape of y to (n_samples,), for example using ravel().\n  estimator.fit(X_train, y_train, **fit_params)\n/shared-libs/python3.7/py/lib/python3.7/site-packages/sklearn/model_selection/_validation.py:598: DataConversionWarning: A column-vector y was passed when a 1d array was expected. Please change the shape of y to (n_samples,), for example using ravel().\n  estimator.fit(X_train, y_train, **fit_params)\n/shared-libs/python3.7/py/lib/python3.7/site-packages/sklearn/model_selection/_validation.py:598: DataConversionWarning: A column-vector y was passed when a 1d array was expected. Please change the shape of y to (n_samples,), for example using ravel().\n  estimator.fit(X_train, y_train, **fit_params)\n/shared-libs/python3.7/py/lib/python3.7/site-packages/sklearn/model_selection/_validation.py:598: DataConversionWarning: A column-vector y was passed when a 1d array was expected. Please change the shape of y to (n_samples,), for example using ravel().\n  estimator.fit(X_train, y_train, **fit_params)\n/shared-libs/python3.7/py/lib/python3.7/site-packages/sklearn/model_selection/_validation.py:598: DataConversionWarning: A column-vector y was passed when a 1d array was expected. Please change the shape of y to (n_samples,), for example using ravel().\n  estimator.fit(X_train, y_train, **fit_params)\n/shared-libs/python3.7/py/lib/python3.7/site-packages/sklearn/model_selection/_validation.py:598: DataConversionWarning: A column-vector y was passed when a 1d array was expected. Please change the shape of y to (n_samples,), for example using ravel().\n  estimator.fit(X_train, y_train, **fit_params)\n/shared-libs/python3.7/py/lib/python3.7/site-packages/sklearn/model_selection/_validation.py:598: DataConversionWarning: A column-vector y was passed when a 1d array was expected. Please change the shape of y to (n_samples,), for example using ravel().\n  estimator.fit(X_train, y_train, **fit_params)\n/shared-libs/python3.7/py/lib/python3.7/site-packages/sklearn/model_selection/_validation.py:598: DataConversionWarning: A column-vector y was passed when a 1d array was expected. Please change the shape of y to (n_samples,), for example using ravel().\n  estimator.fit(X_train, y_train, **fit_params)\n/shared-libs/python3.7/py/lib/python3.7/site-packages/sklearn/model_selection/_validation.py:598: DataConversionWarning: A column-vector y was passed when a 1d array was expected. Please change the shape of y to (n_samples,), for example using ravel().\n  estimator.fit(X_train, y_train, **fit_params)\n/shared-libs/python3.7/py/lib/python3.7/site-packages/sklearn/model_selection/_validation.py:598: DataConversionWarning: A column-vector y was passed when a 1d array was expected. Please change the shape of y to (n_samples,), for example using ravel().\n  estimator.fit(X_train, y_train, **fit_params)\n/shared-libs/python3.7/py/lib/python3.7/site-packages/sklearn/model_selection/_validation.py:598: DataConversionWarning: A column-vector y was passed when a 1d array was expected. Please change the shape of y to (n_samples,), for example using ravel().\n  estimator.fit(X_train, y_train, **fit_params)\n/shared-libs/python3.7/py/lib/python3.7/site-packages/sklearn/model_selection/_validation.py:598: DataConversionWarning: A column-vector y was passed when a 1d array was expected. Please change the shape of y to (n_samples,), for example using ravel().\n  estimator.fit(X_train, y_train, **fit_params)\n/shared-libs/python3.7/py/lib/python3.7/site-packages/sklearn/model_selection/_validation.py:598: DataConversionWarning: A column-vector y was passed when a 1d array was expected. Please change the shape of y to (n_samples,), for example using ravel().\n  estimator.fit(X_train, y_train, **fit_params)\n/shared-libs/python3.7/py/lib/python3.7/site-packages/sklearn/model_selection/_validation.py:598: DataConversionWarning: A column-vector y was passed when a 1d array was expected. Please change the shape of y to (n_samples,), for example using ravel().\n  estimator.fit(X_train, y_train, **fit_params)\n/shared-libs/python3.7/py/lib/python3.7/site-packages/sklearn/model_selection/_validation.py:598: DataConversionWarning: A column-vector y was passed when a 1d array was expected. Please change the shape of y to (n_samples,), for example using ravel().\n  estimator.fit(X_train, y_train, **fit_params)\n/shared-libs/python3.7/py/lib/python3.7/site-packages/sklearn/model_selection/_validation.py:598: DataConversionWarning: A column-vector y was passed when a 1d array was expected. Please change the shape of y to (n_samples,), for example using ravel().\n  estimator.fit(X_train, y_train, **fit_params)\n/shared-libs/python3.7/py/lib/python3.7/site-packages/sklearn/model_selection/_validation.py:598: DataConversionWarning: A column-vector y was passed when a 1d array was expected. Please change the shape of y to (n_samples,), for example using ravel().\n  estimator.fit(X_train, y_train, **fit_params)\n/shared-libs/python3.7/py/lib/python3.7/site-packages/sklearn/model_selection/_validation.py:598: DataConversionWarning: A column-vector y was passed when a 1d array was expected. Please change the shape of y to (n_samples,), for example using ravel().\n  estimator.fit(X_train, y_train, **fit_params)\n/shared-libs/python3.7/py/lib/python3.7/site-packages/sklearn/model_selection/_validation.py:598: DataConversionWarning: A column-vector y was passed when a 1d array was expected. Please change the shape of y to (n_samples,), for example using ravel().\n  estimator.fit(X_train, y_train, **fit_params)\n/shared-libs/python3.7/py/lib/python3.7/site-packages/sklearn/model_selection/_validation.py:598: DataConversionWarning: A column-vector y was passed when a 1d array was expected. Please change the shape of y to (n_samples,), for example using ravel().\n  estimator.fit(X_train, y_train, **fit_params)\n/shared-libs/python3.7/py/lib/python3.7/site-packages/sklearn/model_selection/_validation.py:598: DataConversionWarning: A column-vector y was passed when a 1d array was expected. Please change the shape of y to (n_samples,), for example using ravel().\n  estimator.fit(X_train, y_train, **fit_params)\n/shared-libs/python3.7/py/lib/python3.7/site-packages/sklearn/model_selection/_validation.py:598: DataConversionWarning: A column-vector y was passed when a 1d array was expected. Please change the shape of y to (n_samples,), for example using ravel().\n  estimator.fit(X_train, y_train, **fit_params)\n/shared-libs/python3.7/py/lib/python3.7/site-packages/sklearn/model_selection/_validation.py:598: DataConversionWarning: A column-vector y was passed when a 1d array was expected. Please change the shape of y to (n_samples,), for example using ravel().\n  estimator.fit(X_train, y_train, **fit_params)\n/shared-libs/python3.7/py/lib/python3.7/site-packages/sklearn/model_selection/_validation.py:598: DataConversionWarning: A column-vector y was passed when a 1d array was expected. Please change the shape of y to (n_samples,), for example using ravel().\n  estimator.fit(X_train, y_train, **fit_params)\n/shared-libs/python3.7/py/lib/python3.7/site-packages/sklearn/model_selection/_validation.py:598: DataConversionWarning: A column-vector y was passed when a 1d array was expected. Please change the shape of y to (n_samples,), for example using ravel().\n  estimator.fit(X_train, y_train, **fit_params)\n/shared-libs/python3.7/py/lib/python3.7/site-packages/sklearn/model_selection/_validation.py:598: DataConversionWarning: A column-vector y was passed when a 1d array was expected. Please change the shape of y to (n_samples,), for example using ravel().\n  estimator.fit(X_train, y_train, **fit_params)\n/shared-libs/python3.7/py/lib/python3.7/site-packages/sklearn/model_selection/_validation.py:598: DataConversionWarning: A column-vector y was passed when a 1d array was expected. Please change the shape of y to (n_samples,), for example using ravel().\n  estimator.fit(X_train, y_train, **fit_params)\n/shared-libs/python3.7/py/lib/python3.7/site-packages/sklearn/model_selection/_validation.py:598: DataConversionWarning: A column-vector y was passed when a 1d array was expected. Please change the shape of y to (n_samples,), for example using ravel().\n  estimator.fit(X_train, y_train, **fit_params)\n/shared-libs/python3.7/py/lib/python3.7/site-packages/sklearn/model_selection/_validation.py:598: DataConversionWarning: A column-vector y was passed when a 1d array was expected. Please change the shape of y to (n_samples,), for example using ravel().\n  estimator.fit(X_train, y_train, **fit_params)\n/shared-libs/python3.7/py/lib/python3.7/site-packages/sklearn/model_selection/_validation.py:598: DataConversionWarning: A column-vector y was passed when a 1d array was expected. Please change the shape of y to (n_samples,), for example using ravel().\n  estimator.fit(X_train, y_train, **fit_params)\n/shared-libs/python3.7/py/lib/python3.7/site-packages/sklearn/model_selection/_validation.py:598: DataConversionWarning: A column-vector y was passed when a 1d array was expected. Please change the shape of y to (n_samples,), for example using ravel().\n  estimator.fit(X_train, y_train, **fit_params)\n/shared-libs/python3.7/py/lib/python3.7/site-packages/sklearn/model_selection/_validation.py:598: DataConversionWarning: A column-vector y was passed when a 1d array was expected. Please change the shape of y to (n_samples,), for example using ravel().\n  estimator.fit(X_train, y_train, **fit_params)\n/shared-libs/python3.7/py/lib/python3.7/site-packages/sklearn/model_selection/_validation.py:598: DataConversionWarning: A column-vector y was passed when a 1d array was expected. Please change the shape of y to (n_samples,), for example using ravel().\n  estimator.fit(X_train, y_train, **fit_params)\n/shared-libs/python3.7/py/lib/python3.7/site-packages/sklearn/model_selection/_validation.py:598: DataConversionWarning: A column-vector y was passed when a 1d array was expected. Please change the shape of y to (n_samples,), for example using ravel().\n  estimator.fit(X_train, y_train, **fit_params)\n/shared-libs/python3.7/py/lib/python3.7/site-packages/sklearn/model_selection/_validation.py:598: DataConversionWarning: A column-vector y was passed when a 1d array was expected. Please change the shape of y to (n_samples,), for example using ravel().\n  estimator.fit(X_train, y_train, **fit_params)\n/shared-libs/python3.7/py/lib/python3.7/site-packages/sklearn/model_selection/_validation.py:598: DataConversionWarning: A column-vector y was passed when a 1d array was expected. Please change the shape of y to (n_samples,), for example using ravel().\n  estimator.fit(X_train, y_train, **fit_params)\n/shared-libs/python3.7/py/lib/python3.7/site-packages/sklearn/model_selection/_validation.py:598: DataConversionWarning: A column-vector y was passed when a 1d array was expected. Please change the shape of y to (n_samples,), for example using ravel().\n  estimator.fit(X_train, y_train, **fit_params)\n/shared-libs/python3.7/py/lib/python3.7/site-packages/sklearn/model_selection/_validation.py:598: DataConversionWarning: A column-vector y was passed when a 1d array was expected. Please change the shape of y to (n_samples,), for example using ravel().\n  estimator.fit(X_train, y_train, **fit_params)\n/shared-libs/python3.7/py/lib/python3.7/site-packages/sklearn/model_selection/_validation.py:598: DataConversionWarning: A column-vector y was passed when a 1d array was expected. Please change the shape of y to (n_samples,), for example using ravel().\n  estimator.fit(X_train, y_train, **fit_params)\n/shared-libs/python3.7/py/lib/python3.7/site-packages/sklearn/model_selection/_validation.py:598: DataConversionWarning: A column-vector y was passed when a 1d array was expected. Please change the shape of y to (n_samples,), for example using ravel().\n  estimator.fit(X_train, y_train, **fit_params)\n/shared-libs/python3.7/py/lib/python3.7/site-packages/sklearn/model_selection/_validation.py:598: DataConversionWarning: A column-vector y was passed when a 1d array was expected. Please change the shape of y to (n_samples,), for example using ravel().\n  estimator.fit(X_train, y_train, **fit_params)\n/shared-libs/python3.7/py/lib/python3.7/site-packages/sklearn/model_selection/_validation.py:598: DataConversionWarning: A column-vector y was passed when a 1d array was expected. Please change the shape of y to (n_samples,), for example using ravel().\n  estimator.fit(X_train, y_train, **fit_params)\n/shared-libs/python3.7/py/lib/python3.7/site-packages/sklearn/model_selection/_validation.py:598: DataConversionWarning: A column-vector y was passed when a 1d array was expected. Please change the shape of y to (n_samples,), for example using ravel().\n  estimator.fit(X_train, y_train, **fit_params)\n/shared-libs/python3.7/py/lib/python3.7/site-packages/sklearn/model_selection/_validation.py:598: DataConversionWarning: A column-vector y was passed when a 1d array was expected. Please change the shape of y to (n_samples,), for example using ravel().\n  estimator.fit(X_train, y_train, **fit_params)\n/shared-libs/python3.7/py/lib/python3.7/site-packages/sklearn/model_selection/_validation.py:598: DataConversionWarning: A column-vector y was passed when a 1d array was expected. Please change the shape of y to (n_samples,), for example using ravel().\n  estimator.fit(X_train, y_train, **fit_params)\n/shared-libs/python3.7/py/lib/python3.7/site-packages/sklearn/model_selection/_validation.py:598: DataConversionWarning: A column-vector y was passed when a 1d array was expected. Please change the shape of y to (n_samples,), for example using ravel().\n  estimator.fit(X_train, y_train, **fit_params)\n\n[CV] END bootstrap=False, max_depth=25, max_features=auto, min_samples_leaf=8, n_estimators=200; total time=   2.3s\n[CV] END bootstrap=False, max_depth=25, max_features=auto, min_samples_leaf=8, n_estimators=200; total time=   2.5s\n[CV] END bootstrap=False, max_depth=25, max_features=auto, min_samples_leaf=8, n_estimators=200; total time=   2.3s\n[CV] END bootstrap=True, max_depth=15, max_features=auto, min_samples_leaf=8, n_estimators=400; total time=   3.2s\n[CV] END bootstrap=True, max_depth=15, max_features=auto, min_samples_leaf=8, n_estimators=400; total time=   3.2s\n[CV] END bootstrap=True, max_depth=15, max_features=auto, min_samples_leaf=8, n_estimators=400; total time=   3.2s\n[CV] END bootstrap=True, max_depth=25, max_features=auto, min_samples_leaf=3, n_estimators=400; total time=   4.0s\n[CV] END bootstrap=True, max_depth=25, max_features=auto, min_samples_leaf=3, n_estimators=400; total time=   3.9s\n[CV] END bootstrap=False, max_depth=25, max_features=sqrt, min_samples_leaf=1, n_estimators=400; total time=   2.7s\n[CV] END bootstrap=False, max_depth=25, max_features=sqrt, min_samples_leaf=1, n_estimators=400; total time=   2.7s\n[CV] END bootstrap=False, max_depth=25, max_features=sqrt, min_samples_leaf=1, n_estimators=400; total time=   2.7s\n[CV] END bootstrap=False, max_depth=25, max_features=auto, min_samples_leaf=5, n_estimators=300; total time=   4.1s\n[CV] END bootstrap=False, max_depth=25, max_features=auto, min_samples_leaf=5, n_estimators=300; total time=   3.9s\n[CV] END bootstrap=False, max_depth=25, max_features=sqrt, min_samples_leaf=7, n_estimators=200; total time=   0.9s\n[CV] END bootstrap=False, max_depth=25, max_features=sqrt, min_samples_leaf=7, n_estimators=200; total time=   0.9s\n[CV] END bootstrap=False, max_depth=25, max_features=sqrt, min_samples_leaf=7, n_estimators=200; total time=   0.9s\n[CV] END bootstrap=False, max_depth=25, max_features=sqrt, min_samples_leaf=7, n_estimators=200; total time=   0.9s\n[CV] END bootstrap=False, max_depth=10, max_features=auto, min_samples_leaf=8, n_estimators=500; total time=   6.0s\n[CV] END bootstrap=False, max_depth=10, max_features=auto, min_samples_leaf=8, n_estimators=500; total time=   5.6s\n[CV] END bootstrap=False, max_depth=20, max_features=auto, min_samples_leaf=9, n_estimators=400; total time=   4.6s\n[CV] END bootstrap=False, max_depth=20, max_features=auto, min_samples_leaf=9, n_estimators=400; total time=   4.6s\n[CV] END bootstrap=False, max_depth=20, max_features=auto, min_samples_leaf=9, n_estimators=400; total time=   4.5s\n[CV] END bootstrap=True, max_depth=15, max_features=sqrt, min_samples_leaf=3, n_estimators=200; total time=   0.9s\n[CV] END bootstrap=True, max_depth=15, max_features=sqrt, min_samples_leaf=3, n_estimators=200; total time=   0.9s\n[CV] END bootstrap=True, max_depth=15, max_features=auto, min_samples_leaf=2, n_estimators=200; total time=   2.1s\n[CV] END bootstrap=True, max_depth=15, max_features=auto, min_samples_leaf=2, n_estimators=200; total time=   2.1s\n[CV] END bootstrap=True, max_depth=15, max_features=auto, min_samples_leaf=2, n_estimators=200; total time=   2.1s\n[CV] END bootstrap=True, max_depth=10, max_features=sqrt, min_samples_leaf=3, n_estimators=400; total time=   1.7s\n[CV] END bootstrap=True, max_depth=10, max_features=sqrt, min_samples_leaf=3, n_estimators=400; total time=   1.7s\n[CV] END bootstrap=True, max_depth=15, max_features=sqrt, min_samples_leaf=4, n_estimators=100; total time=   0.4s\n[CV] END bootstrap=True, max_depth=15, max_features=sqrt, min_samples_leaf=4, n_estimators=100; total time=   0.4s\n[CV] END bootstrap=True, max_depth=15, max_features=sqrt, min_samples_leaf=4, n_estimators=100; total time=   0.4s\n[CV] END bootstrap=True, max_depth=15, max_features=auto, min_samples_leaf=1, n_estimators=200; total time=   2.5s\n[CV] END bootstrap=True, max_depth=15, max_features=auto, min_samples_leaf=1, n_estimators=200; total time=   2.5s\n[CV] END bootstrap=True, max_depth=15, max_features=auto, min_samples_leaf=1, n_estimators=200; total time=   2.7s\n[CV] END bootstrap=True, max_depth=20, max_features=sqrt, min_samples_leaf=4, n_estimators=500; total time=   2.2s\n[CV] END bootstrap=True, max_depth=20, max_features=sqrt, min_samples_leaf=4, n_estimators=500; total time=   2.3s\n[CV] END bootstrap=False, max_depth=15, max_features=auto, min_samples_leaf=5, n_estimators=400; total time=   5.5s\n[CV] END bootstrap=False, max_depth=15, max_features=auto, min_samples_leaf=5, n_estimators=400; total time=   5.2s\n[CV] END bootstrap=True, max_depth=20, max_features=auto, min_samples_leaf=4, n_estimators=400; total time=   3.7s\n[CV] END bootstrap=True, max_depth=20, max_features=auto, min_samples_leaf=4, n_estimators=400; total time=   3.8s\n[CV] END bootstrap=True, max_depth=20, max_features=auto, min_samples_leaf=4, n_estimators=400; total time=   3.6s\n[CV] END bootstrap=True, max_depth=25, max_features=auto, min_samples_leaf=6, n_estimators=200; total time=   1.7s\n[CV] END bootstrap=True, max_depth=25, max_features=auto, min_samples_leaf=6, n_estimators=200; total time=   1.6s\n[CV] END bootstrap=True, max_depth=25, max_features=auto, min_samples_leaf=6, n_estimators=200; total time=   1.7s\n[CV] END bootstrap=True, max_depth=20, max_features=auto, min_samples_leaf=5, n_estimators=500; total time=   4.5s\n[CV] END bootstrap=True, max_depth=20, max_features=auto, min_samples_leaf=5, n_estimators=500; total time=   4.4s\n[CV] END bootstrap=False, max_depth=25, max_features=auto, min_samples_leaf=3, n_estimators=200; total time=   3.0s\n[CV] END bootstrap=False, max_depth=25, max_features=auto, min_samples_leaf=3, n_estimators=200; total time=   3.1s\n[CV] END bootstrap=False, max_depth=25, max_features=auto, min_samples_leaf=3, n_estimators=200; total time=   3.0s\n[CV] END bootstrap=True, max_depth=20, max_features=auto, min_samples_leaf=7, n_estimators=100; total time=   0.8s\n[CV] END bootstrap=True, max_depth=20, max_features=auto, min_samples_leaf=7, n_estimators=100; total time=   0.8s\n[CV] END bootstrap=True, max_depth=20, max_features=auto, min_samples_leaf=7, n_estimators=100; total time=   0.8s\n[CV] END bootstrap=False, max_depth=15, max_features=auto, min_samples_leaf=2, n_estimators=200; total time=   3.3s\n[CV] END bootstrap=False, max_depth=15, max_features=auto, min_samples_leaf=2, n_estimators=200; total time=   3.2s\n[CV] END bootstrap=False, max_depth=15, max_features=sqrt, min_samples_leaf=7, n_estimators=200; total time=   0.9s\n[CV] END bootstrap=False, max_depth=15, max_features=sqrt, min_samples_leaf=7, n_estimators=200; total time=   0.9s\n[CV] END bootstrap=False, max_depth=15, max_features=sqrt, min_samples_leaf=7, n_estimators=200; total time=   0.9s\n[CV] END bootstrap=False, max_depth=15, max_features=sqrt, min_samples_leaf=7, n_estimators=200; total time=   0.9s\n[CV] END bootstrap=True, max_depth=25, max_features=sqrt, min_samples_leaf=8, n_estimators=200; total time=   0.8s\n[CV] END bootstrap=True, max_depth=25, max_features=sqrt, min_samples_leaf=8, n_estimators=200; total time=   0.8s\n[CV] END bootstrap=False, max_depth=25, max_features=sqrt, min_samples_leaf=6, n_estimators=500; total time=   2.3s\n[CV] END bootstrap=False, max_depth=25, max_features=sqrt, min_samples_leaf=6, n_estimators=500; total time=   2.3s\n[CV] END bootstrap=False, max_depth=25, max_features=sqrt, min_samples_leaf=6, n_estimators=500; total time=   2.3s\n[CV] END bootstrap=True, max_depth=10, max_features=auto, min_samples_leaf=7, n_estimators=200; total time=   1.7s\n[CV] END bootstrap=True, max_depth=10, max_features=auto, min_samples_leaf=7, n_estimators=200; total time=   1.6s\n[CV] END bootstrap=True, max_depth=25, max_features=sqrt, min_samples_leaf=9, n_estimators=400; total time=   1.6s\n[CV] END bootstrap=True, max_depth=25, max_features=sqrt, min_samples_leaf=9, n_estimators=400; total time=   1.5s\n[CV] END bootstrap=False, max_depth=15, max_features=sqrt, min_samples_leaf=10, n_estimators=200; total time=   0.9s\n[CV] END bootstrap=False, max_depth=15, max_features=sqrt, min_samples_leaf=10, n_estimators=200; total time=   0.8s\n[CV] END bootstrap=False, max_depth=15, max_features=sqrt, min_samples_leaf=10, n_estimators=200; total time=   0.9s[CV] END bootstrap=False, max_depth=20, max_features=sqrt, min_samples_leaf=7, n_estimators=500; total time=   2.2s\n[CV] END bootstrap=False, max_depth=10, max_features=sqrt, min_samples_leaf=2, n_estimators=100; total time=   0.5s\n[CV] END bootstrap=False, max_depth=10, max_features=sqrt, min_samples_leaf=2, n_estimators=100; total time=   0.5s\n[CV] END bootstrap=True, max_depth=25, max_features=auto, min_samples_leaf=2, n_estimators=300; total time=   3.2s\n[CV] END bootstrap=True, max_depth=25, max_features=auto, min_samples_leaf=2, n_estimators=300; total time=   3.3s\n[CV] END bootstrap=True, max_depth=25, max_features=auto, min_samples_leaf=2, n_estimators=300; total time=   3.2s\n[CV] END bootstrap=False, max_depth=25, max_features=auto, min_samples_leaf=8, n_estimators=200; total time=   2.3s\n[CV] END bootstrap=False, max_depth=25, max_features=auto, min_samples_leaf=8, n_estimators=200; total time=   2.3s\n[CV] END bootstrap=True, max_depth=15, max_features=auto, min_samples_leaf=8, n_estimators=400; total time=   3.3s\n[CV] END bootstrap=True, max_depth=15, max_features=auto, min_samples_leaf=8, n_estimators=400; total time=   3.2s\n[CV] END bootstrap=True, max_depth=25, max_features=auto, min_samples_leaf=3, n_estimators=400; total time=   4.0s\n[CV] END bootstrap=True, max_depth=25, max_features=auto, min_samples_leaf=3, n_estimators=400; total time=   4.0s\n[CV] END bootstrap=True, max_depth=25, max_features=auto, min_samples_leaf=3, n_estimators=400; total time=   3.9s\n[CV] END bootstrap=False, max_depth=25, max_features=sqrt, min_samples_leaf=1, n_estimators=400; total time=   2.6s\n[CV] END bootstrap=False, max_depth=25, max_features=sqrt, min_samples_leaf=1, n_estimators=400; total time=   2.5s\n[CV] END bootstrap=False, max_depth=25, max_features=auto, min_samples_leaf=5, n_estimators=300; total time=   3.9s\n[CV] END bootstrap=False, max_depth=25, max_features=auto, min_samples_leaf=5, n_estimators=300; total time=   3.9s\n[CV] END bootstrap=False, max_depth=25, max_features=auto, min_samples_leaf=5, n_estimators=300; total time=   3.9s\n[CV] END bootstrap=False, max_depth=25, max_features=sqrt, min_samples_leaf=7, n_estimators=200; total time=   0.8s\n[CV] END bootstrap=False, max_depth=10, max_features=auto, min_samples_leaf=8, n_estimators=500; total time=   5.6s\n[CV] END bootstrap=False, max_depth=10, max_features=auto, min_samples_leaf=8, n_estimators=500; total time=   5.7s\n[CV] END bootstrap=False, max_depth=10, max_features=auto, min_samples_leaf=8, n_estimators=500; total time=   5.6s\n[CV] END bootstrap=False, max_depth=20, max_features=auto, min_samples_leaf=9, n_estimators=400; total time=   4.7s\n[CV] END bootstrap=False, max_depth=20, max_features=auto, min_samples_leaf=9, n_estimators=400; total time=   4.5s\n[CV] END bootstrap=True, max_depth=15, max_features=sqrt, min_samples_leaf=3, n_estimators=200; total time=   0.9s\n[CV] END bootstrap=True, max_depth=15, max_features=sqrt, min_samples_leaf=3, n_estimators=200; total time=   0.9s\n[CV] END bootstrap=True, max_depth=15, max_features=sqrt, min_samples_leaf=3, n_estimators=200; total time=   0.9s\n[CV] END bootstrap=True, max_depth=15, max_features=auto, min_samples_leaf=2, n_estimators=200; total time=   2.2s\n[CV] END bootstrap=True, max_depth=15, max_features=auto, min_samples_leaf=2, n_estimators=200; total time=   2.1s\n[CV] END bootstrap=True, max_depth=10, max_features=sqrt, min_samples_leaf=3, n_estimators=400; total time=   1.7s\n[CV] END bootstrap=True, max_depth=10, max_features=sqrt, min_samples_leaf=3, n_estimators=400; total time=   1.7s\n[CV] END bootstrap=True, max_depth=10, max_features=sqrt, min_samples_leaf=3, n_estimators=400; total time=   1.6s\n[CV] END bootstrap=True, max_depth=15, max_features=sqrt, min_samples_leaf=4, n_estimators=100; total time=   0.5s\n[CV] END bootstrap=True, max_depth=15, max_features=sqrt, min_samples_leaf=4, n_estimators=100; total time=   0.4s\n[CV] END bootstrap=True, max_depth=15, max_features=auto, min_samples_leaf=1, n_estimators=200; total time=   2.4s\n[CV] END bootstrap=True, max_depth=15, max_features=auto, min_samples_leaf=1, n_estimators=200; total time=   2.4s\n[CV] END bootstrap=True, max_depth=20, max_features=sqrt, min_samples_leaf=4, n_estimators=500; total time=   2.1s\n[CV] END bootstrap=True, max_depth=20, max_features=sqrt, min_samples_leaf=4, n_estimators=500; total time=   2.1s\n[CV] END bootstrap=True, max_depth=20, max_features=sqrt, min_samples_leaf=4, n_estimators=500; total time=   2.2s\n[CV] END bootstrap=False, max_depth=15, max_features=auto, min_samples_leaf=5, n_estimators=400; total time=   5.2s\n[CV] END bootstrap=False, max_depth=15, max_features=auto, min_samples_leaf=5, n_estimators=400; total time=   5.2s\n[CV] END bootstrap=False, max_depth=15, max_features=auto, min_samples_leaf=5, n_estimators=400; total time=   5.2s\n[CV] END bootstrap=True, max_depth=20, max_features=auto, min_samples_leaf=4, n_estimators=400; total time=   3.7s\n[CV] END bootstrap=True, max_depth=20, max_features=auto, min_samples_leaf=4, n_estimators=400; total time=   3.7s\n[CV] END bootstrap=True, max_depth=25, max_features=auto, min_samples_leaf=6, n_estimators=200; total time=   1.7s\n[CV] END bootstrap=True, max_depth=25, max_features=auto, min_samples_leaf=6, n_estimators=200; total time=   1.8s\n[CV] END bootstrap=True, max_depth=20, max_features=auto, min_samples_leaf=5, n_estimators=500; total time=   4.4s\n[CV] END bootstrap=True, max_depth=20, max_features=auto, min_samples_leaf=5, n_estimators=500; total time=   4.4s\n[CV] END bootstrap=True, max_depth=20, max_features=auto, min_samples_leaf=5, n_estimators=500; total time=   4.4s\n[CV] END bootstrap=False, max_depth=25, max_features=auto, min_samples_leaf=3, n_estimators=200; total time=   2.9s\n[CV] END bootstrap=False, max_depth=25, max_features=auto, min_samples_leaf=3, n_estimators=200; total time=   3.0s\n[CV] END bootstrap=True, max_depth=20, max_features=auto, min_samples_leaf=7, n_estimators=100; total time=   0.9s\n[CV] END bootstrap=True, max_depth=20, max_features=auto, min_samples_leaf=7, n_estimators=100; total time=   0.8s\n[CV] END bootstrap=False, max_depth=15, max_features=auto, min_samples_leaf=2, n_estimators=200; total time=   3.2s\n[CV] END bootstrap=False, max_depth=15, max_features=auto, min_samples_leaf=2, n_estimators=200; total time=   3.2s\n[CV] END bootstrap=False, max_depth=15, max_features=auto, min_samples_leaf=2, n_estimators=200; total time=   3.2s\n[CV] END bootstrap=False, max_depth=15, max_features=sqrt, min_samples_leaf=7, n_estimators=200; total time=   0.9s\n[CV] END bootstrap=True, max_depth=25, max_features=sqrt, min_samples_leaf=8, n_estimators=200; total time=   0.8s\n[CV] END bootstrap=True, max_depth=25, max_features=sqrt, min_samples_leaf=8, n_estimators=200; total time=   0.8s\n[CV] END bootstrap=True, max_depth=25, max_features=sqrt, min_samples_leaf=8, n_estimators=200; total time=   0.8s\n[CV] END bootstrap=False, max_depth=25, max_features=sqrt, min_samples_leaf=6, n_estimators=500; total time=   2.3s\n[CV] END bootstrap=False, max_depth=25, max_features=sqrt, min_samples_leaf=6, n_estimators=500; total time=   2.3s\n[CV] END bootstrap=True, max_depth=10, max_features=auto, min_samples_leaf=7, n_estimators=200; total time=   1.6s\n[CV] END bootstrap=True, max_depth=10, max_features=auto, min_samples_leaf=7, n_estimators=200; total time=   1.6s\n[CV] END bootstrap=True, max_depth=10, max_features=auto, min_samples_leaf=7, n_estimators=200; total time=   1.6s\n[CV] END bootstrap=True, max_depth=25, max_features=sqrt, min_samples_leaf=9, n_estimators=400; total time=   1.5s\n[CV] END bootstrap=True, max_depth=25, max_features=sqrt, min_samples_leaf=9, n_estimators=400; total time=   1.6s\n[CV] END bootstrap=True, max_depth=25, max_features=sqrt, min_samples_leaf=9, n_estimators=400; total time=   1.6s\n[CV] END bootstrap=False, max_depth=15, max_features=sqrt, min_samples_leaf=10, n_estimators=200; total time=   0.8s\n[CV] END bootstrap=False, max_depth=15, max_features=sqrt, min_samples_leaf=10, n_estimators=200; total time=   0.9s\n[CV] END bootstrap=False, max_depth=10, max_features=auto, min_samples_leaf=7, n_estimators=400; total time=   5.0s/shared-libs/python3.7/py/lib/python3.7/site-packages/sklearn/model_selection/_validation.py:598: DataConversionWarning: A column-vector y was passed when a 1d array was expected. Please change the shape of y to (n_samples,), for example using ravel().\n  estimator.fit(X_train, y_train, **fit_params)\n/shared-libs/python3.7/py/lib/python3.7/site-packages/sklearn/model_selection/_validation.py:598: DataConversionWarning: A column-vector y was passed when a 1d array was expected. Please change the shape of y to (n_samples,), for example using ravel().\n  estimator.fit(X_train, y_train, **fit_params)\n/shared-libs/python3.7/py/lib/python3.7/site-packages/sklearn/model_selection/_validation.py:598: DataConversionWarning: A column-vector y was passed when a 1d array was expected. Please change the shape of y to (n_samples,), for example using ravel().\n  estimator.fit(X_train, y_train, **fit_params)\n/shared-libs/python3.7/py/lib/python3.7/site-packages/sklearn/model_selection/_validation.py:598: DataConversionWarning: A column-vector y was passed when a 1d array was expected. Please change the shape of y to (n_samples,), for example using ravel().\n  estimator.fit(X_train, y_train, **fit_params)\n/shared-libs/python3.7/py/lib/python3.7/site-packages/sklearn/model_selection/_validation.py:598: DataConversionWarning: A column-vector y was passed when a 1d array was expected. Please change the shape of y to (n_samples,), for example using ravel().\n  estimator.fit(X_train, y_train, **fit_params)\n/shared-libs/python3.7/py/lib/python3.7/site-packages/sklearn/model_selection/_validation.py:598: DataConversionWarning: A column-vector y was passed when a 1d array was expected. Please change the shape of y to (n_samples,), for example using ravel().\n  estimator.fit(X_train, y_train, **fit_params)\n/shared-libs/python3.7/py/lib/python3.7/site-packages/sklearn/model_selection/_validation.py:598: DataConversionWarning: A column-vector y was passed when a 1d array was expected. Please change the shape of y to (n_samples,), for example using ravel().\n  estimator.fit(X_train, y_train, **fit_params)\n/shared-libs/python3.7/py/lib/python3.7/site-packages/sklearn/model_selection/_validation.py:598: DataConversionWarning: A column-vector y was passed when a 1d array was expected. Please change the shape of y to (n_samples,), for example using ravel().\n  estimator.fit(X_train, y_train, **fit_params)\n/shared-libs/python3.7/py/lib/python3.7/site-packages/sklearn/model_selection/_validation.py:598: DataConversionWarning: A column-vector y was passed when a 1d array was expected. Please change the shape of y to (n_samples,), for example using ravel().\n  estimator.fit(X_train, y_train, **fit_params)\n/shared-libs/python3.7/py/lib/python3.7/site-packages/sklearn/model_selection/_validation.py:598: DataConversionWarning: A column-vector y was passed when a 1d array was expected. Please change the shape of y to (n_samples,), for example using ravel().\n  estimator.fit(X_train, y_train, **fit_params)\n/shared-libs/python3.7/py/lib/python3.7/site-packages/sklearn/model_selection/_validation.py:598: DataConversionWarning: A column-vector y was passed when a 1d array was expected. Please change the shape of y to (n_samples,), for example using ravel().\n  estimator.fit(X_train, y_train, **fit_params)\n/shared-libs/python3.7/py/lib/python3.7/site-packages/sklearn/model_selection/_validation.py:598: DataConversionWarning: A column-vector y was passed when a 1d array was expected. Please change the shape of y to (n_samples,), for example using ravel().\n  estimator.fit(X_train, y_train, **fit_params)\n/shared-libs/python3.7/py/lib/python3.7/site-packages/sklearn/model_selection/_validation.py:598: DataConversionWarning: A column-vector y was passed when a 1d array was expected. Please change the shape of y to (n_samples,), for example using ravel().\n  estimator.fit(X_train, y_train, **fit_params)\n/shared-libs/python3.7/py/lib/python3.7/site-packages/sklearn/model_selection/_validation.py:598: DataConversionWarning: A column-vector y was passed when a 1d array was expected. Please change the shape of y to (n_samples,), for example using ravel().\n  estimator.fit(X_train, y_train, **fit_params)\n/shared-libs/python3.7/py/lib/python3.7/site-packages/sklearn/model_selection/_validation.py:598: DataConversionWarning: A column-vector y was passed when a 1d array was expected. Please change the shape of y to (n_samples,), for example using ravel().\n  estimator.fit(X_train, y_train, **fit_params)\n/shared-libs/python3.7/py/lib/python3.7/site-packages/sklearn/model_selection/_validation.py:598: DataConversionWarning: A column-vector y was passed when a 1d array was expected. Please change the shape of y to (n_samples,), for example using ravel().\n  estimator.fit(X_train, y_train, **fit_params)\n/shared-libs/python3.7/py/lib/python3.7/site-packages/sklearn/model_selection/_validation.py:598: DataConversionWarning: A column-vector y was passed when a 1d array was expected. Please change the shape of y to (n_samples,), for example using ravel().\n  estimator.fit(X_train, y_train, **fit_params)\n/shared-libs/python3.7/py/lib/python3.7/site-packages/sklearn/model_selection/_validation.py:598: DataConversionWarning: A column-vector y was passed when a 1d array was expected. Please change the shape of y to (n_samples,), for example using ravel().\n  estimator.fit(X_train, y_train, **fit_params)\n/shared-libs/python3.7/py/lib/python3.7/site-packages/sklearn/model_selection/_validation.py:598: DataConversionWarning: A column-vector y was passed when a 1d array was expected. Please change the shape of y to (n_samples,), for example using ravel().\n  estimator.fit(X_train, y_train, **fit_params)\n/shared-libs/python3.7/py/lib/python3.7/site-packages/sklearn/model_selection/_validation.py:598: DataConversionWarning: A column-vector y was passed when a 1d array was expected. Please change the shape of y to (n_samples,), for example using ravel().\n  estimator.fit(X_train, y_train, **fit_params)\n/shared-libs/python3.7/py/lib/python3.7/site-packages/sklearn/model_selection/_validation.py:598: DataConversionWarning: A column-vector y was passed when a 1d array was expected. Please change the shape of y to (n_samples,), for example using ravel().\n  estimator.fit(X_train, y_train, **fit_params)\n/shared-libs/python3.7/py/lib/python3.7/site-packages/sklearn/model_selection/_validation.py:598: DataConversionWarning: A column-vector y was passed when a 1d array was expected. Please change the shape of y to (n_samples,), for example using ravel().\n  estimator.fit(X_train, y_train, **fit_params)\n/shared-libs/python3.7/py/lib/python3.7/site-packages/sklearn/model_selection/_validation.py:598: DataConversionWarning: A column-vector y was passed when a 1d array was expected. Please change the shape of y to (n_samples,), for example using ravel().\n  estimator.fit(X_train, y_train, **fit_params)\n/shared-libs/python3.7/py/lib/python3.7/site-packages/sklearn/model_selection/_validation.py:598: DataConversionWarning: A column-vector y was passed when a 1d array was expected. Please change the shape of y to (n_samples,), for example using ravel().\n  estimator.fit(X_train, y_train, **fit_params)\n/shared-libs/python3.7/py/lib/python3.7/site-packages/sklearn/model_selection/_validation.py:598: DataConversionWarning: A column-vector y was passed when a 1d array was expected. Please change the shape of y to (n_samples,), for example using ravel().\n  estimator.fit(X_train, y_train, **fit_params)\n/shared-libs/python3.7/py/lib/python3.7/site-packages/sklearn/model_selection/_validation.py:598: DataConversionWarning: A column-vector y was passed when a 1d array was expected. Please change the shape of y to (n_samples,), for example using ravel().\n  estimator.fit(X_train, y_train, **fit_params)\n/shared-libs/python3.7/py/lib/python3.7/site-packages/sklearn/model_selection/_validation.py:598: DataConversionWarning: A column-vector y was passed when a 1d array was expected. Please change the shape of y to (n_samples,), for example using ravel().\n  estimator.fit(X_train, y_train, **fit_params)\n/shared-libs/python3.7/py/lib/python3.7/site-packages/sklearn/model_selection/_validation.py:598: DataConversionWarning: A column-vector y was passed when a 1d array was expected. Please change the shape of y to (n_samples,), for example using ravel().\n  estimator.fit(X_train, y_train, **fit_params)\n/shared-libs/python3.7/py/lib/python3.7/site-packages/sklearn/model_selection/_validation.py:598: DataConversionWarning: A column-vector y was passed when a 1d array was expected. Please change the shape of y to (n_samples,), for example using ravel().\n  estimator.fit(X_train, y_train, **fit_params)\n/shared-libs/python3.7/py/lib/python3.7/site-packages/sklearn/model_selection/_validation.py:598: DataConversionWarning: A column-vector y was passed when a 1d array was expected. Please change the shape of y to (n_samples,), for example using ravel().\n  estimator.fit(X_train, y_train, **fit_params)\n/shared-libs/python3.7/py/lib/python3.7/site-packages/sklearn/model_selection/_validation.py:598: DataConversionWarning: A column-vector y was passed when a 1d array was expected. Please change the shape of y to (n_samples,), for example using ravel().\n  estimator.fit(X_train, y_train, **fit_params)\n/shared-libs/python3.7/py/lib/python3.7/site-packages/sklearn/model_selection/_validation.py:598: DataConversionWarning: A column-vector y was passed when a 1d array was expected. Please change the shape of y to (n_samples,), for example using ravel().\n  estimator.fit(X_train, y_train, **fit_params)\n/shared-libs/python3.7/py/lib/python3.7/site-packages/sklearn/model_selection/_validation.py:598: DataConversionWarning: A column-vector y was passed when a 1d array was expected. Please change the shape of y to (n_samples,), for example using ravel().\n  estimator.fit(X_train, y_train, **fit_params)\n/shared-libs/python3.7/py/lib/python3.7/site-packages/sklearn/model_selection/_validation.py:598: DataConversionWarning: A column-vector y was passed when a 1d array was expected. Please change the shape of y to (n_samples,), for example using ravel().\n  estimator.fit(X_train, y_train, **fit_params)\n/shared-libs/python3.7/py/lib/python3.7/site-packages/sklearn/model_selection/_validation.py:598: DataConversionWarning: A column-vector y was passed when a 1d array was expected. Please change the shape of y to (n_samples,), for example using ravel().\n  estimator.fit(X_train, y_train, **fit_params)\n/shared-libs/python3.7/py/lib/python3.7/site-packages/sklearn/model_selection/_validation.py:598: DataConversionWarning: A column-vector y was passed when a 1d array was expected. Please change the shape of y to (n_samples,), for example using ravel().\n  estimator.fit(X_train, y_train, **fit_params)\n/shared-libs/python3.7/py/lib/python3.7/site-packages/sklearn/model_selection/_validation.py:598: DataConversionWarning: A column-vector y was passed when a 1d array was expected. Please change the shape of y to (n_samples,), for example using ravel().\n  estimator.fit(X_train, y_train, **fit_params)\n/shared-libs/python3.7/py/lib/python3.7/site-packages/sklearn/model_selection/_validation.py:598: DataConversionWarning: A column-vector y was passed when a 1d array was expected. Please change the shape of y to (n_samples,), for example using ravel().\n  estimator.fit(X_train, y_train, **fit_params)\n/shared-libs/python3.7/py/lib/python3.7/site-packages/sklearn/model_selection/_validation.py:598: DataConversionWarning: A column-vector y was passed when a 1d array was expected. Please change the shape of y to (n_samples,), for example using ravel().\n  estimator.fit(X_train, y_train, **fit_params)\n/shared-libs/python3.7/py/lib/python3.7/site-packages/sklearn/model_selection/_validation.py:598: DataConversionWarning: A column-vector y was passed when a 1d array was expected. Please change the shape of y to (n_samples,), for example using ravel().\n  estimator.fit(X_train, y_train, **fit_params)\n/shared-libs/python3.7/py/lib/python3.7/site-packages/sklearn/model_selection/_validation.py:598: DataConversionWarning: A column-vector y was passed when a 1d array was expected. Please change the shape of y to (n_samples,), for example using ravel().\n  estimator.fit(X_train, y_train, **fit_params)\n/shared-libs/python3.7/py/lib/python3.7/site-packages/sklearn/model_selection/_validation.py:598: DataConversionWarning: A column-vector y was passed when a 1d array was expected. Please change the shape of y to (n_samples,), for example using ravel().\n  estimator.fit(X_train, y_train, **fit_params)\n/shared-libs/python3.7/py/lib/python3.7/site-packages/sklearn/model_selection/_validation.py:598: DataConversionWarning: A column-vector y was passed when a 1d array was expected. Please change the shape of y to (n_samples,), for example using ravel().\n  estimator.fit(X_train, y_train, **fit_params)\n/shared-libs/python3.7/py/lib/python3.7/site-packages/sklearn/model_selection/_validation.py:598: DataConversionWarning: A column-vector y was passed when a 1d array was expected. Please change the shape of y to (n_samples,), for example using ravel().\n  estimator.fit(X_train, y_train, **fit_params)\n/shared-libs/python3.7/py/lib/python3.7/site-packages/sklearn/model_selection/_validation.py:598: DataConversionWarning: A column-vector y was passed when a 1d array was expected. Please change the shape of y to (n_samples,), for example using ravel().\n  estimator.fit(X_train, y_train, **fit_params)\n/shared-libs/python3.7/py/lib/python3.7/site-packages/sklearn/model_selection/_validation.py:598: DataConversionWarning: A column-vector y was passed when a 1d array was expected. Please change the shape of y to (n_samples,), for example using ravel().\n  estimator.fit(X_train, y_train, **fit_params)\n/shared-libs/python3.7/py/lib/python3.7/site-packages/sklearn/model_selection/_validation.py:598: DataConversionWarning: A column-vector y was passed when a 1d array was expected. Please change the shape of y to (n_samples,), for example using ravel().\n  estimator.fit(X_train, y_train, **fit_params)\n/shared-libs/python3.7/py/lib/python3.7/site-packages/sklearn/model_selection/_validation.py:598: DataConversionWarning: A column-vector y was passed when a 1d array was expected. Please change the shape of y to (n_samples,), for example using ravel().\n  estimator.fit(X_train, y_train, **fit_params)\n/shared-libs/python3.7/py/lib/python3.7/site-packages/sklearn/model_selection/_validation.py:598: DataConversionWarning: A column-vector y was passed when a 1d array was expected. Please change the shape of y to (n_samples,), for example using ravel().\n  estimator.fit(X_train, y_train, **fit_params)\n/shared-libs/python3.7/py/lib/python3.7/site-packages/sklearn/model_selection/_validation.py:598: DataConversionWarning: A column-vector y was passed when a 1d array was expected. Please change the shape of y to (n_samples,), for example using ravel().\n  estimator.fit(X_train, y_train, **fit_params)\n/shared-libs/python3.7/py/lib/python3.7/site-packages/sklearn/model_selection/_validation.py:598: DataConversionWarning: A column-vector y was passed when a 1d array was expected. Please change the shape of y to (n_samples,), for example using ravel().\n  estimator.fit(X_train, y_train, **fit_params)\n/shared-libs/python3.7/py/lib/python3.7/site-packages/sklearn/model_selection/_validation.py:598: DataConversionWarning: A column-vector y was passed when a 1d array was expected. Please change the shape of y to (n_samples,), for example using ravel().\n  estimator.fit(X_train, y_train, **fit_params)\n/shared-libs/python3.7/py/lib/python3.7/site-packages/sklearn/model_selection/_validation.py:598: DataConversionWarning: A column-vector y was passed when a 1d array was expected. Please change the shape of y to (n_samples,), for example using ravel().\n  estimator.fit(X_train, y_train, **fit_params)\n/shared-libs/python3.7/py/lib/python3.7/site-packages/sklearn/model_selection/_validation.py:598: DataConversionWarning: A column-vector y was passed when a 1d array was expected. Please change the shape of y to (n_samples,), for example using ravel().\n  estimator.fit(X_train, y_train, **fit_params)\n/shared-libs/python3.7/py/lib/python3.7/site-packages/sklearn/model_selection/_validation.py:598: DataConversionWarning: A column-vector y was passed when a 1d array was expected. Please change the shape of y to (n_samples,), for example using ravel().\n  estimator.fit(X_train, y_train, **fit_params)\n/shared-libs/python3.7/py/lib/python3.7/site-packages/sklearn/model_selection/_validation.py:598: DataConversionWarning: A column-vector y was passed when a 1d array was expected. Please change the shape of y to (n_samples,), for example using ravel().\n  estimator.fit(X_train, y_train, **fit_params)\n/shared-libs/python3.7/py/lib/python3.7/site-packages/sklearn/model_selection/_search.py:880: DataConversionWarning: A column-vector y was passed when a 1d array was expected. Please change the shape of y to (n_samples,), for example using ravel().\n  self.best_estimator_.fit(X, y, **fit_params)\n",
     "output_type": "stream"
    },
    {
     "output_type": "execute_result",
     "execution_count": 138,
     "data": {
      "text/plain": "RandomizedSearchCV(cv=5, estimator=RandomForestRegressor(random_state=35),\n                   n_iter=100, n_jobs=-1,\n                   param_distributions={'bootstrap': [True, False],\n                                        'max_depth': [10, 15, 20, 25],\n                                        'max_features': ['auto', 'sqrt'],\n                                        'min_samples_leaf': [1, 2, 3, 4, 5, 6,\n                                                             7, 8, 9, 10],\n                                        'n_estimators': [100, 200, 300, 400,\n                                                         500]},\n                   random_state=35, verbose=2)"
     },
     "metadata": {}
    }
   ]
  },
  {
   "cell_type": "code",
   "metadata": {
    "tags": [],
    "cell_id": "00013-c3d028fb-f909-4bc5-b34c-81bffede9102",
    "deepnote_to_be_reexecuted": false,
    "source_hash": "bdb41631",
    "execution_start": 1631311019740,
    "execution_millis": 11,
    "deepnote_cell_type": "code"
   },
   "source": "rf_random.best_params_",
   "execution_count": null,
   "outputs": [
    {
     "output_type": "execute_result",
     "execution_count": 140,
     "data": {
      "text/plain": "{'n_estimators': 100,\n 'min_samples_leaf': 2,\n 'max_features': 'sqrt',\n 'max_depth': 25,\n 'bootstrap': True}"
     },
     "metadata": {}
    }
   ]
  },
  {
   "cell_type": "code",
   "metadata": {
    "tags": [],
    "cell_id": "00008-3a6824cc-e78c-45f7-8735-d5ba6db48fe1",
    "deepnote_to_be_reexecuted": false,
    "source_hash": "4501750c",
    "execution_start": 1631790340613,
    "execution_millis": 385,
    "deepnote_cell_type": "code"
   },
   "source": "rf = RandomForestRegressor(n_estimators = 100, criterion = 'mse', random_state = 1, bootstrap= True, max_depth=25, max_features='sqrt', min_samples_leaf=2)\nrf.fit(X_train, y_train)\npred_val_rf = rf.predict(X_val)\npred_test_rf = rf.predict(X_test)",
   "outputs": [
    {
     "name": "stderr",
     "text": "/shared-libs/python3.7/py-core/lib/python3.7/site-packages/ipykernel_launcher.py:2: DataConversionWarning: A column-vector y was passed when a 1d array was expected. Please change the shape of y to (n_samples,), for example using ravel().\n  \n",
     "output_type": "stream"
    }
   ],
   "execution_count": null
  },
  {
   "cell_type": "markdown",
   "source": "### Linear Support Vector Regression",
   "metadata": {
    "tags": [],
    "cell_id": "00021-baa1de4d-739d-4e44-9640-279758db7a4b",
    "deepnote_cell_type": "markdown"
   }
  },
  {
   "cell_type": "code",
   "metadata": {
    "tags": [],
    "cell_id": "00012-872fb1c1-7813-402f-a7ad-9982fc5638b7",
    "deepnote_to_be_reexecuted": false,
    "source_hash": "8e7a647e",
    "execution_start": 1631790342725,
    "execution_millis": 25,
    "deepnote_cell_type": "code"
   },
   "source": "svr = LinearSVR(random_state=1)\nsvr.fit(X_train, y_train)\npred_val_svr = svr.predict(X_val)\npred_test_svr = svr.predict(X_test)",
   "outputs": [
    {
     "name": "stderr",
     "text": "/shared-libs/python3.7/py/lib/python3.7/site-packages/sklearn/utils/validation.py:63: DataConversionWarning: A column-vector y was passed when a 1d array was expected. Please change the shape of y to (n_samples, ), for example using ravel().\n  return f(*args, **kwargs)\n/shared-libs/python3.7/py/lib/python3.7/site-packages/sklearn/svm/_base.py:986: ConvergenceWarning: Liblinear failed to converge, increase the number of iterations.\n  \"the number of iterations.\", ConvergenceWarning)\n",
     "output_type": "stream"
    }
   ],
   "execution_count": null
  },
  {
   "cell_type": "markdown",
   "source": "### XGBoost",
   "metadata": {
    "tags": [],
    "cell_id": "00023-145140cb-5223-4e3f-959e-8b2a2d8434ba",
    "deepnote_cell_type": "markdown"
   }
  },
  {
   "cell_type": "code",
   "metadata": {
    "tags": [],
    "cell_id": "00013-59a4b3e8-98de-45a0-bdd9-4f0fdffd3528",
    "deepnote_to_be_reexecuted": false,
    "source_hash": "15109d8c",
    "execution_start": 1631790344268,
    "execution_millis": 397,
    "deepnote_cell_type": "code"
   },
   "source": "xgb_regressor = xgb.XGBRegressor()\nxgb_regressor.fit(X_train, y_train)\npred_val_xgb = xgb_regressor.predict(X_val)\npred_test_xgb = xgb_regressor.predict(X_test)",
   "outputs": [],
   "execution_count": null
  },
  {
   "cell_type": "markdown",
   "source": "### Accuracy and Errors",
   "metadata": {
    "tags": [],
    "cell_id": "00026-0f765206-7920-488f-bed0-b3fa0e5c2c18",
    "deepnote_cell_type": "markdown"
   }
  },
  {
   "cell_type": "code",
   "metadata": {
    "tags": [],
    "cell_id": "00028-fee57c80-a876-484e-9879-4329fccc259b",
    "deepnote_to_be_reexecuted": false,
    "source_hash": "ee590412",
    "execution_start": 1631790346240,
    "execution_millis": 0,
    "deepnote_cell_type": "code"
   },
   "source": "pred_val_dt = pred_val_dt.reshape(-1, 1)\npred_val_rf = pred_val_rf.reshape(-1, 1)\npred_val_svr = pred_val_svr.reshape(-1, 1)\npred_val_xgb = pred_val_xgb.reshape(-1, 1)\n\npred_test_dt = pred_val_dt.reshape(-1, 1)\npred_test_rf = pred_val_rf.reshape(-1, 1)\npred_test_svr = pred_test_svr.reshape(-1, 1)\npred_test_xgb = pred_test_xgb.reshape(-1, 1)",
   "outputs": [],
   "execution_count": null
  },
  {
   "cell_type": "code",
   "metadata": {
    "tags": [],
    "cell_id": "00029-fada4575-c1fd-4f7f-a3a0-983a0de30a2a",
    "deepnote_to_be_reexecuted": false,
    "source_hash": "cffffc61",
    "execution_start": 1631790347881,
    "execution_millis": 3,
    "deepnote_cell_type": "code"
   },
   "source": "pred_val_lr = scaler_y.inverse_transform(pred_val_lr)\npred_val_dt = scaler_y.inverse_transform(pred_val_dt)\npred_val_rf = scaler_y.inverse_transform(pred_val_rf)\npred_val_svr = scaler_y.inverse_transform(pred_val_svr)\npred_val_xgb = scaler_y.inverse_transform(pred_val_xgb)\n\npred_test_lr = scaler_y.inverse_transform(pred_test_lr)\npred_test_dt = scaler_y.inverse_transform(pred_test_dt)\npred_test_rf = scaler_y.inverse_transform(pred_test_rf)\npred_test_svr = scaler_y.inverse_transform(pred_test_svr)\npred_test_xgb = scaler_y.inverse_transform(pred_test_xgb)\n\ny_test = scaler_y.inverse_transform(y_test)\ny_train = scaler_y.inverse_transform(y_train)",
   "outputs": [],
   "execution_count": null
  },
  {
   "cell_type": "code",
   "metadata": {
    "tags": [],
    "cell_id": "00030-4c06fc72-dd95-4640-b40f-b6e8829469a2",
    "deepnote_to_be_reexecuted": false,
    "source_hash": "6f48f619",
    "execution_start": 1631790349423,
    "execution_millis": 5,
    "deepnote_cell_type": "code"
   },
   "source": "Algo = []\nR2_score = []\nMAE = []\nMAPE = []",
   "outputs": [],
   "execution_count": null
  },
  {
   "cell_type": "code",
   "metadata": {
    "tags": [],
    "cell_id": "00031-171c317f-7c2a-4656-86ea-1407dabf8b56",
    "deepnote_to_be_reexecuted": false,
    "source_hash": "a987e113",
    "execution_start": 1631790349446,
    "execution_millis": 51,
    "deepnote_cell_type": "code"
   },
   "source": "# Linear Regression\nAlgo.append('Linear Regression')\nR2_score.append(r2_score(y_true=y_val, y_pred=pred_val_lr))\nMAE.append(mean_absolute_error(y_true=y_val, y_pred=pred_val_lr))\nMAPE.append(mean_absolute_percentage_error(y_true=y_val, y_pred=pred_val_lr).numpy().mean())\n\n# Decision Tree Regression\nAlgo.append('Decision Tree Regression')\nR2_score.append(r2_score(y_true=y_val, y_pred=pred_val_dt))\nMAE.append(mean_absolute_error(y_true=y_val, y_pred=pred_val_dt))\nMAPE.append(mean_absolute_percentage_error(y_true=y_val, y_pred=pred_val_dt).numpy().mean())\n\n# Random Forest Regression\nAlgo.append('Random Forest Regression')\nR2_score.append(r2_score(y_true=y_val, y_pred=pred_val_rf))\nMAE.append(mean_absolute_error(y_true=y_val, y_pred=pred_val_rf))\nMAPE.append(mean_absolute_percentage_error(y_true=y_val, y_pred=pred_val_rf).numpy().mean())\n\n# Linear Support Vector Regression\nAlgo.append('Linear Support Vector Regression')\nR2_score.append(r2_score(y_true=y_val, y_pred=pred_val_svr))\nMAE.append(mean_absolute_error(y_true=y_val, y_pred=pred_val_svr))\nMAPE.append(mean_absolute_percentage_error(y_true=y_val, y_pred=pred_val_svr).numpy().mean())\n\n# XGBoost\nAlgo.append('XGBoost')\nR2_score.append(r2_score(y_true=y_val, y_pred=pred_val_xgb))\nMAE.append(mean_absolute_error(y_true=y_val, y_pred=pred_val_xgb))\nMAPE.append(mean_absolute_percentage_error(y_true=y_val, y_pred=pred_val_xgb).numpy().mean())",
   "outputs": [
    {
     "name": "stderr",
     "text": "2021-09-16 11:05:49.432874: I tensorflow/compiler/jit/xla_cpu_device.cc:41] Not creating XLA devices, tf_xla_enable_xla_devices not set\n2021-09-16 11:05:49.436514: W tensorflow/stream_executor/platform/default/dso_loader.cc:60] Could not load dynamic library 'libcuda.so.1'; dlerror: libcuda.so.1: cannot open shared object file: No such file or directory\n2021-09-16 11:05:49.436534: W tensorflow/stream_executor/cuda/cuda_driver.cc:326] failed call to cuInit: UNKNOWN ERROR (303)\n2021-09-16 11:05:49.436553: I tensorflow/stream_executor/cuda/cuda_diagnostics.cc:156] kernel driver does not appear to be running on this host (p-a0e08efc-e855-4fc3-ac3b-2717145dc2a0): /proc/driver/nvidia/version does not exist\n2021-09-16 11:05:49.438295: I tensorflow/core/platform/cpu_feature_guard.cc:142] This TensorFlow binary is optimized with oneAPI Deep Neural Network Library (oneDNN) to use the following CPU instructions in performance-critical operations:  AVX2 AVX512F FMA\nTo enable them in other operations, rebuild TensorFlow with the appropriate compiler flags.\n2021-09-16 11:05:49.439238: I tensorflow/compiler/jit/xla_gpu_device.cc:99] Not creating XLA devices, tf_xla_enable_xla_devices not set\n",
     "output_type": "stream"
    }
   ],
   "execution_count": null
  },
  {
   "cell_type": "code",
   "metadata": {
    "tags": [],
    "cell_id": "00032-db31295e-b781-477b-b669-753b2c5578fb",
    "deepnote_to_be_reexecuted": false,
    "source_hash": "48e23f64",
    "execution_start": 1631790349488,
    "execution_millis": 3,
    "deepnote_cell_type": "code"
   },
   "source": "Comparison_Val = pd.DataFrame(list(zip(Algo, R2_score, MAE, MAPE)), columns = ['Algorithm', 'R2 Score', 'MAE', 'MAPE'])",
   "outputs": [],
   "execution_count": null
  },
  {
   "cell_type": "code",
   "metadata": {
    "tags": [],
    "cell_id": "00033-acb719b2-c75d-4084-a17d-ee3618c31517",
    "deepnote_to_be_reexecuted": false,
    "source_hash": "a3d7b5ce",
    "execution_start": 1631790351150,
    "execution_millis": 0,
    "deepnote_cell_type": "code"
   },
   "source": "Algo = []\nR2_score = []\nMAE = []\nRMSE = []\nMAPE = []",
   "outputs": [],
   "execution_count": null
  },
  {
   "cell_type": "code",
   "metadata": {
    "tags": [],
    "cell_id": "00034-15f9255b-a4df-4735-aab0-b3bf17b4a3f2",
    "deepnote_to_be_reexecuted": false,
    "source_hash": "bf7a0e18",
    "execution_start": 1631790352730,
    "execution_millis": 6,
    "deepnote_cell_type": "code"
   },
   "source": "# Linear Regression\nAlgo.append('Linear Regression')\nR2_score.append(r2_score(y_true=y_test, y_pred=pred_test_lr))\nMAE.append(mean_absolute_error(y_true=y_test, y_pred=pred_test_lr))\nMAPE.append(mean_absolute_percentage_error(y_true=y_test, y_pred=pred_test_lr).numpy().mean())\n\n# Decision Tree Regression\nAlgo.append('Decision Tree Regression')\nR2_score.append(r2_score(y_true=y_test, y_pred=pred_test_dt))\nMAE.append(mean_absolute_error(y_true=y_test, y_pred=pred_test_dt))\nMAPE.append(mean_absolute_percentage_error(y_true=y_test, y_pred=pred_test_dt).numpy().mean())\n\n# Random Forest Regression\nAlgo.append('Random Forest Regression')\nR2_score.append(r2_score(y_true=y_test, y_pred=pred_test_rf))\nMAE.append(mean_absolute_error(y_true=y_test, y_pred=pred_test_rf))\nMAPE.append(mean_absolute_percentage_error(y_true=y_test, y_pred=pred_test_rf).numpy().mean())\n\n# Linear Support Vector Regression\nAlgo.append('Linear Support Vector Regression')\nR2_score.append(r2_score(y_true=y_test, y_pred=pred_test_svr))\nMAE.append(mean_absolute_error(y_true=y_test, y_pred=pred_test_svr))\nMAPE.append(mean_absolute_percentage_error(y_true=y_test, y_pred=pred_test_svr).numpy().mean())\n\n# XGBoost\nAlgo.append('XGBoost')\nR2_score.append(r2_score(y_true=y_test, y_pred=pred_test_xgb))\nMAE.append(mean_absolute_error(y_true=y_test, y_pred=pred_test_xgb))\nMAPE.append(mean_absolute_percentage_error(y_true=y_test, y_pred=pred_test_xgb).numpy().mean())",
   "outputs": [],
   "execution_count": null
  },
  {
   "cell_type": "code",
   "metadata": {
    "tags": [],
    "cell_id": "00035-d29078a3-70c8-47ee-9d0b-3559e8ad2ca0",
    "deepnote_to_be_reexecuted": false,
    "source_hash": "94dcd7b5",
    "execution_start": 1631790352742,
    "execution_millis": 3,
    "deepnote_cell_type": "code"
   },
   "source": "Comparison_Test = pd.DataFrame(list(zip(Algo, R2_score, MAE, MAPE)), columns = ['Algorithm', 'R2 Score', 'MAE', 'MAPE'])",
   "outputs": [],
   "execution_count": null
  },
  {
   "cell_type": "markdown",
   "source": "### Results",
   "metadata": {
    "tags": [],
    "cell_id": "00026-f8f7b6d6-4659-4f50-8ecd-987eab69fc79",
    "deepnote_cell_type": "markdown"
   }
  },
  {
   "cell_type": "code",
   "metadata": {
    "tags": [],
    "cell_id": "00022-b7de489d-8139-4067-874a-4a47c4ec844c",
    "deepnote_to_be_reexecuted": false,
    "source_hash": "31e0e9ce",
    "execution_start": 1631790354265,
    "execution_millis": 29,
    "deepnote_cell_type": "code"
   },
   "source": "print(\"Validation Set Accuracy\")\nComparison_Val.head()",
   "outputs": [
    {
     "name": "stdout",
     "text": "Validation Set Accuracy\n",
     "output_type": "stream"
    },
    {
     "output_type": "execute_result",
     "execution_count": 26,
     "data": {
      "application/vnd.deepnote.dataframe.v2+json": {
       "row_count": 5,
       "column_count": 4,
       "columns": [
        {
         "name": "Algorithm",
         "dtype": "object",
         "stats": {
          "unique_count": 5,
          "nan_count": 0,
          "categories": [
           {
            "name": "Linear Regression",
            "count": 1
           },
           {
            "name": "Decision Tree Regression",
            "count": 1
           },
           {
            "name": "3 others",
            "count": 3
           }
          ]
         }
        },
        {
         "name": "R2 Score",
         "dtype": "float64",
         "stats": {
          "unique_count": 5,
          "nan_count": 0,
          "min": "-10119089.555572394",
          "max": "-7231785.364526243",
          "histogram": [
           {
            "bin_start": -10119089.555572394,
            "bin_end": -9830359.136467779,
            "count": 1
           },
           {
            "bin_start": -9830359.136467779,
            "bin_end": -9541628.717363164,
            "count": 3
           },
           {
            "bin_start": -9541628.717363164,
            "bin_end": -9252898.298258549,
            "count": 0
           },
           {
            "bin_start": -9252898.298258549,
            "bin_end": -8964167.879153933,
            "count": 0
           },
           {
            "bin_start": -8964167.879153933,
            "bin_end": -8675437.460049318,
            "count": 0
           },
           {
            "bin_start": -8675437.460049318,
            "bin_end": -8386707.040944704,
            "count": 0
           },
           {
            "bin_start": -8386707.040944704,
            "bin_end": -8097976.621840089,
            "count": 0
           },
           {
            "bin_start": -8097976.621840089,
            "bin_end": -7809246.202735473,
            "count": 0
           },
           {
            "bin_start": -7809246.202735473,
            "bin_end": -7520515.783630858,
            "count": 0
           },
           {
            "bin_start": -7520515.783630858,
            "bin_end": -7231785.364526243,
            "count": 1
           }
          ]
         }
        },
        {
         "name": "MAE",
         "dtype": "float64",
         "stats": {
          "unique_count": 5,
          "nan_count": 0,
          "min": "313.78578247742155",
          "max": "378.474819642178",
          "histogram": [
           {
            "bin_start": 313.78578247742155,
            "bin_end": 320.2546861938972,
            "count": 1
           },
           {
            "bin_start": 320.2546861938972,
            "bin_end": 326.7235899103728,
            "count": 0
           },
           {
            "bin_start": 326.7235899103728,
            "bin_end": 333.1924936268485,
            "count": 0
           },
           {
            "bin_start": 333.1924936268485,
            "bin_end": 339.6613973433241,
            "count": 0
           },
           {
            "bin_start": 339.6613973433241,
            "bin_end": 346.13030105979976,
            "count": 0
           },
           {
            "bin_start": 346.13030105979976,
            "bin_end": 352.5992047762754,
            "count": 0
           },
           {
            "bin_start": 352.5992047762754,
            "bin_end": 359.06810849275104,
            "count": 0
           },
           {
            "bin_start": 359.06810849275104,
            "bin_end": 365.5370122092267,
            "count": 0
           },
           {
            "bin_start": 365.5370122092267,
            "bin_end": 372.0059159257023,
            "count": 3
           },
           {
            "bin_start": 372.0059159257023,
            "bin_end": 378.474819642178,
            "count": 1
           }
          ]
         }
        },
        {
         "name": "MAPE",
         "dtype": "float64",
         "stats": {
          "unique_count": 5,
          "nan_count": 0,
          "min": "82868.1796875",
          "max": "101994.34379702159",
          "histogram": [
           {
            "bin_start": 82868.1796875,
            "bin_end": 84780.79609845216,
            "count": 1
           },
           {
            "bin_start": 84780.79609845216,
            "bin_end": 86693.41250940431,
            "count": 0
           },
           {
            "bin_start": 86693.41250940431,
            "bin_end": 88606.02892035648,
            "count": 0
           },
           {
            "bin_start": 88606.02892035648,
            "bin_end": 90518.64533130864,
            "count": 0
           },
           {
            "bin_start": 90518.64533130864,
            "bin_end": 92431.2617422608,
            "count": 0
           },
           {
            "bin_start": 92431.2617422608,
            "bin_end": 94343.87815321295,
            "count": 0
           },
           {
            "bin_start": 94343.87815321295,
            "bin_end": 96256.49456416511,
            "count": 0
           },
           {
            "bin_start": 96256.49456416511,
            "bin_end": 98169.11097511728,
            "count": 1
           },
           {
            "bin_start": 98169.11097511728,
            "bin_end": 100081.72738606943,
            "count": 2
           },
           {
            "bin_start": 100081.72738606943,
            "bin_end": 101994.34379702159,
            "count": 1
           }
          ]
         }
        },
        {
         "name": "_deepnote_index_column",
         "dtype": "int64"
        }
       ],
       "rows_top": [
        {
         "Algorithm": "Linear Regression",
         "R2 Score": -9802671.50185624,
         "MAE": 370.7914903105003,
         "MAPE": 98584.0462243837,
         "_deepnote_index_column": 0
        },
        {
         "Algorithm": "Decision Tree Regression",
         "R2 Score": -10119089.555572394,
         "MAE": 378.474819642178,
         "MAPE": 101994.34379702159,
         "_deepnote_index_column": 1
        },
        {
         "Algorithm": "Random Forest Regression",
         "R2 Score": -9725216.143289365,
         "MAE": 368.30031334788026,
         "MAPE": 97463.2273925977,
         "_deepnote_index_column": 2
        },
        {
         "Algorithm": "Linear Support Vector Regression",
         "R2 Score": -9775795.129809348,
         "MAE": 369.89281216122123,
         "MAPE": 98205.26095930062,
         "_deepnote_index_column": 3
        },
        {
         "Algorithm": "XGBoost",
         "R2 Score": -7231785.364526243,
         "MAE": 313.78578247742155,
         "MAPE": 82868.1796875,
         "_deepnote_index_column": 4
        }
       ],
       "rows_bottom": null
      },
      "text/plain": "                          Algorithm      R2 Score         MAE           MAPE\n0                 Linear Regression -9.802672e+06  370.791490   98584.046224\n1          Decision Tree Regression -1.011909e+07  378.474820  101994.343797\n2          Random Forest Regression -9.725216e+06  368.300313   97463.227393\n3  Linear Support Vector Regression -9.775795e+06  369.892812   98205.260959\n4                           XGBoost -7.231785e+06  313.785782   82868.179688",
      "text/html": "<div>\n<style scoped>\n    .dataframe tbody tr th:only-of-type {\n        vertical-align: middle;\n    }\n\n    .dataframe tbody tr th {\n        vertical-align: top;\n    }\n\n    .dataframe thead th {\n        text-align: right;\n    }\n</style>\n<table border=\"1\" class=\"dataframe\">\n  <thead>\n    <tr style=\"text-align: right;\">\n      <th></th>\n      <th>Algorithm</th>\n      <th>R2 Score</th>\n      <th>MAE</th>\n      <th>MAPE</th>\n    </tr>\n  </thead>\n  <tbody>\n    <tr>\n      <th>0</th>\n      <td>Linear Regression</td>\n      <td>-9.802672e+06</td>\n      <td>370.791490</td>\n      <td>98584.046224</td>\n    </tr>\n    <tr>\n      <th>1</th>\n      <td>Decision Tree Regression</td>\n      <td>-1.011909e+07</td>\n      <td>378.474820</td>\n      <td>101994.343797</td>\n    </tr>\n    <tr>\n      <th>2</th>\n      <td>Random Forest Regression</td>\n      <td>-9.725216e+06</td>\n      <td>368.300313</td>\n      <td>97463.227393</td>\n    </tr>\n    <tr>\n      <th>3</th>\n      <td>Linear Support Vector Regression</td>\n      <td>-9.775795e+06</td>\n      <td>369.892812</td>\n      <td>98205.260959</td>\n    </tr>\n    <tr>\n      <th>4</th>\n      <td>XGBoost</td>\n      <td>-7.231785e+06</td>\n      <td>313.785782</td>\n      <td>82868.179688</td>\n    </tr>\n  </tbody>\n</table>\n</div>"
     },
     "metadata": {}
    }
   ],
   "execution_count": null
  },
  {
   "cell_type": "code",
   "metadata": {
    "tags": [],
    "cell_id": "00038-32728d6c-5826-40a3-84ad-b1583ff80cef",
    "deepnote_to_be_reexecuted": false,
    "source_hash": "1bb5e0aa",
    "execution_start": 1631790356395,
    "execution_millis": 52,
    "deepnote_cell_type": "code"
   },
   "source": "print(\"Test Set Accuracy\")\nComparison_Test.head()",
   "outputs": [
    {
     "name": "stdout",
     "text": "Test Set Accuracy\n",
     "output_type": "stream"
    },
    {
     "output_type": "execute_result",
     "execution_count": 27,
     "data": {
      "application/vnd.deepnote.dataframe.v2+json": {
       "row_count": 5,
       "column_count": 4,
       "columns": [
        {
         "name": "Algorithm",
         "dtype": "object",
         "stats": {
          "unique_count": 5,
          "nan_count": 0,
          "categories": [
           {
            "name": "Linear Regression",
            "count": 1
           },
           {
            "name": "Decision Tree Regression",
            "count": 1
           },
           {
            "name": "3 others",
            "count": 3
           }
          ]
         }
        },
        {
         "name": "R2 Score",
         "dtype": "float64",
         "stats": {
          "unique_count": 5,
          "nan_count": 0,
          "min": "-0.2275774870271583",
          "max": "0.12376322345533608",
          "histogram": [
           {
            "bin_start": -0.2275774870271583,
            "bin_end": -0.19244341597890885,
            "count": 1
           },
           {
            "bin_start": -0.19244341597890885,
            "bin_end": -0.15730934493065943,
            "count": 0
           },
           {
            "bin_start": -0.15730934493065943,
            "bin_end": -0.12217527388241,
            "count": 0
           },
           {
            "bin_start": -0.12217527388241,
            "bin_end": -0.08704120283416056,
            "count": 1
           },
           {
            "bin_start": -0.08704120283416056,
            "bin_end": -0.05190713178591111,
            "count": 0
           },
           {
            "bin_start": -0.05190713178591111,
            "bin_end": -0.016773060737661688,
            "count": 0
           },
           {
            "bin_start": -0.016773060737661688,
            "bin_end": 0.018361010310587733,
            "count": 0
           },
           {
            "bin_start": 0.018361010310587733,
            "bin_end": 0.05349508135883718,
            "count": 0
           },
           {
            "bin_start": 0.05349508135883718,
            "bin_end": 0.08862915240708663,
            "count": 0
           },
           {
            "bin_start": 0.08862915240708663,
            "bin_end": 0.12376322345533608,
            "count": 3
           }
          ]
         }
        },
        {
         "name": "MAE",
         "dtype": "float64",
         "stats": {
          "unique_count": 5,
          "nan_count": 0,
          "min": "67.23822371622259",
          "max": "81.43843205769856",
          "histogram": [
           {
            "bin_start": 67.23822371622259,
            "bin_end": 68.65824455037018,
            "count": 3
           },
           {
            "bin_start": 68.65824455037018,
            "bin_end": 70.07826538451779,
            "count": 0
           },
           {
            "bin_start": 70.07826538451779,
            "bin_end": 71.49828621866538,
            "count": 0
           },
           {
            "bin_start": 71.49828621866538,
            "bin_end": 72.91830705281298,
            "count": 0
           },
           {
            "bin_start": 72.91830705281298,
            "bin_end": 74.33832788696057,
            "count": 0
           },
           {
            "bin_start": 74.33832788696057,
            "bin_end": 75.75834872110818,
            "count": 0
           },
           {
            "bin_start": 75.75834872110818,
            "bin_end": 77.17836955525577,
            "count": 1
           },
           {
            "bin_start": 77.17836955525577,
            "bin_end": 78.59839038940336,
            "count": 0
           },
           {
            "bin_start": 78.59839038940336,
            "bin_end": 80.01841122355097,
            "count": 0
           },
           {
            "bin_start": 80.01841122355097,
            "bin_end": 81.43843205769856,
            "count": 1
           }
          ]
         }
        },
        {
         "name": "MAPE",
         "dtype": "float64",
         "stats": {
          "unique_count": 5,
          "nan_count": 0,
          "min": "25.165808789698314",
          "max": "29.728598094260672",
          "histogram": [
           {
            "bin_start": 25.165808789698314,
            "bin_end": 25.62208772015455,
            "count": 1
           },
           {
            "bin_start": 25.62208772015455,
            "bin_end": 26.078366650610786,
            "count": 3
           },
           {
            "bin_start": 26.078366650610786,
            "bin_end": 26.53464558106702,
            "count": 0
           },
           {
            "bin_start": 26.53464558106702,
            "bin_end": 26.990924511523257,
            "count": 0
           },
           {
            "bin_start": 26.990924511523257,
            "bin_end": 27.447203441979493,
            "count": 0
           },
           {
            "bin_start": 27.447203441979493,
            "bin_end": 27.90348237243573,
            "count": 0
           },
           {
            "bin_start": 27.90348237243573,
            "bin_end": 28.359761302891965,
            "count": 0
           },
           {
            "bin_start": 28.359761302891965,
            "bin_end": 28.8160402333482,
            "count": 0
           },
           {
            "bin_start": 28.8160402333482,
            "bin_end": 29.272319163804436,
            "count": 0
           },
           {
            "bin_start": 29.272319163804436,
            "bin_end": 29.728598094260672,
            "count": 1
           }
          ]
         }
        },
        {
         "name": "_deepnote_index_column",
         "dtype": "int64"
        }
       ],
       "rows_top": [
        {
         "Algorithm": "Linear Regression",
         "R2 Score": 0.09728947261026466,
         "MAE": 67.37449995280637,
         "MAPE": 25.768569173847666,
         "_deepnote_index_column": 0
        },
        {
         "Algorithm": "Decision Tree Regression",
         "R2 Score": -0.10395006793423356,
         "MAE": 76.57823454235684,
         "MAPE": 29.728598094260672,
         "_deepnote_index_column": 1
        },
        {
         "Algorithm": "Random Forest Regression",
         "R2 Score": 0.12376322345533608,
         "MAE": 67.23822371622259,
         "MAPE": 25.165808789698314,
         "_deepnote_index_column": 2
        },
        {
         "Algorithm": "Linear Support Vector Regression",
         "R2 Score": 0.10108749883398183,
         "MAE": 67.41804962249621,
         "MAPE": 25.64410671405831,
         "_deepnote_index_column": 3
        },
        {
         "Algorithm": "XGBoost",
         "R2 Score": -0.2275774870271583,
         "MAE": 81.43843205769856,
         "MAPE": 25.78580665588379,
         "_deepnote_index_column": 4
        }
       ],
       "rows_bottom": null
      },
      "text/plain": "                          Algorithm  R2 Score        MAE       MAPE\n0                 Linear Regression  0.097289  67.374500  25.768569\n1          Decision Tree Regression -0.103950  76.578235  29.728598\n2          Random Forest Regression  0.123763  67.238224  25.165809\n3  Linear Support Vector Regression  0.101087  67.418050  25.644107\n4                           XGBoost -0.227577  81.438432  25.785807",
      "text/html": "<div>\n<style scoped>\n    .dataframe tbody tr th:only-of-type {\n        vertical-align: middle;\n    }\n\n    .dataframe tbody tr th {\n        vertical-align: top;\n    }\n\n    .dataframe thead th {\n        text-align: right;\n    }\n</style>\n<table border=\"1\" class=\"dataframe\">\n  <thead>\n    <tr style=\"text-align: right;\">\n      <th></th>\n      <th>Algorithm</th>\n      <th>R2 Score</th>\n      <th>MAE</th>\n      <th>MAPE</th>\n    </tr>\n  </thead>\n  <tbody>\n    <tr>\n      <th>0</th>\n      <td>Linear Regression</td>\n      <td>0.097289</td>\n      <td>67.374500</td>\n      <td>25.768569</td>\n    </tr>\n    <tr>\n      <th>1</th>\n      <td>Decision Tree Regression</td>\n      <td>-0.103950</td>\n      <td>76.578235</td>\n      <td>29.728598</td>\n    </tr>\n    <tr>\n      <th>2</th>\n      <td>Random Forest Regression</td>\n      <td>0.123763</td>\n      <td>67.238224</td>\n      <td>25.165809</td>\n    </tr>\n    <tr>\n      <th>3</th>\n      <td>Linear Support Vector Regression</td>\n      <td>0.101087</td>\n      <td>67.418050</td>\n      <td>25.644107</td>\n    </tr>\n    <tr>\n      <th>4</th>\n      <td>XGBoost</td>\n      <td>-0.227577</td>\n      <td>81.438432</td>\n      <td>25.785807</td>\n    </tr>\n  </tbody>\n</table>\n</div>"
     },
     "metadata": {}
    }
   ],
   "execution_count": null
  },
  {
   "cell_type": "markdown",
   "source": "### Charts",
   "metadata": {
    "tags": [],
    "cell_id": "00039-de32400b-81d8-4caf-ac98-68abca0b9f24",
    "deepnote_cell_type": "markdown"
   }
  },
  {
   "cell_type": "code",
   "metadata": {
    "tags": [],
    "cell_id": "00039-2b97d930-a880-4ec7-b6e4-b20ff170e596",
    "deepnote_to_be_reexecuted": false,
    "source_hash": "6e1142e3",
    "execution_start": 1631792459346,
    "execution_millis": 230,
    "deepnote_cell_type": "code"
   },
   "source": "# R2 Score\n\nax = Comparison_Test['R2 Score'].plot(kind=\"bar\")\nax.set_title(\"R2 Score for ML models\")\nax.set_xlabel(\"Algorithm\")\nax.set_ylabel(\"R2 Score\")\nax.set_xticklabels(Comparison_Test['Algorithm'])\n\nplt.grid()\nplt.show()",
   "outputs": [
    {
     "data": {
      "text/plain": "<Figure size 432x288 with 1 Axes>",
      "image/png": "[encoded data removed]"
     },
     "metadata": {
      "needs_background": "light",
      "image/png": {
       "width": 400,
       "height": 434
      }
     },
     "output_type": "display_data"
    }
   ],
   "execution_count": null
  },
  {
   "cell_type": "code",
   "source": "# MAE\n\nax = Comparison_Test['MAE'].plot(kind=\"bar\")\nax.set_title(\"Mean Absoute Error (MAE) for ML models\")\nax.set_xlabel(\"Algorithm\")\nax.set_ylabel(\"MAE\")\nax.set_xticklabels(Comparison_Test['Algorithm'])\n\nplt.grid()\nplt.show()",
   "metadata": {
    "tags": [],
    "cell_id": "00043-43e49349-d7b0-4fb7-89b0-8759f2eff89a",
    "deepnote_to_be_reexecuted": false,
    "source_hash": "b5495899",
    "execution_start": 1631792470884,
    "execution_millis": 270,
    "deepnote_cell_type": "code"
   },
   "outputs": [
    {
     "data": {
      "text/plain": "<Figure size 432x288 with 1 Axes>",
      "image/png": "[encoded data removed]"
     },
     "metadata": {
      "needs_background": "light",
      "image/png": {
       "width": 382,
       "height": 434
      }
     },
     "output_type": "display_data"
    }
   ],
   "execution_count": null
  },
  {
   "cell_type": "code",
   "source": "# MAPE\n\nax = Comparison_Test['MAPE'].plot(kind=\"bar\")\nax.set_title(\"Mean Absoute Percentage Error (MAPE) for ML models\")\nax.set_xlabel(\"Algorithm\")\nax.set_ylabel(\"MAPE\")\nax.set_xticklabels(Comparison_Test['Algorithm'])\n\nplt.grid()\nplt.show()",
   "metadata": {
    "tags": [],
    "cell_id": "00044-cab9e507-086a-48f9-a207-65abfb249d4c",
    "deepnote_to_be_reexecuted": false,
    "source_hash": "f4855c29",
    "execution_start": 1631792475809,
    "execution_millis": 253,
    "deepnote_cell_type": "code"
   },
   "outputs": [
    {
     "data": {
      "text/plain": "<Figure size 432x288 with 1 Axes>",
      "image/png": "[encoded data removed]"
     },
     "metadata": {
      "needs_background": "light",
      "image/png": {
       "width": 382,
       "height": 434
      }
     },
     "output_type": "display_data"
    }
   ],
   "execution_count": null
  },
  {
   "cell_type": "markdown",
   "source": "<a style='text-decoration:none;line-height:16px;display:flex;color:#5B5B62;padding:10px;justify-content:end;' href='https://deepnote.com?utm_source=created-in-deepnote-cell&projectId=a0e08efc-e855-4fc3-ac3b-2717145dc2a0' target=\"_blank\">\n<img alt='Created in deepnote.com' style='display:inline;max-height:16px;margin:0px;margin-right:7.5px;' src='data:image/svg+xml;base64,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' > </img>\nCreated in <span style='font-weight:600;margin-left:4px;'>Deepnote</span></a>",
   "metadata": {
    "tags": [],
    "created_in_deepnote_cell": true,
    "deepnote_cell_type": "markdown"
   }
  }
 ],
 "nbformat": 4,
 "nbformat_minor": 2,
 "metadata": {
  "orig_nbformat": 2,
  "deepnote": {
   "is_reactive": false
  },
  "deepnote_notebook_id": "bbf3ee81-5bcb-4446-8ec9-3da15e94ee1b",
  "deepnote_execution_queue": []
 }
}